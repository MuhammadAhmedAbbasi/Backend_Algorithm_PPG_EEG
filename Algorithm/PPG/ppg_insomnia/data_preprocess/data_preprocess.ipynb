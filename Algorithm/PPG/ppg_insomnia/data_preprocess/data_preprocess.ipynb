{
 "cells": [
  {
   "cell_type": "code",
   "execution_count": 103,
   "metadata": {},
   "outputs": [],
   "source": [
    "import datetime\n",
    "import json\n",
    "import os\n",
    "import random\n",
    "import sys\n",
    "import warnings\n",
    "import pandas as pd\n",
    "\n",
    "sys.path.append(os.path.join(os.getcwd(), '../common'))\n",
    "from ppg_feature_processor import generate_train_feature\n",
    "\n",
    "# Suppress specific warnings\n",
    "warnings.filterwarnings(\"ignore\", category=DeprecationWarning, message=\".*Conversion of an array with ndim > 0 to a scalar is deprecated.*\")"
   ]
  },
  {
   "cell_type": "code",
   "execution_count": 104,
   "metadata": {},
   "outputs": [],
   "source": [
    "## 1)Read the university subjects and find the positive and negative subjects."
   ]
  },
  {
   "cell_type": "code",
   "execution_count": 105,
   "metadata": {},
   "outputs": [],
   "source": [
    "# 读取 Excel 文件\n",
    "middleSchool_userProfile_file = r'C:\\Users\\Administrator\\Desktop\\Backend-Algorithm\\Algorithm\\PPG\\ppg_insomnia\\middle_school_data_insomia.xlsx'\n"
   ]
  },
  {
   "cell_type": "code",
   "execution_count": 106,
   "metadata": {},
   "outputs": [],
   "source": [
    "stress_positive_threshold = 16\n",
    "stress_negative_threshold = 9"
   ]
  },
  {
   "cell_type": "code",
   "execution_count": 107,
   "metadata": {},
   "outputs": [
    {
     "name": "stdout",
     "output_type": "stream",
     "text": [
      "Midlle schold available subject count: (273, 13)\n",
      "middle stress positive subjects count: 133\n",
      "middle stress negative subjects count: 140\n"
     ]
    }
   ],
   "source": [
    "### READ THE MIDDLESCHOOL SUBJECTS\n",
    "df_middle = pd.read_excel(middleSchool_userProfile_file)\n",
    "df_middle = df_middle[(df_middle['Total'] > stress_positive_threshold) | (df_middle['Total'] < stress_negative_threshold)]\n",
    "print(f\"Midlle schold available subject count: {df_middle.shape}\")\n",
    "\n",
    "\n",
    "middle_pos_subjects = df_middle[df_middle['Total'] > stress_positive_threshold]['userId'].values.tolist()\n",
    "middle_neg_subjects = df_middle[df_middle['Total'] < stress_negative_threshold]['userId'].values.tolist()\n",
    "\n",
    "print(f\"middle stress positive subjects count: {len(middle_pos_subjects)}\")\n",
    "print(f\"middle stress negative subjects count: {len(middle_neg_subjects)}\")"
   ]
  },
  {
   "cell_type": "code",
   "execution_count": 108,
   "metadata": {},
   "outputs": [],
   "source": [
    "profile_dict = dict()\n",
    "\n",
    "\n",
    "for _, row in df_middle.iterrows():\n",
    "    userId = row['userId']\n",
    "    gender = row['gender']\n",
    "    age = row['age']\n",
    "    profile_dict[userId] = (gender, age)\n",
    "\n",
    "# for key, val in profile_dict.items():\n",
    "#     print(f\"userId: {key}, value: {val}\")\n"
   ]
  },
  {
   "cell_type": "code",
   "execution_count": 109,
   "metadata": {},
   "outputs": [
    {
     "name": "stdout",
     "output_type": "stream",
     "text": [
      "train postive subjects: 108\n",
      "train negative subjects: 115\n",
      "validation postive subjects: 10\n",
      "validation negative subjects: 10\n",
      "test postive subjects: 15\n",
      "test negative subjects: 15\n"
     ]
    }
   ],
   "source": [
    "random.shuffle(middle_pos_subjects)\n",
    "random.shuffle(middle_neg_subjects)\n",
    "\n",
    "test_subject_count = 15\n",
    "val_subject_count = 10\n",
    "\n",
    "test_pos_subjects = middle_pos_subjects[0:test_subject_count]\n",
    "test_neg_subjects = middle_neg_subjects[0:test_subject_count]\n",
    "\n",
    "val_pos_subjects = middle_pos_subjects[test_subject_count:test_subject_count+val_subject_count]\n",
    "val_neg_subjects = middle_neg_subjects[test_subject_count:test_subject_count+val_subject_count]\n",
    "\n",
    "train_pos_subjects = middle_pos_subjects[test_subject_count+val_subject_count::] \n",
    "train_neg_subjects = middle_neg_subjects[test_subject_count+val_subject_count::]\n",
    "\n",
    "print(f\"train postive subjects: {len(train_pos_subjects)}\")\n",
    "print(f\"train negative subjects: {len(train_neg_subjects)}\")\n",
    "\n",
    "print(f\"validation postive subjects: {len(val_pos_subjects)}\")\n",
    "print(f\"validation negative subjects: {len(val_neg_subjects)}\")\n",
    "\n",
    "print(f\"test postive subjects: {len(test_pos_subjects)}\")\n",
    "print(f\"test negative subjects: {len(test_neg_subjects)}\")\n"
   ]
  },
  {
   "cell_type": "code",
   "execution_count": 110,
   "metadata": {},
   "outputs": [],
   "source": [
    "def load_wave_middleSchool(path):\n",
    "    try:\n",
    "        with open(path, 'r', encoding='utf-8') as file:  \n",
    "            data = json.load(file)\n",
    "            list_data = data['RawResults'][0]['rawDatas']\n",
    "            final = [i/100000 for i in list_data]\n",
    "        return final\n",
    "    except (KeyError, IndexError, TypeError):\n",
    "        with open(path, 'r', encoding='utf-8') as file:\n",
    "            data = json.load(file)\n",
    "        return data[\"datas\"]\n"
   ]
  },
  {
   "cell_type": "code",
   "execution_count": 111,
   "metadata": {},
   "outputs": [],
   "source": [
    "sample_freq = 125\n",
    "sample_window_minute = 0.5\n",
    "middle_file_dir = r'C:\\Users\\Administrator\\Desktop\\PPG_dataset\\PPG_Dataset_ALL\\middle_school\\ppg_data'\n"
   ]
  },
  {
   "cell_type": "code",
   "execution_count": 112,
   "metadata": {},
   "outputs": [
    {
     "name": "stdout",
     "output_type": "stream",
     "text": [
      "middle file path: C:\\Users\\Administrator\\Desktop\\PPG_dataset\\PPG_Dataset_ALL\\middle_school\\ppg_data\\2095522444768535858586342343882057465.json\n"
     ]
    },
    {
     "name": "stdout",
     "output_type": "stream",
     "text": [
      "middle file path: C:\\Users\\Administrator\\Desktop\\PPG_dataset\\PPG_Dataset_ALL\\middle_school\\ppg_data\\5159642268909794061105556666289143545.json\n",
      "middle file path: C:\\Users\\Administrator\\Desktop\\PPG_dataset\\PPG_Dataset_ALL\\middle_school\\ppg_data\\3302264511463213255896606730625538305.json\n",
      "middle file path: C:\\Users\\Administrator\\Desktop\\PPG_dataset\\PPG_Dataset_ALL\\middle_school\\ppg_data\\6540170531091209213247532411020438917.json\n",
      "middle file path: C:\\Users\\Administrator\\Desktop\\PPG_dataset\\PPG_Dataset_ALL\\middle_school\\ppg_data\\111737691357089346518971681376183784297.json\n",
      "middle file path: C:\\Users\\Administrator\\Desktop\\PPG_dataset\\PPG_Dataset_ALL\\middle_school\\ppg_data\\286764101343456992463975864443998370587.json\n",
      "middle file path: C:\\Users\\Administrator\\Desktop\\PPG_dataset\\PPG_Dataset_ALL\\middle_school\\ppg_data\\141096633147123293564305683757951918737.json\n",
      "middle file path: C:\\Users\\Administrator\\Desktop\\PPG_dataset\\PPG_Dataset_ALL\\middle_school\\ppg_data\\26083908455029363194675065575957997357.json\n",
      "middle file path: C:\\Users\\Administrator\\Desktop\\PPG_dataset\\PPG_Dataset_ALL\\middle_school\\ppg_data\\329722100720414168622899260498795872497.json\n",
      "middle file path: C:\\Users\\Administrator\\Desktop\\PPG_dataset\\PPG_Dataset_ALL\\middle_school\\ppg_data\\114112450139439355811478726274175784184.json\n",
      "middle file path: C:\\Users\\Administrator\\Desktop\\PPG_dataset\\PPG_Dataset_ALL\\middle_school\\ppg_data\\242585657439302650005371686892320715951.json\n",
      "middle file path: C:\\Users\\Administrator\\Desktop\\PPG_dataset\\PPG_Dataset_ALL\\middle_school\\ppg_data\\305915236564082705187365231974436613894.json\n",
      "middle file path: C:\\Users\\Administrator\\Desktop\\PPG_dataset\\PPG_Dataset_ALL\\middle_school\\ppg_data\\85368278269151765477300734597278915014.json\n",
      "middle file path: C:\\Users\\Administrator\\Desktop\\PPG_dataset\\PPG_Dataset_ALL\\middle_school\\ppg_data\\299049487973253671876447320174369050262.json\n",
      "middle file path: C:\\Users\\Administrator\\Desktop\\PPG_dataset\\PPG_Dataset_ALL\\middle_school\\ppg_data\\322935917736529070732062674677811796298.json\n",
      "middle file path: C:\\Users\\Administrator\\Desktop\\PPG_dataset\\PPG_Dataset_ALL\\middle_school\\ppg_data\\75234646977265485031939236815092873707.json\n",
      "middle file path: C:\\Users\\Administrator\\Desktop\\PPG_dataset\\PPG_Dataset_ALL\\middle_school\\ppg_data\\262125641357055355562730650708875843490.json\n",
      "middle file path: C:\\Users\\Administrator\\Desktop\\PPG_dataset\\PPG_Dataset_ALL\\middle_school\\ppg_data\\257563610686540728279188774032564552674.json\n",
      "middle file path: C:\\Users\\Administrator\\Desktop\\PPG_dataset\\PPG_Dataset_ALL\\middle_school\\ppg_data\\301654629743095236754021889037892066847.json\n",
      "middle file path: C:\\Users\\Administrator\\Desktop\\PPG_dataset\\PPG_Dataset_ALL\\middle_school\\ppg_data\\71016560535034829410295386640763850032.json\n",
      "middle file path: C:\\Users\\Administrator\\Desktop\\PPG_dataset\\PPG_Dataset_ALL\\middle_school\\ppg_data\\221663728533701522053742739335557811585.json\n",
      "middle file path: C:\\Users\\Administrator\\Desktop\\PPG_dataset\\PPG_Dataset_ALL\\middle_school\\ppg_data\\322616964315554065624086560923948520823.json\n",
      "middle file path: C:\\Users\\Administrator\\Desktop\\PPG_dataset\\PPG_Dataset_ALL\\middle_school\\ppg_data\\61659799584008774142876565087764928675.json\n",
      "middle file path: C:\\Users\\Administrator\\Desktop\\PPG_dataset\\PPG_Dataset_ALL\\middle_school\\ppg_data\\5980995376711767276636374995821275318.json\n",
      "middle file path: C:\\Users\\Administrator\\Desktop\\PPG_dataset\\PPG_Dataset_ALL\\middle_school\\ppg_data\\251212351275291886677404998126671193364.json\n",
      "middle file path: C:\\Users\\Administrator\\Desktop\\PPG_dataset\\PPG_Dataset_ALL\\middle_school\\ppg_data\\238900776150856601236907513542305529524.json\n",
      "middle file path: C:\\Users\\Administrator\\Desktop\\PPG_dataset\\PPG_Dataset_ALL\\middle_school\\ppg_data\\188013775559290409209344422154340844028.json\n",
      "middle file path: C:\\Users\\Administrator\\Desktop\\PPG_dataset\\PPG_Dataset_ALL\\middle_school\\ppg_data\\138681313570679646396533197328690174535.json\n",
      "middle file path: C:\\Users\\Administrator\\Desktop\\PPG_dataset\\PPG_Dataset_ALL\\middle_school\\ppg_data\\306190386540638049114031574559895939729.json\n",
      "middle file path: C:\\Users\\Administrator\\Desktop\\PPG_dataset\\PPG_Dataset_ALL\\middle_school\\ppg_data\\139665787607003607486351627068685427500.json\n",
      "middle file path: C:\\Users\\Administrator\\Desktop\\PPG_dataset\\PPG_Dataset_ALL\\middle_school\\ppg_data\\116653212415901981538518364005483413701.json\n",
      "middle file path: C:\\Users\\Administrator\\Desktop\\PPG_dataset\\PPG_Dataset_ALL\\middle_school\\ppg_data\\71358766540121565068043482783889311128.json\n",
      "middle file path: C:\\Users\\Administrator\\Desktop\\PPG_dataset\\PPG_Dataset_ALL\\middle_school\\ppg_data\\277473614294071127937667446265054569611.json\n",
      "middle file path: C:\\Users\\Administrator\\Desktop\\PPG_dataset\\PPG_Dataset_ALL\\middle_school\\ppg_data\\156275748956021813065044996784968531790.json\n",
      "middle file path: C:\\Users\\Administrator\\Desktop\\PPG_dataset\\PPG_Dataset_ALL\\middle_school\\ppg_data\\122305803263178726728493960919715942514.json\n",
      "middle file path: C:\\Users\\Administrator\\Desktop\\PPG_dataset\\PPG_Dataset_ALL\\middle_school\\ppg_data\\294885878575100370227534925114066149468.json\n",
      "middle file path: C:\\Users\\Administrator\\Desktop\\PPG_dataset\\PPG_Dataset_ALL\\middle_school\\ppg_data\\305134822849743365383089198076318713444.json\n",
      "middle file path: C:\\Users\\Administrator\\Desktop\\PPG_dataset\\PPG_Dataset_ALL\\middle_school\\ppg_data\\168588267382890847699565286601948174301.json\n",
      "middle file path: C:\\Users\\Administrator\\Desktop\\PPG_dataset\\PPG_Dataset_ALL\\middle_school\\ppg_data\\37368671937374133254921062734211477911.json\n",
      "middle file path: C:\\Users\\Administrator\\Desktop\\PPG_dataset\\PPG_Dataset_ALL\\middle_school\\ppg_data\\141937329779245333917023400406363238989.json\n",
      "middle file path: C:\\Users\\Administrator\\Desktop\\PPG_dataset\\PPG_Dataset_ALL\\middle_school\\ppg_data\\284529546572181438728115297687439794622.json\n",
      "middle file path: C:\\Users\\Administrator\\Desktop\\PPG_dataset\\PPG_Dataset_ALL\\middle_school\\ppg_data\\288968753257607227939769941103185695362.json\n",
      "middle file path: C:\\Users\\Administrator\\Desktop\\PPG_dataset\\PPG_Dataset_ALL\\middle_school\\ppg_data\\180026746654759042090452315458916434701.json\n",
      "middle file path: C:\\Users\\Administrator\\Desktop\\PPG_dataset\\PPG_Dataset_ALL\\middle_school\\ppg_data\\53925216174340312919435862714894548735.json\n",
      "middle file path: C:\\Users\\Administrator\\Desktop\\PPG_dataset\\PPG_Dataset_ALL\\middle_school\\ppg_data\\221812870214265386863353907432036181327.json\n",
      "middle file path: C:\\Users\\Administrator\\Desktop\\PPG_dataset\\PPG_Dataset_ALL\\middle_school\\ppg_data\\169726882416958308536333969983756283138.json\n",
      "middle file path: C:\\Users\\Administrator\\Desktop\\PPG_dataset\\PPG_Dataset_ALL\\middle_school\\ppg_data\\173400151493807235580797667394969025704.json\n",
      "middle file path: C:\\Users\\Administrator\\Desktop\\PPG_dataset\\PPG_Dataset_ALL\\middle_school\\ppg_data\\126845529629574013159034862504951971407.json\n",
      "middle file path: C:\\Users\\Administrator\\Desktop\\PPG_dataset\\PPG_Dataset_ALL\\middle_school\\ppg_data\\49652182019910863950272610697424552312.json\n",
      "middle file path: C:\\Users\\Administrator\\Desktop\\PPG_dataset\\PPG_Dataset_ALL\\middle_school\\ppg_data\\48398204386767901130074413010766121894.json\n",
      "middle file path: C:\\Users\\Administrator\\Desktop\\PPG_dataset\\PPG_Dataset_ALL\\middle_school\\ppg_data\\53432263590786069539548595940834778143.json\n",
      "middle file path: C:\\Users\\Administrator\\Desktop\\PPG_dataset\\PPG_Dataset_ALL\\middle_school\\ppg_data\\329999035806196665900603236514873441447.json\n",
      "middle file path: C:\\Users\\Administrator\\Desktop\\PPG_dataset\\PPG_Dataset_ALL\\middle_school\\ppg_data\\67456420856627903309080061843071927962.json\n",
      "middle file path: C:\\Users\\Administrator\\Desktop\\PPG_dataset\\PPG_Dataset_ALL\\middle_school\\ppg_data\\23916555334375718433822687275242407999.json\n",
      "middle file path: C:\\Users\\Administrator\\Desktop\\PPG_dataset\\PPG_Dataset_ALL\\middle_school\\ppg_data\\294863882231912603231722018519554668235.json\n",
      "middle file path: C:\\Users\\Administrator\\Desktop\\PPG_dataset\\PPG_Dataset_ALL\\middle_school\\ppg_data\\239647154274298628704040953626647006831.json\n",
      "middle file path: C:\\Users\\Administrator\\Desktop\\PPG_dataset\\PPG_Dataset_ALL\\middle_school\\ppg_data\\248745867043481860061400522592757429141.json\n",
      "middle file path: C:\\Users\\Administrator\\Desktop\\PPG_dataset\\PPG_Dataset_ALL\\middle_school\\ppg_data\\291844418803586791506002816724934328796.json\n",
      "middle file path: C:\\Users\\Administrator\\Desktop\\PPG_dataset\\PPG_Dataset_ALL\\middle_school\\ppg_data\\122622512121837136229847012710705529979.json\n",
      "middle file path: C:\\Users\\Administrator\\Desktop\\PPG_dataset\\PPG_Dataset_ALL\\middle_school\\ppg_data\\181111116088821967589334728562514270873.json\n",
      "middle file path: C:\\Users\\Administrator\\Desktop\\PPG_dataset\\PPG_Dataset_ALL\\middle_school\\ppg_data\\265972501962807306701755900976515522537.json\n",
      "middle file path: C:\\Users\\Administrator\\Desktop\\PPG_dataset\\PPG_Dataset_ALL\\middle_school\\ppg_data\\152416903674534510578726275974630000963.json\n",
      "middle file path: C:\\Users\\Administrator\\Desktop\\PPG_dataset\\PPG_Dataset_ALL\\middle_school\\ppg_data\\234997182067407201948214616328035260248.json\n",
      "middle file path: C:\\Users\\Administrator\\Desktop\\PPG_dataset\\PPG_Dataset_ALL\\middle_school\\ppg_data\\93812292872483914961420841672564043297.json\n",
      "middle file path: C:\\Users\\Administrator\\Desktop\\PPG_dataset\\PPG_Dataset_ALL\\middle_school\\ppg_data\\167778883336781991485772339526777662430.json\n",
      "middle file path: C:\\Users\\Administrator\\Desktop\\PPG_dataset\\PPG_Dataset_ALL\\middle_school\\ppg_data\\82498448730405369670702745834853438447.json\n",
      "middle file path: C:\\Users\\Administrator\\Desktop\\PPG_dataset\\PPG_Dataset_ALL\\middle_school\\ppg_data\\119960516185063568014924421259623771499.json\n",
      "middle file path: C:\\Users\\Administrator\\Desktop\\PPG_dataset\\PPG_Dataset_ALL\\middle_school\\ppg_data\\228760749467426179810384564148985759627.json\n",
      "middle file path: C:\\Users\\Administrator\\Desktop\\PPG_dataset\\PPG_Dataset_ALL\\middle_school\\ppg_data\\299775408718731132419525784265447329122.json\n",
      "middle file path: C:\\Users\\Administrator\\Desktop\\PPG_dataset\\PPG_Dataset_ALL\\middle_school\\ppg_data\\166133250285908503164484604416802963171.json\n",
      "middle file path: C:\\Users\\Administrator\\Desktop\\PPG_dataset\\PPG_Dataset_ALL\\middle_school\\ppg_data\\95409462719977513100021777459591360053.json\n",
      "middle file path: C:\\Users\\Administrator\\Desktop\\PPG_dataset\\PPG_Dataset_ALL\\middle_school\\ppg_data\\119195583923612087416670680019846098656.json\n",
      "middle file path: C:\\Users\\Administrator\\Desktop\\PPG_dataset\\PPG_Dataset_ALL\\middle_school\\ppg_data\\179991125407562398894089229938599892567.json\n",
      "middle file path: C:\\Users\\Administrator\\Desktop\\PPG_dataset\\PPG_Dataset_ALL\\middle_school\\ppg_data\\161050619873058417193063118412956846228.json\n",
      "middle file path: C:\\Users\\Administrator\\Desktop\\PPG_dataset\\PPG_Dataset_ALL\\middle_school\\ppg_data\\245311084262200382930413290270573065486.json\n",
      "middle file path: C:\\Users\\Administrator\\Desktop\\PPG_dataset\\PPG_Dataset_ALL\\middle_school\\ppg_data\\187023724126246790072625181276623429008.json\n",
      "middle file path: C:\\Users\\Administrator\\Desktop\\PPG_dataset\\PPG_Dataset_ALL\\middle_school\\ppg_data\\12127779151939630777631201115596615400.json\n",
      "middle file path: C:\\Users\\Administrator\\Desktop\\PPG_dataset\\PPG_Dataset_ALL\\middle_school\\ppg_data\\300795196818106981129062473256888166050.json\n",
      "middle file path: C:\\Users\\Administrator\\Desktop\\PPG_dataset\\PPG_Dataset_ALL\\middle_school\\ppg_data\\128323984464808208303504286338275258603.json\n",
      "middle file path: C:\\Users\\Administrator\\Desktop\\PPG_dataset\\PPG_Dataset_ALL\\middle_school\\ppg_data\\122241845394715518181387944797581832001.json\n",
      "middle file path: C:\\Users\\Administrator\\Desktop\\PPG_dataset\\PPG_Dataset_ALL\\middle_school\\ppg_data\\189362950708658964709686534972370690389.json\n",
      "middle file path: C:\\Users\\Administrator\\Desktop\\PPG_dataset\\PPG_Dataset_ALL\\middle_school\\ppg_data\\309464344667838927486340499999454792923.json\n",
      "middle file path: C:\\Users\\Administrator\\Desktop\\PPG_dataset\\PPG_Dataset_ALL\\middle_school\\ppg_data\\151093775913003711836778354276743754486.json\n",
      "middle file path: C:\\Users\\Administrator\\Desktop\\PPG_dataset\\PPG_Dataset_ALL\\middle_school\\ppg_data\\241170621614597540897280576340513840371.json\n",
      "middle file path: C:\\Users\\Administrator\\Desktop\\PPG_dataset\\PPG_Dataset_ALL\\middle_school\\ppg_data\\243862751789833362433646104014140163191.json\n",
      "middle file path: C:\\Users\\Administrator\\Desktop\\PPG_dataset\\PPG_Dataset_ALL\\middle_school\\ppg_data\\74214188235788531567689300732128444290.json\n",
      "middle file path: C:\\Users\\Administrator\\Desktop\\PPG_dataset\\PPG_Dataset_ALL\\middle_school\\ppg_data\\73097706670460812163945911106327364527.json\n",
      "middle file path: C:\\Users\\Administrator\\Desktop\\PPG_dataset\\PPG_Dataset_ALL\\middle_school\\ppg_data\\52077102503621286583016980035109038061.json\n",
      "middle file path: C:\\Users\\Administrator\\Desktop\\PPG_dataset\\PPG_Dataset_ALL\\middle_school\\ppg_data\\291532865606838649685248811120276566576.json\n",
      "middle file path: C:\\Users\\Administrator\\Desktop\\PPG_dataset\\PPG_Dataset_ALL\\middle_school\\ppg_data\\306979790846729841714355984998752837115.json\n",
      "middle file path: C:\\Users\\Administrator\\Desktop\\PPG_dataset\\PPG_Dataset_ALL\\middle_school\\ppg_data\\197088123523591615966835633753218437798.json\n",
      "middle file path: C:\\Users\\Administrator\\Desktop\\PPG_dataset\\PPG_Dataset_ALL\\middle_school\\ppg_data\\188361816522301425173778248273565407378.json\n",
      "middle file path: C:\\Users\\Administrator\\Desktop\\PPG_dataset\\PPG_Dataset_ALL\\middle_school\\ppg_data\\6009035266745465739540991066413956998.json\n",
      "middle file path: C:\\Users\\Administrator\\Desktop\\PPG_dataset\\PPG_Dataset_ALL\\middle_school\\ppg_data\\281715776674731430373228211748906774663.json\n",
      "middle file path: C:\\Users\\Administrator\\Desktop\\PPG_dataset\\PPG_Dataset_ALL\\middle_school\\ppg_data\\300904724260903785284731250112692197315.json\n",
      "middle file path: C:\\Users\\Administrator\\Desktop\\PPG_dataset\\PPG_Dataset_ALL\\middle_school\\ppg_data\\21235758349625467005692106792627623080.json\n",
      "middle file path: C:\\Users\\Administrator\\Desktop\\PPG_dataset\\PPG_Dataset_ALL\\middle_school\\ppg_data\\66495068052336897524649866763996224836.json\n",
      "middle file path: C:\\Users\\Administrator\\Desktop\\PPG_dataset\\PPG_Dataset_ALL\\middle_school\\ppg_data\\256949851016219061519144710517706888038.json\n",
      "middle file path: C:\\Users\\Administrator\\Desktop\\PPG_dataset\\PPG_Dataset_ALL\\middle_school\\ppg_data\\302354828935195917150349154493181150388.json\n",
      "middle file path: C:\\Users\\Administrator\\Desktop\\PPG_dataset\\PPG_Dataset_ALL\\middle_school\\ppg_data\\121548899930842848751312663779363262996.json\n",
      "middle file path: C:\\Users\\Administrator\\Desktop\\PPG_dataset\\PPG_Dataset_ALL\\middle_school\\ppg_data\\204966784233448634803232317817824471757.json\n",
      "middle file path: C:\\Users\\Administrator\\Desktop\\PPG_dataset\\PPG_Dataset_ALL\\middle_school\\ppg_data\\73355915971198388975072309021573178058.json\n",
      "middle file path: C:\\Users\\Administrator\\Desktop\\PPG_dataset\\PPG_Dataset_ALL\\middle_school\\ppg_data\\99506805679388059185651185683674964274.json\n",
      "middle file path: C:\\Users\\Administrator\\Desktop\\PPG_dataset\\PPG_Dataset_ALL\\middle_school\\ppg_data\\23205074593279052134046953709489087251.json\n",
      "middle file path: C:\\Users\\Administrator\\Desktop\\PPG_dataset\\PPG_Dataset_ALL\\middle_school\\ppg_data\\70883003908173121219309664213543077213.json\n",
      "middle file path: C:\\Users\\Administrator\\Desktop\\PPG_dataset\\PPG_Dataset_ALL\\middle_school\\ppg_data\\183912716670795758524135840683253022898.json\n",
      "middle file path: C:\\Users\\Administrator\\Desktop\\PPG_dataset\\PPG_Dataset_ALL\\middle_school\\ppg_data\\170804890211040691703386067580661227288.json\n",
      "middle file path: C:\\Users\\Administrator\\Desktop\\PPG_dataset\\PPG_Dataset_ALL\\middle_school\\ppg_data\\37814220099554268025906150320125604510.json\n",
      "middle file path: C:\\Users\\Administrator\\Desktop\\PPG_dataset\\PPG_Dataset_ALL\\middle_school\\ppg_data\\299252821111888185972955829864288861861.json\n",
      "middle file path: C:\\Users\\Administrator\\Desktop\\PPG_dataset\\PPG_Dataset_ALL\\middle_school\\ppg_data\\122783950331355617999885895286812796178.json\n",
      "middle file path: C:\\Users\\Administrator\\Desktop\\PPG_dataset\\PPG_Dataset_ALL\\middle_school\\ppg_data\\82829544333273440548563078923578756712.json\n",
      "middle file path: C:\\Users\\Administrator\\Desktop\\PPG_dataset\\PPG_Dataset_ALL\\middle_school\\ppg_data\\185369334542080523929080699906762548809.json\n",
      "middle file path: C:\\Users\\Administrator\\Desktop\\PPG_dataset\\PPG_Dataset_ALL\\middle_school\\ppg_data\\82359792328123402257436780929696588507.json\n",
      "middle file path: C:\\Users\\Administrator\\Desktop\\PPG_dataset\\PPG_Dataset_ALL\\middle_school\\ppg_data\\286655953398156549738729018646628593087.json\n",
      "middle file path: C:\\Users\\Administrator\\Desktop\\PPG_dataset\\PPG_Dataset_ALL\\middle_school\\ppg_data\\286170553532738041839103174470752051147.json\n",
      "middle file path: C:\\Users\\Administrator\\Desktop\\PPG_dataset\\PPG_Dataset_ALL\\middle_school\\ppg_data\\175891954794452063055606373574445896095.json\n",
      "middle file path: C:\\Users\\Administrator\\Desktop\\PPG_dataset\\PPG_Dataset_ALL\\middle_school\\ppg_data\\140319194873675145452985058009342670341.json\n",
      "middle file path: C:\\Users\\Administrator\\Desktop\\PPG_dataset\\PPG_Dataset_ALL\\middle_school\\ppg_data\\9421273830420760043311072508536033657.json\n",
      "middle file path: C:\\Users\\Administrator\\Desktop\\PPG_dataset\\PPG_Dataset_ALL\\middle_school\\ppg_data\\273903099513858379975517758644322202611.json\n",
      "middle file path: C:\\Users\\Administrator\\Desktop\\PPG_dataset\\PPG_Dataset_ALL\\middle_school\\ppg_data\\57827035732986153396800893083776565921.json\n",
      "middle file path: C:\\Users\\Administrator\\Desktop\\PPG_dataset\\PPG_Dataset_ALL\\middle_school\\ppg_data\\240525797309676138174516093891155939910.json\n",
      "middle file path: C:\\Users\\Administrator\\Desktop\\PPG_dataset\\PPG_Dataset_ALL\\middle_school\\ppg_data\\17326721227643031494963430558527160422.json\n",
      "middle file path: C:\\Users\\Administrator\\Desktop\\PPG_dataset\\PPG_Dataset_ALL\\middle_school\\ppg_data\\21497201702158295203790207308919261939.json\n",
      "middle file path: C:\\Users\\Administrator\\Desktop\\PPG_dataset\\PPG_Dataset_ALL\\middle_school\\ppg_data\\31402714926381386639131731062445300713.json\n",
      "middle file path: C:\\Users\\Administrator\\Desktop\\PPG_dataset\\PPG_Dataset_ALL\\middle_school\\ppg_data\\86229499184811604615394154361345403853.json\n",
      "middle file path: C:\\Users\\Administrator\\Desktop\\PPG_dataset\\PPG_Dataset_ALL\\middle_school\\ppg_data\\205881789391348752029662567059225811286.json\n",
      "middle file path: C:\\Users\\Administrator\\Desktop\\PPG_dataset\\PPG_Dataset_ALL\\middle_school\\ppg_data\\103483448877217030236574044213323517418.json\n",
      "middle file path: C:\\Users\\Administrator\\Desktop\\PPG_dataset\\PPG_Dataset_ALL\\middle_school\\ppg_data\\245709246373688299677462300699010035587.json\n",
      "middle file path: C:\\Users\\Administrator\\Desktop\\PPG_dataset\\PPG_Dataset_ALL\\middle_school\\ppg_data\\239517257038839519499714899435905842323.json\n",
      "middle file path: C:\\Users\\Administrator\\Desktop\\PPG_dataset\\PPG_Dataset_ALL\\middle_school\\ppg_data\\103219214797671281655164974328180880023.json\n",
      "middle file path: C:\\Users\\Administrator\\Desktop\\PPG_dataset\\PPG_Dataset_ALL\\middle_school\\ppg_data\\126170832791775280770532478941287608212.json\n",
      "middle file path: C:\\Users\\Administrator\\Desktop\\PPG_dataset\\PPG_Dataset_ALL\\middle_school\\ppg_data\\11433300432083106707034405215118447545.json\n",
      "middle file path: C:\\Users\\Administrator\\Desktop\\PPG_dataset\\PPG_Dataset_ALL\\middle_school\\ppg_data\\96555516167632806723067744489949064670.json\n",
      "middle file path: C:\\Users\\Administrator\\Desktop\\PPG_dataset\\PPG_Dataset_ALL\\middle_school\\ppg_data\\75047507063991609500738433808819571673.json\n",
      "middle file path: C:\\Users\\Administrator\\Desktop\\PPG_dataset\\PPG_Dataset_ALL\\middle_school\\ppg_data\\266659665717608834169862959893915384343.json\n",
      "middle file path: C:\\Users\\Administrator\\Desktop\\PPG_dataset\\PPG_Dataset_ALL\\middle_school\\ppg_data\\43634782996414154526954283988399331625.json\n",
      "middle file path: C:\\Users\\Administrator\\Desktop\\PPG_dataset\\PPG_Dataset_ALL\\middle_school\\ppg_data\\212470578945876153547494938303382282800.json\n",
      "middle file path: C:\\Users\\Administrator\\Desktop\\PPG_dataset\\PPG_Dataset_ALL\\middle_school\\ppg_data\\240754535791245496080831504630252826705.json\n",
      "middle file path: C:\\Users\\Administrator\\Desktop\\PPG_dataset\\PPG_Dataset_ALL\\middle_school\\ppg_data\\232492399810154831500546692052045951533.json\n",
      "middle file path: C:\\Users\\Administrator\\Desktop\\PPG_dataset\\PPG_Dataset_ALL\\middle_school\\ppg_data\\172415765867426549620653144948401616255.json\n",
      "middle file path: C:\\Users\\Administrator\\Desktop\\PPG_dataset\\PPG_Dataset_ALL\\middle_school\\ppg_data\\297478543113177316277353045073650771874.json\n",
      "middle file path: C:\\Users\\Administrator\\Desktop\\PPG_dataset\\PPG_Dataset_ALL\\middle_school\\ppg_data\\1920349362633820327648370979618053100.json\n",
      "middle file path: C:\\Users\\Administrator\\Desktop\\PPG_dataset\\PPG_Dataset_ALL\\middle_school\\ppg_data\\255383028215169739599801628334229912338.json\n",
      "middle file path: C:\\Users\\Administrator\\Desktop\\PPG_dataset\\PPG_Dataset_ALL\\middle_school\\ppg_data\\77310769430540366300278873022810034387.json\n",
      "middle file path: C:\\Users\\Administrator\\Desktop\\PPG_dataset\\PPG_Dataset_ALL\\middle_school\\ppg_data\\32242276520091340804508061073161479713.json\n",
      "middle file path: C:\\Users\\Administrator\\Desktop\\PPG_dataset\\PPG_Dataset_ALL\\middle_school\\ppg_data\\168976898276018063274165780262804865467.json\n",
      "middle file path: C:\\Users\\Administrator\\Desktop\\PPG_dataset\\PPG_Dataset_ALL\\middle_school\\ppg_data\\206009534121354960954835233772289242753.json\n",
      "middle file path: C:\\Users\\Administrator\\Desktop\\PPG_dataset\\PPG_Dataset_ALL\\middle_school\\ppg_data\\220418254536305406830549495446392855030.json\n",
      "middle file path: C:\\Users\\Administrator\\Desktop\\PPG_dataset\\PPG_Dataset_ALL\\middle_school\\ppg_data\\218793485769776969124501711306136315469.json\n",
      "middle file path: C:\\Users\\Administrator\\Desktop\\PPG_dataset\\PPG_Dataset_ALL\\middle_school\\ppg_data\\269609923259594658180850700059826200712.json\n",
      "middle file path: C:\\Users\\Administrator\\Desktop\\PPG_dataset\\PPG_Dataset_ALL\\middle_school\\ppg_data\\97899773720143725892453219245048985519.json\n",
      "middle file path: C:\\Users\\Administrator\\Desktop\\PPG_dataset\\PPG_Dataset_ALL\\middle_school\\ppg_data\\33885646252062543042299470760137956113.json\n",
      "middle file path: C:\\Users\\Administrator\\Desktop\\PPG_dataset\\PPG_Dataset_ALL\\middle_school\\ppg_data\\336383311414635751710074653881643879272.json\n",
      "middle file path: C:\\Users\\Administrator\\Desktop\\PPG_dataset\\PPG_Dataset_ALL\\middle_school\\ppg_data\\213290807462354534645975057862630654817.json\n",
      "middle file path: C:\\Users\\Administrator\\Desktop\\PPG_dataset\\PPG_Dataset_ALL\\middle_school\\ppg_data\\101740771872531302869430819201047292133.json\n",
      "middle file path: C:\\Users\\Administrator\\Desktop\\PPG_dataset\\PPG_Dataset_ALL\\middle_school\\ppg_data\\216536750951151935839504204487772996246.json\n",
      "middle file path: C:\\Users\\Administrator\\Desktop\\PPG_dataset\\PPG_Dataset_ALL\\middle_school\\ppg_data\\99385955208441366061286684978591209044.json\n",
      "middle file path: C:\\Users\\Administrator\\Desktop\\PPG_dataset\\PPG_Dataset_ALL\\middle_school\\ppg_data\\299837823671669493591048353351617715401.json\n",
      "middle file path: C:\\Users\\Administrator\\Desktop\\PPG_dataset\\PPG_Dataset_ALL\\middle_school\\ppg_data\\111926663816747827588607674970577727469.json\n",
      "middle file path: C:\\Users\\Administrator\\Desktop\\PPG_dataset\\PPG_Dataset_ALL\\middle_school\\ppg_data\\308682132939320510465002967164467118583.json\n",
      "middle file path: C:\\Users\\Administrator\\Desktop\\PPG_dataset\\PPG_Dataset_ALL\\middle_school\\ppg_data\\264111498763508637730519258361400343542.json\n",
      "middle file path: C:\\Users\\Administrator\\Desktop\\PPG_dataset\\PPG_Dataset_ALL\\middle_school\\ppg_data\\256888229102486481442542438055268640154.json\n",
      "middle file path: C:\\Users\\Administrator\\Desktop\\PPG_dataset\\PPG_Dataset_ALL\\middle_school\\ppg_data\\92228558914593286739589187867524104190.json\n",
      "middle file path: C:\\Users\\Administrator\\Desktop\\PPG_dataset\\PPG_Dataset_ALL\\middle_school\\ppg_data\\183236688023048501330550542296006054682.json\n",
      "middle file path: C:\\Users\\Administrator\\Desktop\\PPG_dataset\\PPG_Dataset_ALL\\middle_school\\ppg_data\\179552393834535204130497190211521480528.json\n",
      "middle file path: C:\\Users\\Administrator\\Desktop\\PPG_dataset\\PPG_Dataset_ALL\\middle_school\\ppg_data\\99022682101745161660153728388050729327.json\n",
      "middle file path: C:\\Users\\Administrator\\Desktop\\PPG_dataset\\PPG_Dataset_ALL\\middle_school\\ppg_data\\286992898400087581405015992557702572150.json\n",
      "middle file path: C:\\Users\\Administrator\\Desktop\\PPG_dataset\\PPG_Dataset_ALL\\middle_school\\ppg_data\\42551035908660017151215789282008278880.json\n",
      "middle file path: C:\\Users\\Administrator\\Desktop\\PPG_dataset\\PPG_Dataset_ALL\\middle_school\\ppg_data\\34762425403445864083077781595636677946.json\n",
      "middle file path: C:\\Users\\Administrator\\Desktop\\PPG_dataset\\PPG_Dataset_ALL\\middle_school\\ppg_data\\328501170984435519968465877978172346551.json\n",
      "middle file path: C:\\Users\\Administrator\\Desktop\\PPG_dataset\\PPG_Dataset_ALL\\middle_school\\ppg_data\\304927289108298225599455322587639596489.json\n",
      "middle file path: C:\\Users\\Administrator\\Desktop\\PPG_dataset\\PPG_Dataset_ALL\\middle_school\\ppg_data\\133058471837121884139518771169253905605.json\n",
      "middle file path: C:\\Users\\Administrator\\Desktop\\PPG_dataset\\PPG_Dataset_ALL\\middle_school\\ppg_data\\293329752341981676684791548886352982693.json\n",
      "middle file path: C:\\Users\\Administrator\\Desktop\\PPG_dataset\\PPG_Dataset_ALL\\middle_school\\ppg_data\\277521695151045356180592974731943199225.json\n",
      "middle file path: C:\\Users\\Administrator\\Desktop\\PPG_dataset\\PPG_Dataset_ALL\\middle_school\\ppg_data\\123984913769875937224568597942048483600.json\n",
      "middle file path: C:\\Users\\Administrator\\Desktop\\PPG_dataset\\PPG_Dataset_ALL\\middle_school\\ppg_data\\30471810699486672864414411640522013612.json\n",
      "middle file path: C:\\Users\\Administrator\\Desktop\\PPG_dataset\\PPG_Dataset_ALL\\middle_school\\ppg_data\\150752115316842269809842971974870025819.json\n",
      "middle file path: C:\\Users\\Administrator\\Desktop\\PPG_dataset\\PPG_Dataset_ALL\\middle_school\\ppg_data\\236620722582505956886079794572667981138.json\n",
      "middle file path: C:\\Users\\Administrator\\Desktop\\PPG_dataset\\PPG_Dataset_ALL\\middle_school\\ppg_data\\21009721831460600214646638695137996971.json\n",
      "middle file path: C:\\Users\\Administrator\\Desktop\\PPG_dataset\\PPG_Dataset_ALL\\middle_school\\ppg_data\\222680082272891873550031063122351047131.json\n",
      "middle file path: C:\\Users\\Administrator\\Desktop\\PPG_dataset\\PPG_Dataset_ALL\\middle_school\\ppg_data\\169245413571916393789952686809364669615.json\n",
      "middle file path: C:\\Users\\Administrator\\Desktop\\PPG_dataset\\PPG_Dataset_ALL\\middle_school\\ppg_data\\146064041238557010788186948233088969104.json\n",
      "middle file path: C:\\Users\\Administrator\\Desktop\\PPG_dataset\\PPG_Dataset_ALL\\middle_school\\ppg_data\\111780271452098159611885112449871614004.json\n",
      "middle file path: C:\\Users\\Administrator\\Desktop\\PPG_dataset\\PPG_Dataset_ALL\\middle_school\\ppg_data\\147814915036580350100721322994842507156.json\n",
      "middle file path: C:\\Users\\Administrator\\Desktop\\PPG_dataset\\PPG_Dataset_ALL\\middle_school\\ppg_data\\166256834353464829703063220180190339093.json\n",
      "middle file path: C:\\Users\\Administrator\\Desktop\\PPG_dataset\\PPG_Dataset_ALL\\middle_school\\ppg_data\\295902642721078336225686667699022732806.json\n",
      "middle file path: C:\\Users\\Administrator\\Desktop\\PPG_dataset\\PPG_Dataset_ALL\\middle_school\\ppg_data\\188732848090681285537560058007086441920.json\n",
      "middle file path: C:\\Users\\Administrator\\Desktop\\PPG_dataset\\PPG_Dataset_ALL\\middle_school\\ppg_data\\156517852476978255247134109582897408508.json\n",
      "middle file path: C:\\Users\\Administrator\\Desktop\\PPG_dataset\\PPG_Dataset_ALL\\middle_school\\ppg_data\\150501790532395396126313996433617792985.json\n",
      "middle file path: C:\\Users\\Administrator\\Desktop\\PPG_dataset\\PPG_Dataset_ALL\\middle_school\\ppg_data\\52911156003013198580665451103658330392.json\n",
      "middle file path: C:\\Users\\Administrator\\Desktop\\PPG_dataset\\PPG_Dataset_ALL\\middle_school\\ppg_data\\56099145895561546925186384714104526912.json\n",
      "middle file path: C:\\Users\\Administrator\\Desktop\\PPG_dataset\\PPG_Dataset_ALL\\middle_school\\ppg_data\\85047496091350202441771590538728448857.json\n",
      "middle file path: C:\\Users\\Administrator\\Desktop\\PPG_dataset\\PPG_Dataset_ALL\\middle_school\\ppg_data\\244624369023813890833406098231794878952.json\n",
      "middle file path: C:\\Users\\Administrator\\Desktop\\PPG_dataset\\PPG_Dataset_ALL\\middle_school\\ppg_data\\303659473533724663839280138196996691164.json\n",
      "middle file path: C:\\Users\\Administrator\\Desktop\\PPG_dataset\\PPG_Dataset_ALL\\middle_school\\ppg_data\\314870799689606402268780477814580934076.json\n",
      "middle file path: C:\\Users\\Administrator\\Desktop\\PPG_dataset\\PPG_Dataset_ALL\\middle_school\\ppg_data\\7464070125979288513183741117765170928.json\n",
      "middle file path: C:\\Users\\Administrator\\Desktop\\PPG_dataset\\PPG_Dataset_ALL\\middle_school\\ppg_data\\301326916911502910831305098446743775247.json\n",
      "middle file path: C:\\Users\\Administrator\\Desktop\\PPG_dataset\\PPG_Dataset_ALL\\middle_school\\ppg_data\\311087103155171036061143399889698655072.json\n",
      "middle file path: C:\\Users\\Administrator\\Desktop\\PPG_dataset\\PPG_Dataset_ALL\\middle_school\\ppg_data\\185341286979011591077868121235258645326.json\n",
      "middle file path: C:\\Users\\Administrator\\Desktop\\PPG_dataset\\PPG_Dataset_ALL\\middle_school\\ppg_data\\241458382452625861813060710361485992484.json\n",
      "middle file path: C:\\Users\\Administrator\\Desktop\\PPG_dataset\\PPG_Dataset_ALL\\middle_school\\ppg_data\\233899353621199828490979403945204234829.json\n",
      "middle file path: C:\\Users\\Administrator\\Desktop\\PPG_dataset\\PPG_Dataset_ALL\\middle_school\\ppg_data\\86735914967402468079245225254462550932.json\n",
      "middle file path: C:\\Users\\Administrator\\Desktop\\PPG_dataset\\PPG_Dataset_ALL\\middle_school\\ppg_data\\166982303707982007051928380408208812756.json\n",
      "middle file path: C:\\Users\\Administrator\\Desktop\\PPG_dataset\\PPG_Dataset_ALL\\middle_school\\ppg_data\\179810728925376422764373029056359020778.json\n",
      "middle file path: C:\\Users\\Administrator\\Desktop\\PPG_dataset\\PPG_Dataset_ALL\\middle_school\\ppg_data\\198234582876761228339764912699736538842.json\n",
      "middle file path: C:\\Users\\Administrator\\Desktop\\PPG_dataset\\PPG_Dataset_ALL\\middle_school\\ppg_data\\278976365265048839925732371892522444086.json\n",
      "middle file path: C:\\Users\\Administrator\\Desktop\\PPG_dataset\\PPG_Dataset_ALL\\middle_school\\ppg_data\\328893425093931158250042650626238777647.json\n",
      "middle file path: C:\\Users\\Administrator\\Desktop\\PPG_dataset\\PPG_Dataset_ALL\\middle_school\\ppg_data\\259976285914790249179611647002659209716.json\n",
      "middle file path: C:\\Users\\Administrator\\Desktop\\PPG_dataset\\PPG_Dataset_ALL\\middle_school\\ppg_data\\230510082178769509982185046132862481404.json\n",
      "middle file path: C:\\Users\\Administrator\\Desktop\\PPG_dataset\\PPG_Dataset_ALL\\middle_school\\ppg_data\\74676610303512588309975630864179375703.json\n",
      "middle file path: C:\\Users\\Administrator\\Desktop\\PPG_dataset\\PPG_Dataset_ALL\\middle_school\\ppg_data\\277321838551377480536580976040868399935.json\n",
      "middle file path: C:\\Users\\Administrator\\Desktop\\PPG_dataset\\PPG_Dataset_ALL\\middle_school\\ppg_data\\46670221877387733488931199894370093608.json\n",
      "middle file path: C:\\Users\\Administrator\\Desktop\\PPG_dataset\\PPG_Dataset_ALL\\middle_school\\ppg_data\\78483092843503414382191303456895098097.json\n"
     ]
    }
   ],
   "source": [
    "def generate_dataset(subject_collection, label, data_aug_times=1):\n",
    "    ignored_id = []\n",
    "    dataset = pd.DataFrame()\n",
    "    for subject in subject_collection:\n",
    "            subject_wave = []\n",
    "            # The middle school subjects.\n",
    "            if subject in (middle_pos_subjects + middle_neg_subjects):\n",
    "                files = os.listdir(middle_file_dir)\n",
    "                for file in files:\n",
    "                    if file.startswith(subject) and file.endswith('.json'):\n",
    "                        file_path = os.path.join(middle_file_dir, file)\n",
    "                        print(f\"middle file path: {file_path}\")\n",
    "                        tmp_wave = load_wave_middleSchool(file_path)\n",
    "                        subject_wave += tmp_wave\n",
    "\n",
    "            if len(subject_wave) < (sample_freq * sample_window_minute * 60):\n",
    "                ignored_id.append({'id': id, 'Time Length of data in minute ': f\"{len(subject_wave)/(125 * 60):.02f}\"})\n",
    "                continue\n",
    "            else:\n",
    "                subject_dataset = generate_train_feature(subject, subject_wave, label, profile_dict[subject][0], profile_dict[subject][1], sample_freq, sample_window_minute, data_aug_times, if_gender = True)\n",
    "                dataset = pd.concat([dataset, subject_dataset], ignore_index=True)\n",
    "    return dataset\n",
    "\n",
    "\n",
    "train_pos_dataset = generate_dataset(train_pos_subjects, label=1, data_aug_times=1)\n",
    "train_neg_dataset = generate_dataset(train_neg_subjects, label=0, data_aug_times=1)"
   ]
  },
  {
   "cell_type": "code",
   "execution_count": 113,
   "metadata": {},
   "outputs": [
    {
     "name": "stdout",
     "output_type": "stream",
     "text": [
      "middle file path: C:\\Users\\Administrator\\Desktop\\PPG_dataset\\PPG_Dataset_ALL\\middle_school\\ppg_data\\301820668187728366910731410126564421297.json\n",
      "middle file path: C:\\Users\\Administrator\\Desktop\\PPG_dataset\\PPG_Dataset_ALL\\middle_school\\ppg_data\\118388850650277315092296183437132290088.json\n",
      "middle file path: C:\\Users\\Administrator\\Desktop\\PPG_dataset\\PPG_Dataset_ALL\\middle_school\\ppg_data\\50870569433662547424976446803687306459.json\n",
      "middle file path: C:\\Users\\Administrator\\Desktop\\PPG_dataset\\PPG_Dataset_ALL\\middle_school\\ppg_data\\197445289474166971856388996004689014191.json\n",
      "middle file path: C:\\Users\\Administrator\\Desktop\\PPG_dataset\\PPG_Dataset_ALL\\middle_school\\ppg_data\\55006877697451336253845685092280870033.json\n",
      "middle file path: C:\\Users\\Administrator\\Desktop\\PPG_dataset\\PPG_Dataset_ALL\\middle_school\\ppg_data\\295048404300263447910443892159201485946.json\n",
      "middle file path: C:\\Users\\Administrator\\Desktop\\PPG_dataset\\PPG_Dataset_ALL\\middle_school\\ppg_data\\3090578306455859195973259924928164372.json\n",
      "middle file path: C:\\Users\\Administrator\\Desktop\\PPG_dataset\\PPG_Dataset_ALL\\middle_school\\ppg_data\\287193774137046830846299820689671912262.json\n",
      "middle file path: C:\\Users\\Administrator\\Desktop\\PPG_dataset\\PPG_Dataset_ALL\\middle_school\\ppg_data\\163243854737138025263654164080563997272.json\n",
      "middle file path: C:\\Users\\Administrator\\Desktop\\PPG_dataset\\PPG_Dataset_ALL\\middle_school\\ppg_data\\69591887887134192948829421726744172269.json\n",
      "middle file path: C:\\Users\\Administrator\\Desktop\\PPG_dataset\\PPG_Dataset_ALL\\middle_school\\ppg_data\\249539210324303649817973743519680083191.json\n",
      "middle file path: C:\\Users\\Administrator\\Desktop\\PPG_dataset\\PPG_Dataset_ALL\\middle_school\\ppg_data\\253132849924030666010174749930953571054.json\n",
      "middle file path: C:\\Users\\Administrator\\Desktop\\PPG_dataset\\PPG_Dataset_ALL\\middle_school\\ppg_data\\248714792084223925086319877550701732902.json\n",
      "middle file path: C:\\Users\\Administrator\\Desktop\\PPG_dataset\\PPG_Dataset_ALL\\middle_school\\ppg_data\\214196872306172363576194969712281612736.json\n",
      "middle file path: C:\\Users\\Administrator\\Desktop\\PPG_dataset\\PPG_Dataset_ALL\\middle_school\\ppg_data\\97787519318640743833349948562306113456.json\n",
      "middle file path: C:\\Users\\Administrator\\Desktop\\PPG_dataset\\PPG_Dataset_ALL\\middle_school\\ppg_data\\124430104239231151751690300640228075062.json\n",
      "middle file path: C:\\Users\\Administrator\\Desktop\\PPG_dataset\\PPG_Dataset_ALL\\middle_school\\ppg_data\\298012316445022339974080573314634844942.json\n",
      "middle file path: C:\\Users\\Administrator\\Desktop\\PPG_dataset\\PPG_Dataset_ALL\\middle_school\\ppg_data\\21410904085685263729854870614616717848.json\n",
      "middle file path: C:\\Users\\Administrator\\Desktop\\PPG_dataset\\PPG_Dataset_ALL\\middle_school\\ppg_data\\19203181753873604898438773992583046697.json\n"
     ]
    }
   ],
   "source": [
    "val_pos_dataset = generate_dataset(val_pos_subjects, label=1, data_aug_times=1)\n",
    "val_neg_dataset = generate_dataset(val_neg_subjects, label=0, data_aug_times=1)"
   ]
  },
  {
   "cell_type": "code",
   "execution_count": 114,
   "metadata": {},
   "outputs": [
    {
     "name": "stdout",
     "output_type": "stream",
     "text": [
      "middle file path: C:\\Users\\Administrator\\Desktop\\PPG_dataset\\PPG_Dataset_ALL\\middle_school\\ppg_data\\291726336157896493559959962336883513986.json\n",
      "middle file path: C:\\Users\\Administrator\\Desktop\\PPG_dataset\\PPG_Dataset_ALL\\middle_school\\ppg_data\\147359196293566602169362260165807304353.json\n",
      "middle file path: C:\\Users\\Administrator\\Desktop\\PPG_dataset\\PPG_Dataset_ALL\\middle_school\\ppg_data\\201404667111814446206819837731426765409.json\n",
      "middle file path: C:\\Users\\Administrator\\Desktop\\PPG_dataset\\PPG_Dataset_ALL\\middle_school\\ppg_data\\86870934383858888433231959520362691816.json\n",
      "middle file path: C:\\Users\\Administrator\\Desktop\\PPG_dataset\\PPG_Dataset_ALL\\middle_school\\ppg_data\\82021857307461782491499562936350476465.json\n",
      "middle file path: C:\\Users\\Administrator\\Desktop\\PPG_dataset\\PPG_Dataset_ALL\\middle_school\\ppg_data\\257578913972433675542904987759433589293.json\n",
      "middle file path: C:\\Users\\Administrator\\Desktop\\PPG_dataset\\PPG_Dataset_ALL\\middle_school\\ppg_data\\253236472362712351797769573369433989127.json\n",
      "middle file path: C:\\Users\\Administrator\\Desktop\\PPG_dataset\\PPG_Dataset_ALL\\middle_school\\ppg_data\\93662820189211795719680984402174453884.json\n",
      "middle file path: C:\\Users\\Administrator\\Desktop\\PPG_dataset\\PPG_Dataset_ALL\\middle_school\\ppg_data\\76564679515111601898752093007823406213.json\n",
      "middle file path: C:\\Users\\Administrator\\Desktop\\PPG_dataset\\PPG_Dataset_ALL\\middle_school\\ppg_data\\47155295106343825763989534008758209376.json\n",
      "middle file path: C:\\Users\\Administrator\\Desktop\\PPG_dataset\\PPG_Dataset_ALL\\middle_school\\ppg_data\\639172527045195363287108778219712510.json\n",
      "middle file path: C:\\Users\\Administrator\\Desktop\\PPG_dataset\\PPG_Dataset_ALL\\middle_school\\ppg_data\\10067018716173574229320500679341658039.json\n",
      "middle file path: C:\\Users\\Administrator\\Desktop\\PPG_dataset\\PPG_Dataset_ALL\\middle_school\\ppg_data\\220412779112482284366202079009344459295.json\n",
      "middle file path: C:\\Users\\Administrator\\Desktop\\PPG_dataset\\PPG_Dataset_ALL\\middle_school\\ppg_data\\64072384993539353085868859411307902753.json\n",
      "middle file path: C:\\Users\\Administrator\\Desktop\\PPG_dataset\\PPG_Dataset_ALL\\middle_school\\ppg_data\\88851346794125591826211503306534532969.json\n",
      "middle file path: C:\\Users\\Administrator\\Desktop\\PPG_dataset\\PPG_Dataset_ALL\\middle_school\\ppg_data\\270887533756973472376441335892518057033.json\n",
      "middle file path: C:\\Users\\Administrator\\Desktop\\PPG_dataset\\PPG_Dataset_ALL\\middle_school\\ppg_data\\155341209204547064712381637255618908530.json\n",
      "middle file path: C:\\Users\\Administrator\\Desktop\\PPG_dataset\\PPG_Dataset_ALL\\middle_school\\ppg_data\\282688010890714602204731419184847947787.json\n",
      "middle file path: C:\\Users\\Administrator\\Desktop\\PPG_dataset\\PPG_Dataset_ALL\\middle_school\\ppg_data\\192519081619282340004833305958416869165.json\n",
      "middle file path: C:\\Users\\Administrator\\Desktop\\PPG_dataset\\PPG_Dataset_ALL\\middle_school\\ppg_data\\147305700774089374809811571050691617093.json\n",
      "middle file path: C:\\Users\\Administrator\\Desktop\\PPG_dataset\\PPG_Dataset_ALL\\middle_school\\ppg_data\\55619397159686112022662044355041152901.json\n",
      "middle file path: C:\\Users\\Administrator\\Desktop\\PPG_dataset\\PPG_Dataset_ALL\\middle_school\\ppg_data\\214066112721987703187369304704263977384.json\n",
      "middle file path: C:\\Users\\Administrator\\Desktop\\PPG_dataset\\PPG_Dataset_ALL\\middle_school\\ppg_data\\70548274733634719816690703613189281691.json\n",
      "middle file path: C:\\Users\\Administrator\\Desktop\\PPG_dataset\\PPG_Dataset_ALL\\middle_school\\ppg_data\\17583509150572468227110417765438851577.json\n"
     ]
    }
   ],
   "source": [
    "test_pos_dataset = generate_dataset(test_pos_subjects, label=1, data_aug_times=1)\n",
    "test_neg_dataset = generate_dataset(test_neg_subjects, label=0, data_aug_times=1)"
   ]
  },
  {
   "cell_type": "code",
   "execution_count": 115,
   "metadata": {},
   "outputs": [
    {
     "name": "stdout",
     "output_type": "stream",
     "text": [
      "train pos sample shape: (488, 40)\n",
      "train neg sample shape: (563, 40)\n",
      "val pos sample shape: (41, 40)\n",
      "val neg sample shape: (48, 40)\n",
      "test pos sample shape: (63, 40)\n",
      "test neg sample shape: (50, 40)\n"
     ]
    }
   ],
   "source": [
    "print(f\"train pos sample shape: {train_pos_dataset.shape}\")\n",
    "print(f\"train neg sample shape: {train_neg_dataset.shape}\")\n",
    "\n",
    "print(f\"val pos sample shape: {val_pos_dataset.shape}\")\n",
    "print(f\"val neg sample shape: {val_neg_dataset.shape}\")\n",
    "\n",
    "print(f\"test pos sample shape: {test_neg_dataset.shape}\")\n",
    "print(f\"test neg sample shape: {test_pos_dataset.shape}\")"
   ]
  },
  {
   "cell_type": "code",
   "execution_count": 116,
   "metadata": {},
   "outputs": [],
   "source": [
    "columns_drop = []\n",
    "for col in train_pos_dataset.columns[:-4]:\n",
    "    nan_count = (train_pos_dataset[col] == 0).sum() \n",
    "    if nan_count > (len(train_pos_dataset) // 4): \n",
    "        columns_drop.append(col)\n",
    "\n",
    "train_pos_dataset_final = train_pos_dataset.drop(columns=columns_drop, inplace=False)\n",
    "train_neg_dataset_final = train_neg_dataset.drop(columns=columns_drop, inplace=False)\n",
    "\n",
    "val_pos_dataset_final = val_pos_dataset.drop(columns=columns_drop, inplace=False)\n",
    "val_neg_dataset_final = val_neg_dataset.drop(columns=columns_drop, inplace=False)\n",
    "\n",
    "test_pos_dataset_final = test_pos_dataset.drop(columns=columns_drop, inplace=False)\n",
    "test_neg_dataset_final = test_neg_dataset.drop(columns=columns_drop, inplace=False)"
   ]
  },
  {
   "cell_type": "code",
   "execution_count": 117,
   "metadata": {},
   "outputs": [
    {
     "name": "stdout",
     "output_type": "stream",
     "text": [
      "After remove the invalid columns, train pos shape: (488, 29)\n",
      "After remove the invalid columns, train neg shape: (563, 29)\n",
      "After remove the invalid columns, validation pos shape: (41, 29)\n",
      "After remove the invalid columns, validation neg shape: (48, 29)\n",
      "After remove the invalid columns, test pos shape: (50, 29)\n",
      "After remove the invalid columns, test neg shape: (63, 29)\n"
     ]
    }
   ],
   "source": [
    "print(f\"After remove the invalid columns, train pos shape: {train_pos_dataset_final.shape}\")\n",
    "print(f\"After remove the invalid columns, train neg shape: {train_neg_dataset_final.shape}\")\n",
    "\n",
    "print(f\"After remove the invalid columns, validation pos shape: {val_pos_dataset_final.shape}\")\n",
    "print(f\"After remove the invalid columns, validation neg shape: {val_neg_dataset_final.shape}\")\n",
    "\n",
    "print(f\"After remove the invalid columns, test pos shape: {test_pos_dataset_final.shape}\")\n",
    "print(f\"After remove the invalid columns, test neg shape: {test_neg_dataset_final.shape}\")"
   ]
  },
  {
   "cell_type": "markdown",
   "metadata": {},
   "source": [
    "#### Do The Normalization for the Train Dataset and Test Dataset"
   ]
  },
  {
   "cell_type": "code",
   "execution_count": 118,
   "metadata": {},
   "outputs": [],
   "source": [
    "profile_columns = ['wave_quality', 'age', 'gender', 'label', 'id']"
   ]
  },
  {
   "cell_type": "code",
   "execution_count": 119,
   "metadata": {},
   "outputs": [],
   "source": [
    "# 合并训练集\n",
    "train_combined = pd.concat([train_pos_dataset_final, train_neg_dataset_final])\n",
    "\n",
    "# 需要归一化的列\n",
    "columns_to_normalize = train_combined.columns.difference(profile_columns)\n",
    "\n",
    "# 计算最大值和最小值\n",
    "min_values = train_combined[columns_to_normalize].min()\n",
    "max_values = train_combined[columns_to_normalize].max()\n",
    "\n",
    "# 保存最大值和最小值到CSV\n",
    "current_date = datetime.datetime.now().strftime(\"%Y-%m-%d\")\n",
    "outdir = os.path.join(os.getcwd(), 'outdir')\n",
    "os.makedirs(outdir, exist_ok=True)\n",
    "min_max_df = pd.DataFrame({'min': min_values, 'max': max_values})\n",
    "min_max_df.to_csv(f'{outdir}/ppg_sleep_norm_minmax_values_{current_date}.csv', index=True)\n",
    "\n",
    "\n",
    "# 定义min-max归一化函数\n",
    "def normalize(df, min_values, max_values):\n",
    "    return (df - min_values) / (max_values - min_values)\n",
    "\n",
    "# 对训练集进行归一化\n",
    "train_pos_dataset_final[columns_to_normalize] = normalize(train_pos_dataset_final[columns_to_normalize], min_values, max_values)\n",
    "train_neg_dataset_final[columns_to_normalize] = normalize(train_neg_dataset_final[columns_to_normalize], min_values, max_values)\n",
    "\n",
    "# 从CSV文件中读取最小值和最大值\n",
    "min_max_df = pd.read_csv(f'{outdir}/ppg_sleep_norm_minmax_values_{current_date}.csv', index_col=0)\n",
    "min_values = min_max_df['min']\n",
    "max_values = min_max_df['max']\n",
    "\n",
    "\n",
    "val_pos_dataset_final[columns_to_normalize] = normalize(val_pos_dataset_final[columns_to_normalize], min_values, max_values)\n",
    "val_neg_dataset_final[columns_to_normalize] = normalize(val_neg_dataset_final[columns_to_normalize], min_values, max_values)\n",
    "\n",
    "\n",
    "# 对测试集进行归一化\n",
    "test_pos_dataset_final[columns_to_normalize] = normalize(test_pos_dataset_final[columns_to_normalize], min_values, max_values)\n",
    "test_neg_dataset_final[columns_to_normalize] = normalize(test_neg_dataset_final[columns_to_normalize], min_values, max_values)\n"
   ]
  },
  {
   "cell_type": "markdown",
   "metadata": {},
   "source": [
    "#### Save As Pkl File"
   ]
  },
  {
   "cell_type": "code",
   "execution_count": 120,
   "metadata": {},
   "outputs": [],
   "source": [
    "import seaborn as sns\n",
    "import matplotlib.pyplot as plt"
   ]
  },
  {
   "cell_type": "code",
   "execution_count": 121,
   "metadata": {},
   "outputs": [
    {
     "data": {
      "image/png": "[encoded data removed]",
      "text/plain": [
       "<Figure size 640x480 with 1 Axes>"
      ]
     },
     "metadata": {},
     "output_type": "display_data"
    },
    {
     "data": {
      "image/png": "[encoded data removed]",
      "text/plain": [
       "<Figure size 640x480 with 1 Axes>"
      ]
     },
     "metadata": {},
     "output_type": "display_data"
    },
    {
     "data": {
      "text/plain": [
       "<Axes: xlabel='wave_quality', ylabel='Count'>"
      ]
     },
     "execution_count": 121,
     "metadata": {},
     "output_type": "execute_result"
    },
    {
     "data": {
      "image/png": "[encoded data removed]",
      "text/plain": [
       "<Figure size 640x480 with 1 Axes>"
      ]
     },
     "metadata": {},
     "output_type": "display_data"
    }
   ],
   "source": [
    "from matplotlib import figure\n",
    "\n",
    "plt.subplot(3, 1, 1)  # 1行2列，第1个子图\n",
    "sns.histplot(train_pos_dataset['wave_quality'], kde=True, bins=10)\n",
    "plt.show()\n",
    "\n",
    "plt.subplot(3, 1, 2)  # 1行2列，第1个子图\n",
    "sns.histplot(train_neg_dataset['wave_quality'], kde=True, bins=10)\n",
    "plt.show()\n",
    "\n",
    "plt.subplot(3, 1, 3)  # 1行2列，第1个子图\n",
    "sns.histplot(train_combined['wave_quality'], kde=True, bins=10)"
   ]
  },
  {
   "cell_type": "code",
   "execution_count": 122,
   "metadata": {},
   "outputs": [],
   "source": [
    "wave_quality_threshold = 0.9"
   ]
  },
  {
   "cell_type": "code",
   "execution_count": 123,
   "metadata": {},
   "outputs": [
    {
     "name": "stdout",
     "output_type": "stream",
     "text": [
      "train pos sample shape: (488, 40)\n",
      "train neg sample shape: (563, 40)\n",
      "validation pos sample shape: (41, 40)\n",
      "validation neg sample shape: (48, 40)\n",
      "test pos sample shape: (63, 40)\n",
      "test neg sample shape: (50, 40)\n"
     ]
    }
   ],
   "source": [
    "print(f\"train pos sample shape: {train_pos_dataset.shape}\")\n",
    "print(f\"train neg sample shape: {train_neg_dataset.shape}\")\n",
    "\n",
    "print(f\"validation pos sample shape: {val_pos_dataset.shape}\")\n",
    "print(f\"validation neg sample shape: {val_neg_dataset.shape}\")\n",
    "\n",
    "print(f\"test pos sample shape: {test_neg_dataset.shape}\")\n",
    "print(f\"test neg sample shape: {test_pos_dataset.shape}\")"
   ]
  },
  {
   "cell_type": "code",
   "execution_count": 124,
   "metadata": {},
   "outputs": [
    {
     "name": "stdout",
     "output_type": "stream",
     "text": [
      "After quality filter, train positive sample count: 288\n",
      "After quality filter, train negative sample count: 354\n"
     ]
    }
   ],
   "source": [
    "train_pos_dataset_final_filter = train_pos_dataset_final[train_pos_dataset_final['wave_quality'] >= wave_quality_threshold]\n",
    "train_neg_dataset_final_filter = train_neg_dataset_final[train_neg_dataset_final['wave_quality'] >= wave_quality_threshold]\n",
    "\n",
    "print(f\"After quality filter, train positive sample count: {train_pos_dataset_final_filter.shape[0]}\")\n",
    "print(f\"After quality filter, train negative sample count: {train_neg_dataset_final_filter.shape[0]}\")\n"
   ]
  },
  {
   "cell_type": "code",
   "execution_count": 125,
   "metadata": {},
   "outputs": [],
   "source": [
    "sample_folder = os.path.join(os.getcwd(), 'samples')\n",
    "os.makedirs(sample_folder, exist_ok=True)\n",
    "\n",
    "# 定义要保存的文件路径\n",
    "train_pos_path = os.path.join(sample_folder, 'train_pos_dataset.pkl')\n",
    "train_neg_path = os.path.join(sample_folder, 'train_neg_dataset.pkl')\n",
    "val_pos_path = os.path.join(sample_folder, 'val_pos_dataset.pkl')\n",
    "val_neg_path = os.path.join(sample_folder, 'val_neg_dataset.pkl')\n",
    "test_pos_path = os.path.join(sample_folder, 'test_pos_dataset.pkl')\n",
    "test_neg_path = os.path.join(sample_folder, 'test_neg_dataset.pkl')\n",
    "\n",
    "# 保存 DataFrame 为 .pkl 文件\n",
    "train_pos_dataset_final[train_pos_dataset_final['wave_quality'] >= wave_quality_threshold].to_pickle(train_pos_path)\n",
    "train_neg_dataset_final[train_neg_dataset_final['wave_quality'] >= wave_quality_threshold].to_pickle(train_neg_path)\n",
    "\n",
    "val_pos_dataset_final[val_pos_dataset_final['wave_quality'] >= wave_quality_threshold].to_pickle(val_pos_path)\n",
    "val_neg_dataset_final[val_neg_dataset_final['wave_quality'] >= wave_quality_threshold].to_pickle(val_neg_path)\n",
    "\n",
    "test_pos_dataset_final[test_pos_dataset_final['wave_quality'] >= wave_quality_threshold].to_pickle(test_pos_path)\n",
    "test_neg_dataset_final[test_neg_dataset_final['wave_quality'] >= wave_quality_threshold].to_pickle(test_neg_path)"
   ]
  },
  {
   "cell_type": "code",
   "execution_count": 126,
   "metadata": {},
   "outputs": [
    {
     "name": "stdout",
     "output_type": "stream",
     "text": [
      "Index(['HRV_MeanNN', 'HRV_SDNN', 'HRV_RMSSD', 'HRV_SDSD', 'HRV_CVNN',\n",
      "       'HRV_CVSD', 'HRV_MedianNN', 'HRV_MadNN', 'HRV_MCVNN', 'HRV_IQRNN',\n",
      "       'HRV_SDRMSSD', 'HRV_Prc20NN', 'HRV_Prc80NN', 'HRV_pNN50', 'HRV_pNN20',\n",
      "       'HRV_MinNN', 'HRV_MaxNN', 'HRV_HTI', 'HRV_TINN', 'HRV_HF', 'HRV_VHF',\n",
      "       'HRV_TP', 'HRV_HFn', 'HRV_LnHF', 'wave_quality', 'label', 'id', 'age',\n",
      "       'gender'],\n",
      "      dtype='object')\n"
     ]
    }
   ],
   "source": [
    "print(train_pos_dataset_final.columns)"
   ]
  }
 ],
 "metadata": {
  "kernelspec": {
   "display_name": "Python 3",
   "language": "python",
   "name": "python3"
  },
  "language_info": {
   "codemirror_mode": {
    "name": "ipython",
    "version": 3
   },
   "file_extension": ".py",
   "mimetype": "text/x-python",
   "name": "python",
   "nbconvert_exporter": "python",
   "pygments_lexer": "ipython3",
   "version": "3.12.2"
  }
 },
 "nbformat": 4,
 "nbformat_minor": 2
}
