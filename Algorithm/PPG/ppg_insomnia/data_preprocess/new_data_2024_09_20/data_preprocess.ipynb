{
 "cells": [
  {
   "cell_type": "code",
   "execution_count": 1,
   "metadata": {},
   "outputs": [],
   "source": [
    "import datetime\n",
    "import json\n",
    "import os\n",
    "import random\n",
    "import sys\n",
    "import warnings\n",
    "import pandas as pd\n",
    "\n",
    "sys.path.append(os.path.join(os.getcwd(), '../../../common'))\n",
    "from ppg_feature_processor import generate_train_feature\n",
    "\n",
    "# Suppress specific warnings\n",
    "warnings.filterwarnings(\"ignore\", category=DeprecationWarning, message=\".*Conversion of an array with ndim > 0 to a scalar is deprecated.*\")"
   ]
  },
  {
   "cell_type": "code",
   "execution_count": 2,
   "metadata": {},
   "outputs": [],
   "source": [
    "# 读取 Excel 文件'\n",
    "middleSchool_userProfile_file_new = r'C:\\Users\\Administrator\\Desktop\\Backend-Algorithm\\Algorithm\\PPG\\ppg_depression\\data_preprocess\\new_data_2024_09_20\\outdir\\MiddleSchool_Depression_Anxiety.xlsx'\n"
   ]
  },
  {
   "cell_type": "code",
   "execution_count": 3,
   "metadata": {},
   "outputs": [],
   "source": [
    "insomnia_positive_threshold = 13\n",
    "insomnia_negative_threshold = 1"
   ]
  },
  {
   "cell_type": "code",
   "execution_count": 4,
   "metadata": {},
   "outputs": [
    {
     "name": "stdout",
     "output_type": "stream",
     "text": [
      "middle insomnia positive subjects count: 13\n",
      "middle insomnia negative subjects count: 47\n"
     ]
    }
   ],
   "source": [
    "### READ THE MIDDLESCHOOL SUBJECTS\n",
    "df_middle = pd.read_excel(middleSchool_userProfile_file_new, sheet_name= 'Insomnia')\n",
    "\n",
    "middle_pos_subjects = df_middle[df_middle['insomnia_result'] >= insomnia_positive_threshold]['subjectid'].values.tolist()\n",
    "middle_neg_subjects = df_middle[df_middle['insomnia_result'] <= insomnia_negative_threshold]['subjectid'].values.tolist()\n",
    "\n",
    "print(f\"middle insomnia positive subjects count: {len(middle_pos_subjects)}\")\n",
    "print(f\"middle insomnia negative subjects count: {len(middle_neg_subjects)}\")"
   ]
  },
  {
   "cell_type": "code",
   "execution_count": 5,
   "metadata": {},
   "outputs": [],
   "source": [
    "old_insomnia_positive_threshold = 16\n",
    "old_insomnia_negative_threshold = 9\n",
    "middleSchool_userProfile_file_old = r'C:\\Users\\Administrator\\Desktop\\Backend-Algorithm\\Algorithm\\PPG\\ppg_insomnia\\data_preprocess\\middle_school_data_insomia.xlsx'"
   ]
  },
  {
   "cell_type": "code",
   "execution_count": 6,
   "metadata": {},
   "outputs": [
    {
     "name": "stdout",
     "output_type": "stream",
     "text": [
      "Midlle schold available subject count: (273, 13)\n",
      "middle stress positive subjects count: 133\n",
      "middle stress negative subjects count: 140\n"
     ]
    }
   ],
   "source": [
    "### READ THE MIDDLESCHOOL SUBJECTS\n",
    "df_middle_old = pd.read_excel(middleSchool_userProfile_file_old)\n",
    "df_middle_old = df_middle_old[(df_middle_old['Total'] > old_insomnia_positive_threshold) | (df_middle_old['Total'] < old_insomnia_negative_threshold)]\n",
    "print(f\"Midlle schold available subject count: {df_middle_old.shape}\")\n",
    "\n",
    "\n",
    "middle_pos_subjects_old = df_middle_old[df_middle_old['Total'] > old_insomnia_positive_threshold]['userId'].values.tolist()\n",
    "middle_neg_subjects_old = df_middle_old[df_middle_old['Total'] < old_insomnia_negative_threshold]['userId'].values.tolist()\n",
    "\n",
    "print(f\"middle stress positive subjects count: {len(middle_pos_subjects_old)}\")\n",
    "print(f\"middle stress negative subjects count: {len(middle_neg_subjects_old)}\")"
   ]
  },
  {
   "cell_type": "code",
   "execution_count": 7,
   "metadata": {},
   "outputs": [],
   "source": [
    "profile_dict = dict()\n",
    "\n",
    "for _, row in df_middle.iterrows():\n",
    "    userId = row['subjectid']\n",
    "    gender = row['gender']\n",
    "    age = row['age']\n",
    "    profile_dict[userId] = (gender, age)\n",
    "\n",
    "for _, row in df_middle_old.iterrows():\n",
    "    userId = row['userId']\n",
    "    gender = row['gender']\n",
    "    age = row['age']\n",
    "    profile_dict[userId] = (gender, age)\n",
    "\n"
   ]
  },
  {
   "cell_type": "code",
   "execution_count": 8,
   "metadata": {},
   "outputs": [
    {
     "name": "stdout",
     "output_type": "stream",
     "text": [
      "train postive subjects: 5\n",
      "train negative subjects: 39\n",
      "test postive subjects: 8\n",
      "test negative subjects: 8\n"
     ]
    }
   ],
   "source": [
    "random.shuffle(middle_pos_subjects)\n",
    "random.shuffle(middle_neg_subjects)\n",
    "\n",
    "test_subject_count = 8\n",
    "\n",
    "test_pos_subjects = middle_pos_subjects[0:test_subject_count]\n",
    "test_neg_subjects =  middle_neg_subjects[0:test_subject_count]\n",
    "\n",
    "train_pos_subjects =    middle_pos_subjects[test_subject_count::] #+ middle_pos_subjects_old \n",
    "train_neg_subjects = middle_neg_subjects[test_subject_count::] #+ middle_neg_subjects_old\n",
    "\n",
    "print(f\"train postive subjects: {len(train_pos_subjects)}\")\n",
    "print(f\"train negative subjects: {len(train_neg_subjects)}\")\n",
    "\n",
    "print(f\"test postive subjects: {len(test_pos_subjects)}\")\n",
    "print(f\"test negative subjects: {len(test_neg_subjects)}\")\n"
   ]
  },
  {
   "cell_type": "code",
   "execution_count": 9,
   "metadata": {},
   "outputs": [],
   "source": [
    "def load_wave_middleSchool(path):\n",
    "    try:\n",
    "        with open(path, 'r', encoding='utf-8') as file:  \n",
    "            data = json.load(file)\n",
    "        return data[\"ppg_raw_data\"]\n",
    "    except:\n",
    "        print(\"Subject Not Loaded\")\n",
    "        pass\n",
    "\n",
    "\n",
    "def load_wave_middleSchool_old(path):\n",
    "    try:\n",
    "        with open(path, 'r', encoding='utf-8') as file:  \n",
    "            data = json.load(file)\n",
    "            list_data = data['RawResults'][0]['rawDatas']\n",
    "            final = [i/100000 for i in list_data]\n",
    "        return final\n",
    "    except (KeyError, IndexError, TypeError):\n",
    "        with open(path, 'r', encoding='utf-8') as file:\n",
    "            data = json.load(file)\n",
    "        return data[\"datas\"]"
   ]
  },
  {
   "cell_type": "code",
   "execution_count": 10,
   "metadata": {},
   "outputs": [],
   "source": [
    "sample_freq = 125\n",
    "sample_window_minute = 1.0\n",
    "\n",
    "middle_file_dir = r'C:\\Users\\Administrator\\Desktop\\middle_school_data\\ppg_data'\n",
    "old_middle_file_dir = r'C:\\Users\\Administrator\\Desktop\\PPG_dataset\\PPG_Dataset_ALL\\middle_school\\ppg_data'"
   ]
  },
  {
   "cell_type": "code",
   "execution_count": 11,
   "metadata": {},
   "outputs": [],
   "source": [
    "def generate_dataset(subject_collection, label, data_aug_times=1):\n",
    "    ignored_id = []\n",
    "    dataset = pd.DataFrame()\n",
    "    for subject in subject_collection:\n",
    "            subject_wave = []\n",
    "\n",
    "            if subject in (middle_pos_subjects + middle_neg_subjects):\n",
    "                files = os.listdir(middle_file_dir)\n",
    "                for file in files:\n",
    "                    if file.startswith(subject) and file.endswith('.json'):\n",
    "                        file_path = os.path.join(middle_file_dir, file)\n",
    "                        print(f\"middle file path: {file_path}\")\n",
    "                        tmp_wave = load_wave_middleSchool(file_path)\n",
    "                        subject_wave += tmp_wave\n",
    "            elif subject in (middle_neg_subjects_old + middle_pos_subjects_old):\n",
    "                files = os.listdir(old_middle_file_dir)\n",
    "                for file in files:\n",
    "                    if file.startswith(subject) and file.endswith('.json'):\n",
    "                        file_path = os.path.join(old_middle_file_dir, file)\n",
    "                        print(f\"middle file path: {file_path}\")\n",
    "                        tmp_wave = load_wave_middleSchool_old(file_path)\n",
    "                        subject_wave += tmp_wave\n",
    "            \n",
    "            if len(subject_wave) < (sample_freq * (sample_window_minute) * 60):\n",
    "                print(f\"Small time for subj: {subject} is: {len(subject_wave)/(sample_freq*60)}\")\n",
    "                ignored_id.append({'id': id, 'Time Length of data in minute ': f\"{len(subject_wave)/(125 * 60):.02f}\"})\n",
    "                continue\n",
    "            else:\n",
    "                print(f\"Recording time for subj: {subject} is: {len(subject_wave)/(sample_freq*60)}\")\n",
    "                subject_dataset = generate_train_feature(subject, subject_wave, label, profile_dict[subject][0], profile_dict[subject][1], sample_freq, sample_window_minute, data_aug_times, if_gender = True)\n",
    "                dataset = pd.concat([dataset, subject_dataset], ignore_index=True)\n",
    "    return dataset\n"
   ]
  },
  {
   "cell_type": "code",
   "execution_count": 12,
   "metadata": {},
   "outputs": [
    {
     "name": "stdout",
     "output_type": "stream",
     "text": [
      "middle file path: C:\\Users\\Administrator\\Desktop\\middle_school_data\\ppg_data\\064be51e-f7c6-e196-7c30-57fe14950331.json\n",
      "Recording time for subj: 064be51e-f7c6-e196-7c30-57fe14950331 is: 15.016666666666667\n",
      "middle file path: C:\\Users\\Administrator\\Desktop\\middle_school_data\\ppg_data\\a3bb10b9-2ac2-ecf1-a40d-4cec92f0a2c9.json\n",
      "Recording time for subj: a3bb10b9-2ac2-ecf1-a40d-4cec92f0a2c9 is: 15.033333333333333\n",
      "middle file path: C:\\Users\\Administrator\\Desktop\\middle_school_data\\ppg_data\\1eb091d2-2d29-6b79-4681-3dc9b04218fc.json\n",
      "Recording time for subj: 1eb091d2-2d29-6b79-4681-3dc9b04218fc is: 15.2\n",
      "middle file path: C:\\Users\\Administrator\\Desktop\\middle_school_data\\ppg_data\\ad674d01-4c98-9197-6876-ae14db61152f.json\n",
      "Recording time for subj: ad674d01-4c98-9197-6876-ae14db61152f is: 15.05\n",
      "middle file path: C:\\Users\\Administrator\\Desktop\\middle_school_data\\ppg_data\\bb2eaaba-1b05-bf28-3bd6-7c76fa5fd943.json\n",
      "Recording time for subj: bb2eaaba-1b05-bf28-3bd6-7c76fa5fd943 is: 15.033333333333333\n",
      "middle file path: C:\\Users\\Administrator\\Desktop\\middle_school_data\\ppg_data\\afdb37c1-120c-eca1-f767-866485073f77.json\n",
      "Recording time for subj: afdb37c1-120c-eca1-f767-866485073f77 is: 15.066666666666666\n",
      "middle file path: C:\\Users\\Administrator\\Desktop\\middle_school_data\\ppg_data\\18b635c1-39d5-0965-112e-4e75acd82941.json\n",
      "Recording time for subj: 18b635c1-39d5-0965-112e-4e75acd82941 is: 15.233333333333333\n",
      "middle file path: C:\\Users\\Administrator\\Desktop\\middle_school_data\\ppg_data\\ee2ffda0-b7df-d854-7b31-d2e714196949.json\n",
      "Small time for subj: ee2ffda0-b7df-d854-7b31-d2e714196949 is: 0.6333333333333333\n",
      "middle file path: C:\\Users\\Administrator\\Desktop\\middle_school_data\\ppg_data\\dd2cd1e0-9353-488c-807b-c6bdef424ecb.json\n",
      "Recording time for subj: dd2cd1e0-9353-488c-807b-c6bdef424ecb is: 3.3833333333333333\n",
      "middle file path: C:\\Users\\Administrator\\Desktop\\middle_school_data\\ppg_data\\ef002460-af1e-0ae6-323b-20d8dd8dc250.json\n",
      "Recording time for subj: ef002460-af1e-0ae6-323b-20d8dd8dc250 is: 15.016666666666667\n",
      "middle file path: C:\\Users\\Administrator\\Desktop\\middle_school_data\\ppg_data\\442df0e7-2e07-179d-a11f-03b06a1cc0d0.json\n",
      "Recording time for subj: 442df0e7-2e07-179d-a11f-03b06a1cc0d0 is: 14.983333333333333\n",
      "middle file path: C:\\Users\\Administrator\\Desktop\\middle_school_data\\ppg_data\\d9bc42e3-776a-3ccd-9224-b66b4cbd92df.json\n",
      "Recording time for subj: d9bc42e3-776a-3ccd-9224-b66b4cbd92df is: 15.083333333333334\n",
      "middle file path: C:\\Users\\Administrator\\Desktop\\middle_school_data\\ppg_data\\9117b180-bb29-bc58-88e9-322eb807e296.json\n",
      "Recording time for subj: 9117b180-bb29-bc58-88e9-322eb807e296 is: 14.983333333333333\n",
      "middle file path: C:\\Users\\Administrator\\Desktop\\middle_school_data\\ppg_data\\ae10b469-3e20-eff1-eb09-80c4b720a422.json\n",
      "Recording time for subj: ae10b469-3e20-eff1-eb09-80c4b720a422 is: 15.083333333333334\n",
      "middle file path: C:\\Users\\Administrator\\Desktop\\middle_school_data\\ppg_data\\6bbd5adf-45b1-e6a6-606b-247b9b6ab5cf.json\n",
      "Recording time for subj: 6bbd5adf-45b1-e6a6-606b-247b9b6ab5cf is: 15.15\n",
      "middle file path: C:\\Users\\Administrator\\Desktop\\middle_school_data\\ppg_data\\15734937-3410-57f6-3cc3-d1d32e9138c5.json\n",
      "Recording time for subj: 15734937-3410-57f6-3cc3-d1d32e9138c5 is: 15.05\n",
      "middle file path: C:\\Users\\Administrator\\Desktop\\middle_school_data\\ppg_data\\f5dc6d57-2bc0-5c2b-3a42-2d74a826ea86.json\n",
      "Recording time for subj: f5dc6d57-2bc0-5c2b-3a42-2d74a826ea86 is: 15.033333333333333\n",
      "middle file path: C:\\Users\\Administrator\\Desktop\\middle_school_data\\ppg_data\\3bd7c5d4-8402-103f-04d7-9b00d4e5ebba.json\n",
      "Recording time for subj: 3bd7c5d4-8402-103f-04d7-9b00d4e5ebba is: 15.016666666666667\n",
      "middle file path: C:\\Users\\Administrator\\Desktop\\middle_school_data\\ppg_data\\711de251-858f-3c89-0c4f-380e4a5fd709.json\n",
      "Recording time for subj: 711de251-858f-3c89-0c4f-380e4a5fd709 is: 15.033333333333333\n",
      "middle file path: C:\\Users\\Administrator\\Desktop\\middle_school_data\\ppg_data\\3db4ec78-0911-4334-3789-bfd1feee8d66.json\n",
      "Recording time for subj: 3db4ec78-0911-4334-3789-bfd1feee8d66 is: 15.05\n",
      "middle file path: C:\\Users\\Administrator\\Desktop\\middle_school_data\\ppg_data\\5095e8aa-dece-8331-4809-e9a390576151.json\n",
      "Recording time for subj: 5095e8aa-dece-8331-4809-e9a390576151 is: 15.033333333333333\n",
      "middle file path: C:\\Users\\Administrator\\Desktop\\middle_school_data\\ppg_data\\22a0c441-5fad-ca2e-fe55-f667f0064b54.json\n",
      "Recording time for subj: 22a0c441-5fad-ca2e-fe55-f667f0064b54 is: 14.983333333333333\n",
      "middle file path: C:\\Users\\Administrator\\Desktop\\middle_school_data\\ppg_data\\6d879db2-4a18-1839-ca0d-dfb7a5f77f54.json\n",
      "Recording time for subj: 6d879db2-4a18-1839-ca0d-dfb7a5f77f54 is: 15.0\n",
      "middle file path: C:\\Users\\Administrator\\Desktop\\middle_school_data\\ppg_data\\94fadafd-52cc-6a16-6528-473ff8e9d033.json\n",
      "Recording time for subj: 94fadafd-52cc-6a16-6528-473ff8e9d033 is: 15.116666666666667\n",
      "middle file path: C:\\Users\\Administrator\\Desktop\\middle_school_data\\ppg_data\\22dfdab7-c963-7995-fdb0-586cdb0fc750.json\n",
      "Recording time for subj: 22dfdab7-c963-7995-fdb0-586cdb0fc750 is: 15.083333333333334\n",
      "middle file path: C:\\Users\\Administrator\\Desktop\\middle_school_data\\ppg_data\\b7b362c9-bf14-2276-e09a-fd18dd284230.json\n",
      "Recording time for subj: b7b362c9-bf14-2276-e09a-fd18dd284230 is: 15.033333333333333\n",
      "middle file path: C:\\Users\\Administrator\\Desktop\\middle_school_data\\ppg_data\\37ae4b7c-04fb-841c-75a6-532fe936a7cf.json\n",
      "Recording time for subj: 37ae4b7c-04fb-841c-75a6-532fe936a7cf is: 15.033333333333333\n",
      "middle file path: C:\\Users\\Administrator\\Desktop\\middle_school_data\\ppg_data\\8e57c504-b084-5555-3606-bcd242cb62b2.json\n",
      "Recording time for subj: 8e57c504-b084-5555-3606-bcd242cb62b2 is: 15.116666666666667\n",
      "middle file path: C:\\Users\\Administrator\\Desktop\\middle_school_data\\ppg_data\\46f03596-2267-dac8-afca-9fc3e17c8600.json\n",
      "Recording time for subj: 46f03596-2267-dac8-afca-9fc3e17c8600 is: 15.05\n",
      "middle file path: C:\\Users\\Administrator\\Desktop\\middle_school_data\\ppg_data\\47020f1f-8eae-e72a-3353-3eb135306622.json\n",
      "Recording time for subj: 47020f1f-8eae-e72a-3353-3eb135306622 is: 15.016666666666667\n",
      "middle file path: C:\\Users\\Administrator\\Desktop\\middle_school_data\\ppg_data\\179dad82-dee9-d423-da3d-4917bae95aa8.json\n",
      "Recording time for subj: 179dad82-dee9-d423-da3d-4917bae95aa8 is: 15.033333333333333\n",
      "middle file path: C:\\Users\\Administrator\\Desktop\\middle_school_data\\ppg_data\\c5cf4093-8c88-3388-dd4a-8de8169eac4d.json\n",
      "Recording time for subj: c5cf4093-8c88-3388-dd4a-8de8169eac4d is: 15.016666666666667\n",
      "middle file path: C:\\Users\\Administrator\\Desktop\\middle_school_data\\ppg_data\\c831132a-79ed-6676-ad6c-811e7d40789c.json\n",
      "Recording time for subj: c831132a-79ed-6676-ad6c-811e7d40789c is: 15.016666666666667\n",
      "middle file path: C:\\Users\\Administrator\\Desktop\\middle_school_data\\ppg_data\\163f49e3-4026-e051-efaf-e91b9f15dc95.json\n",
      "Recording time for subj: 163f49e3-4026-e051-efaf-e91b9f15dc95 is: 15.116666666666667\n",
      "middle file path: C:\\Users\\Administrator\\Desktop\\middle_school_data\\ppg_data\\ab6d10d7-2245-d3af-a1d7-f6d182d3131b.json\n",
      "Recording time for subj: ab6d10d7-2245-d3af-a1d7-f6d182d3131b is: 15.066666666666666\n",
      "middle file path: C:\\Users\\Administrator\\Desktop\\middle_school_data\\ppg_data\\f8fd9136-63dc-cceb-e257-42abcdabd431.json\n",
      "Recording time for subj: f8fd9136-63dc-cceb-e257-42abcdabd431 is: 15.066666666666666\n",
      "middle file path: C:\\Users\\Administrator\\Desktop\\middle_school_data\\ppg_data\\568530e1-56cc-baea-3128-1b4ee0cc633c.json\n",
      "Recording time for subj: 568530e1-56cc-baea-3128-1b4ee0cc633c is: 15.066666666666666\n",
      "middle file path: C:\\Users\\Administrator\\Desktop\\middle_school_data\\ppg_data\\2f8a7e09-3897-4161-d964-13f9736e20aa.json\n",
      "Recording time for subj: 2f8a7e09-3897-4161-d964-13f9736e20aa is: 15.016666666666667\n",
      "middle file path: C:\\Users\\Administrator\\Desktop\\middle_school_data\\ppg_data\\cbfefb3c-08c5-6dc1-6d64-d68b849f9ed1.json\n",
      "Recording time for subj: cbfefb3c-08c5-6dc1-6d64-d68b849f9ed1 is: 15.05\n",
      "middle file path: C:\\Users\\Administrator\\Desktop\\middle_school_data\\ppg_data\\29a8784b-8752-4de0-579c-034c95044509.json\n",
      "Recording time for subj: 29a8784b-8752-4de0-579c-034c95044509 is: 15.0\n",
      "middle file path: C:\\Users\\Administrator\\Desktop\\middle_school_data\\ppg_data\\0fda5bba-66bf-2899-6d3a-a19afc950122.json\n",
      "Recording time for subj: 0fda5bba-66bf-2899-6d3a-a19afc950122 is: 15.05\n",
      "middle file path: C:\\Users\\Administrator\\Desktop\\middle_school_data\\ppg_data\\ac3eb6b4-483d-2613-f211-8b5b6152e6d0.json\n",
      "Recording time for subj: ac3eb6b4-483d-2613-f211-8b5b6152e6d0 is: 15.016666666666667\n",
      "middle file path: C:\\Users\\Administrator\\Desktop\\middle_school_data\\ppg_data\\513195bb-f9b4-1d3d-6829-4cdf70008d23.json\n",
      "Recording time for subj: 513195bb-f9b4-1d3d-6829-4cdf70008d23 is: 15.066666666666666\n",
      "middle file path: C:\\Users\\Administrator\\Desktop\\middle_school_data\\ppg_data\\ab93c7e5-3657-f9f6-155f-18bffc38a995.json\n",
      "Recording time for subj: ab93c7e5-3657-f9f6-155f-18bffc38a995 is: 14.983333333333333\n"
     ]
    }
   ],
   "source": [
    "train_neg_dataset = generate_dataset(train_neg_subjects, label=0, data_aug_times=1)\n",
    "train_pos_dataset = generate_dataset(train_pos_subjects, label=1, data_aug_times=6)"
   ]
  },
  {
   "cell_type": "code",
   "execution_count": 13,
   "metadata": {},
   "outputs": [
    {
     "name": "stdout",
     "output_type": "stream",
     "text": [
      "middle file path: C:\\Users\\Administrator\\Desktop\\middle_school_data\\ppg_data\\59d9f43d-b1cb-5c9e-82b2-e6f649c67f20.json\n",
      "Recording time for subj: 59d9f43d-b1cb-5c9e-82b2-e6f649c67f20 is: 15.033333333333333\n",
      "middle file path: C:\\Users\\Administrator\\Desktop\\middle_school_data\\ppg_data\\bf102cd1-feed-4807-9ce7-d8bbfe9d0afd.json\n",
      "Recording time for subj: bf102cd1-feed-4807-9ce7-d8bbfe9d0afd is: 15.05\n",
      "middle file path: C:\\Users\\Administrator\\Desktop\\middle_school_data\\ppg_data\\dc7e8552-e3c4-4695-379c-10e144338a4b.json\n",
      "Recording time for subj: dc7e8552-e3c4-4695-379c-10e144338a4b is: 15.1\n",
      "middle file path: C:\\Users\\Administrator\\Desktop\\middle_school_data\\ppg_data\\5eae2457-6636-54b5-7789-0bfcf4f0db53.json\n",
      "Small time for subj: 5eae2457-6636-54b5-7789-0bfcf4f0db53 is: 0.6\n",
      "middle file path: C:\\Users\\Administrator\\Desktop\\middle_school_data\\ppg_data\\2a4bd1c8-888b-915b-d645-1ae939a492c5.json\n",
      "Recording time for subj: 2a4bd1c8-888b-915b-d645-1ae939a492c5 is: 15.0\n",
      "middle file path: C:\\Users\\Administrator\\Desktop\\middle_school_data\\ppg_data\\be2be15e-16cd-a936-975e-5724d35df0d9.json\n",
      "Recording time for subj: be2be15e-16cd-a936-975e-5724d35df0d9 is: 15.066666666666666\n",
      "middle file path: C:\\Users\\Administrator\\Desktop\\middle_school_data\\ppg_data\\b93b3974-780d-3e7a-fa30-90f642df571d.json\n",
      "Recording time for subj: b93b3974-780d-3e7a-fa30-90f642df571d is: 15.016666666666667\n",
      "middle file path: C:\\Users\\Administrator\\Desktop\\middle_school_data\\ppg_data\\3d874d9e-9a8e-9253-ec03-75e6fe138996.json\n",
      "Recording time for subj: 3d874d9e-9a8e-9253-ec03-75e6fe138996 is: 15.0\n",
      "middle file path: C:\\Users\\Administrator\\Desktop\\middle_school_data\\ppg_data\\41bdce27-e22c-0695-bd6d-201562589a47.json\n",
      "Recording time for subj: 41bdce27-e22c-0695-bd6d-201562589a47 is: 15.033333333333333\n",
      "middle file path: C:\\Users\\Administrator\\Desktop\\middle_school_data\\ppg_data\\b1258f68-6daa-4474-ee4d-2992522fe41e.json\n",
      "Recording time for subj: b1258f68-6daa-4474-ee4d-2992522fe41e is: 15.016666666666667\n",
      "middle file path: C:\\Users\\Administrator\\Desktop\\middle_school_data\\ppg_data\\aa491176-3c35-e430-81c3-bf365804068b.json\n",
      "Recording time for subj: aa491176-3c35-e430-81c3-bf365804068b is: 15.083333333333334\n",
      "middle file path: C:\\Users\\Administrator\\Desktop\\middle_school_data\\ppg_data\\eadb5607-8809-4eda-b570-20ce6422fe19.json\n",
      "Recording time for subj: eadb5607-8809-4eda-b570-20ce6422fe19 is: 15.016666666666667\n",
      "middle file path: C:\\Users\\Administrator\\Desktop\\middle_school_data\\ppg_data\\a868764d-033a-1036-f905-e029dd4d7ff1.json\n",
      "Recording time for subj: a868764d-033a-1036-f905-e029dd4d7ff1 is: 15.05\n",
      "middle file path: C:\\Users\\Administrator\\Desktop\\middle_school_data\\ppg_data\\0ba4d45e-1f39-aaa1-b2ce-0fefcd5c56ea.json\n",
      "Small time for subj: 0ba4d45e-1f39-aaa1-b2ce-0fefcd5c56ea is: 0.6333333333333333\n",
      "middle file path: C:\\Users\\Administrator\\Desktop\\middle_school_data\\ppg_data\\b2f8ac06-cf37-b601-f6f3-65f46b5ce500.json\n",
      "Recording time for subj: b2f8ac06-cf37-b601-f6f3-65f46b5ce500 is: 15.083333333333334\n",
      "middle file path: C:\\Users\\Administrator\\Desktop\\middle_school_data\\ppg_data\\1902fe28-88cc-14d1-e5e4-649a5205ae21.json\n",
      "Recording time for subj: 1902fe28-88cc-14d1-e5e4-649a5205ae21 is: 15.083333333333334\n"
     ]
    }
   ],
   "source": [
    "test_pos_dataset = generate_dataset(test_pos_subjects, label=1, data_aug_times=1)\n",
    "test_neg_dataset = generate_dataset(test_neg_subjects, label=0, data_aug_times=1)"
   ]
  },
  {
   "cell_type": "code",
   "execution_count": 14,
   "metadata": {},
   "outputs": [],
   "source": [
    "def selecting_specific_time(dataset, time = 5):\n",
    "    final_dataset = pd.DataFrame()\n",
    "    subject_names =  (dataset['id'].unique()).tolist()\n",
    "    for sub_name in subject_names:\n",
    "        sub_data = dataset[dataset['id'] ==  sub_name].sample(time, ignore_index = True)\n",
    "        final_dataset = pd.concat([final_dataset, sub_data], ignore_index = True)\n",
    "    return final_dataset"
   ]
  },
  {
   "cell_type": "code",
   "execution_count": 15,
   "metadata": {},
   "outputs": [],
   "source": [
    "# test_neg_dataset = selecting_specific_time(test_neg_dataset)\n",
    "# test_pos_dataset = selecting_specific_time(test_pos_dataset)"
   ]
  },
  {
   "cell_type": "code",
   "execution_count": 16,
   "metadata": {},
   "outputs": [
    {
     "name": "stdout",
     "output_type": "stream",
     "text": [
      "train pos sample shape: (424, 40)\n",
      "train neg sample shape: (555, 40)\n",
      "test pos sample shape: (105, 40)\n",
      "test neg sample shape: (105, 40)\n"
     ]
    }
   ],
   "source": [
    "print(f\"train pos sample shape: {train_pos_dataset.shape}\")\n",
    "print(f\"train neg sample shape: {train_neg_dataset.shape}\")\n",
    "\n",
    "print(f\"test pos sample shape: {test_neg_dataset.shape}\")\n",
    "print(f\"test neg sample shape: {test_pos_dataset.shape}\")"
   ]
  },
  {
   "cell_type": "code",
   "execution_count": 17,
   "metadata": {},
   "outputs": [],
   "source": [
    "columns_drop = []\n",
    "for col in train_pos_dataset.columns[:-4]:\n",
    "    nan_count = (train_pos_dataset[col] == 0).sum() \n",
    "    if nan_count > (len(train_pos_dataset) // 4): \n",
    "        columns_drop.append(col)\n",
    "\n",
    "train_pos_dataset_final = train_pos_dataset.drop(columns=columns_drop, inplace=False)\n",
    "train_neg_dataset_final = train_neg_dataset.drop(columns=columns_drop, inplace=False)\n",
    "\n",
    "test_pos_dataset_final = test_pos_dataset.drop(columns=columns_drop, inplace=False)\n",
    "test_neg_dataset_final = test_neg_dataset.drop(columns=columns_drop, inplace=False)"
   ]
  },
  {
   "cell_type": "code",
   "execution_count": 18,
   "metadata": {},
   "outputs": [
    {
     "name": "stdout",
     "output_type": "stream",
     "text": [
      "After remove the invalid columns, train pos shape: (424, 32)\n",
      "After remove the invalid columns, train neg shape: (555, 32)\n",
      "After remove the invalid columns, test pos shape: (105, 32)\n",
      "After remove the invalid columns, test neg shape: (105, 32)\n"
     ]
    }
   ],
   "source": [
    "print(f\"After remove the invalid columns, train pos shape: {train_pos_dataset_final.shape}\")\n",
    "print(f\"After remove the invalid columns, train neg shape: {train_neg_dataset_final.shape}\")\n",
    "\n",
    "print(f\"After remove the invalid columns, test pos shape: {test_pos_dataset_final.shape}\")\n",
    "print(f\"After remove the invalid columns, test neg shape: {test_neg_dataset_final.shape}\")"
   ]
  },
  {
   "cell_type": "markdown",
   "metadata": {},
   "source": [
    "#### Do The Normalization for the Train Dataset and Test Dataset"
   ]
  },
  {
   "cell_type": "code",
   "execution_count": 19,
   "metadata": {},
   "outputs": [],
   "source": [
    "profile_columns = ['wave_quality', 'age', 'gender', 'label', 'id']"
   ]
  },
  {
   "cell_type": "code",
   "execution_count": 20,
   "metadata": {},
   "outputs": [],
   "source": [
    "# 合并训练集\n",
    "train_combined = pd.concat([train_pos_dataset_final, train_neg_dataset_final])\n",
    "\n",
    "# 需要归一化的列\n",
    "columns_to_normalize = train_combined.columns.difference(profile_columns)\n",
    "\n",
    "# 计算最大值和最小值\n",
    "min_values = train_combined[columns_to_normalize].min()\n",
    "max_values = train_combined[columns_to_normalize].max()\n",
    "\n",
    "# 保存最大值和最小值到CSV\n",
    "current_date = datetime.datetime.now().strftime(\"%Y-%m-%d\")\n",
    "outdir = os.path.join(os.getcwd(), 'outdir')\n",
    "os.makedirs(outdir, exist_ok=True)\n",
    "min_max_df = pd.DataFrame({'min': min_values, 'max': max_values})\n",
    "min_max_df.to_csv(f'{outdir}/ppg_isnomnia_norm_minmax_values_{current_date}.csv', index=True)\n",
    "\n",
    "\n",
    "# 定义min-max归一化函数\n",
    "def normalize(df, min_values, max_values):\n",
    "    return (df - min_values) / (max_values - min_values)\n",
    "\n",
    "# 对训练集进行归一化\n",
    "train_pos_dataset_final[columns_to_normalize] = normalize(train_pos_dataset_final[columns_to_normalize], min_values, max_values)\n",
    "train_neg_dataset_final[columns_to_normalize] = normalize(train_neg_dataset_final[columns_to_normalize], min_values, max_values)\n",
    "\n",
    "# 从CSV文件中读取最小值和最大值\n",
    "min_max_df = pd.read_csv(f'{outdir}/ppg_isnomnia_norm_minmax_values_{current_date}.csv', index_col=0)\n",
    "min_values = min_max_df['min']\n",
    "max_values = min_max_df['max']\n",
    "\n",
    "# 对测试集进行归一化\n",
    "test_pos_dataset_final[columns_to_normalize] = normalize(test_pos_dataset_final[columns_to_normalize], min_values, max_values)\n",
    "test_neg_dataset_final[columns_to_normalize] = normalize(test_neg_dataset_final[columns_to_normalize], min_values, max_values)\n"
   ]
  },
  {
   "cell_type": "markdown",
   "metadata": {},
   "source": [
    "#### Save As Pkl File"
   ]
  },
  {
   "cell_type": "code",
   "execution_count": 21,
   "metadata": {},
   "outputs": [],
   "source": [
    "import pandas as pd\n",
    "import seaborn as sns\n",
    "import matplotlib.pyplot as plt"
   ]
  },
  {
   "cell_type": "code",
   "execution_count": 22,
   "metadata": {},
   "outputs": [
    {
     "data": {
      "image/png": "[encoded data removed]",
      "text/plain": [
       "<Figure size 640x480 with 1 Axes>"
      ]
     },
     "metadata": {},
     "output_type": "display_data"
    },
    {
     "data": {
      "image/png": "[encoded data removed]",
      "text/plain": [
       "<Figure size 640x480 with 1 Axes>"
      ]
     },
     "metadata": {},
     "output_type": "display_data"
    },
    {
     "data": {
      "text/plain": [
       "<Axes: xlabel='wave_quality', ylabel='Count'>"
      ]
     },
     "execution_count": 22,
     "metadata": {},
     "output_type": "execute_result"
    },
    {
     "data": {
      "image/png": "[encoded data removed]",
      "text/plain": [
       "<Figure size 640x480 with 1 Axes>"
      ]
     },
     "metadata": {},
     "output_type": "display_data"
    }
   ],
   "source": [
    "from matplotlib import figure\n",
    "\n",
    "plt.subplot(3, 1, 1)  # 1行2列，第1个子图\n",
    "sns.histplot(train_pos_dataset['wave_quality'], kde=True, bins=10)\n",
    "plt.show()\n",
    "\n",
    "plt.subplot(3, 1, 2)  # 1行2列，第1个子图\n",
    "sns.histplot(train_neg_dataset['wave_quality'], kde=True, bins=10)\n",
    "plt.show()\n",
    "\n",
    "plt.subplot(3, 1, 3)  # 1行2列，第1个子图\n",
    "sns.histplot(train_combined['wave_quality'], kde=True, bins=10)"
   ]
  },
  {
   "cell_type": "code",
   "execution_count": 23,
   "metadata": {},
   "outputs": [],
   "source": [
    "wave_quality_threshold = 0.90"
   ]
  },
  {
   "cell_type": "code",
   "execution_count": 24,
   "metadata": {},
   "outputs": [
    {
     "name": "stdout",
     "output_type": "stream",
     "text": [
      "train pos sample shape: (424, 40)\n",
      "train neg sample shape: (555, 40)\n",
      "test pos sample shape: (105, 40)\n",
      "test neg sample shape: (105, 40)\n"
     ]
    }
   ],
   "source": [
    "print(f\"train pos sample shape: {train_pos_dataset.shape}\")\n",
    "print(f\"train neg sample shape: {train_neg_dataset.shape}\")\n",
    "\n",
    "print(f\"test pos sample shape: {test_neg_dataset.shape}\")\n",
    "print(f\"test neg sample shape: {test_pos_dataset.shape}\")"
   ]
  },
  {
   "cell_type": "code",
   "execution_count": 25,
   "metadata": {},
   "outputs": [
    {
     "name": "stdout",
     "output_type": "stream",
     "text": [
      "After quality filter, train positive sample count: 121\n",
      "After quality filter, train negative sample count: 203\n"
     ]
    }
   ],
   "source": [
    "train_pos_dataset_final_filter = train_pos_dataset_final[train_pos_dataset_final['wave_quality'] >= wave_quality_threshold]\n",
    "train_neg_dataset_final_filter = train_neg_dataset_final[train_neg_dataset_final['wave_quality'] >= wave_quality_threshold]\n",
    "\n",
    "print(f\"After quality filter, train positive sample count: {train_pos_dataset_final_filter.shape[0]}\")\n",
    "print(f\"After quality filter, train negative sample count: {train_neg_dataset_final_filter.shape[0]}\")\n"
   ]
  },
  {
   "cell_type": "code",
   "execution_count": 26,
   "metadata": {},
   "outputs": [],
   "source": [
    "sample_folder = os.path.join(os.getcwd(), 'samples')\n",
    "os.makedirs(sample_folder, exist_ok=True)\n",
    "\n",
    "\n",
    "# 定义要保存的文件路径\n",
    "train_pos_path = os.path.join(sample_folder, 'train_pos_dataset.pkl')\n",
    "train_neg_path = os.path.join(sample_folder, 'train_neg_dataset.pkl')\n",
    "test_pos_path = os.path.join(sample_folder, 'test_pos_dataset.pkl')\n",
    "test_neg_path = os.path.join(sample_folder, 'test_neg_dataset.pkl')\n",
    "\n",
    "# 保存 DataFrame 为 .pkl 文件\n",
    "train_pos_dataset_final[train_pos_dataset_final['wave_quality'] >= wave_quality_threshold].to_pickle(train_pos_path)\n",
    "train_neg_dataset_final[train_neg_dataset_final['wave_quality'] >= wave_quality_threshold].to_pickle(train_neg_path)\n",
    "test_pos_dataset_final.to_pickle(test_pos_path)\n",
    "test_neg_dataset_final.to_pickle(test_neg_path)"
   ]
  },
  {
   "cell_type": "code",
   "execution_count": 27,
   "metadata": {},
   "outputs": [
    {
     "name": "stdout",
     "output_type": "stream",
     "text": [
      "Index(['HRV_MeanNN', 'HRV_SDNN', 'HRV_RMSSD', 'HRV_SDSD', 'HRV_CVNN',\n",
      "       'HRV_CVSD', 'HRV_MedianNN', 'HRV_MadNN', 'HRV_MCVNN', 'HRV_IQRNN',\n",
      "       'HRV_SDRMSSD', 'HRV_Prc20NN', 'HRV_Prc80NN', 'HRV_pNN50', 'HRV_pNN20',\n",
      "       'HRV_MinNN', 'HRV_MaxNN', 'HRV_HTI', 'HRV_TINN', 'HRV_LF', 'HRV_HF',\n",
      "       'HRV_VHF', 'HRV_TP', 'HRV_LFHF', 'HRV_LFn', 'HRV_HFn', 'HRV_LnHF',\n",
      "       'wave_quality', 'label', 'id', 'age', 'gender'],\n",
      "      dtype='object')\n"
     ]
    }
   ],
   "source": [
    "print(train_pos_dataset_final.columns)"
   ]
  }
 ],
 "metadata": {
  "kernelspec": {
   "display_name": "Python 3",
   "language": "python",
   "name": "python3"
  },
  "language_info": {
   "codemirror_mode": {
    "name": "ipython",
    "version": 3
   },
   "file_extension": ".py",
   "mimetype": "text/x-python",
   "name": "python",
   "nbconvert_exporter": "python",
   "pygments_lexer": "ipython3",
   "version": "3.12.2"
  }
 },
 "nbformat": 4,
 "nbformat_minor": 2
}
