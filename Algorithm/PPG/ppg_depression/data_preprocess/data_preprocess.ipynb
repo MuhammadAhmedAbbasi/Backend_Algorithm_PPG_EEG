{
 "cells": [
  {
   "cell_type": "code",
   "execution_count": 73,
   "metadata": {},
   "outputs": [],
   "source": [
    "import datetime\n",
    "import json\n",
    "import os\n",
    "import random\n",
    "import sys\n",
    "import warnings\n",
    "import pandas as pd\n",
    "\n",
    "sys.path.append(os.path.join(os.getcwd(), '../../common'))\n",
    "from ppg_feature_processor import generate_train_feature\n",
    "\n",
    "# Suppress specific warnings\n",
    "warnings.filterwarnings(\"ignore\", category=DeprecationWarning, message=\".*Conversion of an array with ndim > 0 to a scalar is deprecated.*\")"
   ]
  },
  {
   "cell_type": "code",
   "execution_count": 49,
   "metadata": {},
   "outputs": [],
   "source": [
    "## 1)Read the university subjects and find the positive and negative subjects."
   ]
  },
  {
   "cell_type": "code",
   "execution_count": 50,
   "metadata": {},
   "outputs": [],
   "source": [
    "# 读取 Excel 文件\n",
    "middleSchool_userProfile_file = r'./outdir/MiddleSchool_Depression_Anxiety.xlsx'\n",
    "university_userProfile_file = '../../../Data/healthy_scale_results.xlsx'  # 将此替换为您的 Excel 文件路径\n",
    "hospital_userProfile_file = '../../../Data/unhealthy_clinic_results.xlsx'"
   ]
  },
  {
   "cell_type": "code",
   "execution_count": 51,
   "metadata": {},
   "outputs": [
    {
     "name": "stdout",
     "output_type": "stream",
     "text": [
      "Index(['床号', '性别', '年龄', '入院时间', '入院诊断', '病情备注', '抑郁', '焦虑', '双向情感障碍', '睡眠障碍'], dtype='object')\n",
      "               床号 性别  年龄  抑郁\n",
      "0   20240619_2A02  女  25   1\n",
      "11  20240619_2A22  男  38   1\n",
      "13  20240619_2A27  女  39   1\n",
      "17  20240619_2A50  女  13   1\n",
      "18  20240626_2A13  女  37   1\n",
      "20  20240626_2A50  男  36   1\n",
      "28  20240710_2A05  女  36   1\n",
      "30  20240710_2A09  女  37   1\n",
      "33  20240710_2A16  女  33   1\n",
      "34  20240710_2A23  女  38   1\n",
      "37  20240710_2A31  女  40   1\n",
      "45  20240717_2A12  女  15   1\n",
      "49  20240717_2A21  女  14   1\n",
      "51  20240717_2A51  女  16   1\n",
      "\n",
      "Hospital Positive Depression subjects:  ['20240619_2A02', '20240619_2A22', '20240619_2A27', '20240619_2A50', '20240626_2A13', '20240626_2A50', '20240710_2A05', '20240710_2A09', '20240710_2A16', '20240710_2A23', '20240710_2A31', '20240717_2A12', '20240717_2A21', '20240717_2A51']\n"
     ]
    }
   ],
   "source": [
    "### READ THE HOSPITAL SUBJECTS\n",
    "df_hospital = pd.read_excel(hospital_userProfile_file)\n",
    "print(df_hospital.columns)\n",
    "\n",
    "hospital_positive_subjects_df = df_hospital[(df_hospital['抑郁'] == 1) & (df_hospital['年龄'] <= 40)][['床号', '性别', '年龄', '抑郁']]\n",
    "print(hospital_positive_subjects_df)\n",
    "\n",
    "\n",
    "hospital_positive_subjects = hospital_positive_subjects_df['床号'].tolist()\n",
    "print(\"\\nHospital Positive Depression subjects: \", hospital_positive_subjects)"
   ]
  },
  {
   "cell_type": "code",
   "execution_count": 52,
   "metadata": {},
   "outputs": [
    {
     "name": "stdout",
     "output_type": "stream",
     "text": [
      "University Positive Depression subjects:  ['A04', 'A07', 'A09', 'A11', 'A15', 'A21', 'A25', 'A27', 'A29', 'A32', 'A33', 'A39', 'A48', 'A52']\n",
      "University Negative Depression subjects:  ['A01', 'A02', 'A03', 'A05', 'A06', 'A08', 'A10', 'A12', 'A13', 'A14', 'A16', 'A17', 'A18', 'A19', 'A20', 'A22', 'A23', 'A24', 'A26', 'A28', 'A30', 'A34', 'A35', 'A36', 'A37', 'A38', 'A40', 'A41', 'A42', 'A43', 'A44', 'A45', 'A46', 'A47', 'A49', 'A50', 'A51', 'A53', 'A54', 'A55']\n"
     ]
    }
   ],
   "source": [
    "### READ THE UNIVERSITY SUBJECTS\n",
    "df_university = pd.read_excel(university_userProfile_file, sheet_name='SDS')\n",
    "\n",
    "valid_cols = df_university.columns.values[3::]\n",
    "\n",
    "df_university['score'] = df_university[valid_cols].sum(axis=1) / 80 * 100\n",
    "\n",
    "university_positive_subjects_SDS = df_university[df_university['score'] >= 60]['ID'].tolist()\n",
    "print(\"University Positive Depression subjects: \", university_positive_subjects_SDS)\n",
    "\n",
    "university_negative_subjects_SDS = df_university[df_university['score'] < 60]['ID'].tolist()\n",
    "print(\"University Negative Depression subjects: \", university_negative_subjects_SDS)"
   ]
  },
  {
   "cell_type": "code",
   "execution_count": 53,
   "metadata": {},
   "outputs": [
    {
     "name": "stdout",
     "output_type": "stream",
     "text": [
      "Midlle schold available subject count: (290, 108)\n",
      "middle anxiety positive subjects count: 62\n",
      "middle anxiety negative subjects count: 228\n"
     ]
    }
   ],
   "source": [
    "### READ THE MIDDLESCHOOL SUBJECTS\n",
    "df_middle = pd.read_excel(middleSchool_userProfile_file)\n",
    "df_middle = df_middle[df_middle['depression_label'] != -1]\n",
    "print(f\"Midlle schold available subject count: {df_middle.shape}\")\n",
    "\n",
    "\n",
    "middle_pos_subjects = df_middle[df_middle['depression_label']==1]['user_id'].values.tolist()\n",
    "middle_neg_subjects = df_middle[df_middle['depression_label']==0]['user_id'].values.tolist()\n",
    "\n",
    "print(f\"middle anxiety positive subjects count: {len(middle_pos_subjects)}\")\n",
    "print(f\"middle anxiety negative subjects count: {len(middle_neg_subjects)}\")"
   ]
  },
  {
   "cell_type": "code",
   "execution_count": 54,
   "metadata": {},
   "outputs": [],
   "source": [
    "profile_dict = dict()\n",
    "\n",
    "for _, row in df_hospital.iterrows():\n",
    "    userId = row['床号']\n",
    "    gender = 'Male' if row['性别'] == '男' else 'Female'\n",
    "    age = row['年龄']\n",
    "    profile_dict[userId] = (gender, age)\n",
    "\n",
    "for _, row in df_university.iterrows():\n",
    "    userId = row['ID']\n",
    "    gender = 'Male' if row['Sex'] == '男' else 'Female'\n",
    "    age = row['Age (years)']\n",
    "    profile_dict[userId] = (gender, age)\n",
    "\n",
    "for _, row in df_middle.iterrows():\n",
    "    userId = row['user_id']\n",
    "    gender = row['gender']\n",
    "    age = 13\n",
    "    profile_dict[userId] = (gender, age)\n",
    "\n",
    "# for key, val in profile_dict.items():\n",
    "#     print(f\"userId: {key}, value: {val}\")\n"
   ]
  },
  {
   "cell_type": "code",
   "execution_count": 55,
   "metadata": {},
   "outputs": [
    {
     "name": "stdout",
     "output_type": "stream",
     "text": [
      "train postive subjects: 75\n",
      "train negative subjects: 253\n",
      "test postive subjects: 15\n",
      "test negative subjects: 15\n"
     ]
    }
   ],
   "source": [
    "random.shuffle(middle_pos_subjects)\n",
    "random.shuffle(middle_neg_subjects)\n",
    "\n",
    "test_subject_count = 15\n",
    "\n",
    "test_pos_subjects = middle_pos_subjects[0:test_subject_count]\n",
    "test_neg_subjects = middle_neg_subjects[0:test_subject_count]\n",
    "\n",
    "train_pos_subjects = middle_pos_subjects[test_subject_count::] + university_positive_subjects_SDS + hospital_positive_subjects\n",
    "train_neg_subjects = middle_neg_subjects[test_subject_count::] + university_negative_subjects_SDS\n",
    "\n",
    "print(f\"train postive subjects: {len(train_pos_subjects)}\")\n",
    "print(f\"train negative subjects: {len(train_neg_subjects)}\")\n",
    "\n",
    "print(f\"test postive subjects: {len(test_pos_subjects)}\")\n",
    "print(f\"test negative subjects: {len(test_neg_subjects)}\")\n"
   ]
  },
  {
   "cell_type": "code",
   "execution_count": 56,
   "metadata": {},
   "outputs": [],
   "source": [
    "def load_wave_university_or_hospital(path):\n",
    "    with open(path, 'r', encoding='utf-8') as file:  \n",
    "            data = json.load(file)\n",
    "            list_data = data['MesureData']['Datas']\n",
    "            final = [i for i in list_data]\n",
    "            return final\n",
    "\n",
    "def load_wave_middleSchool(path):\n",
    "    try:\n",
    "        with open(path, 'r', encoding='utf-8') as file:  \n",
    "            data = json.load(file)\n",
    "            list_data = data['RawResults'][0]['rawDatas']\n",
    "            final = [i/100000 for i in list_data]\n",
    "        return final\n",
    "    except (KeyError, IndexError, TypeError):\n",
    "        with open(path, 'r', encoding='utf-8') as file:\n",
    "            data = json.load(file)\n",
    "        return data[\"datas\"]\n"
   ]
  },
  {
   "cell_type": "code",
   "execution_count": 57,
   "metadata": {},
   "outputs": [],
   "source": [
    "sample_freq = 125\n",
    "sample_window_minute = 0.5\n",
    "\n",
    "university_file_dir = r'C:\\Users\\Administrator\\Desktop\\PPG_dataset\\PPG_Dataset_ALL\\healthy'\n",
    "middle_file_dir = r'C:\\Users\\Administrator\\Desktop\\PPG_dataset\\PPG_Dataset_ALL\\middle_school\\ppg_data'\n",
    "hospital_file_dir = r'C:\\Users\\Administrator\\Desktop\\PPG_dataset\\PPG_Dataset_ALL\\unhealthy'"
   ]
  },
  {
   "cell_type": "code",
   "execution_count": 58,
   "metadata": {},
   "outputs": [
    {
     "name": "stdout",
     "output_type": "stream",
     "text": [
      "middle file path: C:\\Users\\Administrator\\Desktop\\PPG_dataset\\PPG_Dataset_ALL\\middle_school\\ppg_data\\35676858906437917172776202816157612798.json\n",
      "middle file path: C:\\Users\\Administrator\\Desktop\\PPG_dataset\\PPG_Dataset_ALL\\middle_school\\ppg_data\\53925216174340312919435862714894548735.json\n",
      "middle file path: C:\\Users\\Administrator\\Desktop\\PPG_dataset\\PPG_Dataset_ALL\\middle_school\\ppg_data\\48398204386767901130074413010766121894.json\n",
      "middle file path: C:\\Users\\Administrator\\Desktop\\PPG_dataset\\PPG_Dataset_ALL\\middle_school\\ppg_data\\135896756116938088009570582069601649255.json\n",
      "middle file path: C:\\Users\\Administrator\\Desktop\\PPG_dataset\\PPG_Dataset_ALL\\middle_school\\ppg_data\\314034045907054885400165735931939789247.json\n",
      "middle file path: C:\\Users\\Administrator\\Desktop\\PPG_dataset\\PPG_Dataset_ALL\\middle_school\\ppg_data\\28378669234658138342196963709044529563.json\n",
      "middle file path: C:\\Users\\Administrator\\Desktop\\PPG_dataset\\PPG_Dataset_ALL\\middle_school\\ppg_data\\82021857307461782491499562936350476465.json\n",
      "middle file path: C:\\Users\\Administrator\\Desktop\\PPG_dataset\\PPG_Dataset_ALL\\middle_school\\ppg_data\\257802955432590709965098427408431253033.json\n",
      "middle file path: C:\\Users\\Administrator\\Desktop\\PPG_dataset\\PPG_Dataset_ALL\\middle_school\\ppg_data\\322935917736529070732062674677811796298.json\n",
      "middle file path: C:\\Users\\Administrator\\Desktop\\PPG_dataset\\PPG_Dataset_ALL\\middle_school\\ppg_data\\155974903198249598985226345893460192954.json\n",
      "middle file path: C:\\Users\\Administrator\\Desktop\\PPG_dataset\\PPG_Dataset_ALL\\middle_school\\ppg_data\\149145192076583502850914813099012728925.json\n",
      "middle file path: C:\\Users\\Administrator\\Desktop\\PPG_dataset\\PPG_Dataset_ALL\\middle_school\\ppg_data\\181111116088821967589334728562514270873.json\n",
      "middle file path: C:\\Users\\Administrator\\Desktop\\PPG_dataset\\PPG_Dataset_ALL\\middle_school\\ppg_data\\113944072194837765400816116086180275264.json\n",
      "middle file path: C:\\Users\\Administrator\\Desktop\\PPG_dataset\\PPG_Dataset_ALL\\middle_school\\ppg_data\\93662820189211795719680984402174453884.json\n",
      "middle file path: C:\\Users\\Administrator\\Desktop\\PPG_dataset\\PPG_Dataset_ALL\\middle_school\\ppg_data\\187023724126246790072625181276623429008.json\n",
      "middle file path: C:\\Users\\Administrator\\Desktop\\PPG_dataset\\PPG_Dataset_ALL\\middle_school\\ppg_data\\16612114337599212982788828505052133231.json\n",
      "middle file path: C:\\Users\\Administrator\\Desktop\\PPG_dataset\\PPG_Dataset_ALL\\middle_school\\ppg_data\\197088123523591615966835633753218437798.json\n",
      "middle file path: C:\\Users\\Administrator\\Desktop\\PPG_dataset\\PPG_Dataset_ALL\\middle_school\\ppg_data\\264462959477221103534577834338092764164.json\n",
      "middle file path: C:\\Users\\Administrator\\Desktop\\PPG_dataset\\PPG_Dataset_ALL\\middle_school\\ppg_data\\173400151493807235580797667394969025704.json\n",
      "middle file path: C:\\Users\\Administrator\\Desktop\\PPG_dataset\\PPG_Dataset_ALL\\middle_school\\ppg_data\\141096633147123293564305683757951918737.json\n",
      "middle file path: C:\\Users\\Administrator\\Desktop\\PPG_dataset\\PPG_Dataset_ALL\\middle_school\\ppg_data\\111029221338992223315989889972047868487.json\n",
      "middle file path: C:\\Users\\Administrator\\Desktop\\PPG_dataset\\PPG_Dataset_ALL\\middle_school\\ppg_data\\166982303707982007051928380408208812756.json\n",
      "middle file path: C:\\Users\\Administrator\\Desktop\\PPG_dataset\\PPG_Dataset_ALL\\middle_school\\ppg_data\\82498448730405369670702745834853438447.json\n",
      "middle file path: C:\\Users\\Administrator\\Desktop\\PPG_dataset\\PPG_Dataset_ALL\\middle_school\\ppg_data\\310993511258890921358701613858346279508.json\n",
      "middle file path: C:\\Users\\Administrator\\Desktop\\PPG_dataset\\PPG_Dataset_ALL\\middle_school\\ppg_data\\22701874826053748305968388566824125615.json\n",
      "middle file path: C:\\Users\\Administrator\\Desktop\\PPG_dataset\\PPG_Dataset_ALL\\middle_school\\ppg_data\\116653212415901981538518364005483413701.json\n",
      "middle file path: C:\\Users\\Administrator\\Desktop\\PPG_dataset\\PPG_Dataset_ALL\\middle_school\\ppg_data\\11161087957123078188422325860062954608.json\n",
      "middle file path: C:\\Users\\Administrator\\Desktop\\PPG_dataset\\PPG_Dataset_ALL\\middle_school\\ppg_data\\248745867043481860061400522592757429141.json\n",
      "middle file path: C:\\Users\\Administrator\\Desktop\\PPG_dataset\\PPG_Dataset_ALL\\middle_school\\ppg_data\\306190386540638049114031574559895939729.json\n",
      "middle file path: C:\\Users\\Administrator\\Desktop\\PPG_dataset\\PPG_Dataset_ALL\\middle_school\\ppg_data\\151752082913064155331664666692946928764.json\n",
      "middle file path: C:\\Users\\Administrator\\Desktop\\PPG_dataset\\PPG_Dataset_ALL\\middle_school\\ppg_data\\146292572288412702373476649337684468795.json\n",
      "middle file path: C:\\Users\\Administrator\\Desktop\\PPG_dataset\\PPG_Dataset_ALL\\middle_school\\ppg_data\\223966184619010141064281599959431460852.json\n",
      "middle file path: C:\\Users\\Administrator\\Desktop\\PPG_dataset\\PPG_Dataset_ALL\\middle_school\\ppg_data\\121548899930842848751312663779363262996.json\n",
      "middle file path: C:\\Users\\Administrator\\Desktop\\PPG_dataset\\PPG_Dataset_ALL\\middle_school\\ppg_data\\161050619873058417193063118412956846228.json\n",
      "middle file path: C:\\Users\\Administrator\\Desktop\\PPG_dataset\\PPG_Dataset_ALL\\middle_school\\ppg_data\\234997182067407201948214616328035260248.json\n",
      "middle file path: C:\\Users\\Administrator\\Desktop\\PPG_dataset\\PPG_Dataset_ALL\\middle_school\\ppg_data\\152416903674534510578726275974630000963.json\n",
      "middle file path: C:\\Users\\Administrator\\Desktop\\PPG_dataset\\PPG_Dataset_ALL\\middle_school\\ppg_data\\147134295463639260896669462264244781096.json\n",
      "middle file path: C:\\Users\\Administrator\\Desktop\\PPG_dataset\\PPG_Dataset_ALL\\middle_school\\ppg_data\\255383028215169739599801628334229912338.json\n",
      "middle file path: C:\\Users\\Administrator\\Desktop\\PPG_dataset\\PPG_Dataset_ALL\\middle_school\\ppg_data\\138681313570679646396533197328690174535.json\n",
      "middle file path: C:\\Users\\Administrator\\Desktop\\PPG_dataset\\PPG_Dataset_ALL\\middle_school\\ppg_data\\78395221887903160869825619296363305785.json\n",
      "middle file path: C:\\Users\\Administrator\\Desktop\\PPG_dataset\\PPG_Dataset_ALL\\middle_school\\ppg_data\\184231884339909973526914936683309815104.json\n",
      "middle file path: C:\\Users\\Administrator\\Desktop\\PPG_dataset\\PPG_Dataset_ALL\\middle_school\\ppg_data\\329999035806196665900603236514873441447.json\n",
      "university file path: C:\\Users\\Administrator\\Desktop\\PPG_dataset\\PPG_Dataset_ALL\\healthy\\A04_PPG.json\n",
      "university file path: C:\\Users\\Administrator\\Desktop\\PPG_dataset\\PPG_Dataset_ALL\\healthy\\A07_PPG_01.json\n",
      "university file path: C:\\Users\\Administrator\\Desktop\\PPG_dataset\\PPG_Dataset_ALL\\healthy\\A07_PPG_02.json\n",
      "university file path: C:\\Users\\Administrator\\Desktop\\PPG_dataset\\PPG_Dataset_ALL\\healthy\\A09_PPG.json\n",
      "university file path: C:\\Users\\Administrator\\Desktop\\PPG_dataset\\PPG_Dataset_ALL\\healthy\\A11_PPG_01.json\n",
      "university file path: C:\\Users\\Administrator\\Desktop\\PPG_dataset\\PPG_Dataset_ALL\\healthy\\A21_PPG.json\n",
      "university file path: C:\\Users\\Administrator\\Desktop\\PPG_dataset\\PPG_Dataset_ALL\\healthy\\A25_PPG_ 20240612_171423.json\n",
      "university file path: C:\\Users\\Administrator\\Desktop\\PPG_dataset\\PPG_Dataset_ALL\\healthy\\A27_PPG_ 20240612_174815.json\n",
      "university file path: C:\\Users\\Administrator\\Desktop\\PPG_dataset\\PPG_Dataset_ALL\\healthy\\A29_PPG.json\n",
      "university file path: C:\\Users\\Administrator\\Desktop\\PPG_dataset\\PPG_Dataset_ALL\\healthy\\A32_PPG_ 20240711_110339.json\n",
      "university file path: C:\\Users\\Administrator\\Desktop\\PPG_dataset\\PPG_Dataset_ALL\\healthy\\A32_PPG_ 20240711_110355.json\n",
      "university file path: C:\\Users\\Administrator\\Desktop\\PPG_dataset\\PPG_Dataset_ALL\\healthy\\A33_PPG_ 20240711_120038.json\n",
      "university file path: C:\\Users\\Administrator\\Desktop\\PPG_dataset\\PPG_Dataset_ALL\\healthy\\A33_PPG_ 20240711_120056.json\n",
      "university file path: C:\\Users\\Administrator\\Desktop\\PPG_dataset\\PPG_Dataset_ALL\\healthy\\A39_PPG_ 20240712_120339.json\n",
      "university file path: C:\\Users\\Administrator\\Desktop\\PPG_dataset\\PPG_Dataset_ALL\\healthy\\A39_PPG_ 20240712_120430.json\n",
      "university file path: C:\\Users\\Administrator\\Desktop\\PPG_dataset\\PPG_Dataset_ALL\\healthy\\A48_PPG_ 20240718_142853.json\n",
      "university file path: C:\\Users\\Administrator\\Desktop\\PPG_dataset\\PPG_Dataset_ALL\\healthy\\A52_PPG_ 20240718_173235.json\n",
      "university file path: C:\\Users\\Administrator\\Desktop\\PPG_dataset\\PPG_Dataset_ALL\\healthy\\A52_PPG_ 20240718_173313.json\n",
      "hospital file path: C:\\Users\\Administrator\\Desktop\\PPG_dataset\\PPG_Dataset_ALL\\unhealthy\\20240619_2A02_PPG_ 20240619_094518.json\n",
      "hospital file path: C:\\Users\\Administrator\\Desktop\\PPG_dataset\\PPG_Dataset_ALL\\unhealthy\\20240619_2A02_PPG_ 20240619_100410.json\n",
      "hospital file path: C:\\Users\\Administrator\\Desktop\\PPG_dataset\\PPG_Dataset_ALL\\unhealthy\\20240619_2A22_PPG_ 20240619_154848.json\n",
      "hospital file path: C:\\Users\\Administrator\\Desktop\\PPG_dataset\\PPG_Dataset_ALL\\unhealthy\\20240619_2A27_PPG_ 20240619_132357.json\n",
      "hospital file path: C:\\Users\\Administrator\\Desktop\\PPG_dataset\\PPG_Dataset_ALL\\unhealthy\\20240619_2A27_PPG_ 20240619_133009.json\n",
      "hospital file path: C:\\Users\\Administrator\\Desktop\\PPG_dataset\\PPG_Dataset_ALL\\unhealthy\\20240619_2A27_PPG_ 20240619_134957.json\n",
      "hospital file path: C:\\Users\\Administrator\\Desktop\\PPG_dataset\\PPG_Dataset_ALL\\unhealthy\\20240619_2A50_PPG_ 20240619_150828.json\n",
      "hospital file path: C:\\Users\\Administrator\\Desktop\\PPG_dataset\\PPG_Dataset_ALL\\unhealthy\\20240710_2A05_PPG_ 20240710_123055.json\n",
      "hospital file path: C:\\Users\\Administrator\\Desktop\\PPG_dataset\\PPG_Dataset_ALL\\unhealthy\\20240710_2A09_PPG_ 20240710_123332.json\n",
      "hospital file path: C:\\Users\\Administrator\\Desktop\\PPG_dataset\\PPG_Dataset_ALL\\unhealthy\\20240710_2A16_PPG_ 20240710_141020.json\n",
      "hospital file path: C:\\Users\\Administrator\\Desktop\\PPG_dataset\\PPG_Dataset_ALL\\unhealthy\\20240710_2A23_PPG_ 20240710_135833.json\n",
      "hospital file path: C:\\Users\\Administrator\\Desktop\\PPG_dataset\\PPG_Dataset_ALL\\unhealthy\\20240710_2A31_PPG_ 20240710_135130.json\n",
      "hospital file path: C:\\Users\\Administrator\\Desktop\\PPG_dataset\\PPG_Dataset_ALL\\unhealthy\\20240717_2A12_PPG_ 20240717_145530.json\n",
      "hospital file path: C:\\Users\\Administrator\\Desktop\\PPG_dataset\\PPG_Dataset_ALL\\unhealthy\\20240717_2A21_PPG_ 20240717_153140.json\n",
      "hospital file path: C:\\Users\\Administrator\\Desktop\\PPG_dataset\\PPG_Dataset_ALL\\unhealthy\\20240717_2A21_PPG_ 20240717_160427.json\n",
      "hospital file path: C:\\Users\\Administrator\\Desktop\\PPG_dataset\\PPG_Dataset_ALL\\unhealthy\\20240717_2A51_PPG_ 20240717_132108.json\n",
      "middle file path: C:\\Users\\Administrator\\Desktop\\PPG_dataset\\PPG_Dataset_ALL\\middle_school\\ppg_data\\198444577461046603872960536191526311257.json\n",
      "middle file path: C:\\Users\\Administrator\\Desktop\\PPG_dataset\\PPG_Dataset_ALL\\middle_school\\ppg_data\\195518190253901083343512662076190231392.json\n",
      "middle file path: C:\\Users\\Administrator\\Desktop\\PPG_dataset\\PPG_Dataset_ALL\\middle_school\\ppg_data\\188370715739685455973254963976980300867.json\n",
      "middle file path: C:\\Users\\Administrator\\Desktop\\PPG_dataset\\PPG_Dataset_ALL\\middle_school\\ppg_data\\175197955692496323475454481369358296964.json\n",
      "middle file path: C:\\Users\\Administrator\\Desktop\\PPG_dataset\\PPG_Dataset_ALL\\middle_school\\ppg_data\\297816077774761394349421449491011548762.json\n",
      "middle file path: C:\\Users\\Administrator\\Desktop\\PPG_dataset\\PPG_Dataset_ALL\\middle_school\\ppg_data\\288482904213836039173043243555234136562.json\n",
      "middle file path: C:\\Users\\Administrator\\Desktop\\PPG_dataset\\PPG_Dataset_ALL\\middle_school\\ppg_data\\74676610303512588309975630864179375703.json\n",
      "middle file path: C:\\Users\\Administrator\\Desktop\\PPG_dataset\\PPG_Dataset_ALL\\middle_school\\ppg_data\\85368278269151765477300734597278915014.json\n",
      "middle file path: C:\\Users\\Administrator\\Desktop\\PPG_dataset\\PPG_Dataset_ALL\\middle_school\\ppg_data\\40610004582061995448989550243010508411.json\n",
      "middle file path: C:\\Users\\Administrator\\Desktop\\PPG_dataset\\PPG_Dataset_ALL\\middle_school\\ppg_data\\105887900808503661770517922432065439938.json\n",
      "middle file path: C:\\Users\\Administrator\\Desktop\\PPG_dataset\\PPG_Dataset_ALL\\middle_school\\ppg_data\\239892877122209302422422210893357144496.json\n",
      "middle file path: C:\\Users\\Administrator\\Desktop\\PPG_dataset\\PPG_Dataset_ALL\\middle_school\\ppg_data\\306346499111062564273074306033250729379.json\n",
      "middle file path: C:\\Users\\Administrator\\Desktop\\PPG_dataset\\PPG_Dataset_ALL\\middle_school\\ppg_data\\153038644422531119877357095529505482704.json\n",
      "middle file path: C:\\Users\\Administrator\\Desktop\\PPG_dataset\\PPG_Dataset_ALL\\middle_school\\ppg_data\\141906085562194353137386602945104356379.json\n",
      "middle file path: C:\\Users\\Administrator\\Desktop\\PPG_dataset\\PPG_Dataset_ALL\\middle_school\\ppg_data\\169245413571916393789952686809364669615.json\n",
      "middle file path: C:\\Users\\Administrator\\Desktop\\PPG_dataset\\PPG_Dataset_ALL\\middle_school\\ppg_data\\294737205009271235820121204148504277021.json\n",
      "middle file path: C:\\Users\\Administrator\\Desktop\\PPG_dataset\\PPG_Dataset_ALL\\middle_school\\ppg_data\\318455131787366878765446821326877390170.json\n",
      "middle file path: C:\\Users\\Administrator\\Desktop\\PPG_dataset\\PPG_Dataset_ALL\\middle_school\\ppg_data\\53187701118179735009976447552029657967.json\n",
      "middle file path: C:\\Users\\Administrator\\Desktop\\PPG_dataset\\PPG_Dataset_ALL\\middle_school\\ppg_data\\61051594619193134343087204982766040895.json\n",
      "middle file path: C:\\Users\\Administrator\\Desktop\\PPG_dataset\\PPG_Dataset_ALL\\middle_school\\ppg_data\\169271060099542893857475728183790248421.json\n",
      "middle file path: C:\\Users\\Administrator\\Desktop\\PPG_dataset\\PPG_Dataset_ALL\\middle_school\\ppg_data\\213290807462354534645975057862630654817.json\n",
      "middle file path: C:\\Users\\Administrator\\Desktop\\PPG_dataset\\PPG_Dataset_ALL\\middle_school\\ppg_data\\288968753257607227939769941103185695362.json\n",
      "middle file path: C:\\Users\\Administrator\\Desktop\\PPG_dataset\\PPG_Dataset_ALL\\middle_school\\ppg_data\\206056082482311118793152887840902148262.json\n",
      "middle file path: C:\\Users\\Administrator\\Desktop\\PPG_dataset\\PPG_Dataset_ALL\\middle_school\\ppg_data\\110161370178529976028120340597458580821.json\n",
      "middle file path: C:\\Users\\Administrator\\Desktop\\PPG_dataset\\PPG_Dataset_ALL\\middle_school\\ppg_data\\286170553532738041839103174470752051147.json\n",
      "middle file path: C:\\Users\\Administrator\\Desktop\\PPG_dataset\\PPG_Dataset_ALL\\middle_school\\ppg_data\\73294041557433943997927635060952902769.json\n",
      "middle file path: C:\\Users\\Administrator\\Desktop\\PPG_dataset\\PPG_Dataset_ALL\\middle_school\\ppg_data\\27384113139794060774257569632727978954.json\n",
      "middle file path: C:\\Users\\Administrator\\Desktop\\PPG_dataset\\PPG_Dataset_ALL\\middle_school\\ppg_data\\79533497617299137679487847356470507061.json\n",
      "middle file path: C:\\Users\\Administrator\\Desktop\\PPG_dataset\\PPG_Dataset_ALL\\middle_school\\ppg_data\\215732325577428223196989133156689971688.json\n",
      "middle file path: C:\\Users\\Administrator\\Desktop\\PPG_dataset\\PPG_Dataset_ALL\\middle_school\\ppg_data\\293722985553091477959065716570706656057.json\n",
      "middle file path: C:\\Users\\Administrator\\Desktop\\PPG_dataset\\PPG_Dataset_ALL\\middle_school\\ppg_data\\34762425403445864083077781595636677946.json\n",
      "middle file path: C:\\Users\\Administrator\\Desktop\\PPG_dataset\\PPG_Dataset_ALL\\middle_school\\ppg_data\\140319194873675145452985058009342670341.json\n",
      "middle file path: C:\\Users\\Administrator\\Desktop\\PPG_dataset\\PPG_Dataset_ALL\\middle_school\\ppg_data\\209928076981345210784920284916318995232.json\n",
      "middle file path: C:\\Users\\Administrator\\Desktop\\PPG_dataset\\PPG_Dataset_ALL\\middle_school\\ppg_data\\146064041238557010788186948233088969104.json\n",
      "middle file path: C:\\Users\\Administrator\\Desktop\\PPG_dataset\\PPG_Dataset_ALL\\middle_school\\ppg_data\\75996367598838490532730598152555695219.json\n",
      "middle file path: C:\\Users\\Administrator\\Desktop\\PPG_dataset\\PPG_Dataset_ALL\\middle_school\\ppg_data\\212470578945876153547494938303382282800.json\n",
      "middle file path: C:\\Users\\Administrator\\Desktop\\PPG_dataset\\PPG_Dataset_ALL\\middle_school\\ppg_data\\185763315824137106176250523858566085600.json\n",
      "middle file path: C:\\Users\\Administrator\\Desktop\\PPG_dataset\\PPG_Dataset_ALL\\middle_school\\ppg_data\\245709246373688299677462300699010035587.json\n",
      "middle file path: C:\\Users\\Administrator\\Desktop\\PPG_dataset\\PPG_Dataset_ALL\\middle_school\\ppg_data\\198481667547056152504023121276464568354.json\n",
      "middle file path: C:\\Users\\Administrator\\Desktop\\PPG_dataset\\PPG_Dataset_ALL\\middle_school\\ppg_data\\292150800079655161429558158799800532969.json\n",
      "middle file path: C:\\Users\\Administrator\\Desktop\\PPG_dataset\\PPG_Dataset_ALL\\middle_school\\ppg_data\\8285329549026344726723545818313561637.json\n",
      "middle file path: C:\\Users\\Administrator\\Desktop\\PPG_dataset\\PPG_Dataset_ALL\\middle_school\\ppg_data\\111499801969218303231975760995016145139.json\n",
      "middle file path: C:\\Users\\Administrator\\Desktop\\PPG_dataset\\PPG_Dataset_ALL\\middle_school\\ppg_data\\236620722582505956886079794572667981138.json\n",
      "middle file path: C:\\Users\\Administrator\\Desktop\\PPG_dataset\\PPG_Dataset_ALL\\middle_school\\ppg_data\\167003820761625356177288269402121425707.json\n",
      "middle file path: C:\\Users\\Administrator\\Desktop\\PPG_dataset\\PPG_Dataset_ALL\\middle_school\\ppg_data\\308456001481107709529989846139071011890.json\n",
      "middle file path: C:\\Users\\Administrator\\Desktop\\PPG_dataset\\PPG_Dataset_ALL\\middle_school\\ppg_data\\167045044196849165430793491795015270478.json\n",
      "middle file path: C:\\Users\\Administrator\\Desktop\\PPG_dataset\\PPG_Dataset_ALL\\middle_school\\ppg_data\\143601126869005826423555491097044489935.json\n",
      "middle file path: C:\\Users\\Administrator\\Desktop\\PPG_dataset\\PPG_Dataset_ALL\\middle_school\\ppg_data\\79607384054796034879474504528818320374.json\n",
      "middle file path: C:\\Users\\Administrator\\Desktop\\PPG_dataset\\PPG_Dataset_ALL\\middle_school\\ppg_data\\96953071888897865000881666795917059639.json\n",
      "middle file path: C:\\Users\\Administrator\\Desktop\\PPG_dataset\\PPG_Dataset_ALL\\middle_school\\ppg_data\\64072384993539353085868859411307902753.json\n",
      "middle file path: C:\\Users\\Administrator\\Desktop\\PPG_dataset\\PPG_Dataset_ALL\\middle_school\\ppg_data\\295440166060757079047962052854129241530.json\n",
      "middle file path: C:\\Users\\Administrator\\Desktop\\PPG_dataset\\PPG_Dataset_ALL\\middle_school\\ppg_data\\85933772090356422521289624360166209939.json\n",
      "middle file path: C:\\Users\\Administrator\\Desktop\\PPG_dataset\\PPG_Dataset_ALL\\middle_school\\ppg_data\\85398166816809657455999353781080836406.json\n",
      "middle file path: C:\\Users\\Administrator\\Desktop\\PPG_dataset\\PPG_Dataset_ALL\\middle_school\\ppg_data\\334791882181911097707386330622898377036.json\n",
      "middle file path: C:\\Users\\Administrator\\Desktop\\PPG_dataset\\PPG_Dataset_ALL\\middle_school\\ppg_data\\339986485644463236500819994660857919353.json\n",
      "middle file path: C:\\Users\\Administrator\\Desktop\\PPG_dataset\\PPG_Dataset_ALL\\middle_school\\ppg_data\\315957734377645131774793930208339984416.json\n",
      "middle file path: C:\\Users\\Administrator\\Desktop\\PPG_dataset\\PPG_Dataset_ALL\\middle_school\\ppg_data\\111926663816747827588607674970577727469.json\n",
      "middle file path: C:\\Users\\Administrator\\Desktop\\PPG_dataset\\PPG_Dataset_ALL\\middle_school\\ppg_data\\258205550880900544659204748253739854976.json\n",
      "middle file path: C:\\Users\\Administrator\\Desktop\\PPG_dataset\\PPG_Dataset_ALL\\middle_school\\ppg_data\\179552393834535204130497190211521480528.json\n",
      "middle file path: C:\\Users\\Administrator\\Desktop\\PPG_dataset\\PPG_Dataset_ALL\\middle_school\\ppg_data\\94854843312056400745889408380165945711.json\n",
      "middle file path: C:\\Users\\Administrator\\Desktop\\PPG_dataset\\PPG_Dataset_ALL\\middle_school\\ppg_data\\183915054561536545436523543092310451958.json\n",
      "middle file path: C:\\Users\\Administrator\\Desktop\\PPG_dataset\\PPG_Dataset_ALL\\middle_school\\ppg_data\\282818934435071819466306209494326675467.json\n",
      "middle file path: C:\\Users\\Administrator\\Desktop\\PPG_dataset\\PPG_Dataset_ALL\\middle_school\\ppg_data\\56173384089530407014585696471908551437.json\n",
      "middle file path: C:\\Users\\Administrator\\Desktop\\PPG_dataset\\PPG_Dataset_ALL\\middle_school\\ppg_data\\317601447212386935950077814758891670876.json\n",
      "middle file path: C:\\Users\\Administrator\\Desktop\\PPG_dataset\\PPG_Dataset_ALL\\middle_school\\ppg_data\\69591887887134192948829421726744172269.json\n",
      "middle file path: C:\\Users\\Administrator\\Desktop\\PPG_dataset\\PPG_Dataset_ALL\\middle_school\\ppg_data\\47862737607272227529163978988231672324.json\n",
      "middle file path: C:\\Users\\Administrator\\Desktop\\PPG_dataset\\PPG_Dataset_ALL\\middle_school\\ppg_data\\185015740221569025205516001300193241334.json\n",
      "middle file path: C:\\Users\\Administrator\\Desktop\\PPG_dataset\\PPG_Dataset_ALL\\middle_school\\ppg_data\\142333782898743498520691807574107652747.json\n",
      "middle file path: C:\\Users\\Administrator\\Desktop\\PPG_dataset\\PPG_Dataset_ALL\\middle_school\\ppg_data\\272054027678183636459331929783923096114.json\n",
      "middle file path: C:\\Users\\Administrator\\Desktop\\PPG_dataset\\PPG_Dataset_ALL\\middle_school\\ppg_data\\282604893328248088209225847430647813573.json\n",
      "middle file path: C:\\Users\\Administrator\\Desktop\\PPG_dataset\\PPG_Dataset_ALL\\middle_school\\ppg_data\\162332152063480783198678880950374215309.json\n",
      "middle file path: C:\\Users\\Administrator\\Desktop\\PPG_dataset\\PPG_Dataset_ALL\\middle_school\\ppg_data\\331819654962056643172928256782616771413.json\n",
      "middle file path: C:\\Users\\Administrator\\Desktop\\PPG_dataset\\PPG_Dataset_ALL\\middle_school\\ppg_data\\332719080340177794355817595686386713924.json\n",
      "middle file path: C:\\Users\\Administrator\\Desktop\\PPG_dataset\\PPG_Dataset_ALL\\middle_school\\ppg_data\\309464344667838927486340499999454792923.json\n",
      "middle file path: C:\\Users\\Administrator\\Desktop\\PPG_dataset\\PPG_Dataset_ALL\\middle_school\\ppg_data\\217126340345285307559516193122381084773.json\n",
      "middle file path: C:\\Users\\Administrator\\Desktop\\PPG_dataset\\PPG_Dataset_ALL\\middle_school\\ppg_data\\229868922234179963869623776996148768585.json\n",
      "middle file path: C:\\Users\\Administrator\\Desktop\\PPG_dataset\\PPG_Dataset_ALL\\middle_school\\ppg_data\\247974914479780218470720831424827294737.json\n",
      "middle file path: C:\\Users\\Administrator\\Desktop\\PPG_dataset\\PPG_Dataset_ALL\\middle_school\\ppg_data\\177893884182876632474140723566972872966.json\n",
      "middle file path: C:\\Users\\Administrator\\Desktop\\PPG_dataset\\PPG_Dataset_ALL\\middle_school\\ppg_data\\204966784233448634803232317817824471757.json\n",
      "middle file path: C:\\Users\\Administrator\\Desktop\\PPG_dataset\\PPG_Dataset_ALL\\middle_school\\ppg_data\\96220036608250377551390929500423578615.json\n",
      "middle file path: C:\\Users\\Administrator\\Desktop\\PPG_dataset\\PPG_Dataset_ALL\\middle_school\\ppg_data\\27673257893082992809944994524952840677.json\n",
      "middle file path: C:\\Users\\Administrator\\Desktop\\PPG_dataset\\PPG_Dataset_ALL\\middle_school\\ppg_data\\233899353621199828490979403945204234829.json\n",
      "middle file path: C:\\Users\\Administrator\\Desktop\\PPG_dataset\\PPG_Dataset_ALL\\middle_school\\ppg_data\\49103409560515323249196705066033094450.json\n",
      "middle file path: C:\\Users\\Administrator\\Desktop\\PPG_dataset\\PPG_Dataset_ALL\\middle_school\\ppg_data\\223462376238117600795810651135927363211.json\n",
      "middle file path: C:\\Users\\Administrator\\Desktop\\PPG_dataset\\PPG_Dataset_ALL\\middle_school\\ppg_data\\116643604659756174712111349696423643812.json\n",
      "middle file path: C:\\Users\\Administrator\\Desktop\\PPG_dataset\\PPG_Dataset_ALL\\middle_school\\ppg_data\\126170832791775280770532478941287608212.json\n",
      "middle file path: C:\\Users\\Administrator\\Desktop\\PPG_dataset\\PPG_Dataset_ALL\\middle_school\\ppg_data\\185491980970205635927353895211088997460.json\n",
      "middle file path: C:\\Users\\Administrator\\Desktop\\PPG_dataset\\PPG_Dataset_ALL\\middle_school\\ppg_data\\220688382019996513165253976548073483559.json\n",
      "middle file path: C:\\Users\\Administrator\\Desktop\\PPG_dataset\\PPG_Dataset_ALL\\middle_school\\ppg_data\\151048785666449005767740214444744241645.json\n",
      "middle file path: C:\\Users\\Administrator\\Desktop\\PPG_dataset\\PPG_Dataset_ALL\\middle_school\\ppg_data\\321426328910194092526248247202400945452.json\n",
      "middle file path: C:\\Users\\Administrator\\Desktop\\PPG_dataset\\PPG_Dataset_ALL\\middle_school\\ppg_data\\291817641151347512750847780043245117786.json\n",
      "middle file path: C:\\Users\\Administrator\\Desktop\\PPG_dataset\\PPG_Dataset_ALL\\middle_school\\ppg_data\\257926373834471436910262663403554943540.json\n",
      "middle file path: C:\\Users\\Administrator\\Desktop\\PPG_dataset\\PPG_Dataset_ALL\\middle_school\\ppg_data\\336438027660049617510959378070596472097.json\n",
      "middle file path: C:\\Users\\Administrator\\Desktop\\PPG_dataset\\PPG_Dataset_ALL\\middle_school\\ppg_data\\95613470303935760083595714877747663858.json\n",
      "middle file path: C:\\Users\\Administrator\\Desktop\\PPG_dataset\\PPG_Dataset_ALL\\middle_school\\ppg_data\\51139037471666429322826801460190066689.json\n",
      "middle file path: C:\\Users\\Administrator\\Desktop\\PPG_dataset\\PPG_Dataset_ALL\\middle_school\\ppg_data\\320959423528186916134905550043948948343.json\n",
      "middle file path: C:\\Users\\Administrator\\Desktop\\PPG_dataset\\PPG_Dataset_ALL\\middle_school\\ppg_data\\193475718750275626735054712002790632542.json\n",
      "middle file path: C:\\Users\\Administrator\\Desktop\\PPG_dataset\\PPG_Dataset_ALL\\middle_school\\ppg_data\\122710026960617659494138829930228850152.json\n",
      "middle file path: C:\\Users\\Administrator\\Desktop\\PPG_dataset\\PPG_Dataset_ALL\\middle_school\\ppg_data\\77428803254134998092824986488981871994.json\n",
      "middle file path: C:\\Users\\Administrator\\Desktop\\PPG_dataset\\PPG_Dataset_ALL\\middle_school\\ppg_data\\165757153623499067185299142760321741547.json\n",
      "middle file path: C:\\Users\\Administrator\\Desktop\\PPG_dataset\\PPG_Dataset_ALL\\middle_school\\ppg_data\\99383412173966050321721355955917535141.json\n",
      "middle file path: C:\\Users\\Administrator\\Desktop\\PPG_dataset\\PPG_Dataset_ALL\\middle_school\\ppg_data\\329228107762570497981481112297011162309.json\n",
      "middle file path: C:\\Users\\Administrator\\Desktop\\PPG_dataset\\PPG_Dataset_ALL\\middle_school\\ppg_data\\36624313595758016695641556876575440765.json\n",
      "middle file path: C:\\Users\\Administrator\\Desktop\\PPG_dataset\\PPG_Dataset_ALL\\middle_school\\ppg_data\\162605572782799812941958232855498162671.json\n",
      "middle file path: C:\\Users\\Administrator\\Desktop\\PPG_dataset\\PPG_Dataset_ALL\\middle_school\\ppg_data\\179914790667295564318715575582224783058.json\n",
      "middle file path: C:\\Users\\Administrator\\Desktop\\PPG_dataset\\PPG_Dataset_ALL\\middle_school\\ppg_data\\150752115316842269809842971974870025819.json\n",
      "middle file path: C:\\Users\\Administrator\\Desktop\\PPG_dataset\\PPG_Dataset_ALL\\middle_school\\ppg_data\\316636226448281014938763352539234652711.json\n",
      "middle file path: C:\\Users\\Administrator\\Desktop\\PPG_dataset\\PPG_Dataset_ALL\\middle_school\\ppg_data\\73166992386845156057007771705501841871.json\n",
      "middle file path: C:\\Users\\Administrator\\Desktop\\PPG_dataset\\PPG_Dataset_ALL\\middle_school\\ppg_data\\99385955208441366061286684978591209044.json\n",
      "middle file path: C:\\Users\\Administrator\\Desktop\\PPG_dataset\\PPG_Dataset_ALL\\middle_school\\ppg_data\\250175307681961724711207084328415327092.json\n",
      "middle file path: C:\\Users\\Administrator\\Desktop\\PPG_dataset\\PPG_Dataset_ALL\\middle_school\\ppg_data\\225354541720329865641467281799226704272.json\n",
      "middle file path: C:\\Users\\Administrator\\Desktop\\PPG_dataset\\PPG_Dataset_ALL\\middle_school\\ppg_data\\63045550560926738052368211816695217726.json\n",
      "middle file path: C:\\Users\\Administrator\\Desktop\\PPG_dataset\\PPG_Dataset_ALL\\middle_school\\ppg_data\\241577801887606457774505909147719633447.json\n",
      "middle file path: C:\\Users\\Administrator\\Desktop\\PPG_dataset\\PPG_Dataset_ALL\\middle_school\\ppg_data\\255394596958416122308567023196628801234.json\n",
      "middle file path: C:\\Users\\Administrator\\Desktop\\PPG_dataset\\PPG_Dataset_ALL\\middle_school\\ppg_data\\134931342716911390485053380628622871159.json\n",
      "middle file path: C:\\Users\\Administrator\\Desktop\\PPG_dataset\\PPG_Dataset_ALL\\middle_school\\ppg_data\\166122632035604157588774326207719494321.json\n",
      "middle file path: C:\\Users\\Administrator\\Desktop\\PPG_dataset\\PPG_Dataset_ALL\\middle_school\\ppg_data\\177667008335150070838367578959492291103.json\n",
      "middle file path: C:\\Users\\Administrator\\Desktop\\PPG_dataset\\PPG_Dataset_ALL\\middle_school\\ppg_data\\62714952292468869888354503053964833442.json\n",
      "middle file path: C:\\Users\\Administrator\\Desktop\\PPG_dataset\\PPG_Dataset_ALL\\middle_school\\ppg_data\\21497201702158295203790207308919261939.json\n",
      "middle file path: C:\\Users\\Administrator\\Desktop\\PPG_dataset\\PPG_Dataset_ALL\\middle_school\\ppg_data\\4196228513861338457316038608262241052.json\n",
      "middle file path: C:\\Users\\Administrator\\Desktop\\PPG_dataset\\PPG_Dataset_ALL\\middle_school\\ppg_data\\180745759199479264532511978473906503851.json\n",
      "middle file path: C:\\Users\\Administrator\\Desktop\\PPG_dataset\\PPG_Dataset_ALL\\middle_school\\ppg_data\\201020260481080413188229915507451097122.json\n",
      "middle file path: C:\\Users\\Administrator\\Desktop\\PPG_dataset\\PPG_Dataset_ALL\\middle_school\\ppg_data\\68361238590693223514858628066591974885.json\n",
      "middle file path: C:\\Users\\Administrator\\Desktop\\PPG_dataset\\PPG_Dataset_ALL\\middle_school\\ppg_data\\143153845119701905155002001179840104261.json\n",
      "middle file path: C:\\Users\\Administrator\\Desktop\\PPG_dataset\\PPG_Dataset_ALL\\middle_school\\ppg_data\\231326694132439594567559210812205426976.json\n",
      "middle file path: C:\\Users\\Administrator\\Desktop\\PPG_dataset\\PPG_Dataset_ALL\\middle_school\\ppg_data\\325908151478265120512910561998522533609.json\n",
      "middle file path: C:\\Users\\Administrator\\Desktop\\PPG_dataset\\PPG_Dataset_ALL\\middle_school\\ppg_data\\215525904574587046962614263691867001430.json\n",
      "middle file path: C:\\Users\\Administrator\\Desktop\\PPG_dataset\\PPG_Dataset_ALL\\middle_school\\ppg_data\\104089220755136677188528769379148792609.json\n",
      "middle file path: C:\\Users\\Administrator\\Desktop\\PPG_dataset\\PPG_Dataset_ALL\\middle_school\\ppg_data\\164475752581144418504106142883232240565.json\n",
      "middle file path: C:\\Users\\Administrator\\Desktop\\PPG_dataset\\PPG_Dataset_ALL\\middle_school\\ppg_data\\80575571060641279042901204877627252558.json\n",
      "middle file path: C:\\Users\\Administrator\\Desktop\\PPG_dataset\\PPG_Dataset_ALL\\middle_school\\ppg_data\\129248284799429495306837089790351674777.json\n",
      "middle file path: C:\\Users\\Administrator\\Desktop\\PPG_dataset\\PPG_Dataset_ALL\\middle_school\\ppg_data\\223823529054429369064054511625104464615.json\n",
      "middle file path: C:\\Users\\Administrator\\Desktop\\PPG_dataset\\PPG_Dataset_ALL\\middle_school\\ppg_data\\75222987579485098174909789569165949594.json\n",
      "middle file path: C:\\Users\\Administrator\\Desktop\\PPG_dataset\\PPG_Dataset_ALL\\middle_school\\ppg_data\\60228161332762748415551414300089973898.json\n",
      "middle file path: C:\\Users\\Administrator\\Desktop\\PPG_dataset\\PPG_Dataset_ALL\\middle_school\\ppg_data\\69539675861277205097272916516697061781.json\n",
      "middle file path: C:\\Users\\Administrator\\Desktop\\PPG_dataset\\PPG_Dataset_ALL\\middle_school\\ppg_data\\161477850179666120015696119837108848069.json\n",
      "middle file path: C:\\Users\\Administrator\\Desktop\\PPG_dataset\\PPG_Dataset_ALL\\middle_school\\ppg_data\\68240617007739236531833329101102234412.json\n",
      "middle file path: C:\\Users\\Administrator\\Desktop\\PPG_dataset\\PPG_Dataset_ALL\\middle_school\\ppg_data\\282287437776054289169772533676486483986.json\n",
      "middle file path: C:\\Users\\Administrator\\Desktop\\PPG_dataset\\PPG_Dataset_ALL\\middle_school\\ppg_data\\220412779112482284366202079009344459295.json\n",
      "middle file path: C:\\Users\\Administrator\\Desktop\\PPG_dataset\\PPG_Dataset_ALL\\middle_school\\ppg_data\\166176138189021417157199515886555687003.json\n",
      "middle file path: C:\\Users\\Administrator\\Desktop\\PPG_dataset\\PPG_Dataset_ALL\\middle_school\\ppg_data\\305158848240269203442391029520371853323.json\n",
      "middle file path: C:\\Users\\Administrator\\Desktop\\PPG_dataset\\PPG_Dataset_ALL\\middle_school\\ppg_data\\244838029399313427648058338556667133461.json\n",
      "middle file path: C:\\Users\\Administrator\\Desktop\\PPG_dataset\\PPG_Dataset_ALL\\middle_school\\ppg_data\\203961269938407417848773039679401712871.json\n",
      "middle file path: C:\\Users\\Administrator\\Desktop\\PPG_dataset\\PPG_Dataset_ALL\\middle_school\\ppg_data\\161207560290037407058558025281909981587.json\n",
      "middle file path: C:\\Users\\Administrator\\Desktop\\PPG_dataset\\PPG_Dataset_ALL\\middle_school\\ppg_data\\43587001558651659285216781403876515833.json\n",
      "middle file path: C:\\Users\\Administrator\\Desktop\\PPG_dataset\\PPG_Dataset_ALL\\middle_school\\ppg_data\\137219348965578979171819157401431138630.json\n",
      "middle file path: C:\\Users\\Administrator\\Desktop\\PPG_dataset\\PPG_Dataset_ALL\\middle_school\\ppg_data\\280103981283984754605712413334189448713.json\n",
      "middle file path: C:\\Users\\Administrator\\Desktop\\PPG_dataset\\PPG_Dataset_ALL\\middle_school\\ppg_data\\95967277356563238499886506803935244689.json\n",
      "middle file path: C:\\Users\\Administrator\\Desktop\\PPG_dataset\\PPG_Dataset_ALL\\middle_school\\ppg_data\\5349986675310973883230174956193451312.json\n",
      "middle file path: C:\\Users\\Administrator\\Desktop\\PPG_dataset\\PPG_Dataset_ALL\\middle_school\\ppg_data\\84737541056202964389142359315202158934.json\n",
      "middle file path: C:\\Users\\Administrator\\Desktop\\PPG_dataset\\PPG_Dataset_ALL\\middle_school\\ppg_data\\256753640053095720305023508615851642977.json\n",
      "middle file path: C:\\Users\\Administrator\\Desktop\\PPG_dataset\\PPG_Dataset_ALL\\middle_school\\ppg_data\\115789186372707954543232240979364386354.json\n",
      "middle file path: C:\\Users\\Administrator\\Desktop\\PPG_dataset\\PPG_Dataset_ALL\\middle_school\\ppg_data\\64506308791528470369184302635138271682.json\n",
      "middle file path: C:\\Users\\Administrator\\Desktop\\PPG_dataset\\PPG_Dataset_ALL\\middle_school\\ppg_data\\23290010207610187177196536711437280290.json\n",
      "middle file path: C:\\Users\\Administrator\\Desktop\\PPG_dataset\\PPG_Dataset_ALL\\middle_school\\ppg_data\\24224661950343654525822317389000396758.json\n",
      "middle file path: C:\\Users\\Administrator\\Desktop\\PPG_dataset\\PPG_Dataset_ALL\\middle_school\\ppg_data\\179810728925376422764373029056359020778.json\n",
      "middle file path: C:\\Users\\Administrator\\Desktop\\PPG_dataset\\PPG_Dataset_ALL\\middle_school\\ppg_data\\159456317318385784752402571381888174647.json\n",
      "middle file path: C:\\Users\\Administrator\\Desktop\\PPG_dataset\\PPG_Dataset_ALL\\middle_school\\ppg_data\\41788758688050513881956557498658905599.json\n",
      "middle file path: C:\\Users\\Administrator\\Desktop\\PPG_dataset\\PPG_Dataset_ALL\\middle_school\\ppg_data\\76054440420906582745935704299707044111.json\n",
      "middle file path: C:\\Users\\Administrator\\Desktop\\PPG_dataset\\PPG_Dataset_ALL\\middle_school\\ppg_data\\91156874044912925992471372274646591489.json\n",
      "middle file path: C:\\Users\\Administrator\\Desktop\\PPG_dataset\\PPG_Dataset_ALL\\middle_school\\ppg_data\\328893425093931158250042650626238777647.json\n",
      "middle file path: C:\\Users\\Administrator\\Desktop\\PPG_dataset\\PPG_Dataset_ALL\\middle_school\\ppg_data\\120732934227198294427428324000631966796.json\n",
      "middle file path: C:\\Users\\Administrator\\Desktop\\PPG_dataset\\PPG_Dataset_ALL\\middle_school\\ppg_data\\169081970761154957120178502312935114059.json\n",
      "middle file path: C:\\Users\\Administrator\\Desktop\\PPG_dataset\\PPG_Dataset_ALL\\middle_school\\ppg_data\\292810109173830846565107607635665496457.json\n",
      "middle file path: C:\\Users\\Administrator\\Desktop\\PPG_dataset\\PPG_Dataset_ALL\\middle_school\\ppg_data\\262125641357055355562730650708875843490.json\n",
      "middle file path: C:\\Users\\Administrator\\Desktop\\PPG_dataset\\PPG_Dataset_ALL\\middle_school\\ppg_data\\98983442181458756810313146488475229305.json\n",
      "middle file path: C:\\Users\\Administrator\\Desktop\\PPG_dataset\\PPG_Dataset_ALL\\middle_school\\ppg_data\\167079028310471310214609084167079336454.json\n",
      "middle file path: C:\\Users\\Administrator\\Desktop\\PPG_dataset\\PPG_Dataset_ALL\\middle_school\\ppg_data\\148639288212986584127354387481812660326.json\n",
      "middle file path: C:\\Users\\Administrator\\Desktop\\PPG_dataset\\PPG_Dataset_ALL\\middle_school\\ppg_data\\14994278066123261838997543054394279507.json\n",
      "middle file path: C:\\Users\\Administrator\\Desktop\\PPG_dataset\\PPG_Dataset_ALL\\middle_school\\ppg_data\\132209494129050971515328649837601507448.json\n",
      "middle file path: C:\\Users\\Administrator\\Desktop\\PPG_dataset\\PPG_Dataset_ALL\\middle_school\\ppg_data\\332584480518826344667278226896499357575.json\n",
      "middle file path: C:\\Users\\Administrator\\Desktop\\PPG_dataset\\PPG_Dataset_ALL\\middle_school\\ppg_data\\299775408718731132419525784265447329122.json\n",
      "middle file path: C:\\Users\\Administrator\\Desktop\\PPG_dataset\\PPG_Dataset_ALL\\middle_school\\ppg_data\\175891954794452063055606373574445896095.json\n",
      "middle file path: C:\\Users\\Administrator\\Desktop\\PPG_dataset\\PPG_Dataset_ALL\\middle_school\\ppg_data\\179801029416044038024856175518600165935.json\n",
      "middle file path: C:\\Users\\Administrator\\Desktop\\PPG_dataset\\PPG_Dataset_ALL\\middle_school\\ppg_data\\75047507063991609500738433808819571673.json\n",
      "middle file path: C:\\Users\\Administrator\\Desktop\\PPG_dataset\\PPG_Dataset_ALL\\middle_school\\ppg_data\\218709976066868486528324196573480047800.json\n",
      "middle file path: C:\\Users\\Administrator\\Desktop\\PPG_dataset\\PPG_Dataset_ALL\\middle_school\\ppg_data\\232756341837410726129098922943099339881.json\n",
      "middle file path: C:\\Users\\Administrator\\Desktop\\PPG_dataset\\PPG_Dataset_ALL\\middle_school\\ppg_data\\165913765095380822661721975875630714513.json\n",
      "middle file path: C:\\Users\\Administrator\\Desktop\\PPG_dataset\\PPG_Dataset_ALL\\middle_school\\ppg_data\\55814953758420582925839987972293504946.json\n",
      "middle file path: C:\\Users\\Administrator\\Desktop\\PPG_dataset\\PPG_Dataset_ALL\\middle_school\\ppg_data\\56560174887191319882343039158047241573.json\n",
      "middle file path: C:\\Users\\Administrator\\Desktop\\PPG_dataset\\PPG_Dataset_ALL\\middle_school\\ppg_data\\56099145895561546925186384714104526912.json\n",
      "middle file path: C:\\Users\\Administrator\\Desktop\\PPG_dataset\\PPG_Dataset_ALL\\middle_school\\ppg_data\\125803950491811315476634576659919834940.json\n",
      "middle file path: C:\\Users\\Administrator\\Desktop\\PPG_dataset\\PPG_Dataset_ALL\\middle_school\\ppg_data\\77076855497726083793951279765245530830.json\n",
      "middle file path: C:\\Users\\Administrator\\Desktop\\PPG_dataset\\PPG_Dataset_ALL\\middle_school\\ppg_data\\21009721831460600214646638695137996971.json\n",
      "middle file path: C:\\Users\\Administrator\\Desktop\\PPG_dataset\\PPG_Dataset_ALL\\middle_school\\ppg_data\\216263969575782676688579347966464327513.json\n",
      "middle file path: C:\\Users\\Administrator\\Desktop\\PPG_dataset\\PPG_Dataset_ALL\\middle_school\\ppg_data\\147286467279844571512642280185718562477.json\n",
      "middle file path: C:\\Users\\Administrator\\Desktop\\PPG_dataset\\PPG_Dataset_ALL\\middle_school\\ppg_data\\171511847648714574031634836204488909635.json\n",
      "middle file path: C:\\Users\\Administrator\\Desktop\\PPG_dataset\\PPG_Dataset_ALL\\middle_school\\ppg_data\\156837674528439857628122970322463736207.json\n",
      "middle file path: C:\\Users\\Administrator\\Desktop\\PPG_dataset\\PPG_Dataset_ALL\\middle_school\\ppg_data\\156517852476978255247134109582897408508.json\n",
      "middle file path: C:\\Users\\Administrator\\Desktop\\PPG_dataset\\PPG_Dataset_ALL\\middle_school\\ppg_data\\30830421106387382022314106307643002796.json\n",
      "middle file path: C:\\Users\\Administrator\\Desktop\\PPG_dataset\\PPG_Dataset_ALL\\middle_school\\ppg_data\\161346534092114523856867163199691341683.json\n",
      "middle file path: C:\\Users\\Administrator\\Desktop\\PPG_dataset\\PPG_Dataset_ALL\\middle_school\\ppg_data\\248322071472985981630892450583315449660.json\n",
      "middle file path: C:\\Users\\Administrator\\Desktop\\PPG_dataset\\PPG_Dataset_ALL\\middle_school\\ppg_data\\485970794542211188839449662478947911.json\n",
      "middle file path: C:\\Users\\Administrator\\Desktop\\PPG_dataset\\PPG_Dataset_ALL\\middle_school\\ppg_data\\44415317972208899097115743129441781552.json\n",
      "middle file path: C:\\Users\\Administrator\\Desktop\\PPG_dataset\\PPG_Dataset_ALL\\middle_school\\ppg_data\\94361243232128478657327008148075453476.json\n",
      "middle file path: C:\\Users\\Administrator\\Desktop\\PPG_dataset\\PPG_Dataset_ALL\\middle_school\\ppg_data\\206917214582156291215535805333254145621.json\n",
      "middle file path: C:\\Users\\Administrator\\Desktop\\PPG_dataset\\PPG_Dataset_ALL\\middle_school\\ppg_data\\217489778373101432839240252002542972060.json\n",
      "middle file path: C:\\Users\\Administrator\\Desktop\\PPG_dataset\\PPG_Dataset_ALL\\middle_school\\ppg_data\\222680082272891873550031063122351047131.json\n",
      "middle file path: C:\\Users\\Administrator\\Desktop\\PPG_dataset\\PPG_Dataset_ALL\\middle_school\\ppg_data\\61401528750400100093989643445455515289.json\n",
      "middle file path: C:\\Users\\Administrator\\Desktop\\PPG_dataset\\PPG_Dataset_ALL\\middle_school\\ppg_data\\248082349355987893096286700097728390752.json\n",
      "middle file path: C:\\Users\\Administrator\\Desktop\\PPG_dataset\\PPG_Dataset_ALL\\middle_school\\ppg_data\\335213044397675253448661033709320997459.json\n",
      "middle file path: C:\\Users\\Administrator\\Desktop\\PPG_dataset\\PPG_Dataset_ALL\\middle_school\\ppg_data\\213932864583921697455210452050647445459.json\n",
      "middle file path: C:\\Users\\Administrator\\Desktop\\PPG_dataset\\PPG_Dataset_ALL\\middle_school\\ppg_data\\26179212962379567933776594846208072378.json\n",
      "middle file path: C:\\Users\\Administrator\\Desktop\\PPG_dataset\\PPG_Dataset_ALL\\middle_school\\ppg_data\\252248201813906963838044655060876331924.json\n",
      "university file path: C:\\Users\\Administrator\\Desktop\\PPG_dataset\\PPG_Dataset_ALL\\healthy\\A01_PPG.json\n",
      "university file path: C:\\Users\\Administrator\\Desktop\\PPG_dataset\\PPG_Dataset_ALL\\healthy\\A02_PPG.json\n",
      "university file path: C:\\Users\\Administrator\\Desktop\\PPG_dataset\\PPG_Dataset_ALL\\healthy\\A03_PPG.json\n",
      "university file path: C:\\Users\\Administrator\\Desktop\\PPG_dataset\\PPG_Dataset_ALL\\healthy\\A05_PPG_01.json\n",
      "university file path: C:\\Users\\Administrator\\Desktop\\PPG_dataset\\PPG_Dataset_ALL\\healthy\\A05_PPG_02.json\n",
      "university file path: C:\\Users\\Administrator\\Desktop\\PPG_dataset\\PPG_Dataset_ALL\\healthy\\A06_PPG.json\n",
      "university file path: C:\\Users\\Administrator\\Desktop\\PPG_dataset\\PPG_Dataset_ALL\\healthy\\A08_PPG.json\n",
      "university file path: C:\\Users\\Administrator\\Desktop\\PPG_dataset\\PPG_Dataset_ALL\\healthy\\A10_PPG.json\n",
      "university file path: C:\\Users\\Administrator\\Desktop\\PPG_dataset\\PPG_Dataset_ALL\\healthy\\A12_PPG.json\n",
      "university file path: C:\\Users\\Administrator\\Desktop\\PPG_dataset\\PPG_Dataset_ALL\\healthy\\A13_PPG.json\n",
      "university file path: C:\\Users\\Administrator\\Desktop\\PPG_dataset\\PPG_Dataset_ALL\\healthy\\A14_PPG.json\n",
      "university file path: C:\\Users\\Administrator\\Desktop\\PPG_dataset\\PPG_Dataset_ALL\\healthy\\A16_PPG.json\n",
      "university file path: C:\\Users\\Administrator\\Desktop\\PPG_dataset\\PPG_Dataset_ALL\\healthy\\A17_PPG.json\n",
      "university file path: C:\\Users\\Administrator\\Desktop\\PPG_dataset\\PPG_Dataset_ALL\\healthy\\A18_PPG.json\n",
      "university file path: C:\\Users\\Administrator\\Desktop\\PPG_dataset\\PPG_Dataset_ALL\\healthy\\A19_PPG_01.json\n",
      "university file path: C:\\Users\\Administrator\\Desktop\\PPG_dataset\\PPG_Dataset_ALL\\healthy\\A19_PPG_02.json\n",
      "university file path: C:\\Users\\Administrator\\Desktop\\PPG_dataset\\PPG_Dataset_ALL\\healthy\\A20_PPG_01.json\n",
      "university file path: C:\\Users\\Administrator\\Desktop\\PPG_dataset\\PPG_Dataset_ALL\\healthy\\A20_PPG_02.json\n",
      "university file path: C:\\Users\\Administrator\\Desktop\\PPG_dataset\\PPG_Dataset_ALL\\healthy\\A22_PPG_01.json\n",
      "university file path: C:\\Users\\Administrator\\Desktop\\PPG_dataset\\PPG_Dataset_ALL\\healthy\\A22_PPG_02.json\n",
      "university file path: C:\\Users\\Administrator\\Desktop\\PPG_dataset\\PPG_Dataset_ALL\\healthy\\A23_PPG_ 20240612_160148.json\n",
      "university file path: C:\\Users\\Administrator\\Desktop\\PPG_dataset\\PPG_Dataset_ALL\\healthy\\A23_PPG_ 20240612_161249.json\n",
      "university file path: C:\\Users\\Administrator\\Desktop\\PPG_dataset\\PPG_Dataset_ALL\\healthy\\A24_PPG_ 20240612_162602.json\n",
      "university file path: C:\\Users\\Administrator\\Desktop\\PPG_dataset\\PPG_Dataset_ALL\\healthy\\A26_PPG_ 20240612_173611.json\n",
      "university file path: C:\\Users\\Administrator\\Desktop\\PPG_dataset\\PPG_Dataset_ALL\\healthy\\A28_PPG_ 20240612_180346.json\n",
      "university file path: C:\\Users\\Administrator\\Desktop\\PPG_dataset\\PPG_Dataset_ALL\\healthy\\A30_PPG.json\n",
      "university file path: C:\\Users\\Administrator\\Desktop\\PPG_dataset\\PPG_Dataset_ALL\\healthy\\A34_PPG_ 20240711_145932.json\n",
      "university file path: C:\\Users\\Administrator\\Desktop\\PPG_dataset\\PPG_Dataset_ALL\\healthy\\A34_PPG_ 20240711_145956.json\n",
      "university file path: C:\\Users\\Administrator\\Desktop\\PPG_dataset\\PPG_Dataset_ALL\\healthy\\A35_PPG_ 20240711_155406.json\n",
      "university file path: C:\\Users\\Administrator\\Desktop\\PPG_dataset\\PPG_Dataset_ALL\\healthy\\A36_PPG_ 20240711_182244.json\n",
      "university file path: C:\\Users\\Administrator\\Desktop\\PPG_dataset\\PPG_Dataset_ALL\\healthy\\A36_PPG_ 20240711_182309.json\n",
      "university file path: C:\\Users\\Administrator\\Desktop\\PPG_dataset\\PPG_Dataset_ALL\\healthy\\A37_PPG_ 20240711_191822.json\n",
      "university file path: C:\\Users\\Administrator\\Desktop\\PPG_dataset\\PPG_Dataset_ALL\\healthy\\A37_PPG_ 20240711_191910.json\n",
      "university file path: C:\\Users\\Administrator\\Desktop\\PPG_dataset\\PPG_Dataset_ALL\\healthy\\A38_PPG_ 20240712_110252.json\n",
      "university file path: C:\\Users\\Administrator\\Desktop\\PPG_dataset\\PPG_Dataset_ALL\\healthy\\A38_PPG_ 20240712_110310.json\n",
      "university file path: C:\\Users\\Administrator\\Desktop\\PPG_dataset\\PPG_Dataset_ALL\\healthy\\A41_PPG_ 20240712_153709.json\n",
      "university file path: C:\\Users\\Administrator\\Desktop\\PPG_dataset\\PPG_Dataset_ALL\\healthy\\A41_PPG_ 20240712_153732.json\n",
      "university file path: C:\\Users\\Administrator\\Desktop\\PPG_dataset\\PPG_Dataset_ALL\\healthy\\A42_PPG_ 20240712_175926.json\n",
      "university file path: C:\\Users\\Administrator\\Desktop\\PPG_dataset\\PPG_Dataset_ALL\\healthy\\A42_PPG_ 20240712_180004.json\n",
      "university file path: C:\\Users\\Administrator\\Desktop\\PPG_dataset\\PPG_Dataset_ALL\\healthy\\A43_PPG_ 20240712_190026.json\n",
      "university file path: C:\\Users\\Administrator\\Desktop\\PPG_dataset\\PPG_Dataset_ALL\\healthy\\A43_PPG_ 20240712_190044.json\n",
      "university file path: C:\\Users\\Administrator\\Desktop\\PPG_dataset\\PPG_Dataset_ALL\\healthy\\A44_PPG_ 20240718_103711.json\n",
      "university file path: C:\\Users\\Administrator\\Desktop\\PPG_dataset\\PPG_Dataset_ALL\\healthy\\A44_PPG_ 20240718_103724.json\n",
      "university file path: C:\\Users\\Administrator\\Desktop\\PPG_dataset\\PPG_Dataset_ALL\\healthy\\A45_PPG_ 20240718_110622.json\n",
      "university file path: C:\\Users\\Administrator\\Desktop\\PPG_dataset\\PPG_Dataset_ALL\\healthy\\A45_PPG_ 20240718_110646.json\n",
      "university file path: C:\\Users\\Administrator\\Desktop\\PPG_dataset\\PPG_Dataset_ALL\\healthy\\A46_PPG_ 20240718_112234.json\n",
      "university file path: C:\\Users\\Administrator\\Desktop\\PPG_dataset\\PPG_Dataset_ALL\\healthy\\A46_PPG_ 20240718_112247.json\n",
      "university file path: C:\\Users\\Administrator\\Desktop\\PPG_dataset\\PPG_Dataset_ALL\\healthy\\A47_PPG_ 20240718_140218.json\n",
      "university file path: C:\\Users\\Administrator\\Desktop\\PPG_dataset\\PPG_Dataset_ALL\\healthy\\A49_PPG_ 20240718_144327.json\n",
      "university file path: C:\\Users\\Administrator\\Desktop\\PPG_dataset\\PPG_Dataset_ALL\\healthy\\A49_PPG_ 20240718_144344.json\n",
      "university file path: C:\\Users\\Administrator\\Desktop\\PPG_dataset\\PPG_Dataset_ALL\\healthy\\A50_PPG_ 20240718_163534.json\n",
      "university file path: C:\\Users\\Administrator\\Desktop\\PPG_dataset\\PPG_Dataset_ALL\\healthy\\A50_PPG_ 20240718_163552.json\n",
      "university file path: C:\\Users\\Administrator\\Desktop\\PPG_dataset\\PPG_Dataset_ALL\\healthy\\A51_PPG_ 20240718_171233.json\n",
      "university file path: C:\\Users\\Administrator\\Desktop\\PPG_dataset\\PPG_Dataset_ALL\\healthy\\A51_PPG_ 20240718_171248.json\n",
      "university file path: C:\\Users\\Administrator\\Desktop\\PPG_dataset\\PPG_Dataset_ALL\\healthy\\A53_PPG_ 20240718_181047.json\n",
      "university file path: C:\\Users\\Administrator\\Desktop\\PPG_dataset\\PPG_Dataset_ALL\\healthy\\A54_PPG_ 20240718_183101.json\n",
      "university file path: C:\\Users\\Administrator\\Desktop\\PPG_dataset\\PPG_Dataset_ALL\\healthy\\A54_PPG_ 20240718_183128.json\n",
      "university file path: C:\\Users\\Administrator\\Desktop\\PPG_dataset\\PPG_Dataset_ALL\\healthy\\A55_PPG_ 20240718_190856.json\n",
      "university file path: C:\\Users\\Administrator\\Desktop\\PPG_dataset\\PPG_Dataset_ALL\\healthy\\A55_PPG_ 20240718_190916.json\n"
     ]
    }
   ],
   "source": [
    "def generate_dataset(subject_collection, label, data_aug_times=1):\n",
    "    ignored_id = []\n",
    "    dataset = pd.DataFrame()\n",
    "    for subject in subject_collection:\n",
    "            subject_wave = []\n",
    "\n",
    "            # The university subjects.\n",
    "            if subject in (university_positive_subjects_SDS + university_negative_subjects_SDS):\n",
    "                files = os.listdir(university_file_dir)\n",
    "                for file in files:\n",
    "                    if file.startswith(subject) and file.endswith('.json'):\n",
    "                        file_path = os.path.join(university_file_dir, file)\n",
    "                        print(f\"university file path: {file_path}\")\n",
    "                        tmp_wave = load_wave_university_or_hospital(file_path)\n",
    "                        subject_wave += tmp_wave\n",
    "            \n",
    "            # The hospital subjects.\n",
    "            elif subject in hospital_positive_subjects:\n",
    "                files = os.listdir(hospital_file_dir)\n",
    "                for file in files:\n",
    "                    if file.startswith(subject) and file.endswith('.json'):\n",
    "                        file_path = os.path.join(hospital_file_dir, file)\n",
    "                        print(f\"hospital file path: {file_path}\")\n",
    "                        tmp_wave = load_wave_university_or_hospital(file_path)\n",
    "                        subject_wave += tmp_wave\n",
    "            \n",
    "            # The middle school subjects.\n",
    "            elif subject in (middle_pos_subjects + middle_neg_subjects):\n",
    "                files = os.listdir(middle_file_dir)\n",
    "                for file in files:\n",
    "                    if file.startswith(subject) and file.endswith('.json'):\n",
    "                        file_path = os.path.join(middle_file_dir, file)\n",
    "                        print(f\"middle file path: {file_path}\")\n",
    "                        tmp_wave = load_wave_middleSchool(file_path)\n",
    "                        subject_wave += tmp_wave\n",
    "\n",
    "            if len(subject_wave) < (sample_freq * sample_window_minute * 60):\n",
    "                ignored_id.append({'id': id, 'Time Length of data in minute ': f\"{len(subject_wave)/(125 * 60):.02f}\"})\n",
    "                continue\n",
    "            else:\n",
    "                subject_dataset = generate_train_feature(subject, subject_wave, label, profile_dict[subject][0], profile_dict[subject][1], sample_freq, sample_window_minute, data_aug_times, if_gender = True)\n",
    "                dataset = pd.concat([dataset, subject_dataset], ignore_index=True)\n",
    "    return dataset\n",
    "\n",
    "\n",
    "train_pos_dataset = generate_dataset(train_pos_subjects, label=1, data_aug_times=4)\n",
    "train_neg_dataset = generate_dataset(train_neg_subjects, label=0, data_aug_times=2)"
   ]
  },
  {
   "cell_type": "code",
   "execution_count": 59,
   "metadata": {},
   "outputs": [
    {
     "name": "stdout",
     "output_type": "stream",
     "text": [
      "middle file path: C:\\Users\\Administrator\\Desktop\\PPG_dataset\\PPG_Dataset_ALL\\middle_school\\ppg_data\\295048404300263447910443892159201485946.json\n",
      "middle file path: C:\\Users\\Administrator\\Desktop\\PPG_dataset\\PPG_Dataset_ALL\\middle_school\\ppg_data\\35301612054817462747500173124369716352.json\n",
      "middle file path: C:\\Users\\Administrator\\Desktop\\PPG_dataset\\PPG_Dataset_ALL\\middle_school\\ppg_data\\197445289474166971856388996004689014191.json\n",
      "middle file path: C:\\Users\\Administrator\\Desktop\\PPG_dataset\\PPG_Dataset_ALL\\middle_school\\ppg_data\\277473614294071127937667446265054569611.json\n",
      "middle file path: C:\\Users\\Administrator\\Desktop\\PPG_dataset\\PPG_Dataset_ALL\\middle_school\\ppg_data\\111737691357089346518971681376183784297.json\n",
      "middle file path: C:\\Users\\Administrator\\Desktop\\PPG_dataset\\PPG_Dataset_ALL\\middle_school\\ppg_data\\90700048697939774837788791357681788059.json\n",
      "middle file path: C:\\Users\\Administrator\\Desktop\\PPG_dataset\\PPG_Dataset_ALL\\middle_school\\ppg_data\\336397792234371190811165460444253997013.json\n",
      "middle file path: C:\\Users\\Administrator\\Desktop\\PPG_dataset\\PPG_Dataset_ALL\\middle_school\\ppg_data\\149769079249044175718542947961906074174.json\n",
      "middle file path: C:\\Users\\Administrator\\Desktop\\PPG_dataset\\PPG_Dataset_ALL\\middle_school\\ppg_data\\82434681005608046601807654759546272132.json\n",
      "middle file path: C:\\Users\\Administrator\\Desktop\\PPG_dataset\\PPG_Dataset_ALL\\middle_school\\ppg_data\\252484027229880983982656879931769593059.json\n",
      "middle file path: C:\\Users\\Administrator\\Desktop\\PPG_dataset\\PPG_Dataset_ALL\\middle_school\\ppg_data\\70055199254646997137347024168883235522.json\n",
      "middle file path: C:\\Users\\Administrator\\Desktop\\PPG_dataset\\PPG_Dataset_ALL\\middle_school\\ppg_data\\141937329779245333917023400406363238989.json\n",
      "middle file path: C:\\Users\\Administrator\\Desktop\\PPG_dataset\\PPG_Dataset_ALL\\middle_school\\ppg_data\\71016560535034829410295386640763850032.json\n",
      "middle file path: C:\\Users\\Administrator\\Desktop\\PPG_dataset\\PPG_Dataset_ALL\\middle_school\\ppg_data\\52911156003013198580665451103658330392.json\n",
      "middle file path: C:\\Users\\Administrator\\Desktop\\PPG_dataset\\PPG_Dataset_ALL\\middle_school\\ppg_data\\128317116583089554602562665360226229321.json\n",
      "middle file path: C:\\Users\\Administrator\\Desktop\\PPG_dataset\\PPG_Dataset_ALL\\middle_school\\ppg_data\\67095250337067540642209923088017646123.json\n",
      "middle file path: C:\\Users\\Administrator\\Desktop\\PPG_dataset\\PPG_Dataset_ALL\\middle_school\\ppg_data\\170576901902942029636162377101847543277.json\n",
      "middle file path: C:\\Users\\Administrator\\Desktop\\PPG_dataset\\PPG_Dataset_ALL\\middle_school\\ppg_data\\36724560921116675115938466280858582222.json\n",
      "middle file path: C:\\Users\\Administrator\\Desktop\\PPG_dataset\\PPG_Dataset_ALL\\middle_school\\ppg_data\\311662384341954762178487789193719087240.json\n",
      "middle file path: C:\\Users\\Administrator\\Desktop\\PPG_dataset\\PPG_Dataset_ALL\\middle_school\\ppg_data\\236294909131969157867605361878614042562.json\n",
      "middle file path: C:\\Users\\Administrator\\Desktop\\PPG_dataset\\PPG_Dataset_ALL\\middle_school\\ppg_data\\16188876798564746412584684539374840092.json\n",
      "middle file path: C:\\Users\\Administrator\\Desktop\\PPG_dataset\\PPG_Dataset_ALL\\middle_school\\ppg_data\\309843458581760469600816966487111706406.json\n",
      "middle file path: C:\\Users\\Administrator\\Desktop\\PPG_dataset\\PPG_Dataset_ALL\\middle_school\\ppg_data\\235792954820569771831655130904093139843.json\n",
      "middle file path: C:\\Users\\Administrator\\Desktop\\PPG_dataset\\PPG_Dataset_ALL\\middle_school\\ppg_data\\166878436120844263663846548022525574653.json\n",
      "middle file path: C:\\Users\\Administrator\\Desktop\\PPG_dataset\\PPG_Dataset_ALL\\middle_school\\ppg_data\\102893678352271687868826902246387286299.json\n",
      "middle file path: C:\\Users\\Administrator\\Desktop\\PPG_dataset\\PPG_Dataset_ALL\\middle_school\\ppg_data\\155934369359599097679754472108514336627.json\n",
      "middle file path: C:\\Users\\Administrator\\Desktop\\PPG_dataset\\PPG_Dataset_ALL\\middle_school\\ppg_data\\317532430221552434669186273018041592902.json\n"
     ]
    }
   ],
   "source": [
    "test_pos_dataset = generate_dataset(test_pos_subjects, label=1, data_aug_times=1)\n",
    "test_neg_dataset = generate_dataset(test_neg_subjects, label=0, data_aug_times=1)"
   ]
  },
  {
   "cell_type": "code",
   "execution_count": 60,
   "metadata": {},
   "outputs": [
    {
     "name": "stdout",
     "output_type": "stream",
     "text": [
      "train pos sample shape: (8157, 40)\n",
      "train neg sample shape: (7694, 40)\n",
      "test pos sample shape: (67, 40)\n",
      "test neg sample shape: (63, 40)\n"
     ]
    }
   ],
   "source": [
    "print(f\"train pos sample shape: {train_pos_dataset.shape}\")\n",
    "print(f\"train neg sample shape: {train_neg_dataset.shape}\")\n",
    "\n",
    "print(f\"test pos sample shape: {test_neg_dataset.shape}\")\n",
    "print(f\"test neg sample shape: {test_pos_dataset.shape}\")"
   ]
  },
  {
   "cell_type": "code",
   "execution_count": 61,
   "metadata": {},
   "outputs": [],
   "source": [
    "columns_drop = []\n",
    "for col in train_pos_dataset.columns[:-4]:\n",
    "    nan_count = (train_pos_dataset[col] == 0).sum() \n",
    "    if nan_count > (len(train_pos_dataset) // 4): \n",
    "        columns_drop.append(col)\n",
    "\n",
    "train_pos_dataset_final = train_pos_dataset.drop(columns=columns_drop, inplace=False)\n",
    "train_neg_dataset_final = train_neg_dataset.drop(columns=columns_drop, inplace=False)\n",
    "\n",
    "test_pos_dataset_final = test_pos_dataset.drop(columns=columns_drop, inplace=False)\n",
    "test_neg_dataset_final = test_neg_dataset.drop(columns=columns_drop, inplace=False)"
   ]
  },
  {
   "cell_type": "code",
   "execution_count": 62,
   "metadata": {},
   "outputs": [
    {
     "name": "stdout",
     "output_type": "stream",
     "text": [
      "After remove the invalid columns, train pos shape: (8157, 29)\n",
      "After remove the invalid columns, train neg shape: (7694, 29)\n",
      "After remove the invalid columns, test pos shape: (63, 29)\n",
      "After remove the invalid columns, test neg shape: (67, 29)\n"
     ]
    }
   ],
   "source": [
    "print(f\"After remove the invalid columns, train pos shape: {train_pos_dataset_final.shape}\")\n",
    "print(f\"After remove the invalid columns, train neg shape: {train_neg_dataset_final.shape}\")\n",
    "\n",
    "print(f\"After remove the invalid columns, test pos shape: {test_pos_dataset_final.shape}\")\n",
    "print(f\"After remove the invalid columns, test neg shape: {test_neg_dataset_final.shape}\")"
   ]
  },
  {
   "cell_type": "markdown",
   "metadata": {},
   "source": [
    "#### Do The Normalization for the Train Dataset and Test Dataset"
   ]
  },
  {
   "cell_type": "code",
   "execution_count": 63,
   "metadata": {},
   "outputs": [],
   "source": [
    "profile_columns = ['wave_quality', 'age', 'gender', 'label', 'id']"
   ]
  },
  {
   "cell_type": "code",
   "execution_count": 74,
   "metadata": {},
   "outputs": [],
   "source": [
    "# 合并训练集\n",
    "train_combined = pd.concat([train_pos_dataset_final, train_neg_dataset_final])\n",
    "\n",
    "# 需要归一化的列\n",
    "columns_to_normalize = train_combined.columns.difference(profile_columns)\n",
    "\n",
    "# 计算最大值和最小值\n",
    "min_values = train_combined[columns_to_normalize].min()\n",
    "max_values = train_combined[columns_to_normalize].max()\n",
    "\n",
    "# 保存最大值和最小值到CSV\n",
    "current_date = datetime.datetime.now().strftime(\"%Y-%m-%d\")\n",
    "outdir = os.path.join(os.getcwd(), 'outdir')\n",
    "os.makedirs(outdir, exist_ok=True)\n",
    "min_max_df = pd.DataFrame({'min': min_values, 'max': max_values})\n",
    "min_max_df.to_csv(f'{outdir}/ppg_depression_norm_minmax_values_{current_date}.csv', index=True)\n",
    "\n",
    "\n",
    "# 定义min-max归一化函数\n",
    "def normalize(df, min_values, max_values):\n",
    "    return (df - min_values) / (max_values - min_values)\n",
    "\n",
    "# 对训练集进行归一化\n",
    "train_pos_dataset_final[columns_to_normalize] = normalize(train_pos_dataset_final[columns_to_normalize], min_values, max_values)\n",
    "train_neg_dataset_final[columns_to_normalize] = normalize(train_neg_dataset_final[columns_to_normalize], min_values, max_values)\n",
    "\n",
    "# 从CSV文件中读取最小值和最大值\n",
    "min_max_df = pd.read_csv(f'{outdir}/ppg_depression_norm_minmax_values_{current_date}.csv', index_col=0)\n",
    "min_values = min_max_df['min']\n",
    "max_values = min_max_df['max']\n",
    "\n",
    "# 对测试集进行归一化\n",
    "test_pos_dataset_final[columns_to_normalize] = normalize(test_pos_dataset_final[columns_to_normalize], min_values, max_values)\n",
    "test_neg_dataset_final[columns_to_normalize] = normalize(test_neg_dataset_final[columns_to_normalize], min_values, max_values)\n"
   ]
  },
  {
   "cell_type": "markdown",
   "metadata": {},
   "source": [
    "#### Save As Pkl File"
   ]
  },
  {
   "cell_type": "code",
   "execution_count": 65,
   "metadata": {},
   "outputs": [],
   "source": [
    "import pandas as pd\n",
    "import seaborn as sns\n",
    "import matplotlib.pyplot as plt"
   ]
  },
  {
   "cell_type": "code",
   "execution_count": 66,
   "metadata": {},
   "outputs": [
    {
     "data": {
      "image/png": "[encoded data removed]",
      "text/plain": [
       "<Figure size 640x480 with 1 Axes>"
      ]
     },
     "metadata": {},
     "output_type": "display_data"
    },
    {
     "data": {
      "image/png": "[encoded data removed]",
      "text/plain": [
       "<Figure size 640x480 with 1 Axes>"
      ]
     },
     "metadata": {},
     "output_type": "display_data"
    },
    {
     "data": {
      "text/plain": [
       "<Axes: xlabel='wave_quality', ylabel='Count'>"
      ]
     },
     "execution_count": 66,
     "metadata": {},
     "output_type": "execute_result"
    },
    {
     "data": {
      "image/png": "[encoded data removed]",
      "text/plain": [
       "<Figure size 640x480 with 1 Axes>"
      ]
     },
     "metadata": {},
     "output_type": "display_data"
    }
   ],
   "source": [
    "from matplotlib import figure\n",
    "\n",
    "plt.subplot(3, 1, 1)  # 1行2列，第1个子图\n",
    "sns.histplot(train_pos_dataset['wave_quality'], kde=True, bins=10)\n",
    "plt.show()\n",
    "\n",
    "plt.subplot(3, 1, 2)  # 1行2列，第1个子图\n",
    "sns.histplot(train_neg_dataset['wave_quality'], kde=True, bins=10)\n",
    "plt.show()\n",
    "\n",
    "plt.subplot(3, 1, 3)  # 1行2列，第1个子图\n",
    "sns.histplot(train_combined['wave_quality'], kde=True, bins=10)"
   ]
  },
  {
   "cell_type": "code",
   "execution_count": 67,
   "metadata": {},
   "outputs": [],
   "source": [
    "wave_quality_threshold = 0.9"
   ]
  },
  {
   "cell_type": "code",
   "execution_count": 68,
   "metadata": {},
   "outputs": [
    {
     "name": "stdout",
     "output_type": "stream",
     "text": [
      "train pos sample shape: (8157, 40)\n",
      "train neg sample shape: (7694, 40)\n",
      "test pos sample shape: (67, 40)\n",
      "test neg sample shape: (63, 40)\n"
     ]
    }
   ],
   "source": [
    "print(f\"train pos sample shape: {train_pos_dataset.shape}\")\n",
    "print(f\"train neg sample shape: {train_neg_dataset.shape}\")\n",
    "\n",
    "print(f\"test pos sample shape: {test_neg_dataset.shape}\")\n",
    "print(f\"test neg sample shape: {test_pos_dataset.shape}\")"
   ]
  },
  {
   "cell_type": "code",
   "execution_count": 69,
   "metadata": {},
   "outputs": [
    {
     "name": "stdout",
     "output_type": "stream",
     "text": [
      "After quality filter, train positive sample count: 5560\n",
      "After quality filter, train negative sample count: 4715\n"
     ]
    }
   ],
   "source": [
    "train_pos_dataset_final_filter = train_pos_dataset_final[train_pos_dataset_final['wave_quality'] >= wave_quality_threshold]\n",
    "train_neg_dataset_final_filter = train_neg_dataset_final[train_neg_dataset_final['wave_quality'] >= wave_quality_threshold]\n",
    "\n",
    "print(f\"After quality filter, train positive sample count: {train_pos_dataset_final_filter.shape[0]}\")\n",
    "print(f\"After quality filter, train negative sample count: {train_neg_dataset_final_filter.shape[0]}\")\n"
   ]
  },
  {
   "cell_type": "code",
   "execution_count": 70,
   "metadata": {},
   "outputs": [],
   "source": [
    "sample_folder = os.path.join(os.getcwd(), 'samples')\n",
    "os.makedirs(sample_folder, exist_ok=True)\n",
    "\n",
    "# 定义要保存的文件路径\n",
    "train_pos_path = os.path.join(sample_folder, 'train_pos_dataset.pkl')\n",
    "train_neg_path = os.path.join(sample_folder, 'train_neg_dataset.pkl')\n",
    "test_pos_path = os.path.join(sample_folder, 'test_pos_dataset.pkl')\n",
    "test_neg_path = os.path.join(sample_folder, 'test_neg_dataset.pkl')\n",
    "\n",
    "# 保存 DataFrame 为 .pkl 文件\n",
    "train_pos_dataset_final[train_pos_dataset_final['wave_quality'] >= wave_quality_threshold].to_pickle(train_pos_path)\n",
    "train_neg_dataset_final[train_neg_dataset_final['wave_quality'] >= wave_quality_threshold].to_pickle(train_neg_path)\n",
    "test_pos_dataset_final[test_pos_dataset_final['wave_quality'] >= wave_quality_threshold].to_pickle(test_pos_path)\n",
    "test_neg_dataset_final[test_neg_dataset_final['wave_quality'] >= wave_quality_threshold].to_pickle(test_neg_path)"
   ]
  },
  {
   "cell_type": "code",
   "execution_count": 71,
   "metadata": {},
   "outputs": [
    {
     "name": "stdout",
     "output_type": "stream",
     "text": [
      "Index(['HRV_MeanNN', 'HRV_SDNN', 'HRV_RMSSD', 'HRV_SDSD', 'HRV_CVNN',\n",
      "       'HRV_CVSD', 'HRV_MedianNN', 'HRV_MadNN', 'HRV_MCVNN', 'HRV_IQRNN',\n",
      "       'HRV_SDRMSSD', 'HRV_Prc20NN', 'HRV_Prc80NN', 'HRV_pNN50', 'HRV_pNN20',\n",
      "       'HRV_MinNN', 'HRV_MaxNN', 'HRV_HTI', 'HRV_TINN', 'HRV_HF', 'HRV_VHF',\n",
      "       'HRV_TP', 'HRV_HFn', 'HRV_LnHF', 'wave_quality', 'label', 'id', 'age',\n",
      "       'gender'],\n",
      "      dtype='object')\n"
     ]
    }
   ],
   "source": [
    "print(train_pos_dataset_final.columns)"
   ]
  }
 ],
 "metadata": {
  "kernelspec": {
   "display_name": "Python 3",
   "language": "python",
   "name": "python3"
  },
  "language_info": {
   "codemirror_mode": {
    "name": "ipython",
    "version": 3
   },
   "file_extension": ".py",
   "mimetype": "text/x-python",
   "name": "python",
   "nbconvert_exporter": "python",
   "pygments_lexer": "ipython3",
   "version": "3.12.2"
  }
 },
 "nbformat": 4,
 "nbformat_minor": 2
}
