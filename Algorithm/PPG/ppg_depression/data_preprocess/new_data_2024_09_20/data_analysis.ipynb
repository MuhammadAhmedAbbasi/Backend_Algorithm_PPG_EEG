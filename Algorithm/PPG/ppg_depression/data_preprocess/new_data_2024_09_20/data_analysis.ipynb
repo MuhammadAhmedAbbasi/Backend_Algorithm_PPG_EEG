{
 "cells": [
  {
   "cell_type": "code",
   "execution_count": 1,
   "metadata": {},
   "outputs": [],
   "source": [
    "import json\n",
    "import os\n",
    "import pandas as pd\n"
   ]
  },
  {
   "cell_type": "code",
   "execution_count": 2,
   "metadata": {},
   "outputs": [],
   "source": [
    "directory = r'../../../data_analysis/new_2024-09-20/outdir/scale_result.xlsx'"
   ]
  },
  {
   "cell_type": "code",
   "execution_count": 3,
   "metadata": {},
   "outputs": [],
   "source": [
    "mht_result = pd.read_excel(directory,sheet_name='心理健康诊断测验-MHT（9-18岁）')\n",
    "insomnia_result = pd.read_excel(directory,sheet_name='阿森斯失眠量表')\n",
    "watch_results = pd.read_excel(directory,sheet_name='watch_result')\n",
    "phq_result = pd.read_excel(directory, sheet_name='抑郁症筛查量表PHQ-9')\n",
    "pss_result = pd.read_excel(directory,sheet_name = '儿童感知压力量表（PSS-C）')"
   ]
  },
  {
   "cell_type": "code",
   "execution_count": 4,
   "metadata": {},
   "outputs": [],
   "source": [
    "# Changing date of birth into age \n",
    "mht_result['birth'] = pd.to_datetime(mht_result['birth'])\n",
    "phq_result['birth'] = pd.to_datetime(phq_result['birth'])\n",
    "pss_result['birth'] = pd.to_datetime(pss_result['birth'])\n",
    "insomnia_result['birth'] = pd.to_datetime(pss_result['birth'])\n",
    "mht_result['age'] = mht_result['birth'].dt.year.map({2012: 12, 2011: 13})\n",
    "phq_result['age'] = phq_result['birth'].dt.year.map({2012: 12, 2011: 13})\n",
    "pss_result['age'] = pss_result['birth'].dt.year.map({2012: 12, 2011: 13})\n",
    "insomnia_result['age'] = insomnia_result['birth'].dt.year.map({2012: 12, 2011: 13})"
   ]
  },
  {
   "cell_type": "markdown",
   "metadata": {},
   "source": [
    "# Dropping the Unavailable users"
   ]
  },
  {
   "cell_type": "code",
   "execution_count": 5,
   "metadata": {},
   "outputs": [
    {
     "data": {
      "text/html": [
       "<div>\n",
       "<style scoped>\n",
       "    .dataframe tbody tr th:only-of-type {\n",
       "        vertical-align: middle;\n",
       "    }\n",
       "\n",
       "    .dataframe tbody tr th {\n",
       "        vertical-align: top;\n",
       "    }\n",
       "\n",
       "    .dataframe thead th {\n",
       "        text-align: right;\n",
       "    }\n",
       "</style>\n",
       "<table border=\"1\" class=\"dataframe\">\n",
       "  <thead>\n",
       "    <tr style=\"text-align: right;\">\n",
       "      <th></th>\n",
       "      <th>user_id</th>\n",
       "      <th>user_name</th>\n",
       "      <th>birth</th>\n",
       "      <th>class</th>\n",
       "      <th>watch_result_Infos</th>\n",
       "    </tr>\n",
       "  </thead>\n",
       "  <tbody>\n",
       "    <tr>\n",
       "      <th>0</th>\n",
       "      <td>2.537094e+38</td>\n",
       "      <td>范子涵</td>\n",
       "      <td>2011-01-20</td>\n",
       "      <td>遂昌民族中学/2024/1班</td>\n",
       "      <td>[{'startTime': '2024-09-12T15:32:06.979', 'end...</td>\n",
       "    </tr>\n",
       "    <tr>\n",
       "      <th>1</th>\n",
       "      <td>1.477914e+38</td>\n",
       "      <td>曹宇杰</td>\n",
       "      <td>2012-02-27</td>\n",
       "      <td>遂昌民族中学/2024/1班</td>\n",
       "      <td>[{'startTime': '2024-09-12T15:32:24.756', 'end...</td>\n",
       "    </tr>\n",
       "    <tr>\n",
       "      <th>2</th>\n",
       "      <td>1.103556e+38</td>\n",
       "      <td>龚嘉悦</td>\n",
       "      <td>2012-02-04</td>\n",
       "      <td>遂昌民族中学/2024/1班</td>\n",
       "      <td>[{'startTime': '2024-09-12T15:31:40.441', 'end...</td>\n",
       "    </tr>\n",
       "    <tr>\n",
       "      <th>3</th>\n",
       "      <td>1.402538e+38</td>\n",
       "      <td>潘凯莉</td>\n",
       "      <td>2011-10-05</td>\n",
       "      <td>遂昌民族中学/2024/1班</td>\n",
       "      <td>[{'startTime': '2024-09-12T15:31:32.358', 'end...</td>\n",
       "    </tr>\n",
       "    <tr>\n",
       "      <th>4</th>\n",
       "      <td>4.106441e+37</td>\n",
       "      <td>张晨熙</td>\n",
       "      <td>2012-06-29</td>\n",
       "      <td>遂昌民族中学/2024/1班</td>\n",
       "      <td>[{'startTime': '2024-09-12T15:32:03.027', 'end...</td>\n",
       "    </tr>\n",
       "    <tr>\n",
       "      <th>...</th>\n",
       "      <td>...</td>\n",
       "      <td>...</td>\n",
       "      <td>...</td>\n",
       "      <td>...</td>\n",
       "      <td>...</td>\n",
       "    </tr>\n",
       "    <tr>\n",
       "      <th>504</th>\n",
       "      <td>6.156942e+37</td>\n",
       "      <td>李震洋</td>\n",
       "      <td>2012-02-24</td>\n",
       "      <td>遂昌民族中学/2024/14班</td>\n",
       "      <td>[{'startTime': '2024-09-12T14:35:59.069', 'end...</td>\n",
       "    </tr>\n",
       "    <tr>\n",
       "      <th>505</th>\n",
       "      <td>2.194261e+38</td>\n",
       "      <td>徐煜棠</td>\n",
       "      <td>2012-09-20</td>\n",
       "      <td>遂昌民族中学/2024/14班</td>\n",
       "      <td>[{'startTime': '2024-09-12T14:41:13.397', 'end...</td>\n",
       "    </tr>\n",
       "    <tr>\n",
       "      <th>506</th>\n",
       "      <td>2.930861e+38</td>\n",
       "      <td>雷文慧</td>\n",
       "      <td>2012-02-08</td>\n",
       "      <td>遂昌民族中学/2024/14班</td>\n",
       "      <td>[{'startTime': '2024-09-12T14:36:47.068', 'end...</td>\n",
       "    </tr>\n",
       "    <tr>\n",
       "      <th>507</th>\n",
       "      <td>2.988898e+38</td>\n",
       "      <td>王宇航</td>\n",
       "      <td>2011-03-12</td>\n",
       "      <td>遂昌民族中学/2024/14班</td>\n",
       "      <td>[{'startTime': None, 'endTime': None, 'dataRes...</td>\n",
       "    </tr>\n",
       "    <tr>\n",
       "      <th>508</th>\n",
       "      <td>2.157921e+38</td>\n",
       "      <td>陈梓林</td>\n",
       "      <td>2012-06-28</td>\n",
       "      <td>遂昌民族中学/2024/15</td>\n",
       "      <td>[{'startTime': '2024-09-12T15:06:40.485', 'end...</td>\n",
       "    </tr>\n",
       "  </tbody>\n",
       "</table>\n",
       "<p>509 rows × 5 columns</p>\n",
       "</div>"
      ],
      "text/plain": [
       "          user_id user_name       birth            class  \\\n",
       "0    2.537094e+38       范子涵  2011-01-20   遂昌民族中学/2024/1班   \n",
       "1    1.477914e+38       曹宇杰  2012-02-27   遂昌民族中学/2024/1班   \n",
       "2    1.103556e+38       龚嘉悦  2012-02-04   遂昌民族中学/2024/1班   \n",
       "3    1.402538e+38       潘凯莉  2011-10-05   遂昌民族中学/2024/1班   \n",
       "4    4.106441e+37       张晨熙  2012-06-29   遂昌民族中学/2024/1班   \n",
       "..            ...       ...         ...              ...   \n",
       "504  6.156942e+37       李震洋  2012-02-24  遂昌民族中学/2024/14班   \n",
       "505  2.194261e+38       徐煜棠  2012-09-20  遂昌民族中学/2024/14班   \n",
       "506  2.930861e+38       雷文慧  2012-02-08  遂昌民族中学/2024/14班   \n",
       "507  2.988898e+38       王宇航  2011-03-12  遂昌民族中学/2024/14班   \n",
       "508  2.157921e+38       陈梓林  2012-06-28   遂昌民族中学/2024/15   \n",
       "\n",
       "                                    watch_result_Infos  \n",
       "0    [{'startTime': '2024-09-12T15:32:06.979', 'end...  \n",
       "1    [{'startTime': '2024-09-12T15:32:24.756', 'end...  \n",
       "2    [{'startTime': '2024-09-12T15:31:40.441', 'end...  \n",
       "3    [{'startTime': '2024-09-12T15:31:32.358', 'end...  \n",
       "4    [{'startTime': '2024-09-12T15:32:03.027', 'end...  \n",
       "..                                                 ...  \n",
       "504  [{'startTime': '2024-09-12T14:35:59.069', 'end...  \n",
       "505  [{'startTime': '2024-09-12T14:41:13.397', 'end...  \n",
       "506  [{'startTime': '2024-09-12T14:36:47.068', 'end...  \n",
       "507  [{'startTime': None, 'endTime': None, 'dataRes...  \n",
       "508  [{'startTime': '2024-09-12T15:06:40.485', 'end...  \n",
       "\n",
       "[509 rows x 5 columns]"
      ]
     },
     "execution_count": 5,
     "metadata": {},
     "output_type": "execute_result"
    }
   ],
   "source": [
    "watch_results"
   ]
  },
  {
   "cell_type": "code",
   "execution_count": 6,
   "metadata": {},
   "outputs": [
    {
     "name": "stdout",
     "output_type": "stream",
     "text": [
      "[2.537093913537809e+38, 1.477913642443515e+38, 1.103555664857309e+38, 1.402537984585597e+38, 4.106440794533578e+37, 2.503545104506297e+38, 3.66821449892917e+37, 2.910257551164351e+38, 2.241686246836668e+38, 2.702053694040114e+38, 2.535407591489115e+38, 4.015371756066878e+37, 1.608206718771619e+38, 1.506633766343997e+38, 1.547159297343372e+38, 2.178335927452169e+38, 3.061409590343552e+38, 2.226195553689302e+38, 2.041617940508707e+38, 2.1281112033231e+38, 2.995592229568458e+37, 2.284749799817737e+38, 2.084216281465097e+38, 2.049108347386047e+38, 8.145997167683457e+37, 1.557471075944643e+38, 2.815277054522703e+38, 1.055231843780788e+38, 9.119750029803594e+37, 2.493925693361653e+37, 1.783885570809238e+38, 2.137069020154083e+38, 7.834605180236473e+37, 3.107630916784254e+37, 5.857368778508965e+37, 2.566833142344762e+38, 6.085398598564753e+37, 1.304909481114316e+38, 1.778216023889086e+38, 1.711319608499946e+38, 1.531085960555335e+38, 2.445833261924319e+37, 2.981028409440889e+38, 2.478310543092672e+38, 3.117429525608813e+38, 1.950852652625153e+38, 2.784091094624052e+38, 1.867077291305103e+38, 1.248624786603928e+37, 1.64840113105671e+38, 9.830506997461866e+37, 6.877691846069854e+37, 1.537390452689807e+37, 7.137889907937391e+37, 1.278301111014479e+38, 2.51837762566877e+38, 2.307376900793318e+38, 3.37822661658404e+37, 6.577103875133869e+37, 1.818052698816639e+38, 2.3815647027518e+38, 1.135914241692963e+38, 6.999211645577069e+37, 3.170471716415308e+38, 5.254204158166378e+37, 2.384964883155677e+38, 2.952748885879872e+38, 1.445869043237146e+38, 2.91069591353137e+38, 2.040834678036783e+37, 2.150333698659742e+38, 2.014598275094562e+38, 2.161090296033135e+38, 4.603793585993654e+37, 2.600713630476359e+38, 7.547592695350066e+37, 1.005073802135173e+38, 2.110624938667323e+38, 6.515652509098205e+37, 1.867710896076282e+38, 5.688160780533038e+37, 2.943056846123771e+38, 1.148029252859751e+38, 1.545784274359138e+37, 2.518402321091979e+37, 2.018906263539143e+38, 3.128055330562803e+38, 2.716054144348295e+38, 2.686827250040639e+38, 2.02920890482974e+38, 2.072754090889986e+38, 3.194156517529833e+38, 6.76895712361414e+37, 2.076600339913752e+38, 1.446589282293259e+38, 6.313135161835361e+37, 2.302365428075891e+37, 1.326052915416843e+38, 1.300279466273567e+38, 2.718497442114309e+38, 5.167237672351302e+37, 3.391162726790345e+38, 3.165330902162655e+38, 2.105618113928821e+38, 3.240892768580859e+38, 3.932888249870674e+37, 2.242106105459476e+38, 1.617910954155552e+38, 1.671829439785207e+38, 2.525098170047902e+38, 3.301867788450057e+37, 3.698773665306369e+37, 1.24748406923065e+38, 2.910013735119453e+38, 4.94290338144043e+37, 7.644103564350256e+37, 1.841685912672697e+38, 1.940744427567685e+38, 2.304773818474639e+38, 1.051172918272153e+38, 2.476658474386827e+38, 2.330693301060174e+38, 3.183960375211726e+38, 1.599770249360711e+38, 6.598200029553446e+37, 1.066645003330831e+38, 2.141416865701816e+38, 5.949623239998794e+37, 1.059532941566505e+38, 1.549018437839139e+38, 7.939940421874178e+37, 1.663883534080715e+38, 1.66790871413297e+38, 2.706798651207261e+37, 1.28558731854543e+38, 3.034271906780639e+38, 3.265816839780023e+38, 2.367936936252609e+38, 2.995632268573572e+38, 2.229657732094693e+38, 2.519590684104162e+38, 1.483289805812968e+38, 3.21055492160505e+38, 1.147989086638328e+38, 1.173672086768675e+38, 2.306263520265566e+38, 2.116604550613046e+37, 1.419984622350967e+38, 2.163334883512657e+38, 1.147587810712104e+37, 1.479261043300203e+38, 2.964991719560468e+38, 2.099990551049485e+38, 5.976969567690805e+36, 1.717608927010708e+36, 2.329597141164004e+38, 3.08781638218037e+38, 1.579831340652168e+37, 9.115126960178817e+37, 6.08352549255696e+37, 3.247296340423968e+38, 2.338214590653045e+38, 1.64589429271797e+38, 6.752257864351208e+37, 1.59986596930751e+37, 2.901871797084743e+38, 2.224283857275686e+38, 1.471006098331782e+38, 1.04800610169308e+38, 3.773447221601232e+37, 2.630372329057713e+38, 2.720573216396144e+38, 1.359570793463064e+38, 2.466577122847769e+38, 2.055844185554018e+38, 3.299750651847918e+38, 3.054956818428932e+38, 2.667027463483493e+38, 1.878395392940095e+38, 2.065150378302976e+38, 2.175167655228657e+38, 9.642231986908087e+37, 2.303673019622101e+38, 3.0999906470602e+38, 3.35660343756287e+38, 2.250763824219103e+38, 5.37468742755382e+37, 8.446783436030323e+37, 8.251971442069643e+36, 1.131909029937123e+38, 1.714082798510076e+38, 3.86738678882679e+37, 1.361582517268151e+38, 2.795902189403808e+38, 3.136156903258658e+38, 1.881111065616533e+38, 1.196796890922561e+38, 2.653602985991803e+38, 2.925546031058613e+38, 1.83647240545654e+38, 2.554600895913585e+38, 3.400560949164205e+38, 2.983999971360783e+37, 3.294822097002541e+38, 3.218699885188995e+38, 2.181824581201226e+38, 3.338968692197395e+38, 2.858781047740355e+38, 2.676245991934933e+38, 1.137334896277507e+38, 2.416969108819552e+38, 2.688689546730966e+38, 7.970451534119674e+37, 1.781879555083448e+38, 1.339964955563145e+38, 3.233177439406082e+38, 2.359511335362751e+38, 2.461931352366993e+38, 8.656550330017303e+37, 1.294165514472278e+38, 2.871996271334741e+38, 3.376447405698326e+38, 1.800614462470094e+38, 2.410703070341507e+38, 2.608888012861139e+37, 1.747710121583061e+38, 3.386562925902533e+37, 2.741735236055807e+38, 4.198753098825293e+37, 2.736904966581263e+38, 8.487459366313008e+37, 2.12291325887363e+38, 1.695223972871099e+38, 1.679094089294706e+38, 2.074587262895058e+38, 2.924413983968353e+38, 2.047941611485152e+38, 2.794464682552176e+36, 3.239729986296043e+38, 2.455791120686739e+38, 1.396962869091791e+38, 2.144160258871133e+38, 8.889581030848489e+37, 2.686389543951152e+38, 1.753202816537435e+37, 1.825970418511805e+38, 1.838807364567439e+38, 2.494915374110649e+38, 2.559624105900889e+38, 2.398352185249447e+37, 1.303431222402484e+37, 8.324134360532799e+37, 1.145889359146071e+38, 1.66567683078766e+38, 1.019348960705288e+38, 3.913191215872244e+37, 1.206630396708443e+38, 3.230936397167437e+38, 6.066623801867977e+37, 2.682674642333293e+37, 7.839154308579661e+37, 1.863332751649791e+38, 2.315969689385727e+37, 1.838980272959809e+37, 6.275951316192424e+37, 8.072321310879334e+37, 3.278035944455814e+38, 2.593526912973899e+38, 2.050939389449081e+38, 2.626705349624203e+38, 1.857671757340837e+38, 6.227893917529498e+37, 1.992628808529055e+38, 4.47618129300518e+37, 1.55403801274133e+38, 6.89743997229006e+37, 3.057319626983243e+38, 3.344770758132315e+38, 2.549503848480792e+38, 2.424144876644556e+37, 1.979986415882612e+38, 3.052146762200371e+38, 2.633721068944158e+38, 2.50547315508913e+38, 9.276200383139097e+37, 8.766731099258624e+37, 3.22560480905086e+38, 3.364801480452064e+38, 2.861926067468998e+38, 7.759039726630425e+37, 2.08499999324549e+38, 2.309676789479609e+38, 1.917878740481749e+38, 9.001462598314103e+37, 1.665231677555268e+38, 3.090607176844749e+38, 1.570343674295946e+38, 2.384599305411867e+38, 5.153624840409502e+37, 1.352164501137906e+38, 1.080404140068771e+38, 1.529801154378975e+37, 6.19156920869988e+37, 9.657258974409532e+36, 8.121761481602121e+37, 1.057354613806684e+38, 3.044084608492854e+38, 1.050277172036644e+38, 3.111624038760024e+38, 1.499281997404212e+38, 2.770660215329661e+38, 5.231780037904475e+37, 2.263380827475428e+38, 8.813557195098266e+37, 2.663573621569546e+38, 5.047494952831323e+37, 2.244545002973773e+38, 1.771329100266132e+38, 2.709218052046837e+38, 3.311951745213574e+38, 2.251310051282157e+38, 9.062923768667929e+37, 2.903026130111714e+38, 1.541320595099187e+38, 1.177405045427365e+38, 2.03682568719702e+38, 1.040532005571214e+37, 2.72523343909936e+38, 1.761755168204853e+38, 1.380689142136993e+38, 1.758900934271663e+37, 1.934617172713395e+38, 1.352364142113993e+38, 1.666579291542435e+38, 2.773788009696341e+38, 1.903031938596014e+37, 1.945160219906826e+36, 8.812066910250202e+37, 2.476774693287785e+37, 6.156942238367365e+37, 2.194260753729134e+38, 2.930861138660798e+38, 2.15792072890142e+38]\n"
     ]
    }
   ],
   "source": [
    "all_users = []\n",
    "for result in range(len(watch_results)):\n",
    "    watch_data = watch_results.iloc[result]\n",
    "    student_name = watch_data['user_id']\n",
    "    student_watch_info =watch_data['watch_result_Infos']\n",
    "    data = str(student_watch_info).split()\n",
    "    dataResultId = data[-1].split('}]')\n",
    "    if dataResultId!= None:\n",
    "        all_users.append((student_name, dataResultId[0]))\n",
    "selected_users = [i[0] for i in all_users if i[1]!= \"None\"]\n",
    "selected_users_dataResultId = [(i[0],i[1]) for i in all_users if i[1]!= \"None\"]\n",
    "print(selected_users)\n"
   ]
  },
  {
   "cell_type": "code",
   "execution_count": 7,
   "metadata": {},
   "outputs": [],
   "source": [
    "# Selected valid subjects\n",
    "selected_users_scale = mht_result[mht_result['user_id'].isin(selected_users)]\n",
    "\n",
    "user_df = pd.DataFrame(selected_users_dataResultId, columns=['user_id', 'subjectid'])\n",
    "user_df['subjectid'] = user_df['subjectid'].str.strip(\"'\")\n",
    "selected_users_scale = user_df.merge(selected_users_scale, how = 'inner', on = 'user_id')\n",
    "\n",
    "# Selecting the students whose attentiveness is good i.e. less than 5\n",
    "selected_valid_data = selected_users_scale[selected_users_scale['效度']<= 4]\n",
    "invalid_subject_data = selected_users_scale[selected_users_scale['效度']>4]\n",
    "\n",
    "final_selected_ids = selected_valid_data['user_id'].to_list()\n",
    "final_unselected_ids = invalid_subject_data['user_id'].to_list()"
   ]
  },
  {
   "cell_type": "code",
   "execution_count": 8,
   "metadata": {},
   "outputs": [
    {
     "name": "stdout",
     "output_type": "stream",
     "text": [
      "VALUE COUNT FOR SERIOUSNESS CHECK:  效度\n",
      "2.0    84\n",
      "1.0    84\n",
      "3.0    65\n",
      "4.0    45\n",
      "0.0    44\n",
      "Name: count, dtype: int64\n"
     ]
    }
   ],
   "source": [
    "print(\"VALUE COUNT FOR SERIOUSNESS CHECK: \", selected_valid_data['效度'].sort_values(ascending= False).value_counts())"
   ]
  },
  {
   "cell_type": "markdown",
   "metadata": {},
   "source": [
    "# MHT DEPRESSION RESULT"
   ]
  },
  {
   "cell_type": "code",
   "execution_count": 9,
   "metadata": {},
   "outputs": [
    {
     "name": "stderr",
     "output_type": "stream",
     "text": [
      "C:\\Users\\Administrator\\AppData\\Local\\Temp\\ipykernel_11820\\1723780855.py:4: SettingWithCopyWarning: \n",
      "A value is trying to be set on a copy of a slice from a DataFrame.\n",
      "Try using .loc[row_indexer,col_indexer] = value instead\n",
      "\n",
      "See the caveats in the documentation: https://pandas.pydata.org/pandas-docs/stable/user_guide/indexing.html#returning-a-view-versus-a-copy\n",
      "  selected_valid_data[depression_columns] = selected_valid_data[depression_columns].apply(lambda x: x.map(map_data))\n",
      "C:\\Users\\Administrator\\AppData\\Local\\Temp\\ipykernel_11820\\1723780855.py:5: SettingWithCopyWarning: \n",
      "A value is trying to be set on a copy of a slice from a DataFrame.\n",
      "Try using .loc[row_indexer,col_indexer] = value instead\n",
      "\n",
      "See the caveats in the documentation: https://pandas.pydata.org/pandas-docs/stable/user_guide/indexing.html#returning-a-view-versus-a-copy\n",
      "  selected_valid_data['depression_sum'] = selected_valid_data[depression_columns].sum(axis=1)\n"
     ]
    }
   ],
   "source": [
    "# Finading Depression Sum\n",
    "map_data = {'否': 0 ,'是': 1}\n",
    "depression_columns = ['你和大家在—起时，是否觉得自己是多余的人? ', '你是否经常会突然想哭? ', '你有时是否会觉得，还是死了好？ ', '你是否经常想从高的地方跳下来? ']\n",
    "selected_valid_data[depression_columns] = selected_valid_data[depression_columns].apply(lambda x: x.map(map_data))\n",
    "selected_valid_data['depression_sum'] = selected_valid_data[depression_columns].sum(axis=1)\n"
   ]
  },
  {
   "cell_type": "code",
   "execution_count": 10,
   "metadata": {},
   "outputs": [
    {
     "data": {
      "text/plain": [
       "depression_sum\n",
       "0    170\n",
       "1     71\n",
       "2     39\n",
       "3     24\n",
       "4     18\n",
       "Name: count, dtype: int64"
      ]
     },
     "execution_count": 10,
     "metadata": {},
     "output_type": "execute_result"
    }
   ],
   "source": [
    "selected_valid_data['depression_sum'].value_counts()"
   ]
  },
  {
   "cell_type": "code",
   "execution_count": 11,
   "metadata": {},
   "outputs": [
    {
     "name": "stdout",
     "output_type": "stream",
     "text": [
      "(322, 319)\n"
     ]
    },
    {
     "name": "stderr",
     "output_type": "stream",
     "text": [
      "C:\\Users\\Administrator\\AppData\\Local\\Temp\\ipykernel_11820\\2322901203.py:1: SettingWithCopyWarning: \n",
      "A value is trying to be set on a copy of a slice from a DataFrame.\n",
      "Try using .loc[row_indexer,col_indexer] = value instead\n",
      "\n",
      "See the caveats in the documentation: https://pandas.pydata.org/pandas-docs/stable/user_guide/indexing.html#returning-a-view-versus-a-copy\n",
      "  selected_valid_data['depression_label'] = selected_valid_data['depression_sum'].apply(lambda x: 1 if x >= 3 else (0 if x == 0 else -1))\n"
     ]
    }
   ],
   "source": [
    "selected_valid_data['depression_label'] = selected_valid_data['depression_sum'].apply(lambda x: 1 if x >= 3 else (0 if x == 0 else -1))\n",
    "\n",
    "print(selected_valid_data.shape)"
   ]
  },
  {
   "cell_type": "code",
   "execution_count": 12,
   "metadata": {},
   "outputs": [
    {
     "data": {
      "text/plain": [
       "depression_label\n",
       " 0    170\n",
       "-1    110\n",
       " 1     42\n",
       "Name: count, dtype: int64"
      ]
     },
     "execution_count": 12,
     "metadata": {},
     "output_type": "execute_result"
    }
   ],
   "source": [
    "selected_valid_data['depression_label'].value_counts()"
   ]
  },
  {
   "cell_type": "markdown",
   "metadata": {},
   "source": [
    "# 抑郁症筛查量表PHQ-9"
   ]
  },
  {
   "cell_type": "code",
   "execution_count": 13,
   "metadata": {},
   "outputs": [],
   "source": [
    "phq_result = phq_result[phq_result['user_id'].isin(final_selected_ids)]  # User Id's are selected from MHT scale as they have the information of how many students were attentive at that time\n",
    "phq_result['depression_sum'] = len(phq_result)*[0]"
   ]
  },
  {
   "cell_type": "code",
   "execution_count": 14,
   "metadata": {},
   "outputs": [],
   "source": [
    "depression_scale_questions = phq_result.columns[4:]\n",
    "selected_questions = []\n",
    "for question in depression_scale_questions:\n",
    "    if str(question).startswith('question') and str(question).endswith('core'):\n",
    "        selected_questions.append(question)\n",
    "phq_result['depression_sum'] = phq_result[selected_questions].sum(axis = 1)"
   ]
  },
  {
   "cell_type": "code",
   "execution_count": 15,
   "metadata": {},
   "outputs": [],
   "source": [
    "phq_result_depression = selected_users_scale[['user_name','subjectid']].merge(phq_result,how= 'inner', on = 'user_name')"
   ]
  },
  {
   "cell_type": "code",
   "execution_count": 16,
   "metadata": {},
   "outputs": [],
   "source": [
    "phq_result_depression['depression_label'] = phq_result_depression['depression_sum'].apply(lambda x: 1 if x >= 9 else (0 if x == 0 else -1))"
   ]
  },
  {
   "cell_type": "code",
   "execution_count": 17,
   "metadata": {},
   "outputs": [
    {
     "data": {
      "text/plain": [
       "depression_label\n",
       "-1    192\n",
       " 0     88\n",
       " 1     42\n",
       "Name: count, dtype: int64"
      ]
     },
     "execution_count": 17,
     "metadata": {},
     "output_type": "execute_result"
    }
   ],
   "source": [
    "phq_result_depression['depression_label'].value_counts()"
   ]
  },
  {
   "cell_type": "markdown",
   "metadata": {},
   "source": [
    "# MHT Anxiety Result"
   ]
  },
  {
   "cell_type": "code",
   "execution_count": 18,
   "metadata": {},
   "outputs": [
    {
     "name": "stdout",
     "output_type": "stream",
     "text": [
      "anxiety item count: 20\n"
     ]
    }
   ],
   "source": [
    "# Finding Anxiety Sum \n",
    "anxiety_columns = ['你晚上要睡觉时，是否总想着明天的功课? ', '你是否一听说“要考试”心里就紧张。 ', '你学习成绩不好时，是否总是提心吊胆? ', '你考试时，想不起原先掌握的知识时，是否会感到紧张不安? ', \\\n",
    "                   '你考试后，在没有知道成绩之前，是否总是放心不下? ', '你是否一遇到考试，就担心会考坏? ', '你在没有完成任务之前，是否总担心完不成任务？ ', '你当着大家面朗读课文时，是否总是怕读错? ',\n",
    "                   '你是否认为学校里得到的学习成绩总是不大可靠? ', '你是否认为你比别人更担心学习? ', '你是否做过考试考坏了的梦? ', '你是否做过学习成绩不好时，受到爸爸妈妈或老师训斥的梦? ', '你在工作或学习时，如果有人在注意你，你心里是否会紧张? ', \\\n",
    "                   '你受到老师批评时，心里是否总是不安? ', '你心里是否总觉得好像有什么事没有做好? ', '你是否总担心会发生什么意外的事？ ', '你被老师提问时，心里是否总是很紧张? ', '你是否经常咬指甲? ', '你是否经常感到呼吸困难? ', '你是否会经常急躁得坐立不安? ']\n",
    "print(f\"anxiety item count: {len(anxiety_columns)}\")"
   ]
  },
  {
   "cell_type": "code",
   "execution_count": 19,
   "metadata": {},
   "outputs": [
    {
     "name": "stderr",
     "output_type": "stream",
     "text": [
      "C:\\Users\\Administrator\\AppData\\Local\\Temp\\ipykernel_11820\\1593359991.py:2: SettingWithCopyWarning: \n",
      "A value is trying to be set on a copy of a slice from a DataFrame.\n",
      "Try using .loc[row_indexer,col_indexer] = value instead\n",
      "\n",
      "See the caveats in the documentation: https://pandas.pydata.org/pandas-docs/stable/user_guide/indexing.html#returning-a-view-versus-a-copy\n",
      "  selected_valid_data[anxiety_columns] = selected_valid_data[anxiety_columns].apply(lambda x: x.map(map_data))\n",
      "C:\\Users\\Administrator\\AppData\\Local\\Temp\\ipykernel_11820\\1593359991.py:3: SettingWithCopyWarning: \n",
      "A value is trying to be set on a copy of a slice from a DataFrame.\n",
      "Try using .loc[row_indexer,col_indexer] = value instead\n",
      "\n",
      "See the caveats in the documentation: https://pandas.pydata.org/pandas-docs/stable/user_guide/indexing.html#returning-a-view-versus-a-copy\n",
      "  selected_valid_data['anxiety_sum'] = selected_valid_data[anxiety_columns].sum(axis=1)\n",
      "C:\\Users\\Administrator\\AppData\\Local\\Temp\\ipykernel_11820\\1593359991.py:5: SettingWithCopyWarning: \n",
      "A value is trying to be set on a copy of a slice from a DataFrame.\n",
      "Try using .loc[row_indexer,col_indexer] = value instead\n",
      "\n",
      "See the caveats in the documentation: https://pandas.pydata.org/pandas-docs/stable/user_guide/indexing.html#returning-a-view-versus-a-copy\n",
      "  invalid_subject_data[anxiety_columns] = invalid_subject_data[anxiety_columns].apply(lambda x: x.map(map_data))\n",
      "C:\\Users\\Administrator\\AppData\\Local\\Temp\\ipykernel_11820\\1593359991.py:6: SettingWithCopyWarning: \n",
      "A value is trying to be set on a copy of a slice from a DataFrame.\n",
      "Try using .loc[row_indexer,col_indexer] = value instead\n",
      "\n",
      "See the caveats in the documentation: https://pandas.pydata.org/pandas-docs/stable/user_guide/indexing.html#returning-a-view-versus-a-copy\n",
      "  invalid_subject_data['anxiety_sum'] = invalid_subject_data[anxiety_columns].sum(axis = 1)\n"
     ]
    }
   ],
   "source": [
    "map_data = {'否': 0 ,'是': 1}\n",
    "selected_valid_data[anxiety_columns] = selected_valid_data[anxiety_columns].apply(lambda x: x.map(map_data))\n",
    "selected_valid_data['anxiety_sum'] = selected_valid_data[anxiety_columns].sum(axis=1)\n",
    "\n",
    "invalid_subject_data[anxiety_columns] = invalid_subject_data[anxiety_columns].apply(lambda x: x.map(map_data))\n",
    "invalid_subject_data['anxiety_sum'] = invalid_subject_data[anxiety_columns].sum(axis = 1)\n",
    "unselected_valid_data = selected_valid_data.copy()"
   ]
  },
  {
   "cell_type": "code",
   "execution_count": 20,
   "metadata": {},
   "outputs": [
    {
     "name": "stdout",
     "output_type": "stream",
     "text": [
      "(322, 321)\n"
     ]
    },
    {
     "name": "stderr",
     "output_type": "stream",
     "text": [
      "C:\\Users\\Administrator\\AppData\\Local\\Temp\\ipykernel_11820\\1578320787.py:1: SettingWithCopyWarning: \n",
      "A value is trying to be set on a copy of a slice from a DataFrame.\n",
      "Try using .loc[row_indexer,col_indexer] = value instead\n",
      "\n",
      "See the caveats in the documentation: https://pandas.pydata.org/pandas-docs/stable/user_guide/indexing.html#returning-a-view-versus-a-copy\n",
      "  selected_valid_data['anxiety_label'] = selected_valid_data['anxiety_sum'].apply(lambda x: 1 if x >= 15 else (0 if x < 6 else -1))\n"
     ]
    }
   ],
   "source": [
    "selected_valid_data['anxiety_label'] = selected_valid_data['anxiety_sum'].apply(lambda x: 1 if x >= 15 else (0 if x < 6 else -1))\n",
    "\n",
    "print(selected_valid_data.shape)"
   ]
  },
  {
   "cell_type": "code",
   "execution_count": 21,
   "metadata": {},
   "outputs": [
    {
     "data": {
      "text/plain": [
       "anxiety_label\n",
       "-1    205\n",
       " 0     80\n",
       " 1     37\n",
       "Name: count, dtype: int64"
      ]
     },
     "execution_count": 21,
     "metadata": {},
     "output_type": "execute_result"
    }
   ],
   "source": [
    "selected_valid_data['anxiety_label'].value_counts()"
   ]
  },
  {
   "cell_type": "markdown",
   "metadata": {},
   "source": [
    "# Invalid Depression Subjects"
   ]
  },
  {
   "cell_type": "code",
   "execution_count": 22,
   "metadata": {},
   "outputs": [
    {
     "name": "stdout",
     "output_type": "stream",
     "text": [
      "(128, 320)\n"
     ]
    },
    {
     "name": "stderr",
     "output_type": "stream",
     "text": [
      "C:\\Users\\Administrator\\AppData\\Local\\Temp\\ipykernel_11820\\291713085.py:4: SettingWithCopyWarning: \n",
      "A value is trying to be set on a copy of a slice from a DataFrame.\n",
      "Try using .loc[row_indexer,col_indexer] = value instead\n",
      "\n",
      "See the caveats in the documentation: https://pandas.pydata.org/pandas-docs/stable/user_guide/indexing.html#returning-a-view-versus-a-copy\n",
      "  invalid_subject_data[depression_columns] = invalid_subject_data[depression_columns].apply(lambda x: x.map(map_data))\n",
      "C:\\Users\\Administrator\\AppData\\Local\\Temp\\ipykernel_11820\\291713085.py:5: SettingWithCopyWarning: \n",
      "A value is trying to be set on a copy of a slice from a DataFrame.\n",
      "Try using .loc[row_indexer,col_indexer] = value instead\n",
      "\n",
      "See the caveats in the documentation: https://pandas.pydata.org/pandas-docs/stable/user_guide/indexing.html#returning-a-view-versus-a-copy\n",
      "  invalid_subject_data['depression_sum'] = invalid_subject_data[depression_columns].sum(axis=1)\n",
      "C:\\Users\\Administrator\\AppData\\Local\\Temp\\ipykernel_11820\\291713085.py:10: SettingWithCopyWarning: \n",
      "A value is trying to be set on a copy of a slice from a DataFrame.\n",
      "Try using .loc[row_indexer,col_indexer] = value instead\n",
      "\n",
      "See the caveats in the documentation: https://pandas.pydata.org/pandas-docs/stable/user_guide/indexing.html#returning-a-view-versus-a-copy\n",
      "  invalid_subject_data['depression_label'] = invalid_subject_data['depression_sum'].apply(lambda x: 1 if x >= 3 else (0))\n"
     ]
    },
    {
     "data": {
      "text/plain": [
       "depression_label\n",
       "0    128\n",
       "Name: count, dtype: int64"
      ]
     },
     "execution_count": 22,
     "metadata": {},
     "output_type": "execute_result"
    }
   ],
   "source": [
    "# Finading Depression Sum\n",
    "map_data = {'否': 0 ,'是': 1}\n",
    "depression_columns = ['你和大家在—起时，是否觉得自己是多余的人? ', '你是否经常会突然想哭? ', '你有时是否会觉得，还是死了好？ ', '你是否经常想从高的地方跳下来? ']\n",
    "invalid_subject_data[depression_columns] = invalid_subject_data[depression_columns].apply(lambda x: x.map(map_data))\n",
    "invalid_subject_data['depression_sum'] = invalid_subject_data[depression_columns].sum(axis=1)\n",
    "\n",
    "\n",
    "invalid_subject_data['depression_sum'].value_counts()\n",
    "\n",
    "invalid_subject_data['depression_label'] = invalid_subject_data['depression_sum'].apply(lambda x: 1 if x >= 3 else (0))\n",
    "\n",
    "unselected_valid_data['depression_label'] = unselected_valid_data['depression_sum'].apply(lambda x: 0 if x == 2 or x == 1 else (-1))\n",
    "final_evaluation_subjects = pd.concat([invalid_subject_data,unselected_valid_data])\n",
    "final_evaluation_subjects =final_evaluation_subjects[final_evaluation_subjects['depression_label'] == 0]\n",
    "print(final_evaluation_subjects.shape)\n",
    "\n",
    "final_evaluation_subjects['depression_label'].value_counts()"
   ]
  },
  {
   "cell_type": "markdown",
   "metadata": {},
   "source": [
    "# Stress Result"
   ]
  },
  {
   "cell_type": "code",
   "execution_count": 23,
   "metadata": {},
   "outputs": [],
   "source": [
    "pss_result = pss_result[pss_result['user_id'].isin(final_selected_ids)]\n",
    "pss_result = selected_users_scale[['user_id','subjectid']].merge(pss_result)\n",
    "positive_questions = ['question_1_answer_core', 'question_4_answer_core', 'question_8_answer_core', 'question_10_answer_core', 'question_17_answer_core']\n",
    "for col in positive_questions:\n",
    "    pss_result[col] = 5 - pss_result[col]\n",
    "\n",
    "\n",
    "pss_columns = []\n",
    "for features in pss_result.columns:\n",
    "    if str(features).startswith('question') and str(features).endswith('core'):\n",
    "        pss_columns.append(features)\n",
    "\n",
    "\n",
    "pss_result['Stress_result'] = pss_result[pss_columns].sum(axis = 1)"
   ]
  },
  {
   "cell_type": "markdown",
   "metadata": {},
   "source": [
    "## Insomnia Result"
   ]
  },
  {
   "cell_type": "code",
   "execution_count": 24,
   "metadata": {},
   "outputs": [],
   "source": [
    "insomnia_result = insomnia_result[insomnia_result['user_id'].isin(final_selected_ids)]\n",
    "insomnia_result = selected_users_scale[['user_id','subjectid']].merge(insomnia_result)\n",
    "\n",
    "selected_insomnia_columns = [i for i in insomnia_result.columns  if str(i).startswith('question') and str(i).endswith('core')]\n",
    "insomnia_result['insomnia_result'] = insomnia_result[selected_insomnia_columns].sum(axis=1)"
   ]
  },
  {
   "cell_type": "code",
   "execution_count": 25,
   "metadata": {},
   "outputs": [
    {
     "data": {
      "text/plain": [
       "insomnia_result\n",
       "0     19\n",
       "1     28\n",
       "2     37\n",
       "3     34\n",
       "4     35\n",
       "5     33\n",
       "6     50\n",
       "7     27\n",
       "8     17\n",
       "9      7\n",
       "10     5\n",
       "11     8\n",
       "12     6\n",
       "13     3\n",
       "14     4\n",
       "15     2\n",
       "16     1\n",
       "19     1\n",
       "21     1\n",
       "24     1\n",
       "Name: count, dtype: int64"
      ]
     },
     "execution_count": 25,
     "metadata": {},
     "output_type": "execute_result"
    }
   ],
   "source": [
    "insomnia_result['insomnia_result'].value_counts().sort_index(ascending= True)"
   ]
  },
  {
   "cell_type": "markdown",
   "metadata": {},
   "source": [
    "# Saving The data"
   ]
  },
  {
   "cell_type": "code",
   "execution_count": 26,
   "metadata": {},
   "outputs": [],
   "source": [
    "# Create a writer object and specify the Excel file path\n",
    "with pd.ExcelWriter('./outdir/MiddleSchool_Depression_Anxiety.xlsx') as writer:\n",
    "    phq_result_depression.to_excel(writer, sheet_name='PHQ', index=False)\n",
    "    selected_valid_data.to_excel(writer, sheet_name='MHT', index=False)\n",
    "    final_evaluation_subjects.to_excel(writer, sheet_name='INMHT', index=False)\n",
    "    pss_result.to_excel(writer, sheet_name = 'PSS', index = False)\n",
    "    insomnia_result.to_excel(writer, sheet_name= 'Insomnia', index = False )\n"
   ]
  }
 ],
 "metadata": {
  "kernelspec": {
   "display_name": "Python 3",
   "language": "python",
   "name": "python3"
  },
  "language_info": {
   "codemirror_mode": {
    "name": "ipython",
    "version": 3
   },
   "file_extension": ".py",
   "mimetype": "text/x-python",
   "name": "python",
   "nbconvert_exporter": "python",
   "pygments_lexer": "ipython3",
   "version": "3.12.2"
  }
 },
 "nbformat": 4,
 "nbformat_minor": 2
}
