{
 "cells": [
  {
   "cell_type": "code",
   "execution_count": 4,
   "metadata": {},
   "outputs": [],
   "source": [
    "import datetime\n",
    "import json\n",
    "import os\n",
    "import random\n",
    "import sys\n",
    "import warnings\n",
    "import pandas as pd\n",
    "\n",
    "sys.path.append(os.path.join(os.getcwd(), '../../../common'))\n",
    "from ppg_feature_processor import generate_train_feature\n",
    "\n",
    "# Suppress specific warnings\n",
    "warnings.filterwarnings(\"ignore\", category=DeprecationWarning, message=\".*Conversion of an array with ndim > 0 to a scalar is deprecated.*\")"
   ]
  },
  {
   "cell_type": "code",
   "execution_count": 5,
   "metadata": {},
   "outputs": [],
   "source": [
    "# 读取 Excel 文件'\n",
    "middleSchool_userProfile_file_new = './outdir/MiddleSchool_Depression_Anxiety.xlsx'\n",
    "middleSchool_userProfile_file = r'.././outdir/MiddleSchool_Depression_Anxiety.xlsx'\n",
    "hospital_userProfile_file = '../../../../Data/unhealthy_clinic_results.xlsx'"
   ]
  },
  {
   "cell_type": "code",
   "execution_count": 6,
   "metadata": {},
   "outputs": [
    {
     "name": "stdout",
     "output_type": "stream",
     "text": [
      "Index(['床号', '性别', '年龄', '入院时间', '入院诊断', '病情备注', '抑郁', '焦虑', '双向情感障碍', '睡眠障碍'], dtype='object')\n",
      "               床号 性别  年龄  抑郁\n",
      "17  20240619_2A50  女  13   1\n",
      "45  20240717_2A12  女  15   1\n",
      "49  20240717_2A21  女  14   1\n",
      "\n",
      "Hospital Positive Depression subjects:  ['20240619_2A50', '20240717_2A12', '20240717_2A21']\n"
     ]
    }
   ],
   "source": [
    "### READ THE HOSPITAL SUBJECTS\n",
    "df_hospital = pd.read_excel(hospital_userProfile_file)\n",
    "print(df_hospital.columns)\n",
    "\n",
    "hospital_positive_subjects_df = df_hospital[(df_hospital['抑郁'] == 1) & (df_hospital['年龄'] <= 15)][['床号', '性别', '年龄', '抑郁']]\n",
    "print(hospital_positive_subjects_df)\n",
    "\n",
    "\n",
    "hospital_positive_subjects = hospital_positive_subjects_df['床号'].tolist()\n",
    "print(\"\\nHospital Positive Depression subjects: \", hospital_positive_subjects)"
   ]
  },
  {
   "cell_type": "code",
   "execution_count": 7,
   "metadata": {},
   "outputs": [],
   "source": [
    "depression_positive_threshold = 10\n",
    "depression_negative_threshold = 0"
   ]
  },
  {
   "cell_type": "code",
   "execution_count": 8,
   "metadata": {},
   "outputs": [
    {
     "name": "stdout",
     "output_type": "stream",
     "text": [
      "Midlle schold available subject count: (322, 36)\n",
      "middle depression positive subjects count: 32\n",
      "middle depression negative subjects count: 88\n"
     ]
    }
   ],
   "source": [
    "### READ THE MIDDLESCHOOL SUBJECTS\n",
    "df_middle = pd.read_excel(middleSchool_userProfile_file_new, sheet_name= 'PHQ')\n",
    "print(f\"Midlle schold available subject count: {df_middle.shape}\")\n",
    "\n",
    "\n",
    "middle_pos_subjects = df_middle[df_middle['depression_sum']>=depression_positive_threshold]['subjectid'].values.tolist()\n",
    "middle_neg_subjects = df_middle[df_middle['depression_sum']<=depression_negative_threshold]['subjectid'].values.tolist()\n",
    "\n",
    "print(f\"middle depression positive subjects count: {len(middle_pos_subjects)}\")\n",
    "print(f\"middle depression negative subjects count: {len(middle_neg_subjects)}\")"
   ]
  },
  {
   "cell_type": "code",
   "execution_count": 9,
   "metadata": {},
   "outputs": [],
   "source": [
    "profile_dict = dict()\n",
    "\n",
    "for _, row in df_hospital.iterrows():\n",
    "    userId = row['床号']\n",
    "    gender = 'Male' if row['性别'] == '男' else 'Female'\n",
    "    age = row['年龄']\n",
    "    profile_dict[userId] = (gender, age)\n",
    "for _, row in df_middle.iterrows():\n",
    "    userId = row['subjectid']\n",
    "    gender = row['gender']\n",
    "    age = row['age']\n",
    "    profile_dict[userId] = (gender, age)\n",
    "\n"
   ]
  },
  {
   "cell_type": "code",
   "execution_count": 10,
   "metadata": {},
   "outputs": [],
   "source": [
    "test_neg_subjects = ['695153b8-cd54-28f7-5e2d-b43ef7a12347',\n",
    "       'e1a05473-85af-4aaf-dff5-9a9a507b188d',\n",
    "       'bb2eaaba-1b05-bf28-3bd6-7c76fa5fd943',\n",
    "       '40b9a027-fc21-b774-38b3-5d399ac1583c',\n",
    "       'c831132a-79ed-6676-ad6c-811e7d40789c',\n",
    "       'd2adc252-fd1e-659a-5b27-37327b37c4a4',\n",
    "       'c5cf4093-8c88-3388-dd4a-8de8169eac4d',\n",
    "       '3b28f19d-7fd1-5d93-8fae-b6eae8ca3b82']"
   ]
  },
  {
   "cell_type": "code",
   "execution_count": 11,
   "metadata": {},
   "outputs": [],
   "source": [
    "test_pos_subjects = ['6b209cbb-d1b5-72ad-62f8-a698a20eeaa8',\n",
    "       '0e88cac0-231c-e492-409c-8a5d2683b181',\n",
    "       '6315febc-2fb1-e8e9-5e42-b60fe3d14f47',\n",
    "       'dc7e8552-e3c4-4695-379c-10e144338a4b',\n",
    "       '29a8784b-8752-4de0-579c-034c95044509',\n",
    "       'f34fb6c0-c2f7-7367-3e25-d101c0605938',\n",
    "       'bf102cd1-feed-4807-9ce7-d8bbfe9d0afd',\n",
    "       'b61f44a3-7e22-8127-7d75-2060d82e1a9b',\n",
    "       '43cb9b81-23c1-a136-bd28-41cae93082a3',\n",
    "       '2a4bd1c8-888b-915b-d645-1ae939a492c5']"
   ]
  },
  {
   "cell_type": "code",
   "execution_count": 13,
   "metadata": {},
   "outputs": [
    {
     "name": "stdout",
     "output_type": "stream",
     "text": [
      "train postive subjects: 25\n",
      "train negative subjects: 80\n",
      "test postive subjects: 10\n",
      "test negative subjects: 8\n"
     ]
    }
   ],
   "source": [
    "random.shuffle(middle_pos_subjects)\n",
    "random.shuffle(middle_neg_subjects)\n",
    "\n",
    "test_subject_count = 8\n",
    "\n",
    "# test_pos_subjects = middle_pos_subjects[0:test_subject_count]\n",
    "# test_neg_subjects = middle_neg_subjects[0:test_subject_count]\n",
    "\n",
    "train_pos_subjects = hospital_positive_subjects+ [subject for subject in middle_pos_subjects if subject not in test_pos_subjects]\n",
    "train_neg_subjects = [subject for subject in middle_neg_subjects if subject not in test_neg_subjects]\n",
    "\n",
    "print(f\"train postive subjects: {len(train_pos_subjects)}\")\n",
    "print(f\"train negative subjects: {len(train_neg_subjects)}\")\n",
    "\n",
    "print(f\"test postive subjects: {len(test_pos_subjects)}\")\n",
    "print(f\"test negative subjects: {len(test_neg_subjects)}\")\n"
   ]
  },
  {
   "cell_type": "code",
   "execution_count": 14,
   "metadata": {},
   "outputs": [],
   "source": [
    "def load_wave_middleSchool(path):\n",
    "    try:\n",
    "        with open(path, 'r', encoding='utf-8') as file:  \n",
    "            data = json.load(file)\n",
    "        return data[\"ppg_raw_data\"]\n",
    "    except:\n",
    "        print(\"Subject Not Loaded\")\n",
    "        pass\n",
    "\n",
    "def load_wave_university_or_hospital(path):\n",
    "    with open(path, 'r', encoding='utf-8') as file:  \n",
    "            data = json.load(file)\n",
    "            list_data = data['MesureData']['Datas']\n",
    "            final = [i for i in list_data]\n",
    "            return final"
   ]
  },
  {
   "cell_type": "code",
   "execution_count": 15,
   "metadata": {},
   "outputs": [],
   "source": [
    "sample_freq = 125\n",
    "sample_window_minute = 1.0\n",
    "\n",
    "middle_file_dir = r'C:\\Users\\Administrator\\Desktop\\middle_school_data\\ppg_data'\n",
    "hospital_file_dir = r'C:\\Users\\Administrator\\Desktop\\PPG_dataset\\PPG_Dataset_ALL\\unhealthy'"
   ]
  },
  {
   "cell_type": "code",
   "execution_count": 16,
   "metadata": {},
   "outputs": [],
   "source": [
    "def generate_dataset(subject_collection, label, data_aug_times=1):\n",
    "    ignored_id = []\n",
    "    dataset = pd.DataFrame()\n",
    "    for subject in subject_collection:\n",
    "            subject_wave = []\n",
    "\n",
    "            if subject in (middle_pos_subjects + middle_neg_subjects):\n",
    "                files = os.listdir(middle_file_dir)\n",
    "                for file in files:\n",
    "                    if file.startswith(subject) and file.endswith('.json'):\n",
    "                        file_path = os.path.join(middle_file_dir, file)\n",
    "                        print(f\"middle file path: {file_path}\")\n",
    "                        tmp_wave = load_wave_middleSchool(file_path)\n",
    "                        subject_wave += tmp_wave\n",
    "\n",
    "            elif subject in hospital_positive_subjects:\n",
    "                files = os.listdir(hospital_file_dir)\n",
    "                for file in files:\n",
    "                    if file.startswith(subject) and file.endswith('.json'):\n",
    "                        file_path = os.path.join(hospital_file_dir, file)\n",
    "                        print(f\"hospital file path: {file_path}\")\n",
    "                        tmp_wave = load_wave_university_or_hospital(file_path)\n",
    "                        subject_wave += tmp_wave\n",
    "            # The middle school subjects.\n",
    "            \n",
    "            if len(subject_wave) < (sample_freq * (sample_window_minute) * 60):\n",
    "                print(f\"Small time for subj: {subject} is: {len(subject_wave)/(sample_freq*60)}\")\n",
    "                ignored_id.append({'id': id, 'Time Length of data in minute ': f\"{len(subject_wave)/(125 * 60):.02f}\"})\n",
    "                continue\n",
    "            else:\n",
    "                print(f\"Recording time for subj: {subject} is: {len(subject_wave)/(sample_freq*60)}\")\n",
    "                subject_dataset = generate_train_feature(subject, subject_wave, label, profile_dict[subject][0], profile_dict[subject][1], sample_freq, sample_window_minute, data_aug_times, if_gender = True)\n",
    "                dataset = pd.concat([dataset, subject_dataset], ignore_index=True)\n",
    "    return dataset\n",
    "\n",
    "\n"
   ]
  },
  {
   "cell_type": "code",
   "execution_count": 17,
   "metadata": {},
   "outputs": [
    {
     "name": "stdout",
     "output_type": "stream",
     "text": [
      "hospital file path: C:\\Users\\Administrator\\Desktop\\PPG_dataset\\PPG_Dataset_ALL\\unhealthy\\20240619_2A50_PPG_ 20240619_150828.json\n",
      "Small time for subj: 20240619_2A50 is: 0.0021333333333333334\n",
      "hospital file path: C:\\Users\\Administrator\\Desktop\\PPG_dataset\\PPG_Dataset_ALL\\unhealthy\\20240717_2A12_PPG_ 20240717_145530.json\n",
      "Recording time for subj: 20240717_2A12 is: 50.06666666666667\n",
      "hospital file path: C:\\Users\\Administrator\\Desktop\\PPG_dataset\\PPG_Dataset_ALL\\unhealthy\\20240717_2A21_PPG_ 20240717_153140.json\n",
      "hospital file path: C:\\Users\\Administrator\\Desktop\\PPG_dataset\\PPG_Dataset_ALL\\unhealthy\\20240717_2A21_PPG_ 20240717_160427.json\n",
      "Recording time for subj: 20240717_2A21 is: 60.1\n",
      "middle file path: C:\\Users\\Administrator\\Desktop\\middle_school_data\\ppg_data\\be2be15e-16cd-a936-975e-5724d35df0d9.json\n",
      "Recording time for subj: be2be15e-16cd-a936-975e-5724d35df0d9 is: 15.066666666666666\n",
      "middle file path: C:\\Users\\Administrator\\Desktop\\middle_school_data\\ppg_data\\5eae2457-6636-54b5-7789-0bfcf4f0db53.json\n",
      "Small time for subj: 5eae2457-6636-54b5-7789-0bfcf4f0db53 is: 0.6\n",
      "middle file path: C:\\Users\\Administrator\\Desktop\\middle_school_data\\ppg_data\\3d874d9e-9a8e-9253-ec03-75e6fe138996.json\n",
      "Recording time for subj: 3d874d9e-9a8e-9253-ec03-75e6fe138996 is: 15.0\n",
      "middle file path: C:\\Users\\Administrator\\Desktop\\middle_school_data\\ppg_data\\ac3eb6b4-483d-2613-f211-8b5b6152e6d0.json\n",
      "Recording time for subj: ac3eb6b4-483d-2613-f211-8b5b6152e6d0 is: 15.016666666666667\n",
      "middle file path: C:\\Users\\Administrator\\Desktop\\middle_school_data\\ppg_data\\198bf5f3-cb34-b325-5b8e-4b8dcf838f53.json\n",
      "Recording time for subj: 198bf5f3-cb34-b325-5b8e-4b8dcf838f53 is: 15.1\n",
      "middle file path: C:\\Users\\Administrator\\Desktop\\middle_school_data\\ppg_data\\513195bb-f9b4-1d3d-6829-4cdf70008d23.json\n",
      "Recording time for subj: 513195bb-f9b4-1d3d-6829-4cdf70008d23 is: 15.066666666666666\n",
      "middle file path: C:\\Users\\Administrator\\Desktop\\middle_school_data\\ppg_data\\761b0d7b-2257-50d7-2ae8-5b8bdcf61b87.json\n",
      "Recording time for subj: 761b0d7b-2257-50d7-2ae8-5b8bdcf61b87 is: 15.016666666666667\n",
      "middle file path: C:\\Users\\Administrator\\Desktop\\middle_school_data\\ppg_data\\816f33ed-55ea-1991-3c9f-185515a45099.json\n",
      "Recording time for subj: 816f33ed-55ea-1991-3c9f-185515a45099 is: 15.05\n",
      "middle file path: C:\\Users\\Administrator\\Desktop\\middle_school_data\\ppg_data\\ab93c7e5-3657-f9f6-155f-18bffc38a995.json\n",
      "Recording time for subj: ab93c7e5-3657-f9f6-155f-18bffc38a995 is: 14.983333333333333\n",
      "middle file path: C:\\Users\\Administrator\\Desktop\\middle_school_data\\ppg_data\\c800db5b-29ad-7bd6-f7d8-d7c2c387022e.json\n",
      "Recording time for subj: c800db5b-29ad-7bd6-f7d8-d7c2c387022e is: 15.116666666666667\n",
      "middle file path: C:\\Users\\Administrator\\Desktop\\middle_school_data\\ppg_data\\b93b3974-780d-3e7a-fa30-90f642df571d.json\n",
      "Recording time for subj: b93b3974-780d-3e7a-fa30-90f642df571d is: 15.016666666666667\n",
      "middle file path: C:\\Users\\Administrator\\Desktop\\middle_school_data\\ppg_data\\5d1ed612-d672-588d-91e9-19616832e65e.json\n",
      "Recording time for subj: 5d1ed612-d672-588d-91e9-19616832e65e is: 15.1\n",
      "middle file path: C:\\Users\\Administrator\\Desktop\\middle_school_data\\ppg_data\\59d9f43d-b1cb-5c9e-82b2-e6f649c67f20.json\n",
      "Recording time for subj: 59d9f43d-b1cb-5c9e-82b2-e6f649c67f20 is: 15.033333333333333\n",
      "middle file path: C:\\Users\\Administrator\\Desktop\\middle_school_data\\ppg_data\\acc5a587-5f1e-6456-3bf3-bd8a1c066c4a.json\n",
      "Small time for subj: acc5a587-5f1e-6456-3bf3-bd8a1c066c4a is: 0.6\n",
      "middle file path: C:\\Users\\Administrator\\Desktop\\middle_school_data\\ppg_data\\0fda5bba-66bf-2899-6d3a-a19afc950122.json\n",
      "Recording time for subj: 0fda5bba-66bf-2899-6d3a-a19afc950122 is: 15.05\n",
      "middle file path: C:\\Users\\Administrator\\Desktop\\middle_school_data\\ppg_data\\2ef39c5d-3199-2983-ff16-3daedd34ea60.json\n",
      "Recording time for subj: 2ef39c5d-3199-2983-ff16-3daedd34ea60 is: 15.1\n",
      "middle file path: C:\\Users\\Administrator\\Desktop\\middle_school_data\\ppg_data\\dcb646a8-a7b2-4493-5e97-b3df394fa9fc.json\n",
      "Recording time for subj: dcb646a8-a7b2-4493-5e97-b3df394fa9fc is: 15.05\n",
      "middle file path: C:\\Users\\Administrator\\Desktop\\middle_school_data\\ppg_data\\01a5e460-0607-38a6-b5ce-7f124b969222.json\n",
      "Recording time for subj: 01a5e460-0607-38a6-b5ce-7f124b969222 is: 15.166666666666666\n",
      "middle file path: C:\\Users\\Administrator\\Desktop\\middle_school_data\\ppg_data\\9a34857c-2f52-99be-d371-af9a8244b656.json\n",
      "Recording time for subj: 9a34857c-2f52-99be-d371-af9a8244b656 is: 15.05\n",
      "middle file path: C:\\Users\\Administrator\\Desktop\\middle_school_data\\ppg_data\\9878443f-63d9-06a0-2314-c105d40cfbf0.json\n",
      "Recording time for subj: 9878443f-63d9-06a0-2314-c105d40cfbf0 is: 15.05\n",
      "middle file path: C:\\Users\\Administrator\\Desktop\\middle_school_data\\ppg_data\\98f02bfa-e66c-a0d5-4e56-ce703f66989c.json\n",
      "Recording time for subj: 98f02bfa-e66c-a0d5-4e56-ce703f66989c is: 15.016666666666667\n",
      "middle file path: C:\\Users\\Administrator\\Desktop\\middle_school_data\\ppg_data\\a793eaaf-fd17-2821-5e37-0ca88a71d1dc.json\n",
      "Recording time for subj: a793eaaf-fd17-2821-5e37-0ca88a71d1dc is: 15.033333333333333\n",
      "middle file path: C:\\Users\\Administrator\\Desktop\\middle_school_data\\ppg_data\\6ebcfb5d-f938-f673-4fa1-c2323b393ba6.json\n",
      "Recording time for subj: 6ebcfb5d-f938-f673-4fa1-c2323b393ba6 is: 15.083333333333334\n",
      "middle file path: C:\\Users\\Administrator\\Desktop\\middle_school_data\\ppg_data\\13cdee35-1e76-9aed-8c90-9c5947300d0b.json\n",
      "Small time for subj: 13cdee35-1e76-9aed-8c90-9c5947300d0b is: 0.6333333333333333\n",
      "middle file path: C:\\Users\\Administrator\\Desktop\\middle_school_data\\ppg_data\\2121ad4a-6621-530c-2a3d-cc49dfb50341.json\n",
      "Recording time for subj: 2121ad4a-6621-530c-2a3d-cc49dfb50341 is: 15.016666666666667\n",
      "middle file path: C:\\Users\\Administrator\\Desktop\\middle_school_data\\ppg_data\\eadb5607-8809-4eda-b570-20ce6422fe19.json\n",
      "Recording time for subj: eadb5607-8809-4eda-b570-20ce6422fe19 is: 15.016666666666667\n",
      "middle file path: C:\\Users\\Administrator\\Desktop\\middle_school_data\\ppg_data\\94fadafd-52cc-6a16-6528-473ff8e9d033.json\n",
      "Recording time for subj: 94fadafd-52cc-6a16-6528-473ff8e9d033 is: 15.116666666666667\n",
      "middle file path: C:\\Users\\Administrator\\Desktop\\middle_school_data\\ppg_data\\8656d444-8d82-fe26-32b2-af91790c1101.json\n",
      "Recording time for subj: 8656d444-8d82-fe26-32b2-af91790c1101 is: 14.966666666666667\n",
      "middle file path: C:\\Users\\Administrator\\Desktop\\middle_school_data\\ppg_data\\d6c0396b-1139-4395-446d-54dc25203921.json\n",
      "Recording time for subj: d6c0396b-1139-4395-446d-54dc25203921 is: 15.0\n",
      "middle file path: C:\\Users\\Administrator\\Desktop\\middle_school_data\\ppg_data\\fd7d9b8c-4574-1507-2226-212529e156dc.json\n",
      "Recording time for subj: fd7d9b8c-4574-1507-2226-212529e156dc is: 15.066666666666666\n",
      "middle file path: C:\\Users\\Administrator\\Desktop\\middle_school_data\\ppg_data\\16f903f0-8aeb-5af4-79ba-04e74bd5248b.json\n",
      "Recording time for subj: 16f903f0-8aeb-5af4-79ba-04e74bd5248b is: 15.0\n",
      "middle file path: C:\\Users\\Administrator\\Desktop\\middle_school_data\\ppg_data\\f8fd9136-63dc-cceb-e257-42abcdabd431.json\n",
      "Recording time for subj: f8fd9136-63dc-cceb-e257-42abcdabd431 is: 15.066666666666666\n",
      "middle file path: C:\\Users\\Administrator\\Desktop\\middle_school_data\\ppg_data\\2f8a7e09-3897-4161-d964-13f9736e20aa.json\n",
      "Recording time for subj: 2f8a7e09-3897-4161-d964-13f9736e20aa is: 15.016666666666667\n",
      "middle file path: C:\\Users\\Administrator\\Desktop\\middle_school_data\\ppg_data\\b7b362c9-bf14-2276-e09a-fd18dd284230.json\n",
      "Recording time for subj: b7b362c9-bf14-2276-e09a-fd18dd284230 is: 15.033333333333333\n",
      "middle file path: C:\\Users\\Administrator\\Desktop\\middle_school_data\\ppg_data\\48954108-6a28-64cd-2585-ce708fa6e2be.json\n",
      "Recording time for subj: 48954108-6a28-64cd-2585-ce708fa6e2be is: 15.133333333333333\n",
      "middle file path: C:\\Users\\Administrator\\Desktop\\middle_school_data\\ppg_data\\4d8d4de5-a420-5e4f-2981-071431b849d2.json\n",
      "Recording time for subj: 4d8d4de5-a420-5e4f-2981-071431b849d2 is: 15.016666666666667\n",
      "middle file path: C:\\Users\\Administrator\\Desktop\\middle_school_data\\ppg_data\\25342799-aff8-b14a-81eb-940a97ce65a7.json\n",
      "Recording time for subj: 25342799-aff8-b14a-81eb-940a97ce65a7 is: 15.016666666666667\n",
      "middle file path: C:\\Users\\Administrator\\Desktop\\middle_school_data\\ppg_data\\a3f39dac-711d-cbee-1d09-e8d2019fa3d5.json\n",
      "Recording time for subj: a3f39dac-711d-cbee-1d09-e8d2019fa3d5 is: 15.116666666666667\n",
      "middle file path: C:\\Users\\Administrator\\Desktop\\middle_school_data\\ppg_data\\dd2cd1e0-9353-488c-807b-c6bdef424ecb.json\n",
      "Recording time for subj: dd2cd1e0-9353-488c-807b-c6bdef424ecb is: 3.3833333333333333\n",
      "middle file path: C:\\Users\\Administrator\\Desktop\\middle_school_data\\ppg_data\\3a510cc6-362b-8eba-7449-439c5a8d5f4c.json\n",
      "Recording time for subj: 3a510cc6-362b-8eba-7449-439c5a8d5f4c is: 15.05\n",
      "middle file path: C:\\Users\\Administrator\\Desktop\\middle_school_data\\ppg_data\\e775fef5-8005-4574-8dbc-9779f5fd78fd.json\n",
      "Recording time for subj: e775fef5-8005-4574-8dbc-9779f5fd78fd is: 15.116666666666667\n",
      "middle file path: C:\\Users\\Administrator\\Desktop\\middle_school_data\\ppg_data\\064be51e-f7c6-e196-7c30-57fe14950331.json\n",
      "Recording time for subj: 064be51e-f7c6-e196-7c30-57fe14950331 is: 15.016666666666667\n",
      "middle file path: C:\\Users\\Administrator\\Desktop\\middle_school_data\\ppg_data\\c35d0097-5810-67c4-7c8e-72e8673f0bdc.json\n",
      "Recording time for subj: c35d0097-5810-67c4-7c8e-72e8673f0bdc is: 15.15\n",
      "middle file path: C:\\Users\\Administrator\\Desktop\\middle_school_data\\ppg_data\\f5dc6d57-2bc0-5c2b-3a42-2d74a826ea86.json\n",
      "Recording time for subj: f5dc6d57-2bc0-5c2b-3a42-2d74a826ea86 is: 15.033333333333333\n",
      "middle file path: C:\\Users\\Administrator\\Desktop\\middle_school_data\\ppg_data\\519f7bf1-6ddf-4014-2caf-5e0ca8356316.json\n",
      "Recording time for subj: 519f7bf1-6ddf-4014-2caf-5e0ca8356316 is: 15.05\n",
      "middle file path: C:\\Users\\Administrator\\Desktop\\middle_school_data\\ppg_data\\15734937-3410-57f6-3cc3-d1d32e9138c5.json\n",
      "Recording time for subj: 15734937-3410-57f6-3cc3-d1d32e9138c5 is: 15.05\n",
      "middle file path: C:\\Users\\Administrator\\Desktop\\middle_school_data\\ppg_data\\ba408097-e43c-b09a-1385-0724b827674c.json\n",
      "Recording time for subj: ba408097-e43c-b09a-1385-0724b827674c is: 15.083333333333334\n",
      "middle file path: C:\\Users\\Administrator\\Desktop\\middle_school_data\\ppg_data\\6bbd5adf-45b1-e6a6-606b-247b9b6ab5cf.json\n",
      "Recording time for subj: 6bbd5adf-45b1-e6a6-606b-247b9b6ab5cf is: 15.15\n",
      "middle file path: C:\\Users\\Administrator\\Desktop\\middle_school_data\\ppg_data\\ef002460-af1e-0ae6-323b-20d8dd8dc250.json\n",
      "Recording time for subj: ef002460-af1e-0ae6-323b-20d8dd8dc250 is: 15.016666666666667\n",
      "middle file path: C:\\Users\\Administrator\\Desktop\\middle_school_data\\ppg_data\\03f5022c-656d-e4c2-6cdd-2248276f0f41.json\n",
      "Small time for subj: 03f5022c-656d-e4c2-6cdd-2248276f0f41 is: 0.6333333333333333\n",
      "middle file path: C:\\Users\\Administrator\\Desktop\\middle_school_data\\ppg_data\\d9bc42e3-776a-3ccd-9224-b66b4cbd92df.json\n",
      "Recording time for subj: d9bc42e3-776a-3ccd-9224-b66b4cbd92df is: 15.083333333333334\n",
      "middle file path: C:\\Users\\Administrator\\Desktop\\middle_school_data\\ppg_data\\ffa0a5d0-0a91-7eef-4da5-2daf1eef3a05.json\n",
      "Small time for subj: ffa0a5d0-0a91-7eef-4da5-2daf1eef3a05 is: 0.65\n",
      "middle file path: C:\\Users\\Administrator\\Desktop\\middle_school_data\\ppg_data\\6449e094-b088-e869-b145-fadb69a8b9b1.json\n",
      "Recording time for subj: 6449e094-b088-e869-b145-fadb69a8b9b1 is: 15.133333333333333\n",
      "middle file path: C:\\Users\\Administrator\\Desktop\\middle_school_data\\ppg_data\\41bdce27-e22c-0695-bd6d-201562589a47.json\n",
      "Recording time for subj: 41bdce27-e22c-0695-bd6d-201562589a47 is: 15.033333333333333\n",
      "middle file path: C:\\Users\\Administrator\\Desktop\\middle_school_data\\ppg_data\\c2a7924f-96fd-c4e5-f44e-73aa0d3060d8.json\n",
      "Recording time for subj: c2a7924f-96fd-c4e5-f44e-73aa0d3060d8 is: 15.033333333333333\n",
      "middle file path: C:\\Users\\Administrator\\Desktop\\middle_school_data\\ppg_data\\a3bb10b9-2ac2-ecf1-a40d-4cec92f0a2c9.json\n",
      "Recording time for subj: a3bb10b9-2ac2-ecf1-a40d-4cec92f0a2c9 is: 15.033333333333333\n",
      "middle file path: C:\\Users\\Administrator\\Desktop\\middle_school_data\\ppg_data\\6d879db2-4a18-1839-ca0d-dfb7a5f77f54.json\n",
      "Recording time for subj: 6d879db2-4a18-1839-ca0d-dfb7a5f77f54 is: 15.0\n",
      "middle file path: C:\\Users\\Administrator\\Desktop\\middle_school_data\\ppg_data\\cc472b11-54b5-5785-27d0-6b5ee4c644cf.json\n",
      "Recording time for subj: cc472b11-54b5-5785-27d0-6b5ee4c644cf is: 15.116666666666667\n",
      "middle file path: C:\\Users\\Administrator\\Desktop\\middle_school_data\\ppg_data\\179dad82-dee9-d423-da3d-4917bae95aa8.json\n",
      "Recording time for subj: 179dad82-dee9-d423-da3d-4917bae95aa8 is: 15.033333333333333\n",
      "middle file path: C:\\Users\\Administrator\\Desktop\\middle_school_data\\ppg_data\\22a0c441-5fad-ca2e-fe55-f667f0064b54.json\n",
      "Recording time for subj: 22a0c441-5fad-ca2e-fe55-f667f0064b54 is: 14.983333333333333\n",
      "middle file path: C:\\Users\\Administrator\\Desktop\\middle_school_data\\ppg_data\\93ac6aaa-f3cb-5184-3c95-e8bcff0dc58e.json\n",
      "Recording time for subj: 93ac6aaa-f3cb-5184-3c95-e8bcff0dc58e is: 15.05\n",
      "middle file path: C:\\Users\\Administrator\\Desktop\\middle_school_data\\ppg_data\\f8651b9a-791a-5d89-baa8-5cb38ae5401b.json\n",
      "Recording time for subj: f8651b9a-791a-5d89-baa8-5cb38ae5401b is: 15.016666666666667\n",
      "middle file path: C:\\Users\\Administrator\\Desktop\\middle_school_data\\ppg_data\\542242ec-d814-ee96-ad3b-b6fd8060dc79.json\n",
      "Recording time for subj: 542242ec-d814-ee96-ad3b-b6fd8060dc79 is: 15.05\n",
      "middle file path: C:\\Users\\Administrator\\Desktop\\middle_school_data\\ppg_data\\2bfcb885-677a-b5c8-b434-fb02b9767fd8.json\n",
      "Recording time for subj: 2bfcb885-677a-b5c8-b434-fb02b9767fd8 is: 15.033333333333333\n",
      "middle file path: C:\\Users\\Administrator\\Desktop\\middle_school_data\\ppg_data\\31678a19-e59c-c77c-620f-c923c10b34be.json\n",
      "Recording time for subj: 31678a19-e59c-c77c-620f-c923c10b34be is: 15.166666666666666\n",
      "middle file path: C:\\Users\\Administrator\\Desktop\\middle_school_data\\ppg_data\\23d09035-1aa8-2fef-8065-f2addcf680d1.json\n",
      "Recording time for subj: 23d09035-1aa8-2fef-8065-f2addcf680d1 is: 15.016666666666667\n",
      "middle file path: C:\\Users\\Administrator\\Desktop\\middle_school_data\\ppg_data\\1949e035-2ac5-2dd1-c2f7-91d81ea9b546.json\n",
      "Recording time for subj: 1949e035-2ac5-2dd1-c2f7-91d81ea9b546 is: 15.1\n",
      "middle file path: C:\\Users\\Administrator\\Desktop\\middle_school_data\\ppg_data\\aa491176-3c35-e430-81c3-bf365804068b.json\n",
      "Recording time for subj: aa491176-3c35-e430-81c3-bf365804068b is: 15.083333333333334\n",
      "middle file path: C:\\Users\\Administrator\\Desktop\\middle_school_data\\ppg_data\\f18dc3e2-7f40-62b8-dcb9-0d41931c36fa.json\n",
      "Recording time for subj: f18dc3e2-7f40-62b8-dcb9-0d41931c36fa is: 15.033333333333333\n",
      "middle file path: C:\\Users\\Administrator\\Desktop\\middle_school_data\\ppg_data\\eb658d47-4cab-b1f2-cd54-a6c3535ccd3b.json\n",
      "Recording time for subj: eb658d47-4cab-b1f2-cd54-a6c3535ccd3b is: 15.016666666666667\n",
      "middle file path: C:\\Users\\Administrator\\Desktop\\middle_school_data\\ppg_data\\8e57c504-b084-5555-3606-bcd242cb62b2.json\n",
      "Recording time for subj: 8e57c504-b084-5555-3606-bcd242cb62b2 is: 15.116666666666667\n",
      "middle file path: C:\\Users\\Administrator\\Desktop\\middle_school_data\\ppg_data\\e1f563f8-90bf-4b92-be94-b2ebff83a52d.json\n",
      "Recording time for subj: e1f563f8-90bf-4b92-be94-b2ebff83a52d is: 15.05\n",
      "middle file path: C:\\Users\\Administrator\\Desktop\\middle_school_data\\ppg_data\\9117b180-bb29-bc58-88e9-322eb807e296.json\n",
      "Recording time for subj: 9117b180-bb29-bc58-88e9-322eb807e296 is: 14.983333333333333\n",
      "middle file path: C:\\Users\\Administrator\\Desktop\\middle_school_data\\ppg_data\\b1258f68-6daa-4474-ee4d-2992522fe41e.json\n",
      "Recording time for subj: b1258f68-6daa-4474-ee4d-2992522fe41e is: 15.016666666666667\n",
      "middle file path: C:\\Users\\Administrator\\Desktop\\middle_school_data\\ppg_data\\22dfdab7-c963-7995-fdb0-586cdb0fc750.json\n",
      "Recording time for subj: 22dfdab7-c963-7995-fdb0-586cdb0fc750 is: 15.083333333333334\n",
      "middle file path: C:\\Users\\Administrator\\Desktop\\middle_school_data\\ppg_data\\39b695f2-2cdd-ce5b-709a-a263cb8f9b34.json\n",
      "Recording time for subj: 39b695f2-2cdd-ce5b-709a-a263cb8f9b34 is: 15.033333333333333\n",
      "middle file path: C:\\Users\\Administrator\\Desktop\\middle_school_data\\ppg_data\\afdb37c1-120c-eca1-f767-866485073f77.json\n",
      "Recording time for subj: afdb37c1-120c-eca1-f767-866485073f77 is: 15.066666666666666\n",
      "middle file path: C:\\Users\\Administrator\\Desktop\\middle_school_data\\ppg_data\\4da8cad4-9802-f921-35a5-6906386dd28a.json\n",
      "Recording time for subj: 4da8cad4-9802-f921-35a5-6906386dd28a is: 15.1\n",
      "middle file path: C:\\Users\\Administrator\\Desktop\\middle_school_data\\ppg_data\\9394b150-8097-4249-46c4-0e430b348d73.json\n",
      "Recording time for subj: 9394b150-8097-4249-46c4-0e430b348d73 is: 15.0\n",
      "middle file path: C:\\Users\\Administrator\\Desktop\\middle_school_data\\ppg_data\\59761f60-ebf4-f92a-c8c8-5420ac37e3a9.json\n",
      "Recording time for subj: 59761f60-ebf4-f92a-c8c8-5420ac37e3a9 is: 15.016666666666667\n",
      "middle file path: C:\\Users\\Administrator\\Desktop\\middle_school_data\\ppg_data\\314c2a44-e7c2-2307-3960-9930e029b720.json\n",
      "Recording time for subj: 314c2a44-e7c2-2307-3960-9930e029b720 is: 15.116666666666667\n",
      "middle file path: C:\\Users\\Administrator\\Desktop\\middle_school_data\\ppg_data\\615eaee0-07c9-9607-3af5-e9365609a515.json\n",
      "Recording time for subj: 615eaee0-07c9-9607-3af5-e9365609a515 is: 15.033333333333333\n",
      "middle file path: C:\\Users\\Administrator\\Desktop\\middle_school_data\\ppg_data\\b8d9a9fb-29ec-1049-eadc-3fedfb7ee5a5.json\n",
      "Recording time for subj: b8d9a9fb-29ec-1049-eadc-3fedfb7ee5a5 is: 15.016666666666667\n",
      "middle file path: C:\\Users\\Administrator\\Desktop\\middle_school_data\\ppg_data\\15296f6a-42b1-9f4f-fdfe-4e6378685caa.json\n",
      "Recording time for subj: 15296f6a-42b1-9f4f-fdfe-4e6378685caa is: 15.1\n",
      "middle file path: C:\\Users\\Administrator\\Desktop\\middle_school_data\\ppg_data\\442df0e7-2e07-179d-a11f-03b06a1cc0d0.json\n",
      "Recording time for subj: 442df0e7-2e07-179d-a11f-03b06a1cc0d0 is: 14.983333333333333\n",
      "middle file path: C:\\Users\\Administrator\\Desktop\\middle_school_data\\ppg_data\\ee8c18af-332e-29b3-1165-6f939deeecaa.json\n",
      "Recording time for subj: ee8c18af-332e-29b3-1165-6f939deeecaa is: 15.083333333333334\n",
      "middle file path: C:\\Users\\Administrator\\Desktop\\middle_school_data\\ppg_data\\ab1797e6-299c-cad7-31ce-b06cd86d7580.json\n",
      "Small time for subj: ab1797e6-299c-cad7-31ce-b06cd86d7580 is: 0.6166666666666667\n",
      "middle file path: C:\\Users\\Administrator\\Desktop\\middle_school_data\\ppg_data\\1902fe28-88cc-14d1-e5e4-649a5205ae21.json\n",
      "Recording time for subj: 1902fe28-88cc-14d1-e5e4-649a5205ae21 is: 15.083333333333334\n",
      "middle file path: C:\\Users\\Administrator\\Desktop\\middle_school_data\\ppg_data\\711de251-858f-3c89-0c4f-380e4a5fd709.json\n",
      "Recording time for subj: 711de251-858f-3c89-0c4f-380e4a5fd709 is: 15.033333333333333\n",
      "middle file path: C:\\Users\\Administrator\\Desktop\\middle_school_data\\ppg_data\\a868764d-033a-1036-f905-e029dd4d7ff1.json\n",
      "Recording time for subj: a868764d-033a-1036-f905-e029dd4d7ff1 is: 15.05\n",
      "middle file path: C:\\Users\\Administrator\\Desktop\\middle_school_data\\ppg_data\\ee2ffda0-b7df-d854-7b31-d2e714196949.json\n",
      "Small time for subj: ee2ffda0-b7df-d854-7b31-d2e714196949 is: 0.6333333333333333\n",
      "middle file path: C:\\Users\\Administrator\\Desktop\\middle_school_data\\ppg_data\\4492fe43-4473-da97-6ce5-0a85fa24a5f7.json\n",
      "Recording time for subj: 4492fe43-4473-da97-6ce5-0a85fa24a5f7 is: 15.05\n",
      "middle file path: C:\\Users\\Administrator\\Desktop\\middle_school_data\\ppg_data\\b2f8ac06-cf37-b601-f6f3-65f46b5ce500.json\n",
      "Recording time for subj: b2f8ac06-cf37-b601-f6f3-65f46b5ce500 is: 15.083333333333334\n",
      "middle file path: C:\\Users\\Administrator\\Desktop\\middle_school_data\\ppg_data\\5095e8aa-dece-8331-4809-e9a390576151.json\n",
      "Recording time for subj: 5095e8aa-dece-8331-4809-e9a390576151 is: 15.033333333333333\n",
      "middle file path: C:\\Users\\Administrator\\Desktop\\middle_school_data\\ppg_data\\e144aa5e-bb1a-ee2e-4873-69dd9d71e4a4.json\n",
      "Recording time for subj: e144aa5e-bb1a-ee2e-4873-69dd9d71e4a4 is: 15.05\n",
      "middle file path: C:\\Users\\Administrator\\Desktop\\middle_school_data\\ppg_data\\0ba4d45e-1f39-aaa1-b2ce-0fefcd5c56ea.json\n",
      "Small time for subj: 0ba4d45e-1f39-aaa1-b2ce-0fefcd5c56ea is: 0.6333333333333333\n",
      "middle file path: C:\\Users\\Administrator\\Desktop\\middle_school_data\\ppg_data\\163f49e3-4026-e051-efaf-e91b9f15dc95.json\n",
      "Recording time for subj: 163f49e3-4026-e051-efaf-e91b9f15dc95 is: 15.116666666666667\n",
      "middle file path: C:\\Users\\Administrator\\Desktop\\middle_school_data\\ppg_data\\a94e4393-384c-3a99-3c14-c23e608dd4c7.json\n",
      "Recording time for subj: a94e4393-384c-3a99-3c14-c23e608dd4c7 is: 15.083333333333334\n",
      "middle file path: C:\\Users\\Administrator\\Desktop\\middle_school_data\\ppg_data\\5bd00b58-4785-10b2-4ba1-f30a4481c995.json\n",
      "Recording time for subj: 5bd00b58-4785-10b2-4ba1-f30a4481c995 is: 15.05\n",
      "middle file path: C:\\Users\\Administrator\\Desktop\\middle_school_data\\ppg_data\\de72d4fb-812e-92b2-e268-b1d5b816ce56.json\n",
      "Recording time for subj: de72d4fb-812e-92b2-e268-b1d5b816ce56 is: 15.016666666666667\n",
      "middle file path: C:\\Users\\Administrator\\Desktop\\middle_school_data\\ppg_data\\ad674d01-4c98-9197-6876-ae14db61152f.json\n",
      "Recording time for subj: ad674d01-4c98-9197-6876-ae14db61152f is: 15.05\n",
      "middle file path: C:\\Users\\Administrator\\Desktop\\middle_school_data\\ppg_data\\2992216d-a0f6-1712-2c27-c0c1323a1652.json\n",
      "Recording time for subj: 2992216d-a0f6-1712-2c27-c0c1323a1652 is: 15.033333333333333\n"
     ]
    }
   ],
   "source": [
    "train_pos_dataset = generate_dataset(train_pos_subjects, label=1, data_aug_times=3)\n",
    "train_neg_dataset = generate_dataset(train_neg_subjects, label=0, data_aug_times=1)"
   ]
  },
  {
   "cell_type": "code",
   "execution_count": 18,
   "metadata": {},
   "outputs": [
    {
     "name": "stdout",
     "output_type": "stream",
     "text": [
      "middle file path: C:\\Users\\Administrator\\Desktop\\middle_school_data\\ppg_data\\6b209cbb-d1b5-72ad-62f8-a698a20eeaa8.json\n",
      "Recording time for subj: 6b209cbb-d1b5-72ad-62f8-a698a20eeaa8 is: 14.983333333333333\n",
      "middle file path: C:\\Users\\Administrator\\Desktop\\middle_school_data\\ppg_data\\0e88cac0-231c-e492-409c-8a5d2683b181.json\n",
      "Recording time for subj: 0e88cac0-231c-e492-409c-8a5d2683b181 is: 14.366666666666667\n",
      "middle file path: C:\\Users\\Administrator\\Desktop\\middle_school_data\\ppg_data\\6315febc-2fb1-e8e9-5e42-b60fe3d14f47.json\n",
      "Recording time for subj: 6315febc-2fb1-e8e9-5e42-b60fe3d14f47 is: 15.033333333333333\n",
      "middle file path: C:\\Users\\Administrator\\Desktop\\middle_school_data\\ppg_data\\dc7e8552-e3c4-4695-379c-10e144338a4b.json\n",
      "Recording time for subj: dc7e8552-e3c4-4695-379c-10e144338a4b is: 15.1\n",
      "middle file path: C:\\Users\\Administrator\\Desktop\\middle_school_data\\ppg_data\\29a8784b-8752-4de0-579c-034c95044509.json\n",
      "Recording time for subj: 29a8784b-8752-4de0-579c-034c95044509 is: 15.0\n",
      "middle file path: C:\\Users\\Administrator\\Desktop\\middle_school_data\\ppg_data\\f34fb6c0-c2f7-7367-3e25-d101c0605938.json\n",
      "Recording time for subj: f34fb6c0-c2f7-7367-3e25-d101c0605938 is: 14.966666666666667\n",
      "middle file path: C:\\Users\\Administrator\\Desktop\\middle_school_data\\ppg_data\\bf102cd1-feed-4807-9ce7-d8bbfe9d0afd.json\n",
      "Recording time for subj: bf102cd1-feed-4807-9ce7-d8bbfe9d0afd is: 15.05\n",
      "middle file path: C:\\Users\\Administrator\\Desktop\\middle_school_data\\ppg_data\\b61f44a3-7e22-8127-7d75-2060d82e1a9b.json\n",
      "Recording time for subj: b61f44a3-7e22-8127-7d75-2060d82e1a9b is: 15.05\n",
      "middle file path: C:\\Users\\Administrator\\Desktop\\middle_school_data\\ppg_data\\43cb9b81-23c1-a136-bd28-41cae93082a3.json\n",
      "Recording time for subj: 43cb9b81-23c1-a136-bd28-41cae93082a3 is: 15.033333333333333\n",
      "middle file path: C:\\Users\\Administrator\\Desktop\\middle_school_data\\ppg_data\\2a4bd1c8-888b-915b-d645-1ae939a492c5.json\n",
      "Recording time for subj: 2a4bd1c8-888b-915b-d645-1ae939a492c5 is: 15.0\n",
      "middle file path: C:\\Users\\Administrator\\Desktop\\middle_school_data\\ppg_data\\695153b8-cd54-28f7-5e2d-b43ef7a12347.json\n",
      "Recording time for subj: 695153b8-cd54-28f7-5e2d-b43ef7a12347 is: 15.05\n",
      "middle file path: C:\\Users\\Administrator\\Desktop\\middle_school_data\\ppg_data\\e1a05473-85af-4aaf-dff5-9a9a507b188d.json\n",
      "Recording time for subj: e1a05473-85af-4aaf-dff5-9a9a507b188d is: 15.033333333333333\n",
      "middle file path: C:\\Users\\Administrator\\Desktop\\middle_school_data\\ppg_data\\bb2eaaba-1b05-bf28-3bd6-7c76fa5fd943.json\n",
      "Recording time for subj: bb2eaaba-1b05-bf28-3bd6-7c76fa5fd943 is: 15.033333333333333\n",
      "middle file path: C:\\Users\\Administrator\\Desktop\\middle_school_data\\ppg_data\\40b9a027-fc21-b774-38b3-5d399ac1583c.json\n",
      "Recording time for subj: 40b9a027-fc21-b774-38b3-5d399ac1583c is: 15.066666666666666\n",
      "middle file path: C:\\Users\\Administrator\\Desktop\\middle_school_data\\ppg_data\\c831132a-79ed-6676-ad6c-811e7d40789c.json\n",
      "Recording time for subj: c831132a-79ed-6676-ad6c-811e7d40789c is: 15.016666666666667\n",
      "middle file path: C:\\Users\\Administrator\\Desktop\\middle_school_data\\ppg_data\\d2adc252-fd1e-659a-5b27-37327b37c4a4.json\n",
      "Recording time for subj: d2adc252-fd1e-659a-5b27-37327b37c4a4 is: 15.066666666666666\n",
      "middle file path: C:\\Users\\Administrator\\Desktop\\middle_school_data\\ppg_data\\c5cf4093-8c88-3388-dd4a-8de8169eac4d.json\n",
      "Recording time for subj: c5cf4093-8c88-3388-dd4a-8de8169eac4d is: 15.016666666666667\n",
      "middle file path: C:\\Users\\Administrator\\Desktop\\middle_school_data\\ppg_data\\3b28f19d-7fd1-5d93-8fae-b6eae8ca3b82.json\n",
      "Recording time for subj: 3b28f19d-7fd1-5d93-8fae-b6eae8ca3b82 is: 15.083333333333334\n"
     ]
    }
   ],
   "source": [
    "test_pos_dataset = generate_dataset(test_pos_subjects, label=1, data_aug_times=1)\n",
    "test_neg_dataset = generate_dataset(test_neg_subjects, label=0, data_aug_times=1)"
   ]
  },
  {
   "cell_type": "code",
   "execution_count": 19,
   "metadata": {},
   "outputs": [
    {
     "name": "stdout",
     "output_type": "stream",
     "text": [
      "train pos sample shape: (1185, 40)\n",
      "train neg sample shape: (1094, 40)\n",
      "test pos sample shape: (120, 40)\n",
      "test neg sample shape: (147, 40)\n"
     ]
    }
   ],
   "source": [
    "print(f\"train pos sample shape: {train_pos_dataset.shape}\")\n",
    "print(f\"train neg sample shape: {train_neg_dataset.shape}\")\n",
    "\n",
    "print(f\"test pos sample shape: {test_neg_dataset.shape}\")\n",
    "print(f\"test neg sample shape: {test_pos_dataset.shape}\")"
   ]
  },
  {
   "cell_type": "code",
   "execution_count": 20,
   "metadata": {},
   "outputs": [],
   "source": [
    "columns_drop = []\n",
    "for col in train_pos_dataset.columns[:-4]:\n",
    "    nan_count = (train_pos_dataset[col] == 0).sum() \n",
    "    if nan_count > (len(train_pos_dataset) // 4): \n",
    "        columns_drop.append(col)\n",
    "\n",
    "train_pos_dataset_final = train_pos_dataset.drop(columns=columns_drop, inplace=False)\n",
    "train_neg_dataset_final = train_neg_dataset.drop(columns=columns_drop, inplace=False)\n",
    "\n",
    "test_pos_dataset_final = test_pos_dataset.drop(columns=columns_drop, inplace=False)\n",
    "test_neg_dataset_final = test_neg_dataset.drop(columns=columns_drop, inplace=False)"
   ]
  },
  {
   "cell_type": "code",
   "execution_count": 21,
   "metadata": {},
   "outputs": [
    {
     "name": "stdout",
     "output_type": "stream",
     "text": [
      "After remove the invalid columns, train pos shape: (1185, 32)\n",
      "After remove the invalid columns, train neg shape: (1094, 32)\n",
      "After remove the invalid columns, test pos shape: (147, 32)\n",
      "After remove the invalid columns, test neg shape: (120, 32)\n"
     ]
    }
   ],
   "source": [
    "print(f\"After remove the invalid columns, train pos shape: {train_pos_dataset_final.shape}\")\n",
    "print(f\"After remove the invalid columns, train neg shape: {train_neg_dataset_final.shape}\")\n",
    "\n",
    "print(f\"After remove the invalid columns, test pos shape: {test_pos_dataset_final.shape}\")\n",
    "print(f\"After remove the invalid columns, test neg shape: {test_neg_dataset_final.shape}\")"
   ]
  },
  {
   "cell_type": "markdown",
   "metadata": {},
   "source": [
    "#### Do The Normalization for the Train Dataset and Test Dataset"
   ]
  },
  {
   "cell_type": "code",
   "execution_count": 22,
   "metadata": {},
   "outputs": [],
   "source": [
    "profile_columns = ['wave_quality', 'age', 'gender', 'label', 'id']"
   ]
  },
  {
   "cell_type": "code",
   "execution_count": 23,
   "metadata": {},
   "outputs": [],
   "source": [
    "# 合并训练集\n",
    "train_combined = pd.concat([train_pos_dataset_final, train_neg_dataset_final])\n",
    "\n",
    "# 需要归一化的列\n",
    "columns_to_normalize = train_combined.columns.difference(profile_columns)\n",
    "\n",
    "# 计算最大值和最小值\n",
    "min_values = train_combined[columns_to_normalize].min()\n",
    "max_values = train_combined[columns_to_normalize].max()\n",
    "\n",
    "# 保存最大值和最小值到CSV\n",
    "current_date = datetime.datetime.now().strftime(\"%Y-%m-%d\")\n",
    "outdir = os.path.join(os.getcwd(), 'outdir')\n",
    "os.makedirs(outdir, exist_ok=True)\n",
    "min_max_df = pd.DataFrame({'min': min_values, 'max': max_values})\n",
    "min_max_df.to_csv(f'{outdir}/ppg_depression_norm_minmax_values_{current_date}.csv', index=True)\n",
    "\n",
    "\n",
    "# 定义min-max归一化函数\n",
    "def normalize(df, min_values, max_values):\n",
    "    return (df - min_values) / (max_values - min_values)\n",
    "\n",
    "# 对训练集进行归一化\n",
    "train_pos_dataset_final[columns_to_normalize] = normalize(train_pos_dataset_final[columns_to_normalize], min_values, max_values)\n",
    "train_neg_dataset_final[columns_to_normalize] = normalize(train_neg_dataset_final[columns_to_normalize], min_values, max_values)\n",
    "\n",
    "# 从CSV文件中读取最小值和最大值\n",
    "min_max_df = pd.read_csv(f'{outdir}/ppg_depression_norm_minmax_values_{current_date}.csv', index_col=0)\n",
    "min_values = min_max_df['min']\n",
    "max_values = min_max_df['max']\n",
    "\n",
    "# 对测试集进行归一化\n",
    "test_pos_dataset_final[columns_to_normalize] = normalize(test_pos_dataset_final[columns_to_normalize], min_values, max_values)\n",
    "test_neg_dataset_final[columns_to_normalize] = normalize(test_neg_dataset_final[columns_to_normalize], min_values, max_values)\n"
   ]
  },
  {
   "cell_type": "markdown",
   "metadata": {},
   "source": [
    "#### Save As Pkl File"
   ]
  },
  {
   "cell_type": "code",
   "execution_count": 24,
   "metadata": {},
   "outputs": [],
   "source": [
    "import pandas as pd\n",
    "import seaborn as sns\n",
    "import matplotlib.pyplot as plt"
   ]
  },
  {
   "cell_type": "code",
   "execution_count": 25,
   "metadata": {},
   "outputs": [
    {
     "data": {
      "image/png": "[encoded data removed]",
      "text/plain": [
       "<Figure size 640x480 with 1 Axes>"
      ]
     },
     "metadata": {},
     "output_type": "display_data"
    },
    {
     "data": {
      "image/png": "[encoded data removed]",
      "text/plain": [
       "<Figure size 640x480 with 1 Axes>"
      ]
     },
     "metadata": {},
     "output_type": "display_data"
    },
    {
     "data": {
      "text/plain": [
       "<Axes: xlabel='wave_quality', ylabel='Count'>"
      ]
     },
     "execution_count": 25,
     "metadata": {},
     "output_type": "execute_result"
    },
    {
     "data": {
      "image/png": "[encoded data removed]",
      "text/plain": [
       "<Figure size 640x480 with 1 Axes>"
      ]
     },
     "metadata": {},
     "output_type": "display_data"
    }
   ],
   "source": [
    "from matplotlib import figure\n",
    "\n",
    "plt.subplot(3, 1, 1)  # 1行2列，第1个子图\n",
    "sns.histplot(train_pos_dataset['wave_quality'], kde=True, bins=10)\n",
    "plt.show()\n",
    "\n",
    "plt.subplot(3, 1, 2)  # 1行2列，第1个子图\n",
    "sns.histplot(train_neg_dataset['wave_quality'], kde=True, bins=10)\n",
    "plt.show()\n",
    "\n",
    "plt.subplot(3, 1, 3)  # 1行2列，第1个子图\n",
    "sns.histplot(train_combined['wave_quality'], kde=True, bins=10)"
   ]
  },
  {
   "cell_type": "code",
   "execution_count": 26,
   "metadata": {},
   "outputs": [],
   "source": [
    "wave_quality_threshold = 0.9"
   ]
  },
  {
   "cell_type": "code",
   "execution_count": 27,
   "metadata": {},
   "outputs": [
    {
     "name": "stdout",
     "output_type": "stream",
     "text": [
      "train pos sample shape: (1185, 40)\n",
      "train neg sample shape: (1094, 40)\n",
      "test pos sample shape: (120, 40)\n",
      "test neg sample shape: (147, 40)\n"
     ]
    }
   ],
   "source": [
    "print(f\"train pos sample shape: {train_pos_dataset.shape}\")\n",
    "print(f\"train neg sample shape: {train_neg_dataset.shape}\")\n",
    "\n",
    "print(f\"test pos sample shape: {test_neg_dataset.shape}\")\n",
    "print(f\"test neg sample shape: {test_pos_dataset.shape}\")"
   ]
  },
  {
   "cell_type": "code",
   "execution_count": 28,
   "metadata": {},
   "outputs": [
    {
     "name": "stdout",
     "output_type": "stream",
     "text": [
      "After quality filter, train positive sample count: 544\n",
      "After quality filter, train negative sample count: 479\n"
     ]
    }
   ],
   "source": [
    "train_pos_dataset_final_filter = train_pos_dataset_final[train_pos_dataset_final['wave_quality'] >= wave_quality_threshold]\n",
    "train_neg_dataset_final_filter = train_neg_dataset_final[train_neg_dataset_final['wave_quality'] >= wave_quality_threshold]\n",
    "\n",
    "print(f\"After quality filter, train positive sample count: {train_pos_dataset_final_filter.shape[0]}\")\n",
    "print(f\"After quality filter, train negative sample count: {train_neg_dataset_final_filter.shape[0]}\")\n"
   ]
  },
  {
   "cell_type": "code",
   "execution_count": 29,
   "metadata": {},
   "outputs": [],
   "source": [
    "sample_folder = os.path.join(os.getcwd(), 'samples')\n",
    "os.makedirs(sample_folder, exist_ok=True)\n",
    "\n",
    "# 定义要保存的文件路径\n",
    "train_pos_path = os.path.join(sample_folder, 'train_pos_dataset.pkl')\n",
    "train_neg_path = os.path.join(sample_folder, 'train_neg_dataset.pkl')\n",
    "test_pos_path = os.path.join(sample_folder, 'test_pos_dataset.pkl')\n",
    "test_neg_path = os.path.join(sample_folder, 'test_neg_dataset.pkl')\n",
    "\n",
    "# 保存 DataFrame 为 .pkl 文件\n",
    "train_pos_dataset_final[train_pos_dataset_final['wave_quality'] >= wave_quality_threshold].to_pickle(train_pos_path)\n",
    "train_neg_dataset_final[train_neg_dataset_final['wave_quality'] >= wave_quality_threshold].to_pickle(train_neg_path)\n",
    "test_pos_dataset_final.to_pickle(test_pos_path)\n",
    "test_neg_dataset_final.to_pickle(test_neg_path)"
   ]
  },
  {
   "cell_type": "code",
   "execution_count": 30,
   "metadata": {},
   "outputs": [
    {
     "name": "stdout",
     "output_type": "stream",
     "text": [
      "Index(['HRV_MeanNN', 'HRV_SDNN', 'HRV_RMSSD', 'HRV_SDSD', 'HRV_CVNN',\n",
      "       'HRV_CVSD', 'HRV_MedianNN', 'HRV_MadNN', 'HRV_MCVNN', 'HRV_IQRNN',\n",
      "       'HRV_SDRMSSD', 'HRV_Prc20NN', 'HRV_Prc80NN', 'HRV_pNN50', 'HRV_pNN20',\n",
      "       'HRV_MinNN', 'HRV_MaxNN', 'HRV_HTI', 'HRV_TINN', 'HRV_LF', 'HRV_HF',\n",
      "       'HRV_VHF', 'HRV_TP', 'HRV_LFHF', 'HRV_LFn', 'HRV_HFn', 'HRV_LnHF',\n",
      "       'wave_quality', 'label', 'id', 'age', 'gender'],\n",
      "      dtype='object')\n"
     ]
    }
   ],
   "source": [
    "print(train_pos_dataset_final.columns)"
   ]
  },
  {
   "cell_type": "code",
   "execution_count": null,
   "metadata": {},
   "outputs": [],
   "source": []
  },
  {
   "cell_type": "code",
   "execution_count": null,
   "metadata": {},
   "outputs": [],
   "source": []
  }
 ],
 "metadata": {
  "kernelspec": {
   "display_name": "Python 3",
   "language": "python",
   "name": "python3"
  },
  "language_info": {
   "codemirror_mode": {
    "name": "ipython",
    "version": 3
   },
   "file_extension": ".py",
   "mimetype": "text/x-python",
   "name": "python",
   "nbconvert_exporter": "python",
   "pygments_lexer": "ipython3",
   "version": "3.12.2"
  }
 },
 "nbformat": 4,
 "nbformat_minor": 2
}
