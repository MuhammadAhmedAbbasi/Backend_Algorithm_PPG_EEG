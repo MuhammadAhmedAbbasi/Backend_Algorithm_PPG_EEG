{
 "cells": [
  {
   "cell_type": "code",
   "execution_count": 1,
   "metadata": {},
   "outputs": [],
   "source": [
    "### This file convert the .json file to the .xlsx file"
   ]
  },
  {
   "cell_type": "code",
   "execution_count": 1,
   "metadata": {},
   "outputs": [],
   "source": [
    "import json\n",
    "import os\n",
    "import pandas as pd\n",
    "\n",
    "from openpyxl import Workbook"
   ]
  },
  {
   "cell_type": "code",
   "execution_count": 2,
   "metadata": {},
   "outputs": [],
   "source": [
    "file1 = r'C:\\Users\\Administrator\\Desktop\\PPG_dataset\\json\\seven_grade.json'\n",
    "file2 = r'C:\\Users\\Administrator\\Desktop\\PPG_dataset\\json\\eight_grade.json'"
   ]
  },
  {
   "cell_type": "code",
   "execution_count": 3,
   "metadata": {},
   "outputs": [
    {
     "name": "stdout",
     "output_type": "stream",
     "text": [
      "数据已成功保存到: ./outdir/七年级.xlsx 文件中!\n",
      "数据已成功保存到: ./outdir/八年级.xlsx 文件中!\n"
     ]
    }
   ],
   "source": [
    "def Convert2xlsx(filePath, fileName):\n",
    "    wb = Workbook()\n",
    "    ws = wb.active\n",
    "    ws.title = \"遂昌\"\n",
    "    with open(filePath, 'r', encoding='utf-8-sig') as file:\n",
    "        datas = json.load(file)['data']\n",
    "\n",
    "    columns = [\"user_id\", 'user_name', 'gender']\n",
    "    for idx, data in enumerate(datas):\n",
    "        # 写入数据\n",
    "        user_id = data[\"userId\"]\n",
    "        user_name = data[\"userName\"]\n",
    "        gender = data[\"gender\"]\n",
    "        dimensions = data[\"dimensions\"]\n",
    "        selected_option_content_list = []\n",
    "        for dimension in dimensions:\n",
    "            question_title = dimension[\"question\"][\"title\"]\n",
    "            selected_option_content = dimension[\"selectedOption\"][\"content\"]\n",
    "\n",
    "            if idx == 0:\n",
    "                columns.append(question_title)\n",
    "\n",
    "            if selected_option_content == '是':\n",
    "                selected_option_content_list.append(1)\n",
    "            elif selected_option_content == '否':\n",
    "                selected_option_content_list.append(0)\n",
    "            else:\n",
    "                raise\n",
    "        if idx == 0:\n",
    "            ws.append(columns)\n",
    "        ws.append([user_id, user_name, gender] + selected_option_content_list)\n",
    "\n",
    "    # 保存为 xlsx 文件\n",
    "    wb.save(f\"{fileName}.xlsx\")\n",
    "    print(f\"数据已成功保存到: {fileName}.xlsx 文件中!\")\n",
    "\n",
    "\n",
    "outdir = \"outdir\"\n",
    "if not os.path.exists(outdir):\n",
    "    os.makedirs(outdir)\n",
    "\n",
    "Convert2xlsx(file1, f\"./{outdir}/七年级\")\n",
    "Convert2xlsx(file2, f\"./{outdir}/八年级\")"
   ]
  },
  {
   "cell_type": "code",
   "execution_count": 4,
   "metadata": {},
   "outputs": [],
   "source": [
    "\n"
   ]
  },
  {
   "cell_type": "code",
   "execution_count": 33,
   "metadata": {},
   "outputs": [
    {
     "name": "stdout",
     "output_type": "stream",
     "text": [
      "(1011, 105)\n"
     ]
    }
   ],
   "source": [
    "seven_grade_df = pd.read_excel(f\"./{outdir}/七年级.xlsx\")\n",
    "eight_grade_df = pd.read_excel(f\"./{outdir}/八年级.xlsx\")\n",
    "seven_grade_df['age'] = len(seven_grade_df)*[13]\n",
    "eight_grade_df['age'] = len(eight_grade_df)*[14]\n",
    "combined_df = pd.concat([seven_grade_df, eight_grade_df], ignore_index=True)\n",
    "combined_df['total'] = combined_df.iloc[:, 3:-1].sum(axis=1)\n",
    "# 计算排除前3列后的其他列的和，并将其添加为一列 'total'\n",
    "\n",
    "print(combined_df.shape)"
   ]
  },
  {
   "cell_type": "code",
   "execution_count": 22,
   "metadata": {},
   "outputs": [
    {
     "data": {
      "text/plain": [
       "Index(['user_id', 'user_name', 'gender', '你晚上要睡觉时，是否总想着明天的功课? ',\n",
       "       '老师向全班提问时，你是否会觉得是在问自己而感到不安? ', '你是否一听说“要考试”心里就紧张。 ',\n",
       "       '你考试成绩不好时，心里是否感到很不快? ', '你学习成绩不好时，是否总是提心吊胆? ',\n",
       "       '你考试时，想不起原先掌握的知识时，是否会感到紧张不安? ', '你考试后，在没有知道成绩之前，是否总是放心不下? ',\n",
       "       ...\n",
       "       '你以前是否说过谎话? ', '你是否一次也没有失约过? ', '你是否能保密别人不让说的事? ', '你是否总是很有礼貌? ',\n",
       "       '老师或父母说的话，你是否都照办? ', '你是否发过怒? ', '你不喜欢的功课老师提前下课，你是否会感到特别高兴？ ',\n",
       "       '你是否无论对谁都很亲热? ', '对不认识的人，你是否会都喜欢? ', 'age'],\n",
       "      dtype='object', length=104)"
      ]
     },
     "execution_count": 22,
     "metadata": {},
     "output_type": "execute_result"
    }
   ],
   "source": [
    "seven_grade_df.columns"
   ]
  },
  {
   "cell_type": "code",
   "execution_count": 35,
   "metadata": {},
   "outputs": [
    {
     "name": "stdout",
     "output_type": "stream",
     "text": [
      "(898, 105)\n"
     ]
    }
   ],
   "source": [
    "df_filtered_by_total = combined_df[(combined_df['total'] >= 10) & (combined_df['total'] <= 90)]\n",
    "\n",
    "print(df_filtered_by_total.shape)"
   ]
  },
  {
   "cell_type": "code",
   "execution_count": 36,
   "metadata": {},
   "outputs": [],
   "source": [
    "lying_columns = ['你以前是否说过谎话? ', '你是否发过怒? ']"
   ]
  },
  {
   "cell_type": "code",
   "execution_count": 37,
   "metadata": {},
   "outputs": [
    {
     "name": "stdout",
     "output_type": "stream",
     "text": [
      "(571, 105)\n",
      "After filter, the left available subject count is: 571\n",
      "      你以前是否说过谎话?   你是否发过怒? \n",
      "1             1.0       1.0\n",
      "2             1.0       1.0\n",
      "3             1.0       1.0\n",
      "4             1.0       1.0\n",
      "6             1.0       1.0\n",
      "...           ...       ...\n",
      "1003          1.0       1.0\n",
      "1005          1.0       1.0\n",
      "1006          1.0       1.0\n",
      "1008          1.0       1.0\n",
      "1010          1.0       1.0\n",
      "\n",
      "[571 rows x 2 columns]\n"
     ]
    }
   ],
   "source": [
    "\n",
    "final_filtered_df = df_filtered_by_total[(df_filtered_by_total[lying_columns] == 1).all(axis=1)]\n",
    "print(final_filtered_df.shape)\n",
    "print(f\"After filter, the left available subject count is: {final_filtered_df.shape[0]}\")\n",
    "\n",
    "tmp_df = final_filtered_df[lying_columns]\n",
    "print(tmp_df)"
   ]
  },
  {
   "cell_type": "code",
   "execution_count": 38,
   "metadata": {},
   "outputs": [
    {
     "name": "stdout",
     "output_type": "stream",
     "text": [
      "(571, 106)\n"
     ]
    },
    {
     "name": "stderr",
     "output_type": "stream",
     "text": [
      "C:\\Users\\Administrator\\AppData\\Local\\Temp\\ipykernel_164776\\149341691.py:2: SettingWithCopyWarning: \n",
      "A value is trying to be set on a copy of a slice from a DataFrame.\n",
      "Try using .loc[row_indexer,col_indexer] = value instead\n",
      "\n",
      "See the caveats in the documentation: https://pandas.pydata.org/pandas-docs/stable/user_guide/indexing.html#returning-a-view-versus-a-copy\n",
      "  final_filtered_df['depression_sum'] = final_filtered_df[depression_columns].sum(axis=1)\n"
     ]
    }
   ],
   "source": [
    "depression_columns = ['你和大家在—起时，是否觉得自己是多余的人? ', '你是否经常会突然想哭? ', '你有时是否会觉得，还是死了好？ ', '你是否经常想从高的地方跳下来? ']\n",
    "final_filtered_df['depression_sum'] = final_filtered_df[depression_columns].sum(axis=1)\n",
    "\n",
    "print(final_filtered_df.shape)"
   ]
  },
  {
   "cell_type": "code",
   "execution_count": 39,
   "metadata": {},
   "outputs": [
    {
     "name": "stdout",
     "output_type": "stream",
     "text": [
      "(571, 107)\n"
     ]
    },
    {
     "name": "stderr",
     "output_type": "stream",
     "text": [
      "C:\\Users\\Administrator\\AppData\\Local\\Temp\\ipykernel_164776\\539766930.py:2: SettingWithCopyWarning: \n",
      "A value is trying to be set on a copy of a slice from a DataFrame.\n",
      "Try using .loc[row_indexer,col_indexer] = value instead\n",
      "\n",
      "See the caveats in the documentation: https://pandas.pydata.org/pandas-docs/stable/user_guide/indexing.html#returning-a-view-versus-a-copy\n",
      "  final_filtered_df['depression_label'] = final_filtered_df['depression_sum'].apply(lambda x: 1 if x >= 4 else (0 if x == 0 else -1))\n"
     ]
    }
   ],
   "source": [
    "# 添加 depression_label 列\n",
    "final_filtered_df['depression_label'] = final_filtered_df['depression_sum'].apply(lambda x: 1 if x >= 4 else (0 if x == 0 else -1))\n",
    "\n",
    "print(final_filtered_df.shape)"
   ]
  },
  {
   "cell_type": "markdown",
   "metadata": {},
   "source": [
    "## Tag the Anxies Label"
   ]
  },
  {
   "cell_type": "code",
   "execution_count": 40,
   "metadata": {},
   "outputs": [
    {
     "name": "stdout",
     "output_type": "stream",
     "text": [
      "anxiety item count: 20\n"
     ]
    }
   ],
   "source": [
    "anxiety_columns = ['你晚上要睡觉时，是否总想着明天的功课? ', '你是否一听说“要考试”心里就紧张。 ', '你学习成绩不好时，是否总是提心吊胆? ', '你考试时，想不起原先掌握的知识时，是否会感到紧张不安? ', \\\n",
    "                   '你考试后，在没有知道成绩之前，是否总是放心不下? ', '你是否一遇到考试，就担心会考坏? ', '你在没有完成任务之前，是否总担心完不成任务？ ', '你当着大家面朗读课文时，是否总是怕读错? ',\n",
    "                   '你是否认为学校里得到的学习成绩总是不大可靠? ', '你是否认为你比别人更担心学习? ', '你是否做过考试考坏了的梦? ', '你是否做过学习成绩不好时，受到爸爸妈妈或老师训斥的梦? ', '你在工作或学习时，如果有人在注意你，你心里是否会紧张? ', \\\n",
    "                   '你受到老师批评时，心里是否总是不安? ', '你心里是否总觉得好像有什么事没有做好? ', '你是否总担心会发生什么意外的事？ ', '你被老师提问时，心里是否总是很紧张? ', '你是否经常咬指甲? ', '你是否经常感到呼吸困难? ', '你是否会经常急躁得坐立不安? ']\n",
    "\n",
    "print(f\"anxiety item count: {len(anxiety_columns)}\")"
   ]
  },
  {
   "cell_type": "code",
   "execution_count": 41,
   "metadata": {},
   "outputs": [
    {
     "name": "stdout",
     "output_type": "stream",
     "text": [
      "True\n",
      "True\n",
      "True\n",
      "True\n",
      "True\n",
      "True\n",
      "True\n",
      "True\n",
      "True\n",
      "True\n",
      "True\n",
      "True\n",
      "True\n",
      "True\n",
      "True\n",
      "True\n",
      "True\n",
      "True\n",
      "True\n",
      "True\n"
     ]
    }
   ],
   "source": [
    "for col in anxiety_columns:\n",
    "    print(col in final_filtered_df.columns.values)\n",
    "    "
   ]
  },
  {
   "cell_type": "code",
   "execution_count": 42,
   "metadata": {},
   "outputs": [
    {
     "name": "stdout",
     "output_type": "stream",
     "text": [
      "(571, 109)\n"
     ]
    },
    {
     "name": "stderr",
     "output_type": "stream",
     "text": [
      "C:\\Users\\Administrator\\AppData\\Local\\Temp\\ipykernel_164776\\2206918076.py:1: SettingWithCopyWarning: \n",
      "A value is trying to be set on a copy of a slice from a DataFrame.\n",
      "Try using .loc[row_indexer,col_indexer] = value instead\n",
      "\n",
      "See the caveats in the documentation: https://pandas.pydata.org/pandas-docs/stable/user_guide/indexing.html#returning-a-view-versus-a-copy\n",
      "  final_filtered_df['anxiety_sum'] = final_filtered_df[anxiety_columns].sum(axis=1)\n",
      "C:\\Users\\Administrator\\AppData\\Local\\Temp\\ipykernel_164776\\2206918076.py:4: SettingWithCopyWarning: \n",
      "A value is trying to be set on a copy of a slice from a DataFrame.\n",
      "Try using .loc[row_indexer,col_indexer] = value instead\n",
      "\n",
      "See the caveats in the documentation: https://pandas.pydata.org/pandas-docs/stable/user_guide/indexing.html#returning-a-view-versus-a-copy\n",
      "  final_filtered_df['anxiety_label'] = final_filtered_df['anxiety_sum'].apply( lambda x: 1 if x > 15 else (0 if x < 6 else -1))\n"
     ]
    }
   ],
   "source": [
    "final_filtered_df['anxiety_sum'] = final_filtered_df[anxiety_columns].sum(axis=1)\n",
    "\n",
    "# 添加 anxiety_label 列\n",
    "final_filtered_df['anxiety_label'] = final_filtered_df['anxiety_sum'].apply( lambda x: 1 if x > 15 else (0 if x < 6 else -1))\n",
    "\n",
    "print(final_filtered_df.shape)"
   ]
  },
  {
   "cell_type": "code",
   "execution_count": 43,
   "metadata": {},
   "outputs": [],
   "source": [
    "\n",
    "final_filtered_df.to_excel(f\"./{outdir}/MiddleSchool_Depression_Anxiety.xlsx\", index=False)\n",
    "\n",
    "anxiety_df = final_filtered_df[final_filtered_df['anxiety_label'].isin([0, 1])]\n",
    "anxiety_df = anxiety_df[['user_id'] + anxiety_columns + ['anxiety_sum']]"
   ]
  },
  {
   "cell_type": "code",
   "execution_count": 44,
   "metadata": {},
   "outputs": [],
   "source": [
    "stress_column = ['你是否一听说“要考试”心里就紧张。 ','你考试成绩不好时，心里是否感到很不快? ','你学习成绩不好时，是否总是提心吊胆? ','你考试时，想不起原先掌握的知识时，是否会感到紧张不安? ','你是否一遇到考试，就担心会考坏? ','你在工作或学习时，如果有人在注意你，你心里是否会紧张? ','你学习的时候，思想是否经常开小差? ']"
   ]
  },
  {
   "cell_type": "code",
   "execution_count": 45,
   "metadata": {},
   "outputs": [
    {
     "name": "stderr",
     "output_type": "stream",
     "text": [
      "C:\\Users\\Administrator\\AppData\\Local\\Temp\\ipykernel_164776\\2876718585.py:1: SettingWithCopyWarning: \n",
      "A value is trying to be set on a copy of a slice from a DataFrame.\n",
      "Try using .loc[row_indexer,col_indexer] = value instead\n",
      "\n",
      "See the caveats in the documentation: https://pandas.pydata.org/pandas-docs/stable/user_guide/indexing.html#returning-a-view-versus-a-copy\n",
      "  final_filtered_df['stress_sum'] = final_filtered_df[stress_column].sum(axis = 1)\n"
     ]
    }
   ],
   "source": [
    "final_filtered_df['stress_sum'] = final_filtered_df[stress_column].sum(axis = 1)"
   ]
  },
  {
   "cell_type": "code",
   "execution_count": 46,
   "metadata": {},
   "outputs": [
    {
     "data": {
      "text/plain": [
       "stress_sum\n",
       "7.0    160\n",
       "6.0    126\n",
       "5.0     96\n",
       "4.0     61\n",
       "3.0     44\n",
       "2.0     38\n",
       "1.0     28\n",
       "0.0     18\n",
       "Name: count, dtype: int64"
      ]
     },
     "execution_count": 46,
     "metadata": {},
     "output_type": "execute_result"
    }
   ],
   "source": [
    "final_filtered_df['stress_sum'].value_counts()"
   ]
  },
  {
   "cell_type": "code",
   "execution_count": 47,
   "metadata": {},
   "outputs": [
    {
     "name": "stderr",
     "output_type": "stream",
     "text": [
      "C:\\Users\\Administrator\\AppData\\Local\\Temp\\ipykernel_164776\\967548058.py:1: SettingWithCopyWarning: \n",
      "A value is trying to be set on a copy of a slice from a DataFrame.\n",
      "Try using .loc[row_indexer,col_indexer] = value instead\n",
      "\n",
      "See the caveats in the documentation: https://pandas.pydata.org/pandas-docs/stable/user_guide/indexing.html#returning-a-view-versus-a-copy\n",
      "  final_filtered_df['stress_label'] = final_filtered_df['stress_sum'].apply( lambda x: 1 if x > 6 else (0 if x < 5 else -1))\n"
     ]
    }
   ],
   "source": [
    "final_filtered_df['stress_label'] = final_filtered_df['stress_sum'].apply( lambda x: 1 if x > 6 else (0 if x < 5 else -1))"
   ]
  },
  {
   "cell_type": "code",
   "execution_count": 48,
   "metadata": {},
   "outputs": [],
   "source": [
    "\n",
    "final_filtered_df.to_excel(f\"./{outdir}/MiddleSchool_Depression_Anxiety.xlsx\", index=False)\n",
    "\n",
    "anxiety_df = final_filtered_df[final_filtered_df['anxiety_label'].isin([0, 1])]\n",
    "anxiety_df = anxiety_df[['user_id'] + anxiety_columns + ['anxiety_sum']]"
   ]
  },
  {
   "cell_type": "code",
   "execution_count": null,
   "metadata": {},
   "outputs": [],
   "source": []
  }
 ],
 "metadata": {
  "kernelspec": {
   "display_name": "Python 3",
   "language": "python",
   "name": "python3"
  },
  "language_info": {
   "codemirror_mode": {
    "name": "ipython",
    "version": 3
   },
   "file_extension": ".py",
   "mimetype": "text/x-python",
   "name": "python",
   "nbconvert_exporter": "python",
   "pygments_lexer": "ipython3",
   "version": "3.12.2"
  }
 },
 "nbformat": 4,
 "nbformat_minor": 2
}
