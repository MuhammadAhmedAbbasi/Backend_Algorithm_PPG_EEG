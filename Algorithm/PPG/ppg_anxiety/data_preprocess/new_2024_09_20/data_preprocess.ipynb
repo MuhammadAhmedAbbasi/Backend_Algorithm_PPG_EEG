{
 "cells": [
  {
   "cell_type": "code",
   "execution_count": 1,
   "metadata": {},
   "outputs": [],
   "source": [
    "import datetime\n",
    "import json\n",
    "import os\n",
    "import random\n",
    "import sys\n",
    "import warnings\n",
    "import pandas as pd\n",
    "\n",
    "sys.path.append(os.path.join(os.getcwd(), '../../../common'))\n",
    "from ppg_feature_processor import generate_train_feature\n",
    "\n",
    "# Suppress specific warnings\n",
    "warnings.filterwarnings(\"ignore\", category=DeprecationWarning, message=\".*Conversion of an array with ndim > 0 to a scalar is deprecated.*\")"
   ]
  },
  {
   "cell_type": "code",
   "execution_count": 2,
   "metadata": {},
   "outputs": [],
   "source": [
    "# 读取 Excel 文件'\n",
    "middleSchool_userProfile_file_new = r'C:\\Users\\Administrator\\Desktop\\Backend-Algorithm\\Algorithm\\PPG\\ppg_depression\\data_preprocess\\new_data_2024_09_20\\outdir\\MiddleSchool_Depression_Anxiety.xlsx'\n",
    "middleSchool_userProfile_file = r'../../ppg_depression/data_preprocess/outdir/MiddleSchool_Depression_Anxiety.xlsx'\n",
    "hospital_userProfile_file = '../../../../Data/unhealthy_clinic_results.xlsx'"
   ]
  },
  {
   "cell_type": "code",
   "execution_count": 3,
   "metadata": {},
   "outputs": [
    {
     "name": "stdout",
     "output_type": "stream",
     "text": [
      "Index(['床号', '性别', '年龄', '入院时间', '入院诊断', '病情备注', '抑郁', '焦虑', '双向情感障碍', '睡眠障碍'], dtype='object')\n",
      "               床号 性别  年龄  焦虑\n",
      "49  20240717_2A21  女  14   1\n",
      "\n",
      "Hospital Positive Anxiety subjects:  ['20240717_2A21']\n"
     ]
    }
   ],
   "source": [
    "### READ THE HOSPITAL SUBJECTS\n",
    "df_hospital = pd.read_excel(hospital_userProfile_file)\n",
    "print(df_hospital.columns)\n",
    "\n",
    "hospital_positive_subjects_df = df_hospital[(df_hospital['焦虑'] == 1) & (df_hospital['年龄'] <= 15)][['床号', '性别', '年龄', '焦虑']]\n",
    "print(hospital_positive_subjects_df)\n",
    "\n",
    "\n",
    "hospital_positive_subjects = hospital_positive_subjects_df['床号'].tolist()\n",
    "print(\"\\nHospital Positive Anxiety subjects: \", hospital_positive_subjects)"
   ]
  },
  {
   "cell_type": "code",
   "execution_count": 4,
   "metadata": {},
   "outputs": [],
   "source": [
    "anxiety_positive_threshold = 16\n",
    "anxiety_negative_threshold = 5"
   ]
  },
  {
   "cell_type": "code",
   "execution_count": 5,
   "metadata": {},
   "outputs": [
    {
     "name": "stdout",
     "output_type": "stream",
     "text": [
      "middle anxiety positive subjects count: 21\n",
      "middle anxiety negative subjects count: 80\n"
     ]
    }
   ],
   "source": [
    "### READ THE MIDDLESCHOOL SUBJECTS\n",
    "df_middle = pd.read_excel(middleSchool_userProfile_file_new, sheet_name= 'MHT')\n",
    "\n",
    "middle_pos_subjects = df_middle[df_middle['anxiety_sum'] >= anxiety_positive_threshold]['subjectid'].values.tolist()\n",
    "middle_neg_subjects = df_middle[df_middle['anxiety_sum'] <= anxiety_negative_threshold]['subjectid'].values.tolist()\n",
    "\n",
    "print(f\"middle anxiety positive subjects count: {len(middle_pos_subjects)}\")\n",
    "print(f\"middle anxiety negative subjects count: {len(middle_neg_subjects)}\")"
   ]
  },
  {
   "cell_type": "code",
   "execution_count": 6,
   "metadata": {},
   "outputs": [],
   "source": [
    "profile_dict = dict()\n",
    "\n",
    "for _, row in df_hospital.iterrows():\n",
    "    userId = row['床号']\n",
    "    gender = 'Male' if row['性别'] == '男' else 'Female'\n",
    "    age = row['年龄']\n",
    "    profile_dict[userId] = (gender, age)\n",
    "for _, row in df_middle.iterrows():\n",
    "    userId = row['subjectid']\n",
    "    gender = row['gender']\n",
    "    age = row['age']\n",
    "    profile_dict[userId] = (gender, age)\n",
    "\n"
   ]
  },
  {
   "cell_type": "code",
   "execution_count": 7,
   "metadata": {},
   "outputs": [
    {
     "name": "stdout",
     "output_type": "stream",
     "text": [
      "train postive subjects: 14\n",
      "train negative subjects: 72\n",
      "test postive subjects: 8\n",
      "test negative subjects: 8\n"
     ]
    }
   ],
   "source": [
    "random.shuffle(middle_pos_subjects)\n",
    "random.shuffle(middle_neg_subjects)\n",
    "\n",
    "test_subject_count = 8\n",
    "\n",
    "test_pos_subjects = middle_pos_subjects[0:test_subject_count]\n",
    "test_neg_subjects = middle_neg_subjects[0:test_subject_count]\n",
    "\n",
    "train_pos_subjects =   middle_pos_subjects[test_subject_count::] + hospital_positive_subjects\n",
    "train_neg_subjects = middle_neg_subjects[test_subject_count::]\n",
    "\n",
    "print(f\"train postive subjects: {len(train_pos_subjects)}\")\n",
    "print(f\"train negative subjects: {len(train_neg_subjects)}\")\n",
    "\n",
    "print(f\"test postive subjects: {len(test_pos_subjects)}\")\n",
    "print(f\"test negative subjects: {len(test_neg_subjects)}\")\n"
   ]
  },
  {
   "cell_type": "code",
   "execution_count": 8,
   "metadata": {},
   "outputs": [],
   "source": [
    "def load_wave_middleSchool(path):\n",
    "    try:\n",
    "        with open(path, 'r', encoding='utf-8') as file:  \n",
    "            data = json.load(file)\n",
    "        return data[\"ppg_raw_data\"]\n",
    "    except:\n",
    "        print(\"Subject Not Loaded\")\n",
    "        pass\n",
    "\n",
    "def load_wave_university_or_hospital(path):\n",
    "    with open(path, 'r', encoding='utf-8') as file:  \n",
    "            data = json.load(file)\n",
    "            list_data = data['MesureData']['Datas']\n",
    "            final = [i for i in list_data]\n",
    "            return final"
   ]
  },
  {
   "cell_type": "code",
   "execution_count": 9,
   "metadata": {},
   "outputs": [],
   "source": [
    "sample_freq = 125\n",
    "sample_window_minute = 0.5\n",
    "\n",
    "middle_file_dir = r'C:\\Users\\Administrator\\Desktop\\middle_school_data\\ppg_data'\n",
    "hospital_file_dir = r'C:\\Users\\Administrator\\Desktop\\PPG_dataset\\PPG_Dataset_ALL\\unhealthy'"
   ]
  },
  {
   "cell_type": "code",
   "execution_count": 10,
   "metadata": {},
   "outputs": [],
   "source": [
    "def generate_dataset(subject_collection, label, data_aug_times=1):\n",
    "    ignored_id = []\n",
    "    dataset = pd.DataFrame()\n",
    "    for subject in subject_collection:\n",
    "            subject_wave = []\n",
    "\n",
    "            if subject in (middle_pos_subjects + middle_neg_subjects):\n",
    "                files = os.listdir(middle_file_dir)\n",
    "                for file in files:\n",
    "                    if file.startswith(subject) and file.endswith('.json'):\n",
    "                        file_path = os.path.join(middle_file_dir, file)\n",
    "                        print(f\"middle file path: {file_path}\")\n",
    "                        tmp_wave = load_wave_middleSchool(file_path)\n",
    "                        subject_wave += tmp_wave\n",
    "\n",
    "            elif subject in hospital_positive_subjects:\n",
    "                files = os.listdir(hospital_file_dir)\n",
    "                for file in files:\n",
    "                    if file.startswith(subject) and file.endswith('.json'):\n",
    "                        file_path = os.path.join(hospital_file_dir, file)\n",
    "                        print(f\"hospital file path: {file_path}\")\n",
    "                        tmp_wave = load_wave_university_or_hospital(file_path)\n",
    "                        subject_wave += tmp_wave\n",
    "            # The middle school subjects.\n",
    "            \n",
    "            if len(subject_wave) < (sample_freq * (sample_window_minute) * 60):\n",
    "                print(f\"Small time for subj: {subject} is: {len(subject_wave)/(sample_freq*60)}\")\n",
    "                ignored_id.append({'id': id, 'Time Length of data in minute ': f\"{len(subject_wave)/(125 * 60):.02f}\"})\n",
    "                continue\n",
    "            else:\n",
    "                print(f\"Recording time for subj: {subject} is: {len(subject_wave)/(sample_freq*60)}\")\n",
    "                subject_dataset = generate_train_feature(subject, subject_wave, label, profile_dict[subject][0], profile_dict[subject][1], sample_freq, sample_window_minute, data_aug_times, if_gender = True)\n",
    "                dataset = pd.concat([dataset, subject_dataset], ignore_index=True)\n",
    "    return dataset\n",
    "\n",
    "\n"
   ]
  },
  {
   "cell_type": "code",
   "execution_count": 11,
   "metadata": {},
   "outputs": [
    {
     "name": "stdout",
     "output_type": "stream",
     "text": [
      "middle file path: C:\\Users\\Administrator\\Desktop\\middle_school_data\\ppg_data\\31678a19-e59c-c77c-620f-c923c10b34be.json\n",
      "Recording time for subj: 31678a19-e59c-c77c-620f-c923c10b34be is: 15.166666666666666\n",
      "middle file path: C:\\Users\\Administrator\\Desktop\\middle_school_data\\ppg_data\\542242ec-d814-ee96-ad3b-b6fd8060dc79.json\n",
      "Recording time for subj: 542242ec-d814-ee96-ad3b-b6fd8060dc79 is: 15.05\n",
      "middle file path: C:\\Users\\Administrator\\Desktop\\middle_school_data\\ppg_data\\47020f1f-8eae-e72a-3353-3eb135306622.json\n",
      "Recording time for subj: 47020f1f-8eae-e72a-3353-3eb135306622 is: 15.016666666666667\n",
      "middle file path: C:\\Users\\Administrator\\Desktop\\middle_school_data\\ppg_data\\c35d0097-5810-67c4-7c8e-72e8673f0bdc.json\n",
      "Recording time for subj: c35d0097-5810-67c4-7c8e-72e8673f0bdc is: 15.15\n",
      "middle file path: C:\\Users\\Administrator\\Desktop\\middle_school_data\\ppg_data\\c2a7924f-96fd-c4e5-f44e-73aa0d3060d8.json\n",
      "Recording time for subj: c2a7924f-96fd-c4e5-f44e-73aa0d3060d8 is: 15.033333333333333\n",
      "middle file path: C:\\Users\\Administrator\\Desktop\\middle_school_data\\ppg_data\\519f7bf1-6ddf-4014-2caf-5e0ca8356316.json\n",
      "Recording time for subj: 519f7bf1-6ddf-4014-2caf-5e0ca8356316 is: 15.05\n",
      "middle file path: C:\\Users\\Administrator\\Desktop\\middle_school_data\\ppg_data\\442df0e7-2e07-179d-a11f-03b06a1cc0d0.json\n",
      "Recording time for subj: 442df0e7-2e07-179d-a11f-03b06a1cc0d0 is: 14.983333333333333\n",
      "middle file path: C:\\Users\\Administrator\\Desktop\\middle_school_data\\ppg_data\\8df51dda-6ebd-2c29-86b1-472960ceb38c.json\n",
      "Recording time for subj: 8df51dda-6ebd-2c29-86b1-472960ceb38c is: 15.033333333333333\n",
      "middle file path: C:\\Users\\Administrator\\Desktop\\middle_school_data\\ppg_data\\1cb46388-b67b-59a1-8854-7f80c60940a3.json\n",
      "Recording time for subj: 1cb46388-b67b-59a1-8854-7f80c60940a3 is: 15.033333333333333\n",
      "middle file path: C:\\Users\\Administrator\\Desktop\\middle_school_data\\ppg_data\\22a0c441-5fad-ca2e-fe55-f667f0064b54.json\n",
      "Recording time for subj: 22a0c441-5fad-ca2e-fe55-f667f0064b54 is: 14.983333333333333\n",
      "middle file path: C:\\Users\\Administrator\\Desktop\\middle_school_data\\ppg_data\\b8d9a9fb-29ec-1049-eadc-3fedfb7ee5a5.json\n",
      "Recording time for subj: b8d9a9fb-29ec-1049-eadc-3fedfb7ee5a5 is: 15.016666666666667\n",
      "middle file path: C:\\Users\\Administrator\\Desktop\\middle_school_data\\ppg_data\\92145824-ff7e-be24-e815-a64e899f38e1.json\n",
      "Recording time for subj: 92145824-ff7e-be24-e815-a64e899f38e1 is: 15.016666666666667\n",
      "middle file path: C:\\Users\\Administrator\\Desktop\\middle_school_data\\ppg_data\\8e57c504-b084-5555-3606-bcd242cb62b2.json\n",
      "Recording time for subj: 8e57c504-b084-5555-3606-bcd242cb62b2 is: 15.116666666666667\n",
      "middle file path: C:\\Users\\Administrator\\Desktop\\middle_school_data\\ppg_data\\a1276cea-f175-a713-48ae-75b4180e1631.json\n",
      "Recording time for subj: a1276cea-f175-a713-48ae-75b4180e1631 is: 15.066666666666666\n",
      "middle file path: C:\\Users\\Administrator\\Desktop\\middle_school_data\\ppg_data\\6ef52454-faae-1300-671f-5132b7b3e1f5.json\n",
      "Recording time for subj: 6ef52454-faae-1300-671f-5132b7b3e1f5 is: 15.0\n",
      "middle file path: C:\\Users\\Administrator\\Desktop\\middle_school_data\\ppg_data\\6eab329f-50ac-d683-4a01-e43aa320d366.json\n",
      "Recording time for subj: 6eab329f-50ac-d683-4a01-e43aa320d366 is: 15.05\n",
      "middle file path: C:\\Users\\Administrator\\Desktop\\middle_school_data\\ppg_data\\db303fac-a216-c949-5f32-8f02f6e29c52.json\n",
      "Recording time for subj: db303fac-a216-c949-5f32-8f02f6e29c52 is: 15.233333333333333\n",
      "middle file path: C:\\Users\\Administrator\\Desktop\\middle_school_data\\ppg_data\\d26c81df-c282-df49-96d4-b3618aabe6b3.json\n",
      "Recording time for subj: d26c81df-c282-df49-96d4-b3618aabe6b3 is: 15.15\n",
      "middle file path: C:\\Users\\Administrator\\Desktop\\middle_school_data\\ppg_data\\f8fd9136-63dc-cceb-e257-42abcdabd431.json\n",
      "Recording time for subj: f8fd9136-63dc-cceb-e257-42abcdabd431 is: 15.066666666666666\n",
      "middle file path: C:\\Users\\Administrator\\Desktop\\middle_school_data\\ppg_data\\47d95a32-8afc-d476-16e8-5eea642afb1f.json\n",
      "Recording time for subj: 47d95a32-8afc-d476-16e8-5eea642afb1f is: 15.016666666666667\n",
      "middle file path: C:\\Users\\Administrator\\Desktop\\middle_school_data\\ppg_data\\9a909ffc-d13e-c38f-e866-f814defcbfda.json\n",
      "Recording time for subj: 9a909ffc-d13e-c38f-e866-f814defcbfda is: 15.116666666666667\n",
      "middle file path: C:\\Users\\Administrator\\Desktop\\middle_school_data\\ppg_data\\aa491176-3c35-e430-81c3-bf365804068b.json\n",
      "Recording time for subj: aa491176-3c35-e430-81c3-bf365804068b is: 15.083333333333334\n",
      "middle file path: C:\\Users\\Administrator\\Desktop\\middle_school_data\\ppg_data\\3db4ec78-0911-4334-3789-bfd1feee8d66.json\n",
      "Recording time for subj: 3db4ec78-0911-4334-3789-bfd1feee8d66 is: 15.05\n",
      "middle file path: C:\\Users\\Administrator\\Desktop\\middle_school_data\\ppg_data\\15734937-3410-57f6-3cc3-d1d32e9138c5.json\n",
      "Recording time for subj: 15734937-3410-57f6-3cc3-d1d32e9138c5 is: 15.05\n",
      "middle file path: C:\\Users\\Administrator\\Desktop\\middle_school_data\\ppg_data\\484f8abd-08c7-84a5-f6b2-bbfda13e048d.json\n",
      "Recording time for subj: 484f8abd-08c7-84a5-f6b2-bbfda13e048d is: 15.0\n",
      "middle file path: C:\\Users\\Administrator\\Desktop\\middle_school_data\\ppg_data\\22dfdab7-c963-7995-fdb0-586cdb0fc750.json\n",
      "Recording time for subj: 22dfdab7-c963-7995-fdb0-586cdb0fc750 is: 15.083333333333334\n",
      "middle file path: C:\\Users\\Administrator\\Desktop\\middle_school_data\\ppg_data\\48a96f87-7fc2-9aa9-bdbd-095bbb5c63ce.json\n",
      "Recording time for subj: 48a96f87-7fc2-9aa9-bdbd-095bbb5c63ce is: 15.016666666666667\n",
      "middle file path: C:\\Users\\Administrator\\Desktop\\middle_school_data\\ppg_data\\ae10b469-3e20-eff1-eb09-80c4b720a422.json\n",
      "Recording time for subj: ae10b469-3e20-eff1-eb09-80c4b720a422 is: 15.083333333333334\n",
      "middle file path: C:\\Users\\Administrator\\Desktop\\middle_school_data\\ppg_data\\15296f6a-42b1-9f4f-fdfe-4e6378685caa.json\n",
      "Recording time for subj: 15296f6a-42b1-9f4f-fdfe-4e6378685caa is: 15.1\n",
      "middle file path: C:\\Users\\Administrator\\Desktop\\middle_school_data\\ppg_data\\695153b8-cd54-28f7-5e2d-b43ef7a12347.json\n",
      "Recording time for subj: 695153b8-cd54-28f7-5e2d-b43ef7a12347 is: 15.05\n",
      "middle file path: C:\\Users\\Administrator\\Desktop\\middle_school_data\\ppg_data\\ee2ffda0-b7df-d854-7b31-d2e714196949.json\n",
      "Recording time for subj: ee2ffda0-b7df-d854-7b31-d2e714196949 is: 0.6333333333333333\n",
      "middle file path: C:\\Users\\Administrator\\Desktop\\middle_school_data\\ppg_data\\2121ad4a-6621-530c-2a3d-cc49dfb50341.json\n",
      "Recording time for subj: 2121ad4a-6621-530c-2a3d-cc49dfb50341 is: 15.016666666666667\n",
      "middle file path: C:\\Users\\Administrator\\Desktop\\middle_school_data\\ppg_data\\b1258f68-6daa-4474-ee4d-2992522fe41e.json\n",
      "Recording time for subj: b1258f68-6daa-4474-ee4d-2992522fe41e is: 15.016666666666667\n",
      "middle file path: C:\\Users\\Administrator\\Desktop\\middle_school_data\\ppg_data\\992df89c-aed5-6b21-8a06-8e362c4e9ef4.json\n",
      "Recording time for subj: 992df89c-aed5-6b21-8a06-8e362c4e9ef4 is: 15.05\n",
      "middle file path: C:\\Users\\Administrator\\Desktop\\middle_school_data\\ppg_data\\c32b0eae-5547-1f49-7179-d0b241871dbc.json\n",
      "Recording time for subj: c32b0eae-5547-1f49-7179-d0b241871dbc is: 15.066666666666666\n",
      "middle file path: C:\\Users\\Administrator\\Desktop\\middle_school_data\\ppg_data\\1aeb556d-1e4f-31aa-204f-09b62f2c13d0.json\n",
      "Recording time for subj: 1aeb556d-1e4f-31aa-204f-09b62f2c13d0 is: 15.233333333333333\n",
      "middle file path: C:\\Users\\Administrator\\Desktop\\middle_school_data\\ppg_data\\ed718921-8bc0-71f8-c9bb-8ce3ee322ee3.json\n",
      "Recording time for subj: ed718921-8bc0-71f8-c9bb-8ce3ee322ee3 is: 15.033333333333333\n",
      "middle file path: C:\\Users\\Administrator\\Desktop\\middle_school_data\\ppg_data\\d2adc252-fd1e-659a-5b27-37327b37c4a4.json\n",
      "Recording time for subj: d2adc252-fd1e-659a-5b27-37327b37c4a4 is: 15.066666666666666\n",
      "middle file path: C:\\Users\\Administrator\\Desktop\\middle_school_data\\ppg_data\\163f49e3-4026-e051-efaf-e91b9f15dc95.json\n",
      "Recording time for subj: 163f49e3-4026-e051-efaf-e91b9f15dc95 is: 15.116666666666667\n",
      "middle file path: C:\\Users\\Administrator\\Desktop\\middle_school_data\\ppg_data\\e1f563f8-90bf-4b92-be94-b2ebff83a52d.json\n",
      "Recording time for subj: e1f563f8-90bf-4b92-be94-b2ebff83a52d is: 15.05\n",
      "middle file path: C:\\Users\\Administrator\\Desktop\\middle_school_data\\ppg_data\\18c05426-dbb4-adab-607c-ae88d99bfc89.json\n",
      "Recording time for subj: 18c05426-dbb4-adab-607c-ae88d99bfc89 is: 15.033333333333333\n",
      "middle file path: C:\\Users\\Administrator\\Desktop\\middle_school_data\\ppg_data\\0feb0f39-532d-2486-1f6b-2f8c0d70b24f.json\n",
      "Recording time for subj: 0feb0f39-532d-2486-1f6b-2f8c0d70b24f is: 15.05\n",
      "middle file path: C:\\Users\\Administrator\\Desktop\\middle_school_data\\ppg_data\\4492fe43-4473-da97-6ce5-0a85fa24a5f7.json\n",
      "Recording time for subj: 4492fe43-4473-da97-6ce5-0a85fa24a5f7 is: 15.05\n",
      "middle file path: C:\\Users\\Administrator\\Desktop\\middle_school_data\\ppg_data\\0ba4d45e-1f39-aaa1-b2ce-0fefcd5c56ea.json\n",
      "Recording time for subj: 0ba4d45e-1f39-aaa1-b2ce-0fefcd5c56ea is: 0.6333333333333333\n",
      "middle file path: C:\\Users\\Administrator\\Desktop\\middle_school_data\\ppg_data\\ffa0a5d0-0a91-7eef-4da5-2daf1eef3a05.json\n",
      "Recording time for subj: ffa0a5d0-0a91-7eef-4da5-2daf1eef3a05 is: 0.65\n",
      "middle file path: C:\\Users\\Administrator\\Desktop\\middle_school_data\\ppg_data\\03f5022c-656d-e4c2-6cdd-2248276f0f41.json\n",
      "Recording time for subj: 03f5022c-656d-e4c2-6cdd-2248276f0f41 is: 0.6333333333333333\n",
      "middle file path: C:\\Users\\Administrator\\Desktop\\middle_school_data\\ppg_data\\179dad82-dee9-d423-da3d-4917bae95aa8.json\n",
      "Recording time for subj: 179dad82-dee9-d423-da3d-4917bae95aa8 is: 15.033333333333333\n",
      "middle file path: C:\\Users\\Administrator\\Desktop\\middle_school_data\\ppg_data\\39b695f2-2cdd-ce5b-709a-a263cb8f9b34.json\n",
      "Recording time for subj: 39b695f2-2cdd-ce5b-709a-a263cb8f9b34 is: 15.033333333333333\n",
      "middle file path: C:\\Users\\Administrator\\Desktop\\middle_school_data\\ppg_data\\fed9c748-0ecd-6c7e-f104-e05d74ba1488.json\n",
      "Recording time for subj: fed9c748-0ecd-6c7e-f104-e05d74ba1488 is: 15.033333333333333\n",
      "middle file path: C:\\Users\\Administrator\\Desktop\\middle_school_data\\ppg_data\\13fbbc43-d58e-8115-1e69-0ab5503eb1f5.json\n",
      "Recording time for subj: 13fbbc43-d58e-8115-1e69-0ab5503eb1f5 is: 15.016666666666667\n",
      "middle file path: C:\\Users\\Administrator\\Desktop\\middle_school_data\\ppg_data\\1902fe28-88cc-14d1-e5e4-649a5205ae21.json\n",
      "Recording time for subj: 1902fe28-88cc-14d1-e5e4-649a5205ae21 is: 15.083333333333334\n",
      "middle file path: C:\\Users\\Administrator\\Desktop\\middle_school_data\\ppg_data\\eeb255b5-6a3d-0f9f-2f96-7f14b74472a4.json\n",
      "Recording time for subj: eeb255b5-6a3d-0f9f-2f96-7f14b74472a4 is: 15.033333333333333\n",
      "middle file path: C:\\Users\\Administrator\\Desktop\\middle_school_data\\ppg_data\\34445fb0-1a82-48e0-a633-16c6dcbcf3d8.json\n",
      "Recording time for subj: 34445fb0-1a82-48e0-a633-16c6dcbcf3d8 is: 15.1\n",
      "middle file path: C:\\Users\\Administrator\\Desktop\\middle_school_data\\ppg_data\\ad674d01-4c98-9197-6876-ae14db61152f.json\n",
      "Recording time for subj: ad674d01-4c98-9197-6876-ae14db61152f is: 15.05\n",
      "middle file path: C:\\Users\\Administrator\\Desktop\\middle_school_data\\ppg_data\\01a5e460-0607-38a6-b5ce-7f124b969222.json\n",
      "Recording time for subj: 01a5e460-0607-38a6-b5ce-7f124b969222 is: 15.166666666666666\n",
      "middle file path: C:\\Users\\Administrator\\Desktop\\middle_school_data\\ppg_data\\a3f39dac-711d-cbee-1d09-e8d2019fa3d5.json\n",
      "Recording time for subj: a3f39dac-711d-cbee-1d09-e8d2019fa3d5 is: 15.116666666666667\n",
      "middle file path: C:\\Users\\Administrator\\Desktop\\middle_school_data\\ppg_data\\cc472b11-54b5-5785-27d0-6b5ee4c644cf.json\n",
      "Recording time for subj: cc472b11-54b5-5785-27d0-6b5ee4c644cf is: 15.116666666666667\n",
      "middle file path: C:\\Users\\Administrator\\Desktop\\middle_school_data\\ppg_data\\59761f60-ebf4-f92a-c8c8-5420ac37e3a9.json\n",
      "Recording time for subj: 59761f60-ebf4-f92a-c8c8-5420ac37e3a9 is: 15.016666666666667\n",
      "middle file path: C:\\Users\\Administrator\\Desktop\\middle_school_data\\ppg_data\\13cdee35-1e76-9aed-8c90-9c5947300d0b.json\n",
      "Recording time for subj: 13cdee35-1e76-9aed-8c90-9c5947300d0b is: 0.6333333333333333\n",
      "middle file path: C:\\Users\\Administrator\\Desktop\\middle_school_data\\ppg_data\\5f9bfd68-ffc2-c961-4b39-d48a29d72b01.json\n",
      "Recording time for subj: 5f9bfd68-ffc2-c961-4b39-d48a29d72b01 is: 14.983333333333333\n",
      "middle file path: C:\\Users\\Administrator\\Desktop\\middle_school_data\\ppg_data\\5095e8aa-dece-8331-4809-e9a390576151.json\n",
      "Recording time for subj: 5095e8aa-dece-8331-4809-e9a390576151 is: 15.033333333333333\n",
      "middle file path: C:\\Users\\Administrator\\Desktop\\middle_school_data\\ppg_data\\d9bc42e3-776a-3ccd-9224-b66b4cbd92df.json\n",
      "Recording time for subj: d9bc42e3-776a-3ccd-9224-b66b4cbd92df is: 15.083333333333334\n",
      "middle file path: C:\\Users\\Administrator\\Desktop\\middle_school_data\\ppg_data\\4da8cad4-9802-f921-35a5-6906386dd28a.json\n",
      "Recording time for subj: 4da8cad4-9802-f921-35a5-6906386dd28a is: 15.1\n",
      "middle file path: C:\\Users\\Administrator\\Desktop\\middle_school_data\\ppg_data\\d148761a-1175-29ae-7dd8-a73a529fd059.json\n",
      "Recording time for subj: d148761a-1175-29ae-7dd8-a73a529fd059 is: 15.066666666666666\n",
      "middle file path: C:\\Users\\Administrator\\Desktop\\middle_school_data\\ppg_data\\711de251-858f-3c89-0c4f-380e4a5fd709.json\n",
      "Recording time for subj: 711de251-858f-3c89-0c4f-380e4a5fd709 is: 15.033333333333333\n",
      "middle file path: C:\\Users\\Administrator\\Desktop\\middle_school_data\\ppg_data\\a3bb10b9-2ac2-ecf1-a40d-4cec92f0a2c9.json\n",
      "Recording time for subj: a3bb10b9-2ac2-ecf1-a40d-4cec92f0a2c9 is: 15.033333333333333\n",
      "middle file path: C:\\Users\\Administrator\\Desktop\\middle_school_data\\ppg_data\\5e8f7bd2-6461-9dc1-9253-486769cdaaf5.json\n",
      "Recording time for subj: 5e8f7bd2-6461-9dc1-9253-486769cdaaf5 is: 15.05\n",
      "middle file path: C:\\Users\\Administrator\\Desktop\\middle_school_data\\ppg_data\\afdb37c1-120c-eca1-f767-866485073f77.json\n",
      "Recording time for subj: afdb37c1-120c-eca1-f767-866485073f77 is: 15.066666666666666\n",
      "middle file path: C:\\Users\\Administrator\\Desktop\\middle_school_data\\ppg_data\\8dedcad7-073e-1c07-bfc8-41624aea3d11.json\n",
      "Small time for subj: 8dedcad7-073e-1c07-bfc8-41624aea3d11 is: 0.16666666666666666\n",
      "middle file path: C:\\Users\\Administrator\\Desktop\\middle_school_data\\ppg_data\\5637365c-5c44-f98a-5384-c14f9a6a1e82.json\n",
      "Recording time for subj: 5637365c-5c44-f98a-5384-c14f9a6a1e82 is: 15.016666666666667\n",
      "middle file path: C:\\Users\\Administrator\\Desktop\\middle_school_data\\ppg_data\\06d85785-c95e-2be3-7346-31b6fd182706.json\n",
      "Recording time for subj: 06d85785-c95e-2be3-7346-31b6fd182706 is: 15.033333333333333\n",
      "middle file path: C:\\Users\\Administrator\\Desktop\\middle_school_data\\ppg_data\\eadb5607-8809-4eda-b570-20ce6422fe19.json\n",
      "Recording time for subj: eadb5607-8809-4eda-b570-20ce6422fe19 is: 15.016666666666667\n",
      "middle file path: C:\\Users\\Administrator\\Desktop\\middle_school_data\\ppg_data\\198bf5f3-cb34-b325-5b8e-4b8dcf838f53.json\n",
      "Recording time for subj: 198bf5f3-cb34-b325-5b8e-4b8dcf838f53 is: 15.1\n",
      "middle file path: C:\\Users\\Administrator\\Desktop\\middle_school_data\\ppg_data\\eeb6a92b-0e23-7c08-c7ff-51c9fd87e0dc.json\n",
      "Recording time for subj: eeb6a92b-0e23-7c08-c7ff-51c9fd87e0dc is: 15.05\n",
      "middle file path: C:\\Users\\Administrator\\Desktop\\middle_school_data\\ppg_data\\9a34857c-2f52-99be-d371-af9a8244b656.json\n",
      "Recording time for subj: 9a34857c-2f52-99be-d371-af9a8244b656 is: 15.05\n",
      "middle file path: C:\\Users\\Administrator\\Desktop\\middle_school_data\\ppg_data\\4115b0eb-dfb2-12c9-325e-91cf5d65c64f.json\n",
      "Recording time for subj: 4115b0eb-dfb2-12c9-325e-91cf5d65c64f is: 15.1\n",
      "middle file path: C:\\Users\\Administrator\\Desktop\\middle_school_data\\ppg_data\\bf102cd1-feed-4807-9ce7-d8bbfe9d0afd.json\n",
      "Recording time for subj: bf102cd1-feed-4807-9ce7-d8bbfe9d0afd is: 15.05\n",
      "middle file path: C:\\Users\\Administrator\\Desktop\\middle_school_data\\ppg_data\\7480d1ea-2c43-2dfb-bc96-cc19f42892c8.json\n",
      "Recording time for subj: 7480d1ea-2c43-2dfb-bc96-cc19f42892c8 is: 15.016666666666667\n",
      "middle file path: C:\\Users\\Administrator\\Desktop\\middle_school_data\\ppg_data\\3d874d9e-9a8e-9253-ec03-75e6fe138996.json\n",
      "Recording time for subj: 3d874d9e-9a8e-9253-ec03-75e6fe138996 is: 15.0\n",
      "middle file path: C:\\Users\\Administrator\\Desktop\\middle_school_data\\ppg_data\\aacd119d-a02c-2361-78b4-e0eb20d95b0c.json\n",
      "Recording time for subj: aacd119d-a02c-2361-78b4-e0eb20d95b0c is: 14.983333333333333\n",
      "middle file path: C:\\Users\\Administrator\\Desktop\\middle_school_data\\ppg_data\\dc7e8552-e3c4-4695-379c-10e144338a4b.json\n",
      "Recording time for subj: dc7e8552-e3c4-4695-379c-10e144338a4b is: 15.1\n",
      "middle file path: C:\\Users\\Administrator\\Desktop\\middle_school_data\\ppg_data\\b93b3974-780d-3e7a-fa30-90f642df571d.json\n",
      "Recording time for subj: b93b3974-780d-3e7a-fa30-90f642df571d is: 15.016666666666667\n",
      "middle file path: C:\\Users\\Administrator\\Desktop\\middle_school_data\\ppg_data\\5f9070ae-5c60-fc6c-23f7-027734646ce4.json\n",
      "Recording time for subj: 5f9070ae-5c60-fc6c-23f7-027734646ce4 is: 15.033333333333333\n",
      "middle file path: C:\\Users\\Administrator\\Desktop\\middle_school_data\\ppg_data\\5eae2457-6636-54b5-7789-0bfcf4f0db53.json\n",
      "Recording time for subj: 5eae2457-6636-54b5-7789-0bfcf4f0db53 is: 0.6\n",
      "middle file path: C:\\Users\\Administrator\\Desktop\\middle_school_data\\ppg_data\\9878443f-63d9-06a0-2314-c105d40cfbf0.json\n",
      "Recording time for subj: 9878443f-63d9-06a0-2314-c105d40cfbf0 is: 15.05\n",
      "hospital file path: C:\\Users\\Administrator\\Desktop\\PPG_dataset\\PPG_Dataset_ALL\\unhealthy\\20240717_2A21_PPG_ 20240717_153140.json\n",
      "hospital file path: C:\\Users\\Administrator\\Desktop\\PPG_dataset\\PPG_Dataset_ALL\\unhealthy\\20240717_2A21_PPG_ 20240717_160427.json\n",
      "Recording time for subj: 20240717_2A21 is: 60.1\n"
     ]
    }
   ],
   "source": [
    "train_neg_dataset = generate_dataset(train_neg_subjects, label=0, data_aug_times=1.2)\n",
    "train_pos_dataset = generate_dataset(train_pos_subjects, label=1, data_aug_times=4)"
   ]
  },
  {
   "cell_type": "code",
   "execution_count": 12,
   "metadata": {},
   "outputs": [
    {
     "name": "stdout",
     "output_type": "stream",
     "text": [
      "middle file path: C:\\Users\\Administrator\\Desktop\\middle_school_data\\ppg_data\\00212fb4-0488-59a8-2688-5fe74ee77781.json\n",
      "Recording time for subj: 00212fb4-0488-59a8-2688-5fe74ee77781 is: 15.05\n",
      "middle file path: C:\\Users\\Administrator\\Desktop\\middle_school_data\\ppg_data\\7036f895-20f6-3156-51a6-5d19cab15bf7.json\n",
      "Recording time for subj: 7036f895-20f6-3156-51a6-5d19cab15bf7 is: 15.0\n",
      "middle file path: C:\\Users\\Administrator\\Desktop\\middle_school_data\\ppg_data\\47d05821-c083-6cda-3d31-882633c63e4c.json\n",
      "Recording time for subj: 47d05821-c083-6cda-3d31-882633c63e4c is: 15.15\n",
      "middle file path: C:\\Users\\Administrator\\Desktop\\middle_school_data\\ppg_data\\29a8784b-8752-4de0-579c-034c95044509.json\n",
      "Recording time for subj: 29a8784b-8752-4de0-579c-034c95044509 is: 15.0\n",
      "middle file path: C:\\Users\\Administrator\\Desktop\\middle_school_data\\ppg_data\\04a8fa82-4f32-d69c-72d9-8d82a472b803.json\n",
      "Recording time for subj: 04a8fa82-4f32-d69c-72d9-8d82a472b803 is: 15.033333333333333\n",
      "middle file path: C:\\Users\\Administrator\\Desktop\\middle_school_data\\ppg_data\\00655d01-28c6-c69c-260f-7dff23f8eeea.json\n",
      "Recording time for subj: 00655d01-28c6-c69c-260f-7dff23f8eeea is: 15.016666666666667\n",
      "middle file path: C:\\Users\\Administrator\\Desktop\\middle_school_data\\ppg_data\\a793eaaf-fd17-2821-5e37-0ca88a71d1dc.json\n",
      "Recording time for subj: a793eaaf-fd17-2821-5e37-0ca88a71d1dc is: 15.033333333333333\n",
      "middle file path: C:\\Users\\Administrator\\Desktop\\middle_school_data\\ppg_data\\513195bb-f9b4-1d3d-6829-4cdf70008d23.json\n",
      "Recording time for subj: 513195bb-f9b4-1d3d-6829-4cdf70008d23 is: 15.066666666666666\n",
      "middle file path: C:\\Users\\Administrator\\Desktop\\middle_school_data\\ppg_data\\4cc407e4-9771-02b6-cfd0-fc847ce6ba05.json\n",
      "Recording time for subj: 4cc407e4-9771-02b6-cfd0-fc847ce6ba05 is: 15.05\n",
      "middle file path: C:\\Users\\Administrator\\Desktop\\middle_school_data\\ppg_data\\e8470455-6531-c287-ce81-e251f504768f.json\n",
      "Recording time for subj: e8470455-6531-c287-ce81-e251f504768f is: 15.05\n",
      "middle file path: C:\\Users\\Administrator\\Desktop\\middle_school_data\\ppg_data\\2cee9fb6-e907-59ef-d44e-c3c6cf2aa5b2.json\n",
      "Recording time for subj: 2cee9fb6-e907-59ef-d44e-c3c6cf2aa5b2 is: 15.066666666666666\n",
      "middle file path: C:\\Users\\Administrator\\Desktop\\middle_school_data\\ppg_data\\c5cf4093-8c88-3388-dd4a-8de8169eac4d.json\n",
      "Recording time for subj: c5cf4093-8c88-3388-dd4a-8de8169eac4d is: 15.016666666666667\n",
      "middle file path: C:\\Users\\Administrator\\Desktop\\middle_school_data\\ppg_data\\e144aa5e-bb1a-ee2e-4873-69dd9d71e4a4.json\n",
      "Recording time for subj: e144aa5e-bb1a-ee2e-4873-69dd9d71e4a4 is: 15.05\n",
      "middle file path: C:\\Users\\Administrator\\Desktop\\middle_school_data\\ppg_data\\2f8a7e09-3897-4161-d964-13f9736e20aa.json\n",
      "Recording time for subj: 2f8a7e09-3897-4161-d964-13f9736e20aa is: 15.016666666666667\n",
      "middle file path: C:\\Users\\Administrator\\Desktop\\middle_school_data\\ppg_data\\ab1797e6-299c-cad7-31ce-b06cd86d7580.json\n",
      "Recording time for subj: ab1797e6-299c-cad7-31ce-b06cd86d7580 is: 0.6166666666666667\n",
      "middle file path: C:\\Users\\Administrator\\Desktop\\middle_school_data\\ppg_data\\91a89ac9-f767-614f-97dd-ce09b72a6605.json\n",
      "Recording time for subj: 91a89ac9-f767-614f-97dd-ce09b72a6605 is: 15.016666666666667\n"
     ]
    }
   ],
   "source": [
    "test_pos_dataset = generate_dataset(test_pos_subjects, label=1, data_aug_times=1)\n",
    "test_neg_dataset = generate_dataset(test_neg_subjects, label=0, data_aug_times=1)"
   ]
  },
  {
   "cell_type": "code",
   "execution_count": 13,
   "metadata": {},
   "outputs": [],
   "source": [
    "def selecting_specific_time(dataset, time = 5):\n",
    "    final_dataset = pd.DataFrame()\n",
    "    subject_names =  (dataset['id'].unique()).tolist()\n",
    "    for sub_name in subject_names:\n",
    "        sub_data = dataset[dataset['id'] ==  sub_name].sample(time, ignore_index = True)\n",
    "        final_dataset = pd.concat([final_dataset, sub_data], ignore_index = True)\n",
    "    return final_dataset"
   ]
  },
  {
   "cell_type": "code",
   "execution_count": 14,
   "metadata": {},
   "outputs": [],
   "source": [
    "# test_neg_dataset = selecting_specific_time(test_neg_dataset)\n",
    "# test_pos_dataset = selecting_specific_time(test_pos_dataset)"
   ]
  },
  {
   "cell_type": "code",
   "execution_count": 15,
   "metadata": {},
   "outputs": [
    {
     "name": "stdout",
     "output_type": "stream",
     "text": [
      "train pos sample shape: (1882, 40)\n",
      "train neg sample shape: (2334, 40)\n",
      "test pos sample shape: (211, 40)\n",
      "test neg sample shape: (240, 40)\n"
     ]
    }
   ],
   "source": [
    "print(f\"train pos sample shape: {train_pos_dataset.shape}\")\n",
    "print(f\"train neg sample shape: {train_neg_dataset.shape}\")\n",
    "\n",
    "print(f\"test pos sample shape: {test_neg_dataset.shape}\")\n",
    "print(f\"test neg sample shape: {test_pos_dataset.shape}\")"
   ]
  },
  {
   "cell_type": "code",
   "execution_count": 16,
   "metadata": {},
   "outputs": [],
   "source": [
    "columns_drop = []\n",
    "for col in train_pos_dataset.columns[:-4]:\n",
    "    nan_count = (train_pos_dataset[col] == 0).sum() \n",
    "    if nan_count > (len(train_pos_dataset) // 4): \n",
    "        columns_drop.append(col)\n",
    "\n",
    "train_pos_dataset_final = train_pos_dataset.drop(columns=columns_drop, inplace=False)\n",
    "train_neg_dataset_final = train_neg_dataset.drop(columns=columns_drop, inplace=False)\n",
    "\n",
    "test_pos_dataset_final = test_pos_dataset.drop(columns=columns_drop, inplace=False)\n",
    "test_neg_dataset_final = test_neg_dataset.drop(columns=columns_drop, inplace=False)"
   ]
  },
  {
   "cell_type": "code",
   "execution_count": 17,
   "metadata": {},
   "outputs": [
    {
     "name": "stdout",
     "output_type": "stream",
     "text": [
      "After remove the invalid columns, train pos shape: (1882, 29)\n",
      "After remove the invalid columns, train neg shape: (2334, 29)\n",
      "After remove the invalid columns, test pos shape: (240, 29)\n",
      "After remove the invalid columns, test neg shape: (211, 29)\n"
     ]
    }
   ],
   "source": [
    "print(f\"After remove the invalid columns, train pos shape: {train_pos_dataset_final.shape}\")\n",
    "print(f\"After remove the invalid columns, train neg shape: {train_neg_dataset_final.shape}\")\n",
    "\n",
    "print(f\"After remove the invalid columns, test pos shape: {test_pos_dataset_final.shape}\")\n",
    "print(f\"After remove the invalid columns, test neg shape: {test_neg_dataset_final.shape}\")"
   ]
  },
  {
   "cell_type": "markdown",
   "metadata": {},
   "source": [
    "#### Do The Normalization for the Train Dataset and Test Dataset"
   ]
  },
  {
   "cell_type": "code",
   "execution_count": 18,
   "metadata": {},
   "outputs": [],
   "source": [
    "profile_columns = ['wave_quality', 'age', 'gender', 'label', 'id']"
   ]
  },
  {
   "cell_type": "code",
   "execution_count": 19,
   "metadata": {},
   "outputs": [],
   "source": [
    "# 合并训练集\n",
    "train_combined = pd.concat([train_pos_dataset_final, train_neg_dataset_final])\n",
    "\n",
    "# 需要归一化的列\n",
    "columns_to_normalize = train_combined.columns.difference(profile_columns)\n",
    "\n",
    "# 计算最大值和最小值\n",
    "min_values = train_combined[columns_to_normalize].min()\n",
    "max_values = train_combined[columns_to_normalize].max()\n",
    "\n",
    "# 保存最大值和最小值到CSV\n",
    "current_date = datetime.datetime.now().strftime(\"%Y-%m-%d\")\n",
    "outdir = os.path.join(os.getcwd(), 'outdir')\n",
    "os.makedirs(outdir, exist_ok=True)\n",
    "min_max_df = pd.DataFrame({'min': min_values, 'max': max_values})\n",
    "min_max_df.to_csv(f'{outdir}/ppg_anxiety_norm_minmax_values_{current_date}.csv', index=True)\n",
    "\n",
    "\n",
    "# 定义min-max归一化函数\n",
    "def normalize(df, min_values, max_values):\n",
    "    return (df - min_values) / (max_values - min_values)\n",
    "\n",
    "# 对训练集进行归一化\n",
    "train_pos_dataset_final[columns_to_normalize] = normalize(train_pos_dataset_final[columns_to_normalize], min_values, max_values)\n",
    "train_neg_dataset_final[columns_to_normalize] = normalize(train_neg_dataset_final[columns_to_normalize], min_values, max_values)\n",
    "\n",
    "# 从CSV文件中读取最小值和最大值\n",
    "min_max_df = pd.read_csv(f'{outdir}/ppg_anxiety_norm_minmax_values_{current_date}.csv', index_col=0)\n",
    "min_values = min_max_df['min']\n",
    "max_values = min_max_df['max']\n",
    "\n",
    "# 对测试集进行归一化\n",
    "test_pos_dataset_final[columns_to_normalize] = normalize(test_pos_dataset_final[columns_to_normalize], min_values, max_values)\n",
    "test_neg_dataset_final[columns_to_normalize] = normalize(test_neg_dataset_final[columns_to_normalize], min_values, max_values)\n"
   ]
  },
  {
   "cell_type": "markdown",
   "metadata": {},
   "source": [
    "#### Save As Pkl File"
   ]
  },
  {
   "cell_type": "code",
   "execution_count": 20,
   "metadata": {},
   "outputs": [],
   "source": [
    "import pandas as pd\n",
    "import seaborn as sns\n",
    "import matplotlib.pyplot as plt"
   ]
  },
  {
   "cell_type": "code",
   "execution_count": 21,
   "metadata": {},
   "outputs": [
    {
     "data": {
      "image/png": "[encoded data removed]",
      "text/plain": [
       "<Figure size 640x480 with 1 Axes>"
      ]
     },
     "metadata": {},
     "output_type": "display_data"
    },
    {
     "data": {
      "image/png": "[encoded data removed]",
      "text/plain": [
       "<Figure size 640x480 with 1 Axes>"
      ]
     },
     "metadata": {},
     "output_type": "display_data"
    },
    {
     "data": {
      "text/plain": [
       "<Axes: xlabel='wave_quality', ylabel='Count'>"
      ]
     },
     "execution_count": 21,
     "metadata": {},
     "output_type": "execute_result"
    },
    {
     "data": {
      "image/png": "[encoded data removed]",
      "text/plain": [
       "<Figure size 640x480 with 1 Axes>"
      ]
     },
     "metadata": {},
     "output_type": "display_data"
    }
   ],
   "source": [
    "from matplotlib import figure\n",
    "\n",
    "plt.subplot(3, 1, 1)  # 1行2列，第1个子图\n",
    "sns.histplot(train_pos_dataset['wave_quality'], kde=True, bins=10)\n",
    "plt.show()\n",
    "\n",
    "plt.subplot(3, 1, 2)  # 1行2列，第1个子图\n",
    "sns.histplot(train_neg_dataset['wave_quality'], kde=True, bins=10)\n",
    "plt.show()\n",
    "\n",
    "plt.subplot(3, 1, 3)  # 1行2列，第1个子图\n",
    "sns.histplot(train_combined['wave_quality'], kde=True, bins=10)"
   ]
  },
  {
   "cell_type": "code",
   "execution_count": 22,
   "metadata": {},
   "outputs": [],
   "source": [
    "wave_quality_threshold = 0.90"
   ]
  },
  {
   "cell_type": "code",
   "execution_count": 23,
   "metadata": {},
   "outputs": [
    {
     "name": "stdout",
     "output_type": "stream",
     "text": [
      "train pos sample shape: (1882, 40)\n",
      "train neg sample shape: (2334, 40)\n",
      "test pos sample shape: (211, 40)\n",
      "test neg sample shape: (240, 40)\n"
     ]
    }
   ],
   "source": [
    "print(f\"train pos sample shape: {train_pos_dataset.shape}\")\n",
    "print(f\"train neg sample shape: {train_neg_dataset.shape}\")\n",
    "\n",
    "print(f\"test pos sample shape: {test_neg_dataset.shape}\")\n",
    "print(f\"test neg sample shape: {test_pos_dataset.shape}\")"
   ]
  },
  {
   "cell_type": "code",
   "execution_count": 24,
   "metadata": {},
   "outputs": [
    {
     "name": "stdout",
     "output_type": "stream",
     "text": [
      "After quality filter, train positive sample count: 1074\n",
      "After quality filter, train negative sample count: 996\n"
     ]
    }
   ],
   "source": [
    "train_pos_dataset_final_filter = train_pos_dataset_final[train_pos_dataset_final['wave_quality'] >= wave_quality_threshold]\n",
    "train_neg_dataset_final_filter = train_neg_dataset_final[train_neg_dataset_final['wave_quality'] >= wave_quality_threshold]\n",
    "\n",
    "print(f\"After quality filter, train positive sample count: {train_pos_dataset_final_filter.shape[0]}\")\n",
    "print(f\"After quality filter, train negative sample count: {train_neg_dataset_final_filter.shape[0]}\")\n"
   ]
  },
  {
   "cell_type": "code",
   "execution_count": 25,
   "metadata": {},
   "outputs": [],
   "source": [
    "sample_folder = os.path.join(os.getcwd(), 'samples')\n",
    "os.makedirs(sample_folder, exist_ok=True)\n",
    "\n",
    "\n",
    "# 定义要保存的文件路径\n",
    "train_pos_path = os.path.join(sample_folder, 'train_pos_dataset.pkl')\n",
    "train_neg_path = os.path.join(sample_folder, 'train_neg_dataset.pkl')\n",
    "test_pos_path = os.path.join(sample_folder, 'test_pos_dataset.pkl')\n",
    "test_neg_path = os.path.join(sample_folder, 'test_neg_dataset.pkl')\n",
    "\n",
    "# 保存 DataFrame 为 .pkl 文件\n",
    "train_pos_dataset_final[train_pos_dataset_final['wave_quality'] >= wave_quality_threshold].to_pickle(train_pos_path)\n",
    "train_neg_dataset_final[train_neg_dataset_final['wave_quality'] >= wave_quality_threshold].to_pickle(train_neg_path)\n",
    "test_pos_dataset_final.to_pickle(test_pos_path)\n",
    "test_neg_dataset_final.to_pickle(test_neg_path)"
   ]
  },
  {
   "cell_type": "code",
   "execution_count": 26,
   "metadata": {},
   "outputs": [
    {
     "name": "stdout",
     "output_type": "stream",
     "text": [
      "Index(['HRV_MeanNN', 'HRV_SDNN', 'HRV_RMSSD', 'HRV_SDSD', 'HRV_CVNN',\n",
      "       'HRV_CVSD', 'HRV_MedianNN', 'HRV_MadNN', 'HRV_MCVNN', 'HRV_IQRNN',\n",
      "       'HRV_SDRMSSD', 'HRV_Prc20NN', 'HRV_Prc80NN', 'HRV_pNN50', 'HRV_pNN20',\n",
      "       'HRV_MinNN', 'HRV_MaxNN', 'HRV_HTI', 'HRV_TINN', 'HRV_HF', 'HRV_VHF',\n",
      "       'HRV_TP', 'HRV_HFn', 'HRV_LnHF', 'wave_quality', 'label', 'id', 'age',\n",
      "       'gender'],\n",
      "      dtype='object')\n"
     ]
    }
   ],
   "source": [
    "print(train_pos_dataset_final.columns)"
   ]
  }
 ],
 "metadata": {
  "kernelspec": {
   "display_name": "Python 3",
   "language": "python",
   "name": "python3"
  },
  "language_info": {
   "codemirror_mode": {
    "name": "ipython",
    "version": 3
   },
   "file_extension": ".py",
   "mimetype": "text/x-python",
   "name": "python",
   "nbconvert_exporter": "python",
   "pygments_lexer": "ipython3",
   "version": "3.12.2"
  }
 },
 "nbformat": 4,
 "nbformat_minor": 2
}
