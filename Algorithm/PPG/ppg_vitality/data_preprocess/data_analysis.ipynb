{
 "cells": [
  {
   "cell_type": "code",
   "execution_count": 11,
   "metadata": {},
   "outputs": [],
   "source": [
    "import json\n",
    "import os\n",
    "import pandas as pd\n",
    "import matplotlib.pyplot as plt\n",
    "import seaborn as sns\n",
    "from openpyxl import Workbook"
   ]
  },
  {
   "cell_type": "code",
   "execution_count": 12,
   "metadata": {},
   "outputs": [],
   "source": [
    "import chardet"
   ]
  },
  {
   "cell_type": "code",
   "execution_count": 13,
   "metadata": {},
   "outputs": [],
   "source": [
    "file3 = r'C:\\Users\\Administrator\\Desktop\\PPG_dataset\\json\\seven_epq.json'\n",
    "file4 = r'C:\\Users\\Administrator\\Desktop\\PPG_dataset\\json\\eitht_epq.json'\n",
    "excel = pd.read_excel(r'C:\\Users\\Administrator\\Desktop\\PPG_dataset\\json\\心理量表具体条目.xlsx', sheet_name='vitality')\n",
    "selected_questions = excel[excel['维度'] == '内外向(E)']['题目'].to_list()\n",
    "selected_questions.remove('你喜欢做一些需要快速动作的事情吗?')"
   ]
  },
  {
   "cell_type": "code",
   "execution_count": 14,
   "metadata": {},
   "outputs": [],
   "source": [
    "with open(file3, 'r', encoding='utf-8-sig') as file:\n",
    "    datas_seven = json.load(file)\n",
    "\n",
    "with open(file4, 'r', encoding='utf-8-sig') as file:\n",
    "    datas_eight = json.load(file)\n",
    "\n",
    "def file_load(datas):\n",
    "\n",
    "    columns = ['userId', 'userName', 'gender']\n",
    "    question_ids = []\n",
    "    all_rows = []\n",
    "    question_name = []\n",
    "    try:\n",
    "\n",
    "        for idx, data in enumerate(datas):\n",
    "            user_id = data['userId']\n",
    "            user_name = data['userName']\n",
    "            gender = data['gender']\n",
    "            dimension = data['dimensions']\n",
    "            # Initialize a list to store the selected options\n",
    "            option_list = []\n",
    "            for result in dimension:\n",
    "                question = result['question']['title']\n",
    "                question_id = result['question']['id']\n",
    "                selected_option = result['selectedOption']['content']\n",
    "                # Convert option to numerical values\n",
    "                option_value = {'是': 1, '否': 0}.get(selected_option, None)\n",
    "                option_list.append(option_value)\n",
    "                if idx == 0:\n",
    "                    #columns.append(question)\n",
    "                    columns.append(question)\n",
    "                    question_ids.append(question_id)\n",
    "                    question_name.append(question)\n",
    "            # Combine all user information and answers into a single row\n",
    "            row = [user_id, user_name, gender] + option_list\n",
    "            all_rows.append(row)\n",
    "    except:\n",
    "        for idx, data in enumerate(datas_eight):\n",
    "            user_id = data['userId']\n",
    "            user_name = data['userName']\n",
    "            gender = data['gender']\n",
    "            dimension = data['dimensions']\n",
    "            # Initialize a list to store the selected options\n",
    "            option_list = []\n",
    "            for result in dimension:\n",
    "                question_id = result['question']['title']\n",
    "                selected_option = result['selectedOption']['content']\n",
    "                # Convert option to numerical values\n",
    "                option_value = {'是': 1, '否': 0}.get(selected_option, None)\n",
    "                option_list.append(option_value)\n",
    "                # Add question titles to columns (only on the first iteration)\n",
    "                if idx == 0:\n",
    "                    columns.append(question_id)\n",
    "            # Combine all user information and answers into a single row\n",
    "            row = [user_id, user_name, gender] + option_list\n",
    "            all_rows.append(row)\n",
    "        \n",
    "\n",
    "    # Create DataFrame from the collected rows and set the columns\n",
    "    df = pd.DataFrame(all_rows, columns=columns)\n",
    "    question_name = pd.DataFrame({'ID':question_ids, 'Questions': question_name})\n",
    "    return df, question_name\n"
   ]
  },
  {
   "cell_type": "code",
   "execution_count": 15,
   "metadata": {},
   "outputs": [],
   "source": [
    "seven_class,question_name = file_load(datas_seven)\n",
    "seven_class['age'] = len(seven_class)*[13]\n",
    "eight_class,_ = file_load(datas_eight)\n",
    "eight_class['age'] = len(eight_class)*[14]\n",
    "\n",
    "\n",
    "middle_school_data = pd.concat([seven_class, eight_class])\n",
    "middle_school_data['Total'] = middle_school_data.iloc[:,3:-1].sum(axis=1)\n",
    "middle_school_data.dropna(inplace=True)\n",
    "\n",
    "\n",
    "selected_columns = ['userId', 'userName', 'gender', 'age', 'Total'] + selected_questions\n",
    "middle_school_data = middle_school_data[selected_columns]\n",
    "middle_school_data['vitality_sum'] = middle_school_data.iloc[:,5:].sum(axis = 1)"
   ]
  },
  {
   "cell_type": "code",
   "execution_count": 16,
   "metadata": {},
   "outputs": [
    {
     "data": {
      "text/plain": [
       "vitality_sum\n",
       "0.0      3\n",
       "1.0      6\n",
       "2.0      3\n",
       "4.0      5\n",
       "5.0      7\n",
       "6.0     10\n",
       "7.0     13\n",
       "8.0     26\n",
       "9.0     37\n",
       "10.0    32\n",
       "11.0    29\n",
       "12.0    45\n",
       "13.0    50\n",
       "14.0    80\n",
       "15.0    79\n",
       "16.0    81\n",
       "17.0    93\n",
       "18.0    86\n",
       "19.0    89\n",
       "20.0    73\n",
       "21.0    45\n",
       "22.0    40\n",
       "23.0    17\n",
       "24.0    17\n",
       "Name: count, dtype: int64"
      ]
     },
     "execution_count": 16,
     "metadata": {},
     "output_type": "execute_result"
    }
   ],
   "source": [
    "middle_school_data['vitality_sum'].value_counts().sort_index()"
   ]
  },
  {
   "cell_type": "code",
   "execution_count": 17,
   "metadata": {},
   "outputs": [
    {
     "name": "stdout",
     "output_type": "stream",
     "text": [
      "Count of Subjects less than 10.0:  110\n",
      "Count of Subjects Greater than 20.0:  119\n"
     ]
    }
   ],
   "source": [
    "less_range = 10.0\n",
    "greater_range = 20.0\n",
    "print(f\"Count of Subjects less than {less_range}: \",middle_school_data[middle_school_data['vitality_sum'] < less_range]['vitality_sum'].count())\n",
    "print(f\"Count of Subjects Greater than {greater_range}: \",middle_school_data[middle_school_data['vitality_sum'] > greater_range]['vitality_sum'].count())"
   ]
  },
  {
   "cell_type": "code",
   "execution_count": 18,
   "metadata": {},
   "outputs": [
    {
     "data": {
      "text/plain": [
       "<Axes: xlabel='vitality_sum', ylabel='Count'>"
      ]
     },
     "execution_count": 18,
     "metadata": {},
     "output_type": "execute_result"
    },
    {
     "data": {
      "image/png": "[encoded data removed]",
      "text/plain": [
       "<Figure size 640x480 with 1 Axes>"
      ]
     },
     "metadata": {},
     "output_type": "display_data"
    }
   ],
   "source": [
    "sns.histplot(middle_school_data['vitality_sum'])"
   ]
  },
  {
   "cell_type": "code",
   "execution_count": 19,
   "metadata": {},
   "outputs": [
    {
     "data": {
      "text/plain": [
       "<Axes: xlabel='vitality_sum', ylabel='Density'>"
      ]
     },
     "execution_count": 19,
     "metadata": {},
     "output_type": "execute_result"
    },
    {
     "data": {
      "image/png": "[encoded data removed]",
      "text/plain": [
       "<Figure size 640x480 with 1 Axes>"
      ]
     },
     "metadata": {},
     "output_type": "display_data"
    }
   ],
   "source": [
    "sns.kdeplot(middle_school_data['vitality_sum'])"
   ]
  },
  {
   "cell_type": "code",
   "execution_count": 20,
   "metadata": {},
   "outputs": [],
   "source": [
    "middle_school_data.to_excel(\"middle_school_data_vitality.xlsx\", index= False)"
   ]
  },
  {
   "cell_type": "code",
   "execution_count": null,
   "metadata": {},
   "outputs": [],
   "source": []
  }
 ],
 "metadata": {
  "kernelspec": {
   "display_name": "Python 3",
   "language": "python",
   "name": "python3"
  },
  "language_info": {
   "codemirror_mode": {
    "name": "ipython",
    "version": 3
   },
   "file_extension": ".py",
   "mimetype": "text/x-python",
   "name": "python",
   "nbconvert_exporter": "python",
   "pygments_lexer": "ipython3",
   "version": "3.12.2"
  }
 },
 "nbformat": 4,
 "nbformat_minor": 2
}
