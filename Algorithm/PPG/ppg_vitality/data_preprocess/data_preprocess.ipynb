{
 "cells": [
  {
   "cell_type": "code",
   "execution_count": 147,
   "metadata": {},
   "outputs": [],
   "source": [
    "import datetime\n",
    "import json\n",
    "import os\n",
    "import random\n",
    "import sys\n",
    "import warnings\n",
    "import pandas as pd\n",
    "\n",
    "sys.path.append(os.path.join(os.getcwd(), '../../common'))\n",
    "from ppg_feature_processor import generate_train_feature\n",
    "\n",
    "# Suppress specific warnings\n",
    "warnings.filterwarnings(\"ignore\", category=DeprecationWarning, message=\".*Conversion of an array with ndim > 0 to a scalar is deprecated.*\")"
   ]
  },
  {
   "cell_type": "code",
   "execution_count": 148,
   "metadata": {},
   "outputs": [],
   "source": [
    "## 1)Read the university subjects and find the positive and negative subjects."
   ]
  },
  {
   "cell_type": "code",
   "execution_count": 149,
   "metadata": {},
   "outputs": [],
   "source": [
    "# 读取 Excel 文件\n",
    "middleSchool_userProfile_file = r'C:\\Users\\Administrator\\Desktop\\Backend-Algorithm\\Algorithm\\PPG\\ppg_vitality\\data_preprocess\\middle_school_data_vitality.xlsx'\n"
   ]
  },
  {
   "cell_type": "code",
   "execution_count": 150,
   "metadata": {},
   "outputs": [],
   "source": [
    "stress_positive_threshold = 20.0\n",
    "stress_negative_threshold = 10.0"
   ]
  },
  {
   "cell_type": "code",
   "execution_count": 151,
   "metadata": {},
   "outputs": [
    {
     "name": "stdout",
     "output_type": "stream",
     "text": [
      "Midlle schold available subject count: (229, 30)\n",
      "middle stress positive subjects count: 119\n",
      "middle stress negative subjects count: 110\n"
     ]
    }
   ],
   "source": [
    "### READ THE MIDDLESCHOOL SUBJECTS\n",
    "df_middle = pd.read_excel(middleSchool_userProfile_file)\n",
    "df_middle = df_middle[(df_middle['vitality_sum'] > stress_positive_threshold) | (df_middle['vitality_sum'] < stress_negative_threshold)]\n",
    "print(f\"Midlle schold available subject count: {df_middle.shape}\")\n",
    "\n",
    "\n",
    "middle_pos_subjects = df_middle[df_middle['vitality_sum'] > stress_positive_threshold]['userId'].values.tolist()\n",
    "middle_neg_subjects = df_middle[df_middle['vitality_sum'] < stress_negative_threshold]['userId'].values.tolist()\n",
    "\n",
    "print(f\"middle stress positive subjects count: {len(middle_pos_subjects)}\")\n",
    "print(f\"middle stress negative subjects count: {len(middle_neg_subjects)}\")"
   ]
  },
  {
   "cell_type": "code",
   "execution_count": 152,
   "metadata": {},
   "outputs": [],
   "source": [
    "profile_dict = dict()\n",
    "\n",
    "\n",
    "for _, row in df_middle.iterrows():\n",
    "    userId = row['userId']\n",
    "    gender = row['gender']\n",
    "    age = row['age']\n",
    "    profile_dict[userId] = (gender, age)\n",
    "\n",
    "# for key, val in profile_dict.items():\n",
    "#     print(f\"userId: {key}, value: {val}\")\n"
   ]
  },
  {
   "cell_type": "code",
   "execution_count": 153,
   "metadata": {},
   "outputs": [
    {
     "name": "stdout",
     "output_type": "stream",
     "text": [
      "train postive subjects: 94\n",
      "train negative subjects: 85\n",
      "validation postive subjects: 10\n",
      "validation negative subjects: 10\n",
      "test postive subjects: 15\n",
      "test negative subjects: 15\n"
     ]
    }
   ],
   "source": [
    "random.shuffle(middle_pos_subjects)\n",
    "random.shuffle(middle_neg_subjects)\n",
    "\n",
    "test_subject_count = 15\n",
    "val_subject_count = 10\n",
    "\n",
    "test_pos_subjects = middle_pos_subjects[0:test_subject_count]\n",
    "test_neg_subjects = middle_neg_subjects[0:test_subject_count]\n",
    "\n",
    "val_pos_subjects = middle_pos_subjects[test_subject_count:test_subject_count+val_subject_count]\n",
    "val_neg_subjects = middle_neg_subjects[test_subject_count:test_subject_count+val_subject_count]\n",
    "\n",
    "train_pos_subjects = middle_pos_subjects[test_subject_count+val_subject_count::] \n",
    "train_neg_subjects = middle_neg_subjects[test_subject_count+val_subject_count::]\n",
    "\n",
    "print(f\"train postive subjects: {len(train_pos_subjects)}\")\n",
    "print(f\"train negative subjects: {len(train_neg_subjects)}\")\n",
    "\n",
    "print(f\"validation postive subjects: {len(val_pos_subjects)}\")\n",
    "print(f\"validation negative subjects: {len(val_neg_subjects)}\")\n",
    "\n",
    "print(f\"test postive subjects: {len(test_pos_subjects)}\")\n",
    "print(f\"test negative subjects: {len(test_neg_subjects)}\")\n"
   ]
  },
  {
   "cell_type": "code",
   "execution_count": 154,
   "metadata": {},
   "outputs": [],
   "source": [
    "def load_wave_middleSchool(path):\n",
    "    try:\n",
    "        with open(path, 'r', encoding='utf-8') as file:  \n",
    "            data = json.load(file)\n",
    "            list_data = data['RawResults'][0]['rawDatas']\n",
    "            final = [i/100000 for i in list_data]\n",
    "        return final\n",
    "    except (KeyError, IndexError, TypeError):\n",
    "        with open(path, 'r', encoding='utf-8') as file:\n",
    "            data = json.load(file)\n",
    "        return data[\"datas\"]\n"
   ]
  },
  {
   "cell_type": "code",
   "execution_count": 155,
   "metadata": {},
   "outputs": [],
   "source": [
    "sample_freq = 125\n",
    "sample_window_minute = 0.5\n",
    "middle_file_dir = r'C:\\Users\\Administrator\\Desktop\\PPG_dataset\\PPG_Dataset_ALL\\middle_school\\ppg_data'\n"
   ]
  },
  {
   "cell_type": "code",
   "execution_count": 156,
   "metadata": {},
   "outputs": [
    {
     "name": "stdout",
     "output_type": "stream",
     "text": [
      "middle file path: C:\\Users\\Administrator\\Desktop\\PPG_dataset\\PPG_Dataset_ALL\\middle_school\\ppg_data\\329722100720414168622899260498795872497.json\n",
      "middle file path: C:\\Users\\Administrator\\Desktop\\PPG_dataset\\PPG_Dataset_ALL\\middle_school\\ppg_data\\222680082272891873550031063122351047131.json\n",
      "middle file path: C:\\Users\\Administrator\\Desktop\\PPG_dataset\\PPG_Dataset_ALL\\middle_school\\ppg_data\\264207734182230936694056901818680720748.json\n",
      "middle file path: C:\\Users\\Administrator\\Desktop\\PPG_dataset\\PPG_Dataset_ALL\\middle_school\\ppg_data\\85368278269151765477300734597278915014.json\n",
      "middle file path: C:\\Users\\Administrator\\Desktop\\PPG_dataset\\PPG_Dataset_ALL\\middle_school\\ppg_data\\184844450584012464414507368311518109093.json\n",
      "middle file path: C:\\Users\\Administrator\\Desktop\\PPG_dataset\\PPG_Dataset_ALL\\middle_school\\ppg_data\\45689668389451576382630761467329343328.json\n",
      "middle file path: C:\\Users\\Administrator\\Desktop\\PPG_dataset\\PPG_Dataset_ALL\\middle_school\\ppg_data\\103483448877217030236574044213323517418.json\n",
      "middle file path: C:\\Users\\Administrator\\Desktop\\PPG_dataset\\PPG_Dataset_ALL\\middle_school\\ppg_data\\136016942678916600882574423676383110742.json\n",
      "middle file path: C:\\Users\\Administrator\\Desktop\\PPG_dataset\\PPG_Dataset_ALL\\middle_school\\ppg_data\\308544248605419156700979439856340221832.json\n",
      "middle file path: C:\\Users\\Administrator\\Desktop\\PPG_dataset\\PPG_Dataset_ALL\\middle_school\\ppg_data\\223462376238117600795810651135927363211.json\n",
      "middle file path: C:\\Users\\Administrator\\Desktop\\PPG_dataset\\PPG_Dataset_ALL\\middle_school\\ppg_data\\69539675861277205097272916516697061781.json\n",
      "middle file path: C:\\Users\\Administrator\\Desktop\\PPG_dataset\\PPG_Dataset_ALL\\middle_school\\ppg_data\\321376078110375749814155867350469021502.json\n",
      "middle file path: C:\\Users\\Administrator\\Desktop\\PPG_dataset\\PPG_Dataset_ALL\\middle_school\\ppg_data\\185763315824137106176250523858566085600.json\n",
      "middle file path: C:\\Users\\Administrator\\Desktop\\PPG_dataset\\PPG_Dataset_ALL\\middle_school\\ppg_data\\55127881583311410989616659163392518948.json\n",
      "middle file path: C:\\Users\\Administrator\\Desktop\\PPG_dataset\\PPG_Dataset_ALL\\middle_school\\ppg_data\\201020260481080413188229915507451097122.json\n",
      "middle file path: C:\\Users\\Administrator\\Desktop\\PPG_dataset\\PPG_Dataset_ALL\\middle_school\\ppg_data\\150501790532395396126313996433617792985.json\n",
      "middle file path: C:\\Users\\Administrator\\Desktop\\PPG_dataset\\PPG_Dataset_ALL\\middle_school\\ppg_data\\10897594371010935613424580669707587107.json\n",
      "middle file path: C:\\Users\\Administrator\\Desktop\\PPG_dataset\\PPG_Dataset_ALL\\middle_school\\ppg_data\\301820668187728366910731410126564421297.json\n",
      "middle file path: C:\\Users\\Administrator\\Desktop\\PPG_dataset\\PPG_Dataset_ALL\\middle_school\\ppg_data\\19129752819397524225040191809645716293.json\n",
      "middle file path: C:\\Users\\Administrator\\Desktop\\PPG_dataset\\PPG_Dataset_ALL\\middle_school\\ppg_data\\148311594359264181582935495241941471569.json\n",
      "middle file path: C:\\Users\\Administrator\\Desktop\\PPG_dataset\\PPG_Dataset_ALL\\middle_school\\ppg_data\\18214877318401113801837311477727763289.json\n",
      "middle file path: C:\\Users\\Administrator\\Desktop\\PPG_dataset\\PPG_Dataset_ALL\\middle_school\\ppg_data\\273903099513858379975517758644322202611.json\n",
      "middle file path: C:\\Users\\Administrator\\Desktop\\PPG_dataset\\PPG_Dataset_ALL\\middle_school\\ppg_data\\149769079249044175718542947961906074174.json\n",
      "middle file path: C:\\Users\\Administrator\\Desktop\\PPG_dataset\\PPG_Dataset_ALL\\middle_school\\ppg_data\\191360775943194451169196340984054399550.json\n",
      "middle file path: C:\\Users\\Administrator\\Desktop\\PPG_dataset\\PPG_Dataset_ALL\\middle_school\\ppg_data\\285242526949158329032743873462506981167.json\n",
      "middle file path: C:\\Users\\Administrator\\Desktop\\PPG_dataset\\PPG_Dataset_ALL\\middle_school\\ppg_data\\293329752341981676684791548886352982693.json\n",
      "middle file path: C:\\Users\\Administrator\\Desktop\\PPG_dataset\\PPG_Dataset_ALL\\middle_school\\ppg_data\\316519917913144929150518224190429323296.json\n",
      "middle file path: C:\\Users\\Administrator\\Desktop\\PPG_dataset\\PPG_Dataset_ALL\\middle_school\\ppg_data\\218793485769776969124501711306136315469.json\n",
      "middle file path: C:\\Users\\Administrator\\Desktop\\PPG_dataset\\PPG_Dataset_ALL\\middle_school\\ppg_data\\292243187424460238575691112139612336247.json\n",
      "middle file path: C:\\Users\\Administrator\\Desktop\\PPG_dataset\\PPG_Dataset_ALL\\middle_school\\ppg_data\\180745759199479264532511978473906503851.json\n",
      "middle file path: C:\\Users\\Administrator\\Desktop\\PPG_dataset\\PPG_Dataset_ALL\\middle_school\\ppg_data\\17583509150572468227110417765438851577.json\n",
      "middle file path: C:\\Users\\Administrator\\Desktop\\PPG_dataset\\PPG_Dataset_ALL\\middle_school\\ppg_data\\94472296822858170232326112309051325613.json\n",
      "middle file path: C:\\Users\\Administrator\\Desktop\\PPG_dataset\\PPG_Dataset_ALL\\middle_school\\ppg_data\\269679230920674948858724553419205573933.json\n",
      "middle file path: C:\\Users\\Administrator\\Desktop\\PPG_dataset\\PPG_Dataset_ALL\\middle_school\\ppg_data\\28378669234658138342196963709044529563.json\n",
      "middle file path: C:\\Users\\Administrator\\Desktop\\PPG_dataset\\PPG_Dataset_ALL\\middle_school\\ppg_data\\312912060673108813105431982324416457812.json\n",
      "middle file path: C:\\Users\\Administrator\\Desktop\\PPG_dataset\\PPG_Dataset_ALL\\middle_school\\ppg_data\\268330154683548453613260798763597032035.json\n",
      "middle file path: C:\\Users\\Administrator\\Desktop\\PPG_dataset\\PPG_Dataset_ALL\\middle_school\\ppg_data\\232756341837410726129098922943099339881.json\n",
      "middle file path: C:\\Users\\Administrator\\Desktop\\PPG_dataset\\PPG_Dataset_ALL\\middle_school\\ppg_data\\111926663816747827588607674970577727469.json\n",
      "middle file path: C:\\Users\\Administrator\\Desktop\\PPG_dataset\\PPG_Dataset_ALL\\middle_school\\ppg_data\\179991125407562398894089229938599892567.json\n",
      "middle file path: C:\\Users\\Administrator\\Desktop\\PPG_dataset\\PPG_Dataset_ALL\\middle_school\\ppg_data\\90700048697939774837788791357681788059.json\n",
      "middle file path: C:\\Users\\Administrator\\Desktop\\PPG_dataset\\PPG_Dataset_ALL\\middle_school\\ppg_data\\339322724187443127112522868306539161010.json\n",
      "middle file path: C:\\Users\\Administrator\\Desktop\\PPG_dataset\\PPG_Dataset_ALL\\middle_school\\ppg_data\\291532865606838649685248811120276566576.json\n",
      "middle file path: C:\\Users\\Administrator\\Desktop\\PPG_dataset\\PPG_Dataset_ALL\\middle_school\\ppg_data\\209729142294381107131734364715552296821.json\n",
      "middle file path: C:\\Users\\Administrator\\Desktop\\PPG_dataset\\PPG_Dataset_ALL\\middle_school\\ppg_data\\22701874826053748305968388566824125615.json\n",
      "middle file path: C:\\Users\\Administrator\\Desktop\\PPG_dataset\\PPG_Dataset_ALL\\middle_school\\ppg_data\\97899773720143725892453219245048985519.json\n",
      "middle file path: C:\\Users\\Administrator\\Desktop\\PPG_dataset\\PPG_Dataset_ALL\\middle_school\\ppg_data\\170804890211040691703386067580661227288.json\n",
      "middle file path: C:\\Users\\Administrator\\Desktop\\PPG_dataset\\PPG_Dataset_ALL\\middle_school\\ppg_data\\169886550643774418686863088109671418201.json\n",
      "middle file path: C:\\Users\\Administrator\\Desktop\\PPG_dataset\\PPG_Dataset_ALL\\middle_school\\ppg_data\\293722985553091477959065716570706656057.json\n",
      "middle file path: C:\\Users\\Administrator\\Desktop\\PPG_dataset\\PPG_Dataset_ALL\\middle_school\\ppg_data\\249539210324303649817973743519680083191.json\n",
      "middle file path: C:\\Users\\Administrator\\Desktop\\PPG_dataset\\PPG_Dataset_ALL\\middle_school\\ppg_data\\159456317318385784752402571381888174647.json\n",
      "middle file path: C:\\Users\\Administrator\\Desktop\\PPG_dataset\\PPG_Dataset_ALL\\middle_school\\ppg_data\\47155295106343825763989534008758209376.json\n",
      "middle file path: C:\\Users\\Administrator\\Desktop\\PPG_dataset\\PPG_Dataset_ALL\\middle_school\\ppg_data\\206254331785533830049315502542703478728.json\n",
      "middle file path: C:\\Users\\Administrator\\Desktop\\PPG_dataset\\PPG_Dataset_ALL\\middle_school\\ppg_data\\128317116583089554602562665360226229321.json\n",
      "middle file path: C:\\Users\\Administrator\\Desktop\\PPG_dataset\\PPG_Dataset_ALL\\middle_school\\ppg_data\\144069711064635978724499863271146154013.json\n",
      "middle file path: C:\\Users\\Administrator\\Desktop\\PPG_dataset\\PPG_Dataset_ALL\\middle_school\\ppg_data\\144730453347578389629982372049373705933.json\n",
      "middle file path: C:\\Users\\Administrator\\Desktop\\PPG_dataset\\PPG_Dataset_ALL\\middle_school\\ppg_data\\167045044196849165430793491795015270478.json\n",
      "middle file path: C:\\Users\\Administrator\\Desktop\\PPG_dataset\\PPG_Dataset_ALL\\middle_school\\ppg_data\\306346499111062564273074306033250729379.json\n",
      "middle file path: C:\\Users\\Administrator\\Desktop\\PPG_dataset\\PPG_Dataset_ALL\\middle_school\\ppg_data\\214196872306172363576194969712281612736.json\n",
      "middle file path: C:\\Users\\Administrator\\Desktop\\PPG_dataset\\PPG_Dataset_ALL\\middle_school\\ppg_data\\22716268060380460560400000055580715459.json\n",
      "middle file path: C:\\Users\\Administrator\\Desktop\\PPG_dataset\\PPG_Dataset_ALL\\middle_school\\ppg_data\\240754535791245496080831504630252826705.json\n",
      "middle file path: C:\\Users\\Administrator\\Desktop\\PPG_dataset\\PPG_Dataset_ALL\\middle_school\\ppg_data\\336383311414635751710074653881643879272.json\n",
      "middle file path: C:\\Users\\Administrator\\Desktop\\PPG_dataset\\PPG_Dataset_ALL\\middle_school\\ppg_data\\125803950491811315476634576659919834940.json\n",
      "middle file path: C:\\Users\\Administrator\\Desktop\\PPG_dataset\\PPG_Dataset_ALL\\middle_school\\ppg_data\\264111498763508637730519258361400343542.json\n",
      "middle file path: C:\\Users\\Administrator\\Desktop\\PPG_dataset\\PPG_Dataset_ALL\\middle_school\\ppg_data\\104089220755136677188528769379148792609.json\n",
      "middle file path: C:\\Users\\Administrator\\Desktop\\PPG_dataset\\PPG_Dataset_ALL\\middle_school\\ppg_data\\23290010207610187177196536711437280290.json\n",
      "middle file path: C:\\Users\\Administrator\\Desktop\\PPG_dataset\\PPG_Dataset_ALL\\middle_school\\ppg_data\\99385955208441366061286684978591209044.json\n",
      "middle file path: C:\\Users\\Administrator\\Desktop\\PPG_dataset\\PPG_Dataset_ALL\\middle_school\\ppg_data\\11693079486748975573998750568644542301.json\n",
      "middle file path: C:\\Users\\Administrator\\Desktop\\PPG_dataset\\PPG_Dataset_ALL\\middle_school\\ppg_data\\82359792328123402257436780929696588507.json\n",
      "middle file path: C:\\Users\\Administrator\\Desktop\\PPG_dataset\\PPG_Dataset_ALL\\middle_school\\ppg_data\\155343321713218706085923712391489302477.json\n",
      "middle file path: C:\\Users\\Administrator\\Desktop\\PPG_dataset\\PPG_Dataset_ALL\\middle_school\\ppg_data\\168123834999008844446684313568860576889.json\n",
      "middle file path: C:\\Users\\Administrator\\Desktop\\PPG_dataset\\PPG_Dataset_ALL\\middle_school\\ppg_data\\1896195884457718043080739035996074015.json\n",
      "middle file path: C:\\Users\\Administrator\\Desktop\\PPG_dataset\\PPG_Dataset_ALL\\middle_school\\ppg_data\\96555516167632806723067744489949064670.json\n",
      "middle file path: C:\\Users\\Administrator\\Desktop\\PPG_dataset\\PPG_Dataset_ALL\\middle_school\\ppg_data\\33885646252062543042299470760137956113.json\n",
      "middle file path: C:\\Users\\Administrator\\Desktop\\PPG_dataset\\PPG_Dataset_ALL\\middle_school\\ppg_data\\192519081619282340004833305958416869165.json\n",
      "middle file path: C:\\Users\\Administrator\\Desktop\\PPG_dataset\\PPG_Dataset_ALL\\middle_school\\ppg_data\\220412779112482284366202079009344459295.json\n",
      "middle file path: C:\\Users\\Administrator\\Desktop\\PPG_dataset\\PPG_Dataset_ALL\\middle_school\\ppg_data\\303659473533724663839280138196996691164.json\n",
      "middle file path: C:\\Users\\Administrator\\Desktop\\PPG_dataset\\PPG_Dataset_ALL\\middle_school\\ppg_data\\151659201834616468379025269415462610080.json\n",
      "middle file path: C:\\Users\\Administrator\\Desktop\\PPG_dataset\\PPG_Dataset_ALL\\middle_school\\ppg_data\\156837674528439857628122970322463736207.json\n",
      "middle file path: C:\\Users\\Administrator\\Desktop\\PPG_dataset\\PPG_Dataset_ALL\\middle_school\\ppg_data\\115669014684946610884221487765477364610.json\n",
      "middle file path: C:\\Users\\Administrator\\Desktop\\PPG_dataset\\PPG_Dataset_ALL\\middle_school\\ppg_data\\331113928004700519808917015039199286386.json\n",
      "middle file path: C:\\Users\\Administrator\\Desktop\\PPG_dataset\\PPG_Dataset_ALL\\middle_school\\ppg_data\\305670806606801709266923673035498175606.json\n",
      "middle file path: C:\\Users\\Administrator\\Desktop\\PPG_dataset\\PPG_Dataset_ALL\\middle_school\\ppg_data\\259976285914790249179611647002659209716.json\n",
      "middle file path: C:\\Users\\Administrator\\Desktop\\PPG_dataset\\PPG_Dataset_ALL\\middle_school\\ppg_data\\298012316445022339974080573314634844942.json\n",
      "middle file path: C:\\Users\\Administrator\\Desktop\\PPG_dataset\\PPG_Dataset_ALL\\middle_school\\ppg_data\\244837623397725739033827989374034931563.json\n",
      "middle file path: C:\\Users\\Administrator\\Desktop\\PPG_dataset\\PPG_Dataset_ALL\\middle_school\\ppg_data\\286170553532738041839103174470752051147.json\n",
      "middle file path: C:\\Users\\Administrator\\Desktop\\PPG_dataset\\PPG_Dataset_ALL\\middle_school\\ppg_data\\50112629529999942369474763918237775694.json\n",
      "middle file path: C:\\Users\\Administrator\\Desktop\\PPG_dataset\\PPG_Dataset_ALL\\middle_school\\ppg_data\\214066112721987703187369304704263977384.json\n",
      "middle file path: C:\\Users\\Administrator\\Desktop\\PPG_dataset\\PPG_Dataset_ALL\\middle_school\\ppg_data\\266659665717608834169862959893915384343.json\n",
      "middle file path: C:\\Users\\Administrator\\Desktop\\PPG_dataset\\PPG_Dataset_ALL\\middle_school\\ppg_data\\79607384054796034879474504528818320374.json\n",
      "middle file path: C:\\Users\\Administrator\\Desktop\\PPG_dataset\\PPG_Dataset_ALL\\middle_school\\ppg_data\\68240617007739236531833329101102234412.json\n",
      "middle file path: C:\\Users\\Administrator\\Desktop\\PPG_dataset\\PPG_Dataset_ALL\\middle_school\\ppg_data\\306190386540638049114031574559895939729.json\n",
      "middle file path: C:\\Users\\Administrator\\Desktop\\PPG_dataset\\PPG_Dataset_ALL\\middle_school\\ppg_data\\306979790846729841714355984998752837115.json\n",
      "middle file path: C:\\Users\\Administrator\\Desktop\\PPG_dataset\\PPG_Dataset_ALL\\middle_school\\ppg_data\\279596114491335403076296161548798302049.json\n",
      "middle file path: C:\\Users\\Administrator\\Desktop\\PPG_dataset\\PPG_Dataset_ALL\\middle_school\\ppg_data\\85933772090356422521289624360166209939.json\n",
      "middle file path: C:\\Users\\Administrator\\Desktop\\PPG_dataset\\PPG_Dataset_ALL\\middle_school\\ppg_data\\284529546572181438728115297687439794622.json\n",
      "middle file path: C:\\Users\\Administrator\\Desktop\\PPG_dataset\\PPG_Dataset_ALL\\middle_school\\ppg_data\\181111116088821967589334728562514270873.json\n",
      "middle file path: C:\\Users\\Administrator\\Desktop\\PPG_dataset\\PPG_Dataset_ALL\\middle_school\\ppg_data\\3090578306455859195973259924928164372.json\n",
      "middle file path: C:\\Users\\Administrator\\Desktop\\PPG_dataset\\PPG_Dataset_ALL\\middle_school\\ppg_data\\225478870577017638505489139244996911436.json\n",
      "middle file path: C:\\Users\\Administrator\\Desktop\\PPG_dataset\\PPG_Dataset_ALL\\middle_school\\ppg_data\\277473614294071127937667446265054569611.json\n",
      "middle file path: C:\\Users\\Administrator\\Desktop\\PPG_dataset\\PPG_Dataset_ALL\\middle_school\\ppg_data\\326175720451547606057536686016690581991.json\n",
      "middle file path: C:\\Users\\Administrator\\Desktop\\PPG_dataset\\PPG_Dataset_ALL\\middle_school\\ppg_data\\251212351275291886677404998126671193364.json\n",
      "middle file path: C:\\Users\\Administrator\\Desktop\\PPG_dataset\\PPG_Dataset_ALL\\middle_school\\ppg_data\\51078240330083561345391078447941838162.json\n",
      "middle file path: C:\\Users\\Administrator\\Desktop\\PPG_dataset\\PPG_Dataset_ALL\\middle_school\\ppg_data\\167253404759052186403943384893900650322.json\n",
      "middle file path: C:\\Users\\Administrator\\Desktop\\PPG_dataset\\PPG_Dataset_ALL\\middle_school\\ppg_data\\124430104239231151751690300640228075062.json\n",
      "middle file path: C:\\Users\\Administrator\\Desktop\\PPG_dataset\\PPG_Dataset_ALL\\middle_school\\ppg_data\\32242276520091340804508061073161479713.json\n",
      "middle file path: C:\\Users\\Administrator\\Desktop\\PPG_dataset\\PPG_Dataset_ALL\\middle_school\\ppg_data\\122622512121837136229847012710705529979.json\n",
      "middle file path: C:\\Users\\Administrator\\Desktop\\PPG_dataset\\PPG_Dataset_ALL\\middle_school\\ppg_data\\295048404300263447910443892159201485946.json\n",
      "middle file path: C:\\Users\\Administrator\\Desktop\\PPG_dataset\\PPG_Dataset_ALL\\middle_school\\ppg_data\\188361816522301425173778248273565407378.json\n",
      "middle file path: C:\\Users\\Administrator\\Desktop\\PPG_dataset\\PPG_Dataset_ALL\\middle_school\\ppg_data\\34931901663861718465798076820184660214.json\n",
      "middle file path: C:\\Users\\Administrator\\Desktop\\PPG_dataset\\PPG_Dataset_ALL\\middle_school\\ppg_data\\252484027229880983982656879931769593059.json\n",
      "middle file path: C:\\Users\\Administrator\\Desktop\\PPG_dataset\\PPG_Dataset_ALL\\middle_school\\ppg_data\\175197955692496323475454481369358296964.json\n",
      "middle file path: C:\\Users\\Administrator\\Desktop\\PPG_dataset\\PPG_Dataset_ALL\\middle_school\\ppg_data\\73097706670460812163945911106327364527.json\n",
      "middle file path: C:\\Users\\Administrator\\Desktop\\PPG_dataset\\PPG_Dataset_ALL\\middle_school\\ppg_data\\21235758349625467005692106792627623080.json\n",
      "middle file path: C:\\Users\\Administrator\\Desktop\\PPG_dataset\\PPG_Dataset_ALL\\middle_school\\ppg_data\\24283089460480534313297551248773312368.json\n",
      "middle file path: C:\\Users\\Administrator\\Desktop\\PPG_dataset\\PPG_Dataset_ALL\\middle_school\\ppg_data\\3377255289078930692550158645031657828.json\n",
      "middle file path: C:\\Users\\Administrator\\Desktop\\PPG_dataset\\PPG_Dataset_ALL\\middle_school\\ppg_data\\47862737607272227529163978988231672324.json\n",
      "middle file path: C:\\Users\\Administrator\\Desktop\\PPG_dataset\\PPG_Dataset_ALL\\middle_school\\ppg_data\\96424846905267716205313031866647693409.json\n",
      "middle file path: C:\\Users\\Administrator\\Desktop\\PPG_dataset\\PPG_Dataset_ALL\\middle_school\\ppg_data\\196519575688241014580764945174642413886.json\n",
      "middle file path: C:\\Users\\Administrator\\Desktop\\PPG_dataset\\PPG_Dataset_ALL\\middle_school\\ppg_data\\82021857307461782491499562936350476465.json\n",
      "middle file path: C:\\Users\\Administrator\\Desktop\\PPG_dataset\\PPG_Dataset_ALL\\middle_school\\ppg_data\\322935917736529070732062674677811796298.json\n",
      "middle file path: C:\\Users\\Administrator\\Desktop\\PPG_dataset\\PPG_Dataset_ALL\\middle_school\\ppg_data\\147286467279844571512642280185718562477.json\n",
      "middle file path: C:\\Users\\Administrator\\Desktop\\PPG_dataset\\PPG_Dataset_ALL\\middle_school\\ppg_data\\50870569433662547424976446803687306459.json\n",
      "middle file path: C:\\Users\\Administrator\\Desktop\\PPG_dataset\\PPG_Dataset_ALL\\middle_school\\ppg_data\\187023724126246790072625181276623429008.json\n",
      "middle file path: C:\\Users\\Administrator\\Desktop\\PPG_dataset\\PPG_Dataset_ALL\\middle_school\\ppg_data\\198234582876761228339764912699736538842.json\n",
      "middle file path: C:\\Users\\Administrator\\Desktop\\PPG_dataset\\PPG_Dataset_ALL\\middle_school\\ppg_data\\217401908842290417389877459413956699848.json\n",
      "middle file path: C:\\Users\\Administrator\\Desktop\\PPG_dataset\\PPG_Dataset_ALL\\middle_school\\ppg_data\\248714792084223925086319877550701732902.json\n",
      "middle file path: C:\\Users\\Administrator\\Desktop\\PPG_dataset\\PPG_Dataset_ALL\\middle_school\\ppg_data\\76564679515111601898752093007823406213.json\n",
      "middle file path: C:\\Users\\Administrator\\Desktop\\PPG_dataset\\PPG_Dataset_ALL\\middle_school\\ppg_data\\165859950924622410621858152603880547562.json\n",
      "middle file path: C:\\Users\\Administrator\\Desktop\\PPG_dataset\\PPG_Dataset_ALL\\middle_school\\ppg_data\\287193774137046830846299820689671912262.json\n",
      "middle file path: C:\\Users\\Administrator\\Desktop\\PPG_dataset\\PPG_Dataset_ALL\\middle_school\\ppg_data\\335788655929377468364396662783064825241.json\n",
      "middle file path: C:\\Users\\Administrator\\Desktop\\PPG_dataset\\PPG_Dataset_ALL\\middle_school\\ppg_data\\113944072194837765400816116086180275264.json\n",
      "middle file path: C:\\Users\\Administrator\\Desktop\\PPG_dataset\\PPG_Dataset_ALL\\middle_school\\ppg_data\\23205074593279052134046953709489087251.json\n",
      "middle file path: C:\\Users\\Administrator\\Desktop\\PPG_dataset\\PPG_Dataset_ALL\\middle_school\\ppg_data\\70548274733634719816690703613189281691.json\n",
      "middle file path: C:\\Users\\Administrator\\Desktop\\PPG_dataset\\PPG_Dataset_ALL\\middle_school\\ppg_data\\271687486500095337985598950334855269685.json\n",
      "middle file path: C:\\Users\\Administrator\\Desktop\\PPG_dataset\\PPG_Dataset_ALL\\middle_school\\ppg_data\\332155984307447538420068116931670698656.json\n",
      "middle file path: C:\\Users\\Administrator\\Desktop\\PPG_dataset\\PPG_Dataset_ALL\\middle_school\\ppg_data\\236294909131969157867605361878614042562.json\n",
      "middle file path: C:\\Users\\Administrator\\Desktop\\PPG_dataset\\PPG_Dataset_ALL\\middle_school\\ppg_data\\116653212415901981538518364005483413701.json\n",
      "middle file path: C:\\Users\\Administrator\\Desktop\\PPG_dataset\\PPG_Dataset_ALL\\middle_school\\ppg_data\\141096633147123293564305683757951918737.json\n",
      "middle file path: C:\\Users\\Administrator\\Desktop\\PPG_dataset\\PPG_Dataset_ALL\\middle_school\\ppg_data\\303983509547074567124990773515764943146.json\n",
      "middle file path: C:\\Users\\Administrator\\Desktop\\PPG_dataset\\PPG_Dataset_ALL\\middle_school\\ppg_data\\249201461820432504831463043909801687292.json\n",
      "middle file path: C:\\Users\\Administrator\\Desktop\\PPG_dataset\\PPG_Dataset_ALL\\middle_school\\ppg_data\\179914790667295564318715575582224783058.json\n",
      "middle file path: C:\\Users\\Administrator\\Desktop\\PPG_dataset\\PPG_Dataset_ALL\\middle_school\\ppg_data\\62058819281469101909506816418354599224.json\n",
      "middle file path: C:\\Users\\Administrator\\Desktop\\PPG_dataset\\PPG_Dataset_ALL\\middle_school\\ppg_data\\295633366458656626799641335525548613570.json\n",
      "middle file path: C:\\Users\\Administrator\\Desktop\\PPG_dataset\\PPG_Dataset_ALL\\middle_school\\ppg_data\\280698419472212270999039824608534270411.json\n",
      "middle file path: C:\\Users\\Administrator\\Desktop\\PPG_dataset\\PPG_Dataset_ALL\\middle_school\\ppg_data\\267367809881025707024976950419478664556.json\n",
      "middle file path: C:\\Users\\Administrator\\Desktop\\PPG_dataset\\PPG_Dataset_ALL\\middle_school\\ppg_data\\294727992747412852762616978276292152200.json\n",
      "middle file path: C:\\Users\\Administrator\\Desktop\\PPG_dataset\\PPG_Dataset_ALL\\middle_school\\ppg_data\\86735914967402468079245225254462550932.json\n",
      "middle file path: C:\\Users\\Administrator\\Desktop\\PPG_dataset\\PPG_Dataset_ALL\\middle_school\\ppg_data\\148639288212986584127354387481812660326.json\n",
      "middle file path: C:\\Users\\Administrator\\Desktop\\PPG_dataset\\PPG_Dataset_ALL\\middle_school\\ppg_data\\190284646212867974636572326493190251060.json\n",
      "middle file path: C:\\Users\\Administrator\\Desktop\\PPG_dataset\\PPG_Dataset_ALL\\middle_school\\ppg_data\\281715776674731430373228211748906774663.json\n",
      "middle file path: C:\\Users\\Administrator\\Desktop\\PPG_dataset\\PPG_Dataset_ALL\\middle_school\\ppg_data\\243862751789833362433646104014140163191.json\n",
      "middle file path: C:\\Users\\Administrator\\Desktop\\PPG_dataset\\PPG_Dataset_ALL\\middle_school\\ppg_data\\301654629743095236754021889037892066847.json\n",
      "middle file path: C:\\Users\\Administrator\\Desktop\\PPG_dataset\\PPG_Dataset_ALL\\middle_school\\ppg_data\\151093775913003711836778354276743754486.json\n",
      "middle file path: C:\\Users\\Administrator\\Desktop\\PPG_dataset\\PPG_Dataset_ALL\\middle_school\\ppg_data\\19168070304175394592734208093331369614.json\n",
      "middle file path: C:\\Users\\Administrator\\Desktop\\PPG_dataset\\PPG_Dataset_ALL\\middle_school\\ppg_data\\248322071472985981630892450583315449660.json\n",
      "middle file path: C:\\Users\\Administrator\\Desktop\\PPG_dataset\\PPG_Dataset_ALL\\middle_school\\ppg_data\\61659799584008774142876565087764928675.json\n",
      "middle file path: C:\\Users\\Administrator\\Desktop\\PPG_dataset\\PPG_Dataset_ALL\\middle_school\\ppg_data\\129248284799429495306837089790351674777.json\n",
      "middle file path: C:\\Users\\Administrator\\Desktop\\PPG_dataset\\PPG_Dataset_ALL\\middle_school\\ppg_data\\23916555334375718433822687275242407999.json\n",
      "middle file path: C:\\Users\\Administrator\\Desktop\\PPG_dataset\\PPG_Dataset_ALL\\middle_school\\ppg_data\\287003561000371206883545788528204380377.json\n",
      "middle file path: C:\\Users\\Administrator\\Desktop\\PPG_dataset\\PPG_Dataset_ALL\\middle_school\\ppg_data\\93662820189211795719680984402174453884.json\n",
      "middle file path: C:\\Users\\Administrator\\Desktop\\PPG_dataset\\PPG_Dataset_ALL\\middle_school\\ppg_data\\291726336157896493559959962336883513986.json\n",
      "middle file path: C:\\Users\\Administrator\\Desktop\\PPG_dataset\\PPG_Dataset_ALL\\middle_school\\ppg_data\\167778883336781991485772339526777662430.json\n",
      "middle file path: C:\\Users\\Administrator\\Desktop\\PPG_dataset\\PPG_Dataset_ALL\\middle_school\\ppg_data\\297816077774761394349421449491011548762.json\n",
      "middle file path: C:\\Users\\Administrator\\Desktop\\PPG_dataset\\PPG_Dataset_ALL\\middle_school\\ppg_data\\281790180980775322045580959560097110001.json\n",
      "middle file path: C:\\Users\\Administrator\\Desktop\\PPG_dataset\\PPG_Dataset_ALL\\middle_school\\ppg_data\\297635308447967734809253098814588901263.json\n",
      "middle file path: C:\\Users\\Administrator\\Desktop\\PPG_dataset\\PPG_Dataset_ALL\\middle_school\\ppg_data\\52513767167654197049559047036109787229.json\n",
      "middle file path: C:\\Users\\Administrator\\Desktop\\PPG_dataset\\PPG_Dataset_ALL\\middle_school\\ppg_data\\136387486097555232833765080029858154071.json\n",
      "middle file path: C:\\Users\\Administrator\\Desktop\\PPG_dataset\\PPG_Dataset_ALL\\middle_school\\ppg_data\\197088123523591615966835633753218437798.json\n",
      "middle file path: C:\\Users\\Administrator\\Desktop\\PPG_dataset\\PPG_Dataset_ALL\\middle_school\\ppg_data\\298603360486469410527409478354155964439.json\n",
      "middle file path: C:\\Users\\Administrator\\Desktop\\PPG_dataset\\PPG_Dataset_ALL\\middle_school\\ppg_data\\238900776150856601236907513542305529524.json\n"
     ]
    }
   ],
   "source": [
    "def generate_dataset(subject_collection, label, data_aug_times=1):\n",
    "    ignored_id = []\n",
    "    dataset = pd.DataFrame()\n",
    "    for subject in subject_collection:\n",
    "            subject_wave = []\n",
    "            # The middle school subjects.\n",
    "            if subject in (middle_pos_subjects + middle_neg_subjects):\n",
    "                files = os.listdir(middle_file_dir)\n",
    "                for file in files:\n",
    "                    if file.startswith(subject) and file.endswith('.json'):\n",
    "                        file_path = os.path.join(middle_file_dir, file)\n",
    "                        print(f\"middle file path: {file_path}\")\n",
    "                        tmp_wave = load_wave_middleSchool(file_path)\n",
    "                        subject_wave += tmp_wave\n",
    "\n",
    "            if len(subject_wave) < (sample_freq * sample_window_minute * 60):\n",
    "                ignored_id.append({'id': id, 'Time Length of data in minute ': f\"{len(subject_wave)/(125 * 60):.02f}\"})\n",
    "                continue\n",
    "            else:\n",
    "                subject_dataset = generate_train_feature(subject, subject_wave, label, profile_dict[subject][0], profile_dict[subject][1], sample_freq, sample_window_minute, data_aug_times, if_gender = True)\n",
    "                dataset = pd.concat([dataset, subject_dataset], ignore_index=True)\n",
    "    return dataset\n",
    "\n",
    "\n",
    "train_pos_dataset = generate_dataset(train_pos_subjects, label=1, data_aug_times=1)\n",
    "train_neg_dataset = generate_dataset(train_neg_subjects, label=0, data_aug_times=1)"
   ]
  },
  {
   "cell_type": "code",
   "execution_count": 157,
   "metadata": {},
   "outputs": [
    {
     "name": "stdout",
     "output_type": "stream",
     "text": [
      "middle file path: C:\\Users\\Administrator\\Desktop\\PPG_dataset\\PPG_Dataset_ALL\\middle_school\\ppg_data\\118672804470933314296119930305882830161.json\n",
      "middle file path: C:\\Users\\Administrator\\Desktop\\PPG_dataset\\PPG_Dataset_ALL\\middle_school\\ppg_data\\27384113139794060774257569632727978954.json\n",
      "middle file path: C:\\Users\\Administrator\\Desktop\\PPG_dataset\\PPG_Dataset_ALL\\middle_school\\ppg_data\\262125641357055355562730650708875843490.json\n",
      "middle file path: C:\\Users\\Administrator\\Desktop\\PPG_dataset\\PPG_Dataset_ALL\\middle_school\\ppg_data\\220381491508493212398664224112476321788.json\n",
      "middle file path: C:\\Users\\Administrator\\Desktop\\PPG_dataset\\PPG_Dataset_ALL\\middle_school\\ppg_data\\97787519318640743833349948562306113456.json\n",
      "middle file path: C:\\Users\\Administrator\\Desktop\\PPG_dataset\\PPG_Dataset_ALL\\middle_school\\ppg_data\\18868260396363831327592014345363505401.json\n",
      "middle file path: C:\\Users\\Administrator\\Desktop\\PPG_dataset\\PPG_Dataset_ALL\\middle_school\\ppg_data\\339939524909687247847286715934976860951.json\n",
      "middle file path: C:\\Users\\Administrator\\Desktop\\PPG_dataset\\PPG_Dataset_ALL\\middle_school\\ppg_data\\3495163028748995869449276091173613118.json\n",
      "middle file path: C:\\Users\\Administrator\\Desktop\\PPG_dataset\\PPG_Dataset_ALL\\middle_school\\ppg_data\\94900472555768364091759275907334542888.json\n",
      "middle file path: C:\\Users\\Administrator\\Desktop\\PPG_dataset\\PPG_Dataset_ALL\\middle_school\\ppg_data\\285144404373865488712834300436850181087.json\n",
      "middle file path: C:\\Users\\Administrator\\Desktop\\PPG_dataset\\PPG_Dataset_ALL\\middle_school\\ppg_data\\53432263590786069539548595940834778143.json\n",
      "middle file path: C:\\Users\\Administrator\\Desktop\\PPG_dataset\\PPG_Dataset_ALL\\middle_school\\ppg_data\\68415645908804877552921659854931880952.json\n",
      "middle file path: C:\\Users\\Administrator\\Desktop\\PPG_dataset\\PPG_Dataset_ALL\\middle_school\\ppg_data\\74777090103596991100156529879998594598.json\n",
      "middle file path: C:\\Users\\Administrator\\Desktop\\PPG_dataset\\PPG_Dataset_ALL\\middle_school\\ppg_data\\75865972755766528539403317857267700933.json\n",
      "middle file path: C:\\Users\\Administrator\\Desktop\\PPG_dataset\\PPG_Dataset_ALL\\middle_school\\ppg_data\\128323984464808208303504286338275258603.json\n",
      "middle file path: C:\\Users\\Administrator\\Desktop\\PPG_dataset\\PPG_Dataset_ALL\\middle_school\\ppg_data\\184231884339909973526914936683309815104.json\n",
      "middle file path: C:\\Users\\Administrator\\Desktop\\PPG_dataset\\PPG_Dataset_ALL\\middle_school\\ppg_data\\12127779151939630777631201115596615400.json\n",
      "middle file path: C:\\Users\\Administrator\\Desktop\\PPG_dataset\\PPG_Dataset_ALL\\middle_school\\ppg_data\\303451417278675614732880171299900074054.json\n",
      "middle file path: C:\\Users\\Administrator\\Desktop\\PPG_dataset\\PPG_Dataset_ALL\\middle_school\\ppg_data\\12113748728888297440403755725133964471.json\n",
      "middle file path: C:\\Users\\Administrator\\Desktop\\PPG_dataset\\PPG_Dataset_ALL\\middle_school\\ppg_data\\163752223639262214940768852728390879969.json\n"
     ]
    }
   ],
   "source": [
    "val_pos_dataset = generate_dataset(val_pos_subjects, label=1, data_aug_times=1)\n",
    "val_neg_dataset = generate_dataset(val_neg_subjects, label=0, data_aug_times=1)"
   ]
  },
  {
   "cell_type": "code",
   "execution_count": 158,
   "metadata": {},
   "outputs": [
    {
     "name": "stdout",
     "output_type": "stream",
     "text": [
      "middle file path: C:\\Users\\Administrator\\Desktop\\PPG_dataset\\PPG_Dataset_ALL\\middle_school\\ppg_data\\123186721412066420945661329342422604187.json\n",
      "middle file path: C:\\Users\\Administrator\\Desktop\\PPG_dataset\\PPG_Dataset_ALL\\middle_school\\ppg_data\\183915054561536545436523543092310451958.json\n",
      "middle file path: C:\\Users\\Administrator\\Desktop\\PPG_dataset\\PPG_Dataset_ALL\\middle_school\\ppg_data\\299837823671669493591048353351617715401.json\n",
      "middle file path: C:\\Users\\Administrator\\Desktop\\PPG_dataset\\PPG_Dataset_ALL\\middle_school\\ppg_data\\113980445301479007579616920795423718103.json\n",
      "middle file path: C:\\Users\\Administrator\\Desktop\\PPG_dataset\\PPG_Dataset_ALL\\middle_school\\ppg_data\\265969244215005771336396286117970459836.json\n",
      "middle file path: C:\\Users\\Administrator\\Desktop\\PPG_dataset\\PPG_Dataset_ALL\\middle_school\\ppg_data\\178911033606610348263471481613906161862.json\n",
      "middle file path: C:\\Users\\Administrator\\Desktop\\PPG_dataset\\PPG_Dataset_ALL\\middle_school\\ppg_data\\332968452519435402818851714314562647118.json\n",
      "middle file path: C:\\Users\\Administrator\\Desktop\\PPG_dataset\\PPG_Dataset_ALL\\middle_school\\ppg_data\\277521695151045356180592974731943199225.json\n",
      "middle file path: C:\\Users\\Administrator\\Desktop\\PPG_dataset\\PPG_Dataset_ALL\\middle_school\\ppg_data\\177893884182876632474140723566972872966.json\n",
      "middle file path: C:\\Users\\Administrator\\Desktop\\PPG_dataset\\PPG_Dataset_ALL\\middle_school\\ppg_data\\280740499670385152683387307817880728087.json\n",
      "middle file path: C:\\Users\\Administrator\\Desktop\\PPG_dataset\\PPG_Dataset_ALL\\middle_school\\ppg_data\\189362950708658964709686534972370690389.json\n",
      "middle file path: C:\\Users\\Administrator\\Desktop\\PPG_dataset\\PPG_Dataset_ALL\\middle_school\\ppg_data\\216536750951151935839504204487772996246.json\n",
      "middle file path: C:\\Users\\Administrator\\Desktop\\PPG_dataset\\PPG_Dataset_ALL\\middle_school\\ppg_data\\330708417614699062689789714196123612272.json\n",
      "middle file path: C:\\Users\\Administrator\\Desktop\\PPG_dataset\\PPG_Dataset_ALL\\middle_school\\ppg_data\\155934369359599097679754472108514336627.json\n",
      "middle file path: C:\\Users\\Administrator\\Desktop\\PPG_dataset\\PPG_Dataset_ALL\\middle_school\\ppg_data\\66495068052336897524649866763996224836.json\n",
      "middle file path: C:\\Users\\Administrator\\Desktop\\PPG_dataset\\PPG_Dataset_ALL\\middle_school\\ppg_data\\272831530052829513992614029843383135435.json\n",
      "middle file path: C:\\Users\\Administrator\\Desktop\\PPG_dataset\\PPG_Dataset_ALL\\middle_school\\ppg_data\\295805545417764987402840920762168160102.json\n",
      "middle file path: C:\\Users\\Administrator\\Desktop\\PPG_dataset\\PPG_Dataset_ALL\\middle_school\\ppg_data\\95162145089410043130590439710288862875.json\n",
      "middle file path: C:\\Users\\Administrator\\Desktop\\PPG_dataset\\PPG_Dataset_ALL\\middle_school\\ppg_data\\37368671937374133254921062734211477911.json\n",
      "middle file path: C:\\Users\\Administrator\\Desktop\\PPG_dataset\\PPG_Dataset_ALL\\middle_school\\ppg_data\\254195397836312161509291262160446773547.json\n",
      "middle file path: C:\\Users\\Administrator\\Desktop\\PPG_dataset\\PPG_Dataset_ALL\\middle_school\\ppg_data\\147359196293566602169362260165807304353.json\n",
      "middle file path: C:\\Users\\Administrator\\Desktop\\PPG_dataset\\PPG_Dataset_ALL\\middle_school\\ppg_data\\59049209574526946105207528705266778097.json\n",
      "middle file path: C:\\Users\\Administrator\\Desktop\\PPG_dataset\\PPG_Dataset_ALL\\middle_school\\ppg_data\\69878442663638677713057329548326854040.json\n",
      "middle file path: C:\\Users\\Administrator\\Desktop\\PPG_dataset\\PPG_Dataset_ALL\\middle_school\\ppg_data\\248745867043481860061400522592757429141.json\n",
      "middle file path: C:\\Users\\Administrator\\Desktop\\PPG_dataset\\PPG_Dataset_ALL\\middle_school\\ppg_data\\302354828935195917150349154493181150388.json\n",
      "middle file path: C:\\Users\\Administrator\\Desktop\\PPG_dataset\\PPG_Dataset_ALL\\middle_school\\ppg_data\\66883352438405515203389903841888282980.json\n",
      "middle file path: C:\\Users\\Administrator\\Desktop\\PPG_dataset\\PPG_Dataset_ALL\\middle_school\\ppg_data\\245709246373688299677462300699010035587.json\n",
      "middle file path: C:\\Users\\Administrator\\Desktop\\PPG_dataset\\PPG_Dataset_ALL\\middle_school\\ppg_data\\164475752581144418504106142883232240565.json\n",
      "middle file path: C:\\Users\\Administrator\\Desktop\\PPG_dataset\\PPG_Dataset_ALL\\middle_school\\ppg_data\\328501170984435519968465877978172346551.json\n",
      "middle file path: C:\\Users\\Administrator\\Desktop\\PPG_dataset\\PPG_Dataset_ALL\\middle_school\\ppg_data\\322616964315554065624086560923948520823.json\n"
     ]
    }
   ],
   "source": [
    "test_pos_dataset = generate_dataset(test_pos_subjects, label=1, data_aug_times=1)\n",
    "test_neg_dataset = generate_dataset(test_neg_subjects, label=0, data_aug_times=1)"
   ]
  },
  {
   "cell_type": "code",
   "execution_count": 159,
   "metadata": {},
   "outputs": [
    {
     "name": "stdout",
     "output_type": "stream",
     "text": [
      "train pos sample shape: (425, 40)\n",
      "train neg sample shape: (396, 40)\n",
      "val pos sample shape: (43, 40)\n",
      "val neg sample shape: (52, 40)\n",
      "test pos sample shape: (74, 40)\n",
      "test neg sample shape: (69, 40)\n"
     ]
    }
   ],
   "source": [
    "print(f\"train pos sample shape: {train_pos_dataset.shape}\")\n",
    "print(f\"train neg sample shape: {train_neg_dataset.shape}\")\n",
    "\n",
    "print(f\"val pos sample shape: {val_pos_dataset.shape}\")\n",
    "print(f\"val neg sample shape: {val_neg_dataset.shape}\")\n",
    "\n",
    "print(f\"test pos sample shape: {test_neg_dataset.shape}\")\n",
    "print(f\"test neg sample shape: {test_pos_dataset.shape}\")"
   ]
  },
  {
   "cell_type": "code",
   "execution_count": 160,
   "metadata": {},
   "outputs": [],
   "source": [
    "columns_drop = []\n",
    "for col in train_pos_dataset.columns[:-4]:\n",
    "    nan_count = (train_pos_dataset[col] == 0).sum() \n",
    "    if nan_count > (len(train_pos_dataset) // 4): \n",
    "        columns_drop.append(col)\n",
    "\n",
    "train_pos_dataset_final = train_pos_dataset.drop(columns=columns_drop, inplace=False)\n",
    "train_neg_dataset_final = train_neg_dataset.drop(columns=columns_drop, inplace=False)\n",
    "\n",
    "val_pos_dataset_final = val_pos_dataset.drop(columns=columns_drop, inplace=False)\n",
    "val_neg_dataset_final = val_neg_dataset.drop(columns=columns_drop, inplace=False)\n",
    "\n",
    "test_pos_dataset_final = test_pos_dataset.drop(columns=columns_drop, inplace=False)\n",
    "test_neg_dataset_final = test_neg_dataset.drop(columns=columns_drop, inplace=False)"
   ]
  },
  {
   "cell_type": "code",
   "execution_count": 161,
   "metadata": {},
   "outputs": [
    {
     "name": "stdout",
     "output_type": "stream",
     "text": [
      "After remove the invalid columns, train pos shape: (425, 29)\n",
      "After remove the invalid columns, train neg shape: (396, 29)\n",
      "After remove the invalid columns, validation pos shape: (43, 29)\n",
      "After remove the invalid columns, validation neg shape: (52, 29)\n",
      "After remove the invalid columns, test pos shape: (69, 29)\n",
      "After remove the invalid columns, test neg shape: (74, 29)\n"
     ]
    }
   ],
   "source": [
    "print(f\"After remove the invalid columns, train pos shape: {train_pos_dataset_final.shape}\")\n",
    "print(f\"After remove the invalid columns, train neg shape: {train_neg_dataset_final.shape}\")\n",
    "\n",
    "print(f\"After remove the invalid columns, validation pos shape: {val_pos_dataset_final.shape}\")\n",
    "print(f\"After remove the invalid columns, validation neg shape: {val_neg_dataset_final.shape}\")\n",
    "\n",
    "print(f\"After remove the invalid columns, test pos shape: {test_pos_dataset_final.shape}\")\n",
    "print(f\"After remove the invalid columns, test neg shape: {test_neg_dataset_final.shape}\")"
   ]
  },
  {
   "cell_type": "markdown",
   "metadata": {},
   "source": [
    "#### Do The Normalization for the Train Dataset and Test Dataset"
   ]
  },
  {
   "cell_type": "code",
   "execution_count": 162,
   "metadata": {},
   "outputs": [],
   "source": [
    "profile_columns = ['wave_quality', 'age', 'gender', 'label', 'id']"
   ]
  },
  {
   "cell_type": "code",
   "execution_count": 163,
   "metadata": {},
   "outputs": [],
   "source": [
    "# 合并训练集\n",
    "train_combined = pd.concat([train_pos_dataset_final, train_neg_dataset_final])\n",
    "\n",
    "# 需要归一化的列\n",
    "columns_to_normalize = train_combined.columns.difference(profile_columns)\n",
    "\n",
    "# 计算最大值和最小值\n",
    "min_values = train_combined[columns_to_normalize].min()\n",
    "max_values = train_combined[columns_to_normalize].max()\n",
    "\n",
    "# 保存最大值和最小值到CSV\n",
    "current_date = datetime.datetime.now().strftime(\"%Y-%m-%d\")\n",
    "outdir = os.path.join(os.getcwd(), 'outdir')\n",
    "os.makedirs(outdir, exist_ok=True)\n",
    "min_max_df = pd.DataFrame({'min': min_values, 'max': max_values})\n",
    "min_max_df.to_csv(f'{outdir}/ppg_sleep_norm_minmax_values_{current_date}.csv', index=True)\n",
    "\n",
    "\n",
    "# 定义min-max归一化函数\n",
    "def normalize(df, min_values, max_values):\n",
    "    return (df - min_values) / (max_values - min_values)\n",
    "\n",
    "# 对训练集进行归一化\n",
    "train_pos_dataset_final[columns_to_normalize] = normalize(train_pos_dataset_final[columns_to_normalize], min_values, max_values)\n",
    "train_neg_dataset_final[columns_to_normalize] = normalize(train_neg_dataset_final[columns_to_normalize], min_values, max_values)\n",
    "\n",
    "# 从CSV文件中读取最小值和最大值\n",
    "min_max_df = pd.read_csv(f'{outdir}/ppg_sleep_norm_minmax_values_{current_date}.csv', index_col=0)\n",
    "min_values = min_max_df['min']\n",
    "max_values = min_max_df['max']\n",
    "\n",
    "\n",
    "val_pos_dataset_final[columns_to_normalize] = normalize(val_pos_dataset_final[columns_to_normalize], min_values, max_values)\n",
    "val_neg_dataset_final[columns_to_normalize] = normalize(val_neg_dataset_final[columns_to_normalize], min_values, max_values)\n",
    "\n",
    "\n",
    "# 对测试集进行归一化\n",
    "test_pos_dataset_final[columns_to_normalize] = normalize(test_pos_dataset_final[columns_to_normalize], min_values, max_values)\n",
    "test_neg_dataset_final[columns_to_normalize] = normalize(test_neg_dataset_final[columns_to_normalize], min_values, max_values)\n"
   ]
  },
  {
   "cell_type": "markdown",
   "metadata": {},
   "source": [
    "#### Save As Pkl File"
   ]
  },
  {
   "cell_type": "code",
   "execution_count": 164,
   "metadata": {},
   "outputs": [],
   "source": [
    "import seaborn as sns\n",
    "import matplotlib.pyplot as plt"
   ]
  },
  {
   "cell_type": "code",
   "execution_count": 165,
   "metadata": {},
   "outputs": [
    {
     "data": {
      "image/png": "[encoded data removed]",
      "text/plain": [
       "<Figure size 640x480 with 1 Axes>"
      ]
     },
     "metadata": {},
     "output_type": "display_data"
    },
    {
     "data": {
      "image/png": "[encoded data removed]",
      "text/plain": [
       "<Figure size 640x480 with 1 Axes>"
      ]
     },
     "metadata": {},
     "output_type": "display_data"
    },
    {
     "data": {
      "text/plain": [
       "<Axes: xlabel='wave_quality', ylabel='Count'>"
      ]
     },
     "execution_count": 165,
     "metadata": {},
     "output_type": "execute_result"
    },
    {
     "data": {
      "image/png": "[encoded data removed]",
      "text/plain": [
       "<Figure size 640x480 with 1 Axes>"
      ]
     },
     "metadata": {},
     "output_type": "display_data"
    }
   ],
   "source": [
    "from matplotlib import figure\n",
    "\n",
    "plt.subplot(3, 1, 1)  # 1行2列，第1个子图\n",
    "sns.histplot(train_pos_dataset['wave_quality'], kde=True, bins=10)\n",
    "plt.show()\n",
    "\n",
    "plt.subplot(3, 1, 2)  # 1行2列，第1个子图\n",
    "sns.histplot(train_neg_dataset['wave_quality'], kde=True, bins=10)\n",
    "plt.show()\n",
    "\n",
    "plt.subplot(3, 1, 3)  # 1行2列，第1个子图\n",
    "sns.histplot(train_combined['wave_quality'], kde=True, bins=10)"
   ]
  },
  {
   "cell_type": "code",
   "execution_count": 166,
   "metadata": {},
   "outputs": [],
   "source": [
    "wave_quality_threshold = 0.9"
   ]
  },
  {
   "cell_type": "code",
   "execution_count": 167,
   "metadata": {},
   "outputs": [
    {
     "name": "stdout",
     "output_type": "stream",
     "text": [
      "train pos sample shape: (425, 40)\n",
      "train neg sample shape: (396, 40)\n",
      "validation pos sample shape: (43, 40)\n",
      "validation neg sample shape: (52, 40)\n",
      "test pos sample shape: (74, 40)\n",
      "test neg sample shape: (69, 40)\n"
     ]
    }
   ],
   "source": [
    "print(f\"train pos sample shape: {train_pos_dataset.shape}\")\n",
    "print(f\"train neg sample shape: {train_neg_dataset.shape}\")\n",
    "\n",
    "print(f\"validation pos sample shape: {val_pos_dataset.shape}\")\n",
    "print(f\"validation neg sample shape: {val_neg_dataset.shape}\")\n",
    "\n",
    "print(f\"test pos sample shape: {test_neg_dataset.shape}\")\n",
    "print(f\"test neg sample shape: {test_pos_dataset.shape}\")"
   ]
  },
  {
   "cell_type": "code",
   "execution_count": 168,
   "metadata": {},
   "outputs": [
    {
     "name": "stdout",
     "output_type": "stream",
     "text": [
      "After quality filter, train positive sample count: 249\n",
      "After quality filter, train negative sample count: 243\n"
     ]
    }
   ],
   "source": [
    "train_pos_dataset_final_filter = train_pos_dataset_final[train_pos_dataset_final['wave_quality'] >= wave_quality_threshold]\n",
    "train_neg_dataset_final_filter = train_neg_dataset_final[train_neg_dataset_final['wave_quality'] >= wave_quality_threshold]\n",
    "\n",
    "print(f\"After quality filter, train positive sample count: {train_pos_dataset_final_filter.shape[0]}\")\n",
    "print(f\"After quality filter, train negative sample count: {train_neg_dataset_final_filter.shape[0]}\")\n"
   ]
  },
  {
   "cell_type": "code",
   "execution_count": 169,
   "metadata": {},
   "outputs": [],
   "source": [
    "sample_folder = os.path.join(os.getcwd(), 'samples')\n",
    "os.makedirs(sample_folder, exist_ok=True)\n",
    "\n",
    "# 定义要保存的文件路径\n",
    "train_pos_path = os.path.join(sample_folder, 'train_pos_dataset.pkl')\n",
    "train_neg_path = os.path.join(sample_folder, 'train_neg_dataset.pkl')\n",
    "val_pos_path = os.path.join(sample_folder, 'val_pos_dataset.pkl')\n",
    "val_neg_path = os.path.join(sample_folder, 'val_neg_dataset.pkl')\n",
    "test_pos_path = os.path.join(sample_folder, 'test_pos_dataset.pkl')\n",
    "test_neg_path = os.path.join(sample_folder, 'test_neg_dataset.pkl')\n",
    "\n",
    "# 保存 DataFrame 为 .pkl 文件\n",
    "train_pos_dataset_final[train_pos_dataset_final['wave_quality'] >= wave_quality_threshold].to_pickle(train_pos_path)\n",
    "train_neg_dataset_final[train_neg_dataset_final['wave_quality'] >= wave_quality_threshold].to_pickle(train_neg_path)\n",
    "\n",
    "val_pos_dataset_final[val_pos_dataset_final['wave_quality'] >= wave_quality_threshold].to_pickle(val_pos_path)\n",
    "val_neg_dataset_final[val_neg_dataset_final['wave_quality'] >= wave_quality_threshold].to_pickle(val_neg_path)\n",
    "\n",
    "test_pos_dataset_final[test_pos_dataset_final['wave_quality'] >= wave_quality_threshold].to_pickle(test_pos_path)\n",
    "test_neg_dataset_final[test_neg_dataset_final['wave_quality'] >= wave_quality_threshold].to_pickle(test_neg_path)"
   ]
  },
  {
   "cell_type": "code",
   "execution_count": 170,
   "metadata": {},
   "outputs": [
    {
     "name": "stdout",
     "output_type": "stream",
     "text": [
      "Index(['HRV_MeanNN', 'HRV_SDNN', 'HRV_RMSSD', 'HRV_SDSD', 'HRV_CVNN',\n",
      "       'HRV_CVSD', 'HRV_MedianNN', 'HRV_MadNN', 'HRV_MCVNN', 'HRV_IQRNN',\n",
      "       'HRV_SDRMSSD', 'HRV_Prc20NN', 'HRV_Prc80NN', 'HRV_pNN50', 'HRV_pNN20',\n",
      "       'HRV_MinNN', 'HRV_MaxNN', 'HRV_HTI', 'HRV_TINN', 'HRV_HF', 'HRV_VHF',\n",
      "       'HRV_TP', 'HRV_HFn', 'HRV_LnHF', 'wave_quality', 'label', 'id', 'age',\n",
      "       'gender'],\n",
      "      dtype='object')\n"
     ]
    }
   ],
   "source": [
    "print(train_pos_dataset_final.columns)"
   ]
  },
  {
   "cell_type": "code",
   "execution_count": null,
   "metadata": {},
   "outputs": [],
   "source": [
    "\n"
   ]
  }
 ],
 "metadata": {
  "kernelspec": {
   "display_name": "Python 3",
   "language": "python",
   "name": "python3"
  },
  "language_info": {
   "codemirror_mode": {
    "name": "ipython",
    "version": 3
   },
   "file_extension": ".py",
   "mimetype": "text/x-python",
   "name": "python",
   "nbconvert_exporter": "python",
   "pygments_lexer": "ipython3",
   "version": "3.12.2"
  }
 },
 "nbformat": 4,
 "nbformat_minor": 2
}
