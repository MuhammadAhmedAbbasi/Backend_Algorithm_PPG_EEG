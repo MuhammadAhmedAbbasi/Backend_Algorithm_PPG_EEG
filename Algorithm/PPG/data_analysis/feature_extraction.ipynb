{
 "cells": [
  {
   "cell_type": "code",
   "execution_count": 9,
   "metadata": {},
   "outputs": [],
   "source": [
    "import json\n",
    "import os\n",
    "import sys\n",
    "import warnings\n",
    "import pandas as pd\n",
    "\n",
    "sys.path.append(os.path.join(os.getcwd()))\n",
    "from feature_processor import generate_train_feature\n",
    "\n",
    "# Suppress specific warnings\n",
    "warnings.filterwarnings(\"ignore\", category=DeprecationWarning, message=\".*Conversion of an array with ndim > 0 to a scalar is deprecated.*\")"
   ]
  },
  {
   "cell_type": "code",
   "execution_count": 10,
   "metadata": {},
   "outputs": [],
   "source": [
    "# 读取 Excel 文件\n",
    "sample_freq = 125\n",
    "sample_window_minute = 0.5\n",
    "university_userProfile_file = r'C:\\Users\\Administrator\\Desktop\\PPG_dataset\\Xinlian_dataset\\label\\healthy_scale_results.xlsx'\n",
    "hospital_userProfile_file = r'C:\\Users\\Administrator\\Desktop\\Backend-Algorithm\\Algorithm\\Data\\unhealthy_clinic_results.xlsx'\n",
    "seven_grade_dir = r'D:\\index_calculation_ppg\\seven.xlsx'\n",
    "eight_grade_dir = r'D:\\index_calculation_ppg\\eight.xlsx'\n",
    "\n",
    "university_file_dir = r'C:\\Users\\Administrator\\Desktop\\PPG_dataset\\PPG_Dataset_ALL\\healthy'\n",
    "hospital_file_dir = r'C:\\Users\\Administrator\\Desktop\\PPG_dataset\\PPG_Dataset_ALL\\unhealthy'\n",
    "middle_file_dir = r'C:\\Users\\Administrator\\Desktop\\PPG_dataset\\PPG_Dataset_ALL\\middle_school\\ppg_data'"
   ]
  },
  {
   "cell_type": "code",
   "execution_count": 20,
   "metadata": {},
   "outputs": [
    {
     "name": "stdout",
     "output_type": "stream",
     "text": [
      "University Positive Depression subjects:  ['A04', 'A07', 'A09', 'A11', 'A15', 'A21', 'A25', 'A27', 'A29', 'A32', 'A33', 'A39', 'A48', 'A52']\n",
      "University Negative Depression subjects:  ['A01', 'A02', 'A03', 'A05', 'A06', 'A08', 'A10', 'A12', 'A13', 'A14', 'A16', 'A17', 'A18', 'A19', 'A20', 'A22', 'A23', 'A24', 'A26', 'A28', 'A30', 'A34', 'A35', 'A36', 'A37', 'A38', 'A40', 'A41', 'A42', 'A43', 'A44', 'A45', 'A46', 'A47', 'A49', 'A50', 'A51', 'A53', 'A54', 'A55']\n"
     ]
    }
   ],
   "source": [
    "### READ THE UNIVERSITY SUBJECTS\n",
    "df_university = pd.read_excel(university_userProfile_file, sheet_name='SDS')\n",
    "\n",
    "valid_cols = df_university.columns.values[3::]\n",
    "\n",
    "df_university['score'] = df_university[valid_cols].sum(axis=1) / 80 * 100\n",
    "\n",
    "university_positive_subjects_SDS = df_university[df_university['score'] >= 60]['ID'].tolist()\n",
    "print(\"University Positive Depression subjects: \", university_positive_subjects_SDS)\n",
    "\n",
    "university_negative_subjects_SDS = df_university[df_university['score'] < 60]['ID'].tolist()\n",
    "print(\"University Negative Depression subjects: \", university_negative_subjects_SDS)"
   ]
  },
  {
   "cell_type": "code",
   "execution_count": 11,
   "metadata": {},
   "outputs": [],
   "source": [
    "### READ THE HOSPITAL SUBJECTS\n",
    "df_hospital = pd.read_excel(hospital_userProfile_file, usecols=['床号','性别','年龄'])\n",
    "hospital_patients_name = df_hospital['床号'].to_list()\n",
    "\n",
    "### READ THE UNIVERSITY SUBJECTS\n",
    "df_university = pd.read_excel(university_userProfile_file, sheet_name='POMS', usecols=['ID','Sex','Age (years)'])\n",
    "# university_students_name = df_university['ID'].to_list()\n",
    "university_students_name = ['A01', 'A02', 'A03', 'A05', 'A06', 'A08', 'A10', 'A12', 'A13', 'A14', 'A16', 'A17', 'A18', 'A19', 'A20', 'A22', 'A23', 'A24', 'A26', 'A28', 'A30', 'A34', 'A35', 'A36', 'A37', 'A38', 'A40', 'A41', 'A42', 'A43', 'A44', 'A45', 'A46', 'A47', 'A49', 'A50', 'A51', 'A53', 'A54', 'A55']\n",
    "bachelors_university_students_name = ['A01', 'A02', 'A03', 'A04', 'A05', 'A06', 'A07', 'A08', 'A09', 'A10', 'A11', 'A12', 'A13', 'A14', 'A15', 'A16', 'A17', 'A18', 'A19', 'A20', 'A21', 'A22', 'A23', 'A24', 'A25', 'A26', 'A27', 'A28', 'A29', 'A30']\n",
    "graduate_university_students = list(set(university_students_name) - set(bachelors_university_students_name))\n"
   ]
  },
  {
   "cell_type": "code",
   "execution_count": 12,
   "metadata": {},
   "outputs": [],
   "source": [
    "### READING CLASS  7 AND CLASS 8 DATA\n",
    "seven = pd.read_excel(seven_grade_dir, usecols=['user_id', 'gender'])\n",
    "seven['age'] = 13\n",
    "eight = pd.read_excel(eight_grade_dir, usecols=['user_id', 'gender'])\n",
    "eight['age'] = 14\n",
    "\n",
    "middle_school = pd.concat([seven,eight])\n",
    "\n",
    "middle_school_dir_names= os.listdir(middle_file_dir)\n",
    "middle_school_dir_names = [str(i).split('.json')[0] for i in middle_school_dir_names]\n",
    "\n",
    "middle_school = middle_school[middle_school['user_id'].isin(middle_school_dir_names)]\n",
    "\n",
    "middle_school_students_name = middle_school['user_id'].to_list()\n",
    "# data.loc[data['id'].isin(eight_subject), 'age'] = 14"
   ]
  },
  {
   "cell_type": "code",
   "execution_count": 13,
   "metadata": {},
   "outputs": [],
   "source": [
    "def load_wave_university_or_hospital(path):\n",
    "    with open(path, 'r', encoding='utf-8') as file:  \n",
    "            data = json.load(file)\n",
    "            list_data = data['MesureData']['Datas']\n",
    "            final = [i for i in list_data]\n",
    "            return final\n",
    "    \n",
    "def load_wave_bachelors_university(path):\n",
    "    with open(path, 'r', encoding='utf-8') as file:  \n",
    "            data = json.load(file)\n",
    "            list_data = data['MesureData']['Datas']\n",
    "            final = [data for i in list_data for data in i['Datas']]\n",
    "            return final\n",
    "\n",
    "def load_wave_middleSchool(path):\n",
    "    try:\n",
    "        with open(path, 'r', encoding='utf-8') as file:  \n",
    "            data = json.load(file)\n",
    "            list_data = data['RawResults'][0]['rawDatas']\n",
    "            final = [i/100000 for i in list_data]\n",
    "        return final\n",
    "    except (KeyError, IndexError, TypeError):\n",
    "        with open(path, 'r', encoding='utf-8') as file:\n",
    "            data = json.load(file)\n",
    "        return data[\"datas\"]"
   ]
  },
  {
   "cell_type": "code",
   "execution_count": 14,
   "metadata": {},
   "outputs": [],
   "source": [
    "profile_dict = dict()\n",
    "for _, row in middle_school.iterrows():\n",
    "    userId = row['user_id']\n",
    "    gender = row['gender']\n",
    "    age = row['age']\n",
    "    profile_dict[userId] = (gender, age)\n",
    "\n",
    "for _, row in df_hospital.iterrows():\n",
    "    userId = row['床号']\n",
    "    gender = 'Male' if row['性别'] == '男' else 'Female'\n",
    "    age = row['年龄']\n",
    "    profile_dict[userId] = (gender, age)\n",
    "\n",
    "for _, row in df_university.iterrows():\n",
    "    userId = row['ID']\n",
    "    gender = 'Male' if row['Sex'] == '男' else 'Female'\n",
    "    age = row['Age (years)']\n",
    "    profile_dict[userId] = (gender, age)"
   ]
  },
  {
   "cell_type": "code",
   "execution_count": 15,
   "metadata": {},
   "outputs": [],
   "source": [
    "def generate_dataset(subject_collection, data_aug_times=1):\n",
    "    ignored_id = []\n",
    "    dataset = pd.DataFrame()\n",
    "    for subject in subject_collection:\n",
    "            subject_wave = []\n",
    "\n",
    "            # The university subjects.\n",
    "            if subject in (graduate_university_students):\n",
    "                files = os.listdir(university_file_dir)\n",
    "                for file in files:\n",
    "                    if file.startswith(subject) and file.endswith('.json'):\n",
    "                        file_path = os.path.join(university_file_dir, file)\n",
    "                        print(f\"university file path: {file_path}\")\n",
    "                        tmp_wave = load_wave_university_or_hospital(file_path)\n",
    "                        subject_wave += tmp_wave\n",
    "\n",
    "            if subject in (bachelors_university_students_name):\n",
    "                files = os.listdir(university_file_dir)\n",
    "                for file in files:\n",
    "                    if file.startswith(subject) and file.endswith('.json'):\n",
    "                        file_path = os.path.join(university_file_dir, file)\n",
    "                        print(f\"university file path: {file_path}\")\n",
    "                        tmp_wave = load_wave_bachelors_university(file_path)\n",
    "                        subject_wave += tmp_wave\n",
    "            \n",
    "            # The hospital subjects.\n",
    "            elif subject in hospital_patients_name:\n",
    "                files = os.listdir(hospital_file_dir)\n",
    "                for file in files:\n",
    "                    if file.startswith(subject) and file.endswith('.json'):\n",
    "                        file_path = os.path.join(hospital_file_dir, file)\n",
    "                        print(f\"hospital file path: {file_path}\")\n",
    "                        tmp_wave = load_wave_university_or_hospital(file_path)\n",
    "                        subject_wave += tmp_wave\n",
    "            \n",
    "            # The middle school subjects.\n",
    "            elif subject in (middle_school_students_name):\n",
    "                files = os.listdir(middle_file_dir)\n",
    "                for file in files:\n",
    "                    if file.startswith(subject) and file.endswith('.json'):\n",
    "                        file_path = os.path.join(middle_file_dir, file)\n",
    "                        print(f\"middle file path: {file_path}\")\n",
    "                        tmp_wave = load_wave_middleSchool(file_path)\n",
    "                        subject_wave += tmp_wave\n",
    "\n",
    "            if len(subject_wave) < (sample_freq * sample_window_minute * 60):\n",
    "                ignored_id.append({'id': id, 'Time Length of data in minute ': f\"{len(subject_wave)/(125 * 60):.02f}\"})\n",
    "                continue\n",
    "            else:\n",
    "                subject_dataset = generate_train_feature(subject, subject_wave, profile_dict[subject][0], profile_dict[subject][1], sample_freq, sample_window_minute, data_aug_times)\n",
    "                dataset = pd.concat([dataset, subject_dataset], ignore_index=True)\n",
    "    return dataset\n",
    "\n",
    "\n",
    "\n"
   ]
  },
  {
   "cell_type": "code",
   "execution_count": 16,
   "metadata": {},
   "outputs": [],
   "source": [
    "middle_school_dataset = generate_dataset(middle_school_students_name)"
   ]
  },
  {
   "cell_type": "code",
   "execution_count": 17,
   "metadata": {},
   "outputs": [
    {
     "name": "stdout",
     "output_type": "stream",
     "text": [
      "university file path: C:\\Users\\Administrator\\Desktop\\PPG_dataset\\PPG_Dataset_ALL\\healthy\\A01_PPG.json\n",
      "university file path: C:\\Users\\Administrator\\Desktop\\PPG_dataset\\PPG_Dataset_ALL\\healthy\\A02_PPG.json\n",
      "university file path: C:\\Users\\Administrator\\Desktop\\PPG_dataset\\PPG_Dataset_ALL\\healthy\\A03_PPG.json\n",
      "university file path: C:\\Users\\Administrator\\Desktop\\PPG_dataset\\PPG_Dataset_ALL\\healthy\\A05_PPG_01.json\n",
      "university file path: C:\\Users\\Administrator\\Desktop\\PPG_dataset\\PPG_Dataset_ALL\\healthy\\A05_PPG_02.json\n",
      "university file path: C:\\Users\\Administrator\\Desktop\\PPG_dataset\\PPG_Dataset_ALL\\healthy\\A06_PPG.json\n",
      "university file path: C:\\Users\\Administrator\\Desktop\\PPG_dataset\\PPG_Dataset_ALL\\healthy\\A08_PPG.json\n",
      "university file path: C:\\Users\\Administrator\\Desktop\\PPG_dataset\\PPG_Dataset_ALL\\healthy\\A10_PPG.json\n",
      "university file path: C:\\Users\\Administrator\\Desktop\\PPG_dataset\\PPG_Dataset_ALL\\healthy\\A12_PPG.json\n",
      "university file path: C:\\Users\\Administrator\\Desktop\\PPG_dataset\\PPG_Dataset_ALL\\healthy\\A13_PPG.json\n",
      "university file path: C:\\Users\\Administrator\\Desktop\\PPG_dataset\\PPG_Dataset_ALL\\healthy\\A14_PPG.json\n",
      "university file path: C:\\Users\\Administrator\\Desktop\\PPG_dataset\\PPG_Dataset_ALL\\healthy\\A16_PPG.json\n",
      "university file path: C:\\Users\\Administrator\\Desktop\\PPG_dataset\\PPG_Dataset_ALL\\healthy\\A17_PPG.json\n",
      "university file path: C:\\Users\\Administrator\\Desktop\\PPG_dataset\\PPG_Dataset_ALL\\healthy\\A18_PPG.json\n",
      "university file path: C:\\Users\\Administrator\\Desktop\\PPG_dataset\\PPG_Dataset_ALL\\healthy\\A19_PPG_01.json\n",
      "university file path: C:\\Users\\Administrator\\Desktop\\PPG_dataset\\PPG_Dataset_ALL\\healthy\\A19_PPG_02.json\n",
      "university file path: C:\\Users\\Administrator\\Desktop\\PPG_dataset\\PPG_Dataset_ALL\\healthy\\A20_PPG_01.json\n",
      "university file path: C:\\Users\\Administrator\\Desktop\\PPG_dataset\\PPG_Dataset_ALL\\healthy\\A20_PPG_02.json\n",
      "university file path: C:\\Users\\Administrator\\Desktop\\PPG_dataset\\PPG_Dataset_ALL\\healthy\\A22_PPG_01.json\n",
      "university file path: C:\\Users\\Administrator\\Desktop\\PPG_dataset\\PPG_Dataset_ALL\\healthy\\A22_PPG_02.json\n",
      "university file path: C:\\Users\\Administrator\\Desktop\\PPG_dataset\\PPG_Dataset_ALL\\healthy\\A23_PPG_ 20240612_160148.json\n",
      "university file path: C:\\Users\\Administrator\\Desktop\\PPG_dataset\\PPG_Dataset_ALL\\healthy\\A23_PPG_ 20240612_161249.json\n",
      "university file path: C:\\Users\\Administrator\\Desktop\\PPG_dataset\\PPG_Dataset_ALL\\healthy\\A24_PPG_ 20240612_162602.json\n",
      "university file path: C:\\Users\\Administrator\\Desktop\\PPG_dataset\\PPG_Dataset_ALL\\healthy\\A26_PPG_ 20240612_173611.json\n",
      "university file path: C:\\Users\\Administrator\\Desktop\\PPG_dataset\\PPG_Dataset_ALL\\healthy\\A28_PPG_ 20240612_180346.json\n",
      "university file path: C:\\Users\\Administrator\\Desktop\\PPG_dataset\\PPG_Dataset_ALL\\healthy\\A30_PPG.json\n",
      "university file path: C:\\Users\\Administrator\\Desktop\\PPG_dataset\\PPG_Dataset_ALL\\healthy\\A34_PPG_ 20240711_145932.json\n",
      "university file path: C:\\Users\\Administrator\\Desktop\\PPG_dataset\\PPG_Dataset_ALL\\healthy\\A34_PPG_ 20240711_145956.json\n",
      "university file path: C:\\Users\\Administrator\\Desktop\\PPG_dataset\\PPG_Dataset_ALL\\healthy\\A35_PPG_ 20240711_155406.json\n",
      "university file path: C:\\Users\\Administrator\\Desktop\\PPG_dataset\\PPG_Dataset_ALL\\healthy\\A36_PPG_ 20240711_182244.json\n",
      "university file path: C:\\Users\\Administrator\\Desktop\\PPG_dataset\\PPG_Dataset_ALL\\healthy\\A36_PPG_ 20240711_182309.json\n",
      "university file path: C:\\Users\\Administrator\\Desktop\\PPG_dataset\\PPG_Dataset_ALL\\healthy\\A37_PPG_ 20240711_191822.json\n",
      "university file path: C:\\Users\\Administrator\\Desktop\\PPG_dataset\\PPG_Dataset_ALL\\healthy\\A37_PPG_ 20240711_191910.json\n",
      "university file path: C:\\Users\\Administrator\\Desktop\\PPG_dataset\\PPG_Dataset_ALL\\healthy\\A38_PPG_ 20240712_110252.json\n",
      "university file path: C:\\Users\\Administrator\\Desktop\\PPG_dataset\\PPG_Dataset_ALL\\healthy\\A38_PPG_ 20240712_110310.json\n",
      "university file path: C:\\Users\\Administrator\\Desktop\\PPG_dataset\\PPG_Dataset_ALL\\healthy\\A41_PPG_ 20240712_153709.json\n",
      "university file path: C:\\Users\\Administrator\\Desktop\\PPG_dataset\\PPG_Dataset_ALL\\healthy\\A41_PPG_ 20240712_153732.json\n",
      "university file path: C:\\Users\\Administrator\\Desktop\\PPG_dataset\\PPG_Dataset_ALL\\healthy\\A42_PPG_ 20240712_175926.json\n",
      "university file path: C:\\Users\\Administrator\\Desktop\\PPG_dataset\\PPG_Dataset_ALL\\healthy\\A42_PPG_ 20240712_180004.json\n",
      "university file path: C:\\Users\\Administrator\\Desktop\\PPG_dataset\\PPG_Dataset_ALL\\healthy\\A43_PPG_ 20240712_190026.json\n",
      "university file path: C:\\Users\\Administrator\\Desktop\\PPG_dataset\\PPG_Dataset_ALL\\healthy\\A43_PPG_ 20240712_190044.json\n",
      "university file path: C:\\Users\\Administrator\\Desktop\\PPG_dataset\\PPG_Dataset_ALL\\healthy\\A44_PPG_ 20240718_103711.json\n",
      "university file path: C:\\Users\\Administrator\\Desktop\\PPG_dataset\\PPG_Dataset_ALL\\healthy\\A44_PPG_ 20240718_103724.json\n",
      "university file path: C:\\Users\\Administrator\\Desktop\\PPG_dataset\\PPG_Dataset_ALL\\healthy\\A45_PPG_ 20240718_110622.json\n",
      "university file path: C:\\Users\\Administrator\\Desktop\\PPG_dataset\\PPG_Dataset_ALL\\healthy\\A45_PPG_ 20240718_110646.json\n",
      "university file path: C:\\Users\\Administrator\\Desktop\\PPG_dataset\\PPG_Dataset_ALL\\healthy\\A46_PPG_ 20240718_112234.json\n",
      "university file path: C:\\Users\\Administrator\\Desktop\\PPG_dataset\\PPG_Dataset_ALL\\healthy\\A46_PPG_ 20240718_112247.json\n",
      "university file path: C:\\Users\\Administrator\\Desktop\\PPG_dataset\\PPG_Dataset_ALL\\healthy\\A47_PPG_ 20240718_140218.json\n",
      "university file path: C:\\Users\\Administrator\\Desktop\\PPG_dataset\\PPG_Dataset_ALL\\healthy\\A49_PPG_ 20240718_144327.json\n",
      "university file path: C:\\Users\\Administrator\\Desktop\\PPG_dataset\\PPG_Dataset_ALL\\healthy\\A49_PPG_ 20240718_144344.json\n",
      "university file path: C:\\Users\\Administrator\\Desktop\\PPG_dataset\\PPG_Dataset_ALL\\healthy\\A50_PPG_ 20240718_163534.json\n",
      "university file path: C:\\Users\\Administrator\\Desktop\\PPG_dataset\\PPG_Dataset_ALL\\healthy\\A50_PPG_ 20240718_163552.json\n",
      "university file path: C:\\Users\\Administrator\\Desktop\\PPG_dataset\\PPG_Dataset_ALL\\healthy\\A51_PPG_ 20240718_171233.json\n",
      "university file path: C:\\Users\\Administrator\\Desktop\\PPG_dataset\\PPG_Dataset_ALL\\healthy\\A51_PPG_ 20240718_171248.json\n",
      "university file path: C:\\Users\\Administrator\\Desktop\\PPG_dataset\\PPG_Dataset_ALL\\healthy\\A53_PPG_ 20240718_181047.json\n",
      "university file path: C:\\Users\\Administrator\\Desktop\\PPG_dataset\\PPG_Dataset_ALL\\healthy\\A54_PPG_ 20240718_183101.json\n",
      "university file path: C:\\Users\\Administrator\\Desktop\\PPG_dataset\\PPG_Dataset_ALL\\healthy\\A54_PPG_ 20240718_183128.json\n",
      "university file path: C:\\Users\\Administrator\\Desktop\\PPG_dataset\\PPG_Dataset_ALL\\healthy\\A55_PPG_ 20240718_190856.json\n",
      "university file path: C:\\Users\\Administrator\\Desktop\\PPG_dataset\\PPG_Dataset_ALL\\healthy\\A55_PPG_ 20240718_190916.json\n"
     ]
    }
   ],
   "source": [
    "university_dataset = generate_dataset(university_students_name)\n",
    "university_dataset.to_excel('./samples/university_dataset.xlsx', index= False)\n"
   ]
  },
  {
   "cell_type": "code",
   "execution_count": 18,
   "metadata": {},
   "outputs": [],
   "source": [
    "hospital_dataset = generate_dataset(hospital_patients_name)"
   ]
  },
  {
   "cell_type": "code",
   "execution_count": null,
   "metadata": {},
   "outputs": [],
   "source": [
    "middle_school_dataset.to_excel('./samples/middle_school_dataset.xlsx', index = False)\n",
    "\n",
    "hospital_dataset.to_excel('./samples/hospital_dataset.xlsx', index = False)"
   ]
  }
 ],
 "metadata": {
  "kernelspec": {
   "display_name": "Python 3",
   "language": "python",
   "name": "python3"
  },
  "language_info": {
   "codemirror_mode": {
    "name": "ipython",
    "version": 3
   },
   "file_extension": ".py",
   "mimetype": "text/x-python",
   "name": "python",
   "nbconvert_exporter": "python",
   "pygments_lexer": "ipython3",
   "version": "3.12.2"
  }
 },
 "nbformat": 4,
 "nbformat_minor": 2
}
