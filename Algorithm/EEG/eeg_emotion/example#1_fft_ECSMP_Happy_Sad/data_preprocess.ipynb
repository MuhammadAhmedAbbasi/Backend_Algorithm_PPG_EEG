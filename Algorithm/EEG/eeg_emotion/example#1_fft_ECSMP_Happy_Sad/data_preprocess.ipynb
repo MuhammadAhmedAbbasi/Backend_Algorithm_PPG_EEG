{
 "cells": [
  {
   "cell_type": "code",
   "execution_count": 1,
   "metadata": {},
   "outputs": [],
   "source": [
    "\n",
    "import matplotlib.pyplot as plt\n",
    "import numpy as np\n",
    "import pandas as pd\n",
    "import random\n",
    "\n",
    "from scipy.signal import butter, filtfilt\n",
    "from scipy.io import loadmat\n",
    "from os.path import exists"
   ]
  },
  {
   "cell_type": "markdown",
   "metadata": {},
   "source": [
    "# Initialization"
   ]
  },
  {
   "cell_type": "code",
   "execution_count": 2,
   "metadata": {},
   "outputs": [
    {
     "name": "stdout",
     "output_type": "stream",
     "text": [
      "59 26\n"
     ]
    }
   ],
   "source": [
    "## Fixed Initialization:\n",
    "train_percentage=0.7 \n",
    "participants = 89\n",
    "excluded_numbers = [8, 35, 39, 81]\n",
    "label_file_path='./details/labels.csv'\n",
    "subjects = [idx for idx in range(1, participants+1) if idx not in excluded_numbers]\n",
    "subjects_train = subjects[:int(len(subjects)*train_percentage)]\n",
    "subjects_test = subjects[int(len(subjects)*train_percentage):]\n",
    "window_time = 2\n",
    "label_name='Happy( active+vigorous+ful_of_energy)'\n",
    "label_range=2\n",
    "print(len(subjects_train),len(subjects_test))"
   ]
  },
  {
   "cell_type": "code",
   "execution_count": 3,
   "metadata": {},
   "outputs": [
    {
     "name": "stdout",
     "output_type": "stream",
     "text": [
      "4 55\n"
     ]
    }
   ],
   "source": [
    "num_label0 = 0\n",
    "num_label1 = 0\n",
    "for i in subjects_train:\n",
    "    df = pd.read_csv(label_file_path)\n",
    "    tension_value = df.loc[df['ID'] == i, label_name].values[0]\n",
    "    if tension_value<=label_range:\n",
    "        label = 1\n",
    "        num_label0 += 1\n",
    "    else:\n",
    "        label = 0\n",
    "        num_label1 += 1\n",
    "\n",
    "print(num_label0, num_label1)"
   ]
  },
  {
   "cell_type": "code",
   "execution_count": 4,
   "metadata": {},
   "outputs": [],
   "source": [
    "## Variable Initialization\n",
    "zero_label_augmentation_train=13\n",
    "one_label_augmentation_train=1\n",
    "\n",
    "\n",
    "zero_label_augmentation=3\n",
    "one_label_augmentation=1\n",
    "with open('./details/feature.csv', 'w') as f:\n",
    "    pass\n"
   ]
  },
  {
   "cell_type": "code",
   "execution_count": 6,
   "metadata": {},
   "outputs": [
    {
     "data": {
      "image/png": "[encoded data removed]",
      "text/plain": [
       "<Figure size 640x480 with 1 Axes>"
      ]
     },
     "metadata": {},
     "output_type": "display_data"
    }
   ],
   "source": [
    "import seaborn as sns\n",
    "import matplotlib.pyplot as plt\n",
    "df = pd.read_csv(label_file_path)\n",
    "# Assuming df['Anger (2, 9, 16, 22, 29, 36, and 37)'] is a pandas Series containing your data.\n",
    "sns.histplot(data=df, x=label_name, kde=True)\n",
    "plt.title('Distribution of Anger')\n",
    "plt.xlabel('Anger Scores')\n",
    "plt.ylabel('Frequency')\n",
    "plt.show()\n"
   ]
  },
  {
   "cell_type": "markdown",
   "metadata": {},
   "source": [
    "# Main Functions\n"
   ]
  },
  {
   "cell_type": "code",
   "execution_count": 7,
   "metadata": {},
   "outputs": [],
   "source": [
    "def load_data(subject):\n",
    "    if exists('./eeg_data/{}.mat'.format(subject)):\n",
    "        file = './eeg_data/{}.mat'.format(subject)\n",
    "        mat_data = loadmat(file)\n",
    "        eeg_data = (mat_data['EEG']['data'][0, 0])*1e-6\n",
    "        channel_names = [ch[0] for ch in mat_data['EEG']['chanlocs'][0, 0]['labels'][0]]\n",
    "        sampling_freq = mat_data['EEG']['srate'][0, 0][0, 0]\n",
    "        return eeg_data, channel_names, sampling_freq"
   ]
  },
  {
   "cell_type": "code",
   "execution_count": 8,
   "metadata": {},
   "outputs": [],
   "source": [
    "def initialize_label(i,label_file_path,label_range=3,label_name=label_name):\n",
    "    df = pd.read_csv(label_file_path)\n",
    "    tension_value = df.loc[df['ID'] == i, label_name].values[0]\n",
    "    if tension_value<=label_range:\n",
    "        label = 1\n",
    "        return label\n",
    "    else:\n",
    "        label = 0\n",
    "        return label\n"
   ]
  },
  {
   "cell_type": "code",
   "execution_count": 9,
   "metadata": {},
   "outputs": [],
   "source": [
    "def bandpass_filter(data, lowcut, highcut, fs, order=5):\n",
    "    nyq = 0.5 * fs\n",
    "    low = lowcut / nyq\n",
    "    high = highcut / nyq\n",
    "    b, a = butter(order, [low, high], btype='band')\n",
    "    filtered_data = filtfilt(b, a, data)\n",
    "    return filtered_data"
   ]
  },
  {
   "cell_type": "code",
   "execution_count": 10,
   "metadata": {},
   "outputs": [],
   "source": [
    "def filtering_and_concatenating(eeg_data,channel_names,lowcut=0.5,highcut=45.0,fs=250):\n",
    "    eeg_data_fp1 = eeg_data[channel_names.index('FP1'), : ]\n",
    "    eeg_data_fp2 = eeg_data[channel_names.index('FP2'), : ]\n",
    "    eeg_data_fp1 = eeg_data_fp1.reshape(1, -1)\n",
    "    eeg_data_fp2 = eeg_data_fp2.reshape(1, -1)\n",
    "    filtered_fp1 = bandpass_filter(eeg_data_fp1, lowcut, highcut, fs)\n",
    "    filtered_fp2 = bandpass_filter(eeg_data_fp2, lowcut, highcut, fs)\n",
    "    eeg_data = np.concatenate((filtered_fp1, filtered_fp2), axis=0)\n",
    "    return eeg_data"
   ]
  },
  {
   "cell_type": "code",
   "execution_count": 11,
   "metadata": {},
   "outputs": [],
   "source": [
    "def remove_baseline_drift(eeg_signal, poly_order=6):\n",
    "    time=np.arange(len(eeg_signal))\n",
    "    coeffs = np.polyfit(time, eeg_signal, poly_order)\n",
    "    baseline = np.polyval(coeffs, time)\n",
    "    corrected_eeg_signal = eeg_signal - baseline\n",
    "    return corrected_eeg_signal"
   ]
  },
  {
   "cell_type": "code",
   "execution_count": 12,
   "metadata": {},
   "outputs": [],
   "source": [
    "def fft_features(select_data, label,zero_label_augmentation=1,one_label_augmentation=1,window_time=2,training=True):\n",
    "\n",
    "    if training==True:\n",
    "        file='./details/train_feature.csv'\n",
    "    else:\n",
    "        file='./details/test_feature.csv'\n",
    "    if label == 0:\n",
    "        augment = zero_label_augmentation\n",
    "    elif label == 1:\n",
    "        augment = one_label_augmentation\n",
    "    segment_length = window_time * 250 \n",
    "    step = segment_length // augment \n",
    "    segments = []\n",
    "    for start_idx in np.arange(0, select_data.shape[1] - segment_length + 1, step):\n",
    "\n",
    "        segment = select_data[:, start_idx:start_idx + segment_length]\n",
    "        segments.append(segment)\n",
    "    for seg in segments:\n",
    "        seg_fft = []\n",
    "        for i in range(seg.shape[0]):\n",
    "            seg[i, :] = remove_baseline_drift(seg[i, :])\n",
    "            fft = np.abs(np.fft.fft(seg[i, :]))[0:70]\n",
    "            fft = fft / np.sum(fft)\n",
    "            with open(file, 'a') as f:\n",
    "                for i in range(len(fft)):\n",
    "                    f.write(str(fft[i]) + ',')\n",
    "            seg_fft.append(fft)\n",
    "        with open(file, 'a') as f:\n",
    "            f.write(str(label) + '\\n')\n",
    "        \n",
    "    return None"
   ]
  },
  {
   "cell_type": "code",
   "execution_count": 13,
   "metadata": {},
   "outputs": [],
   "source": [
    "def preprocessing(subjects,label_file_path,label_range=3,zero_label_augmentation=1,one_label_augmentation=1,window_time=2,training=True):\n",
    "    for i in subjects:\n",
    "        label=initialize_label(i,label_file_path,label_range)\n",
    "        eeg_data, channel_names, _ = load_data(i)\n",
    "        eeg_data=filtering_and_concatenating(eeg_data, channel_names)\n",
    "        fft_features(eeg_data, label,zero_label_augmentation=zero_label_augmentation,one_label_augmentation=one_label_augmentation,window_time=window_time,training=training)\n",
    "    return None"
   ]
  },
  {
   "cell_type": "markdown",
   "metadata": {},
   "source": [
    "# Training and Testing Data"
   ]
  },
  {
   "cell_type": "code",
   "execution_count": null,
   "metadata": {},
   "outputs": [],
   "source": [
    "preprocessing(subjects_train,label_file_path,label_range=label_range,zero_label_augmentation=zero_label_augmentation_train,one_label_augmentation=one_label_augmentation_train,window_time=window_time,training=True)\n",
    "preprocessing(subjects_test,label_file_path,label_range=label_range,zero_label_augmentation=zero_label_augmentation,one_label_augmentation=one_label_augmentation,window_time=window_time,training=False)"
   ]
  },
  {
   "cell_type": "code",
   "execution_count": null,
   "metadata": {},
   "outputs": [],
   "source": [
    "df=pd.read_csv('./details/train_feature.csv')"
   ]
  },
  {
   "cell_type": "code",
   "execution_count": null,
   "metadata": {},
   "outputs": [
    {
     "data": {
      "text/plain": [
       "1\n",
       "1    125855\n",
       "0    112726\n",
       "Name: count, dtype: int64"
      ]
     },
     "execution_count": 16,
     "metadata": {},
     "output_type": "execute_result"
    }
   ],
   "source": [
    "df['1'].value_counts()"
   ]
  },
  {
   "cell_type": "code",
   "execution_count": null,
   "metadata": {},
   "outputs": [],
   "source": [
    "df1=pd.read_csv('./details/test_feature.csv')"
   ]
  },
  {
   "cell_type": "code",
   "execution_count": null,
   "metadata": {},
   "outputs": [
    {
     "data": {
      "text/plain": [
       "1\n",
       "1    48748\n",
       "0    37139\n",
       "Name: count, dtype: int64"
      ]
     },
     "execution_count": 18,
     "metadata": {},
     "output_type": "execute_result"
    }
   ],
   "source": [
    "df1['1'].value_counts()"
   ]
  },
  {
   "cell_type": "code",
   "execution_count": null,
   "metadata": {},
   "outputs": [],
   "source": []
  }
 ],
 "metadata": {
  "kernelspec": {
   "display_name": "py1",
   "language": "python",
   "name": "python3"
  },
  "language_info": {
   "codemirror_mode": {
    "name": "ipython",
    "version": 3
   },
   "file_extension": ".py",
   "mimetype": "text/x-python",
   "name": "python",
   "nbconvert_exporter": "python",
   "pygments_lexer": "ipython3",
   "version": "3.12.2"
  }
 },
 "nbformat": 4,
 "nbformat_minor": 2
}
