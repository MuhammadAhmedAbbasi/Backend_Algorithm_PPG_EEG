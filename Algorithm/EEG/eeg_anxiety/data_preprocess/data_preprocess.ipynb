{
 "cells": [
  {
   "cell_type": "code",
   "execution_count": 2,
   "metadata": {},
   "outputs": [],
   "source": [
    "import json\n",
    "import numpy as np\n",
    "import os\n",
    "import pandas as pd\n",
    "import pickle\n",
    "import random\n",
    "import sys\n",
    "\n",
    "directory = os.path.join(os.getcwd(), '../../../../Service\\service\\eeg')\n",
    "# print(os.path.abspath(directory))\n",
    "\n",
    "sys.path.append(directory)\n",
    "from eeg_data_check import Filter, FFTDataCheck"
   ]
  },
  {
   "cell_type": "markdown",
   "metadata": {},
   "source": [
    "#### 读取学生数据，排除掉 中/重度焦虑的学生"
   ]
  },
  {
   "cell_type": "code",
   "execution_count": 3,
   "metadata": {},
   "outputs": [
    {
     "name": "stdout",
     "output_type": "stream",
     "text": [
      "valid columns:  ['1.身体麻木或刺痛' '2.感到发热' '3.腿部颤抖' '4.不能放松' '5.害怕要发生不好的事情' '6.感到头晕或眩晕'\n",
      " '7.心悸或心率加快' '8.心神不宁' '9.感到惊吓' '10.紧张' '11.有窒息感' '12.手发抖' '13.摇晃'\n",
      " '14.害怕失控' '15.呼吸困难' '16.害怕快要死去' '17.感到恐慌' '18.消化不良或腹部不适' '19.昏厥' '20.脸发红'\n",
      " '21.出汗（不是因为天气热）']\n",
      "BAI invalid subjects:  ['A32', 'A41', 'A42', 'A48']\n",
      "BAI valid subjects:  ['A33', 'A34', 'A35', 'A36', 'A37', 'A38', 'A39', 'A40', 'A43', 'A44', 'A45', 'A46', 'A47', 'A49', 'A50', 'A51', 'A52', 'A53', 'A54', 'A55']\n"
     ]
    }
   ],
   "source": [
    "# 读取 Excel 文件\n",
    "file_path = '../../../Data/healthy_scale_results.xlsx'  # 将此替换为您的 Excel 文件路径\n",
    "df = pd.read_excel(file_path, sheet_name='BAI')\n",
    "\n",
    "valid_cols = df.columns.values[5::]\n",
    "print(\"valid columns: \", valid_cols)\n",
    "\n",
    "df['score'] = df[valid_cols].sum(axis=1)\n",
    "# print(df[['ID', 'score']])\n",
    "\n",
    "invalid_negative_subjects_BAI = df[df['score'] >= 16]['ID'].tolist()\n",
    "print(\"BAI invalid subjects: \", invalid_negative_subjects_BAI)\n",
    "\n",
    "valid_negative_subjects_BAI = df[df['score'] < 16]['ID'].tolist()\n",
    "print(\"BAI valid subjects: \", valid_negative_subjects_BAI)"
   ]
  },
  {
   "cell_type": "code",
   "execution_count": 3,
   "metadata": {},
   "outputs": [
    {
     "name": "stdout",
     "output_type": "stream",
     "text": [
      "sample length: 225\n"
     ]
    }
   ],
   "source": [
    "sample_seconds = 0.9*1  # Each sample window seconds\n",
    "sample_freq = 250 # 250hz \n",
    "\n",
    "sample_length = int(sample_freq * sample_seconds)\n",
    "\n",
    "\n",
    "print(f\"sample length: {sample_length}\")"
   ]
  },
  {
   "cell_type": "code",
   "execution_count": 4,
   "metadata": {},
   "outputs": [],
   "source": [
    "# positive_subject_dir = './unhealthy'\n",
    "# negative_subject_dir = './healthy'\n",
    "\n",
    "positive_subject_dir = r\"C:\\Users\\Administrator\\Desktop\\树兰医院&浙大_数据采集\\EEG_Dataset_ALL\\unhealthy\"\n",
    "negative_subject_dir = r\"C:\\Users\\Administrator\\Desktop\\树兰医院&浙大_数据采集\\EEG_Dataset_ALL\\healthy\""
   ]
  },
  {
   "cell_type": "code",
   "execution_count": 5,
   "metadata": {},
   "outputs": [],
   "source": [
    "# invalid_negative_ones = ['A03','A28','A17','A15','A12','A16','A10']\n",
    "invalid_negative_ones = ['A32', 'A41', 'A42'] + invalid_negative_subjects_BAI"
   ]
  },
  {
   "cell_type": "code",
   "execution_count": 6,
   "metadata": {},
   "outputs": [
    {
     "name": "stdout",
     "output_type": "stream",
     "text": [
      "['A01', 'A02', 'A03', 'A04', 'A05', 'A06', 'A07', 'A08', 'A09', 'A10', 'A11', 'A12', 'A13', 'A14', 'A15', 'A16', 'A17', 'A18', 'A19', 'A20', 'A21', 'A22', 'A23', 'A24', 'A25', 'A26', 'A27', 'A28', 'A29', 'A30', 'A31', 'A33', 'A34', 'A35', 'A36', 'A37', 'A38', 'A39', 'A40', 'A43', 'A44', 'A45', 'A46', 'A47', 'A49', 'A50', 'A51', 'A52', 'A53', 'A54', 'A55']\n"
     ]
    }
   ],
   "source": [
    "\n",
    "def get_negative_subjects(directory):\n",
    "    try:\n",
    "        # 获取文件夹下所有文件和文件夹的名字\n",
    "        all_files = os.listdir(directory)\n",
    "        # 过滤出以 'eeg' 开头的文件\n",
    "        eeg_files = [file for file in all_files if file.endswith('.json')]\n",
    "        \n",
    "        valid_subjects = []\n",
    "        seen = set()\n",
    "        for file in eeg_files:\n",
    "            subject = file.split('_')[0]\n",
    "            if subject not in seen and subject not in invalid_negative_ones:\n",
    "                valid_subjects.append(subject)\n",
    "            seen.add(subject)\n",
    "        return valid_subjects\n",
    "    except Exception as e:\n",
    "        print(f\"An error occurred: {e}\")\n",
    "        return []\n",
    "\n",
    "# 使用示例\n",
    "negative_subjects = get_negative_subjects(negative_subject_dir)\n",
    "print(negative_subjects)"
   ]
  },
  {
   "cell_type": "code",
   "execution_count": 7,
   "metadata": {},
   "outputs": [
    {
     "name": "stdout",
     "output_type": "stream",
     "text": [
      "negative subject count:  51\n"
     ]
    }
   ],
   "source": [
    "print(\"negative subject count: \", len(negative_subjects))"
   ]
  },
  {
   "cell_type": "code",
   "execution_count": 6,
   "metadata": {},
   "outputs": [],
   "source": [
    "invalid_postive_subjects = ['2A27', '2A33']"
   ]
  },
  {
   "cell_type": "code",
   "execution_count": 4,
   "metadata": {},
   "outputs": [],
   "source": [
    "label_filepath = r'../../../Data/unhealthy_label.txt'"
   ]
  },
  {
   "cell_type": "code",
   "execution_count": 9,
   "metadata": {},
   "outputs": [],
   "source": [
    "def get_positive_subjects(lable_filepath):\n",
    "    userids = []\n",
    "    try:\n",
    "        with open(lable_filepath, 'r') as file:\n",
    "            for line in file:\n",
    "                parts = line.strip().split(',')\n",
    "                if len(parts) == 3 and parts[2] == '1' and parts[0] not in invalid_postive_subjects:\n",
    "                    userids.append(parts[0])\n",
    "    except Exception as e:\n",
    "        print(f\"An error occurred: {e}\")\n",
    "    \n",
    "    return userids\n",
    "\n",
    "positive_subjects = get_positive_subjects(label_filepath)"
   ]
  },
  {
   "cell_type": "code",
   "execution_count": 11,
   "metadata": {},
   "outputs": [
    {
     "name": "stdout",
     "output_type": "stream",
     "text": [
      "positive subjects count: 27 ['20240717_2A07', '20240619_2A03', '20240619_2A05', '20240710_2A38', '20240710_2A02', '20240703_2A09', '20240717_2A08', '20240619_2A08', '20240619_2A26', '20240703_2A50', '20240703_2A17', '20240619_2A33', '20240626_2A26', '20240710_2A06', '20240717_2A51', '20240710_2A13', '20240710_2A15', '20240626_2A51', '20240619_2A31', '20240717_2A21', '20240619_2A17', '20240717_2A37', '20240710_2A23', '20240717_2A03', '20240710_2A30', '20240619_2A06', '20240703_2A38']\n",
      "negative subjects count: 51 ['A05', 'A47', 'A55', 'A36', 'A02', 'A45', 'A34', 'A04', 'A15', 'A29', 'A16', 'A03', 'A26', 'A07', 'A37', 'A08', 'A31', 'A13', 'A53', 'A01', 'A54', 'A35', 'A33', 'A30', 'A11', 'A46', 'A17', 'A40', 'A38', 'A25', 'A52', 'A19', 'A24', 'A20', 'A14', 'A44', 'A23', 'A43', 'A18', 'A06', 'A09', 'A22', 'A12', 'A27', 'A39', 'A21', 'A50', 'A28', 'A49', 'A10', 'A51']\n"
     ]
    }
   ],
   "source": [
    "random.shuffle(positive_subjects)\n",
    "random.shuffle(negative_subjects)\n",
    "\n",
    "print(f\"positive subjects count: {len(positive_subjects)}\", positive_subjects)\n",
    "print(f\"negative subjects count: {len(negative_subjects)}\", negative_subjects)"
   ]
  },
  {
   "cell_type": "code",
   "execution_count": 12,
   "metadata": {},
   "outputs": [],
   "source": [
    "test_count = 8"
   ]
  },
  {
   "cell_type": "code",
   "execution_count": 13,
   "metadata": {},
   "outputs": [
    {
     "name": "stdout",
     "output_type": "stream",
     "text": [
      "train positive subjects:  ['20240717_2A07', '20240619_2A03', '20240703_2A09', '20240619_2A08', '20240619_2A26', '20240703_2A50', '20240703_2A17', '20240619_2A33', '20240626_2A26', '20240710_2A06', '20240717_2A51', '20240710_2A15', '20240619_2A31', '20240717_2A21', '20240619_2A17', '20240710_2A23', '20240717_2A03', '20240710_2A30', '20240703_2A38']\n",
      "test positive subjects:  ['20240619_2A05', '20240619_2A06', '20240626_2A51', '20240710_2A02', '20240710_2A13', '20240710_2A38', '20240717_2A08', '20240717_2A37']\n",
      "train negative subjects:  ['A05', 'A47', 'A55', 'A36', 'A02', 'A45', 'A34', 'A04', 'A15', 'A29', 'A26', 'A07', 'A37', 'A08', 'A31', 'A13', 'A53', 'A01', 'A54', 'A35', 'A33', 'A30', 'A11', 'A46', 'A40', 'A38', 'A25', 'A52', 'A19', 'A24', 'A14', 'A44', 'A43', 'A06', 'A09', 'A27', 'A39', 'A21', 'A50', 'A28', 'A49', 'A10', 'A51']\n",
      "test negative subjects:  ['A20', 'A23', 'A16', 'A03', 'A22', 'A17', 'A18', 'A12']\n"
     ]
    }
   ],
   "source": [
    "# train_positive_subjects = positive_subjects[0: len(positive_subjects)-test_count]\n",
    "# test_positive_subjects = positive_subjects[len(positive_subjects)-test_count::]\n",
    "\n",
    "test_positive_subjects = ['20240619_2A05', '20240619_2A06', '20240626_2A51', '20240710_2A02', '20240710_2A13', '20240710_2A38' , '20240717_2A08', '20240717_2A37']\n",
    "train_positive_subjects = [subject for subject in positive_subjects if subject not in test_positive_subjects]\n",
    "\n",
    "\n",
    "\n",
    "test_negative_subjects_collection = ['A01', 'A02', 'A03', 'A04', 'A05', 'A06', 'A07', 'A08', 'A09', 'A10', 'A11', 'A12', 'A13', 'A14', 'A15', 'A16', 'A17', 'A18', 'A19', 'A20', 'A21', 'A22', 'A23', 'A24', 'A25', 'A26', 'A27', 'A28', 'A29', 'A30']\n",
    "random.shuffle(test_negative_subjects_collection)\n",
    "\n",
    "test_negative_subjects = test_negative_subjects_collection[0:test_count]\n",
    "train_negative_subjects = [subject for subject in negative_subjects if subject not in test_negative_subjects]\n",
    "\n",
    "print(\"train positive subjects: \", train_positive_subjects)\n",
    "print(\"test positive subjects: \", test_positive_subjects)\n",
    "\n",
    "print(\"train negative subjects: \", train_negative_subjects)\n",
    "print(\"test negative subjects: \", test_negative_subjects)"
   ]
  },
  {
   "cell_type": "code",
   "execution_count": 14,
   "metadata": {},
   "outputs": [],
   "source": [
    "\n",
    "data_filter = FFTDataCheck()"
   ]
  },
  {
   "cell_type": "code",
   "execution_count": 15,
   "metadata": {},
   "outputs": [
    {
     "data": {
      "text/plain": [
       "43"
      ]
     },
     "execution_count": 15,
     "metadata": {},
     "output_type": "execute_result"
    }
   ],
   "source": [
    "len(train_negative_subjects)"
   ]
  },
  {
   "cell_type": "code",
   "execution_count": 16,
   "metadata": {},
   "outputs": [
    {
     "data": {
      "text/plain": [
       "['20240717_2A07',\n",
       " '20240619_2A03',\n",
       " '20240703_2A09',\n",
       " '20240619_2A08',\n",
       " '20240619_2A26',\n",
       " '20240703_2A50',\n",
       " '20240703_2A17',\n",
       " '20240619_2A33',\n",
       " '20240626_2A26',\n",
       " '20240710_2A06',\n",
       " '20240717_2A51',\n",
       " '20240710_2A15',\n",
       " '20240619_2A31',\n",
       " '20240717_2A21',\n",
       " '20240619_2A17',\n",
       " '20240710_2A23',\n",
       " '20240717_2A03',\n",
       " '20240710_2A30',\n",
       " '20240703_2A38']"
      ]
     },
     "execution_count": 16,
     "metadata": {},
     "output_type": "execute_result"
    }
   ],
   "source": [
    "train_positive_subjects"
   ]
  },
  {
   "cell_type": "code",
   "execution_count": 17,
   "metadata": {},
   "outputs": [
    {
     "name": "stdout",
     "output_type": "stream",
     "text": [
      "read file: C:\\Users\\Administrator\\Desktop\\树兰医院&浙大_数据采集\\EEG_Dataset_ALL\\healthy\\A05_EEG.json left_wave_all: 156600 sample length: 225 data aug: 2 step: 112, samples count: 1390\n",
      "read file: C:\\Users\\Administrator\\Desktop\\树兰医院&浙大_数据采集\\EEG_Dataset_ALL\\healthy\\A47_1.json left_wave_all: 126900 sample length: 225 data aug: 2 step: 112, samples count: 1122\n",
      "read file: C:\\Users\\Administrator\\Desktop\\树兰医院&浙大_数据采集\\EEG_Dataset_ALL\\healthy\\A47_2.json left_wave_all: 138600 sample length: 225 data aug: 2 step: 112, samples count: 1191\n",
      "read file: C:\\Users\\Administrator\\Desktop\\树兰医院&浙大_数据采集\\EEG_Dataset_ALL\\healthy\\A47_3.json left_wave_all: 143550 sample length: 225 data aug: 2 step: 112, samples count: 1273\n",
      "read file: C:\\Users\\Administrator\\Desktop\\树兰医院&浙大_数据采集\\EEG_Dataset_ALL\\healthy\\A55_2.json left_wave_all: 57600 sample length: 225 data aug: 2 step: 112, samples count: 494\n",
      "read file: C:\\Users\\Administrator\\Desktop\\树兰医院&浙大_数据采集\\EEG_Dataset_ALL\\healthy\\A55_2_02.json left_wave_all: 158850 sample length: 225 data aug: 2 step: 112, samples count: 1410\n",
      "read file: C:\\Users\\Administrator\\Desktop\\树兰医院&浙大_数据采集\\EEG_Dataset_ALL\\healthy\\A55_3.json left_wave_all: 91350 sample length: 225 data aug: 2 step: 112, samples count: 807\n",
      "read file: C:\\Users\\Administrator\\Desktop\\树兰医院&浙大_数据采集\\EEG_Dataset_ALL\\healthy\\A36_1.json left_wave_all: 377550 sample length: 225 data aug: 2 step: 112, samples count: 3353\n",
      "read file: C:\\Users\\Administrator\\Desktop\\树兰医院&浙大_数据采集\\EEG_Dataset_ALL\\healthy\\A36_2.json left_wave_all: 517950 sample length: 225 data aug: 2 step: 112, samples count: 4595\n",
      "read file: C:\\Users\\Administrator\\Desktop\\树兰医院&浙大_数据采集\\EEG_Dataset_ALL\\healthy\\A02_EEG.json left_wave_all: 142650 sample length: 225 data aug: 2 step: 112, samples count: 1260\n",
      "read file: C:\\Users\\Administrator\\Desktop\\树兰医院&浙大_数据采集\\EEG_Dataset_ALL\\healthy\\A02_EEG_scale.json left_wave_all: 204300 sample length: 225 data aug: 2 step: 112, samples count: 1814\n",
      "read file: C:\\Users\\Administrator\\Desktop\\树兰医院&浙大_数据采集\\EEG_Dataset_ALL\\healthy\\A45_1.json left_wave_all: 155250 sample length: 225 data aug: 2 step: 112, samples count: 1323\n",
      "read file: C:\\Users\\Administrator\\Desktop\\树兰医院&浙大_数据采集\\EEG_Dataset_ALL\\healthy\\A45_2.json left_wave_all: 88650 sample length: 225 data aug: 2 step: 112, samples count: 783\n",
      "read file: C:\\Users\\Administrator\\Desktop\\树兰医院&浙大_数据采集\\EEG_Dataset_ALL\\healthy\\A45_3.json left_wave_all: 91350 sample length: 225 data aug: 2 step: 112, samples count: 798\n",
      "read file: C:\\Users\\Administrator\\Desktop\\树兰医院&浙大_数据采集\\EEG_Dataset_ALL\\healthy\\A34_1_01.json left_wave_all: 48150 sample length: 225 data aug: 2 step: 112, samples count: 421\n",
      "read file: C:\\Users\\Administrator\\Desktop\\树兰医院&浙大_数据采集\\EEG_Dataset_ALL\\healthy\\A34_1_02.json left_wave_all: 154800 sample length: 225 data aug: 2 step: 112, samples count: 1367\n",
      "read file: C:\\Users\\Administrator\\Desktop\\树兰医院&浙大_数据采集\\EEG_Dataset_ALL\\healthy\\A34_2.json left_wave_all: 130950 sample length: 225 data aug: 2 step: 112, samples count: 1146\n",
      "read file: C:\\Users\\Administrator\\Desktop\\树兰医院&浙大_数据采集\\EEG_Dataset_ALL\\healthy\\A34_3.json left_wave_all: 337500 sample length: 225 data aug: 2 step: 112, samples count: 2971\n",
      "read file: C:\\Users\\Administrator\\Desktop\\树兰医院&浙大_数据采集\\EEG_Dataset_ALL\\healthy\\A34_4.json left_wave_all: 154800 sample length: 225 data aug: 2 step: 112, samples count: 1374\n",
      "read file: C:\\Users\\Administrator\\Desktop\\树兰医院&浙大_数据采集\\EEG_Dataset_ALL\\healthy\\A04_EEG.json left_wave_all: 142650 sample length: 225 data aug: 2 step: 112, samples count: 1262\n",
      "read file: C:\\Users\\Administrator\\Desktop\\树兰医院&浙大_数据采集\\EEG_Dataset_ALL\\healthy\\A15_EEG.json left_wave_all: 143100 sample length: 225 data aug: 2 step: 112, samples count: 1266\n",
      "read file: C:\\Users\\Administrator\\Desktop\\树兰医院&浙大_数据采集\\EEG_Dataset_ALL\\healthy\\A29_EEG.json left_wave_all: 162450 sample length: 225 data aug: 2 step: 112, samples count: 1442\n",
      "read file: C:\\Users\\Administrator\\Desktop\\树兰医院&浙大_数据采集\\EEG_Dataset_ALL\\healthy\\A26_EEG.json left_wave_all: 144000 sample length: 225 data aug: 2 step: 112, samples count: 1276\n",
      "read file: C:\\Users\\Administrator\\Desktop\\树兰医院&浙大_数据采集\\EEG_Dataset_ALL\\healthy\\A07_EEG.json left_wave_all: 144900 sample length: 225 data aug: 2 step: 112, samples count: 1283\n",
      "read file: C:\\Users\\Administrator\\Desktop\\树兰医院&浙大_数据采集\\EEG_Dataset_ALL\\healthy\\A37_1.json left_wave_all: 801450 sample length: 225 data aug: 2 step: 112, samples count: 7145\n",
      "read file: C:\\Users\\Administrator\\Desktop\\树兰医院&浙大_数据采集\\EEG_Dataset_ALL\\healthy\\A08_EEG.json left_wave_all: 145800 sample length: 225 data aug: 2 step: 112, samples count: 1270\n",
      "read file: C:\\Users\\Administrator\\Desktop\\树兰医院&浙大_数据采集\\EEG_Dataset_ALL\\healthy\\A31_EEG.json left_wave_all: 152100 sample length: 225 data aug: 2 step: 112, samples count: 1350\n",
      "read file: C:\\Users\\Administrator\\Desktop\\树兰医院&浙大_数据采集\\EEG_Dataset_ALL\\healthy\\A13_EEG.json left_wave_all: 114300 sample length: 225 data aug: 2 step: 112, samples count: 886\n",
      "read file: C:\\Users\\Administrator\\Desktop\\树兰医院&浙大_数据采集\\EEG_Dataset_ALL\\healthy\\A53_2.json left_wave_all: 154800 sample length: 225 data aug: 2 step: 112, samples count: 1372\n",
      "read file: C:\\Users\\Administrator\\Desktop\\树兰医院&浙大_数据采集\\EEG_Dataset_ALL\\healthy\\A53_3.json left_wave_all: 136800 sample length: 225 data aug: 2 step: 112, samples count: 1213\n",
      "read file: C:\\Users\\Administrator\\Desktop\\树兰医院&浙大_数据采集\\EEG_Dataset_ALL\\healthy\\A01_EEG.json left_wave_all: 142200 sample length: 225 data aug: 2 step: 112, samples count: 1261\n",
      "read file: C:\\Users\\Administrator\\Desktop\\树兰医院&浙大_数据采集\\EEG_Dataset_ALL\\healthy\\A01_EEG_scale.json left_wave_all: 128700 sample length: 225 data aug: 2 step: 112, samples count: 1141\n",
      "read file: C:\\Users\\Administrator\\Desktop\\树兰医院&浙大_数据采集\\EEG_Dataset_ALL\\healthy\\A54_1.json left_wave_all: 212400 sample length: 225 data aug: 2 step: 112, samples count: 1885\n",
      "read file: C:\\Users\\Administrator\\Desktop\\树兰医院&浙大_数据采集\\EEG_Dataset_ALL\\healthy\\A54_2.json left_wave_all: 153000 sample length: 225 data aug: 2 step: 112, samples count: 1358\n",
      "read file: C:\\Users\\Administrator\\Desktop\\树兰医院&浙大_数据采集\\EEG_Dataset_ALL\\healthy\\A54_2_02.json left_wave_all: 49050 sample length: 225 data aug: 2 step: 112, samples count: 427\n",
      "read file: C:\\Users\\Administrator\\Desktop\\树兰医院&浙大_数据采集\\EEG_Dataset_ALL\\healthy\\A54_3.json left_wave_all: 87750 sample length: 225 data aug: 2 step: 112, samples count: 772\n",
      "read file: C:\\Users\\Administrator\\Desktop\\树兰医院&浙大_数据采集\\EEG_Dataset_ALL\\healthy\\A54_3_02.json left_wave_all: 47250 sample length: 225 data aug: 2 step: 112, samples count: 413\n",
      "read file: C:\\Users\\Administrator\\Desktop\\树兰医院&浙大_数据采集\\EEG_Dataset_ALL\\healthy\\A35_1.json left_wave_all: 62550 sample length: 225 data aug: 2 step: 112, samples count: 535\n",
      "read file: C:\\Users\\Administrator\\Desktop\\树兰医院&浙大_数据采集\\EEG_Dataset_ALL\\healthy\\A35_2.json left_wave_all: 338400 sample length: 225 data aug: 2 step: 112, samples count: 2923\n",
      "read file: C:\\Users\\Administrator\\Desktop\\树兰医院&浙大_数据采集\\EEG_Dataset_ALL\\healthy\\A35_3.json left_wave_all: 245700 sample length: 225 data aug: 2 step: 112, samples count: 1900\n",
      "read file: C:\\Users\\Administrator\\Desktop\\树兰医院&浙大_数据采集\\EEG_Dataset_ALL\\healthy\\A35_4.json left_wave_all: 140850 sample length: 225 data aug: 2 step: 112, samples count: 1249\n",
      "read file: C:\\Users\\Administrator\\Desktop\\树兰医院&浙大_数据采集\\EEG_Dataset_ALL\\healthy\\A33_1.json left_wave_all: 172800 sample length: 225 data aug: 2 step: 112, samples count: 1526\n",
      "read file: C:\\Users\\Administrator\\Desktop\\树兰医院&浙大_数据采集\\EEG_Dataset_ALL\\healthy\\A33_2.json left_wave_all: 150750 sample length: 225 data aug: 2 step: 112, samples count: 1337\n",
      "read file: C:\\Users\\Administrator\\Desktop\\树兰医院&浙大_数据采集\\EEG_Dataset_ALL\\healthy\\A33_2_02.json left_wave_all: 120600 sample length: 225 data aug: 2 step: 112, samples count: 1065\n",
      "read file: C:\\Users\\Administrator\\Desktop\\树兰医院&浙大_数据采集\\EEG_Dataset_ALL\\healthy\\A33_3.json left_wave_all: 224100 sample length: 225 data aug: 2 step: 112, samples count: 1991\n",
      "read file: C:\\Users\\Administrator\\Desktop\\树兰医院&浙大_数据采集\\EEG_Dataset_ALL\\healthy\\A33_4_01.json left_wave_all: 139050 sample length: 225 data aug: 2 step: 112, samples count: 1233\n",
      "read file: C:\\Users\\Administrator\\Desktop\\树兰医院&浙大_数据采集\\EEG_Dataset_ALL\\healthy\\A30_EEG.json left_wave_all: 148950 sample length: 225 data aug: 2 step: 112, samples count: 1320\n",
      "read file: C:\\Users\\Administrator\\Desktop\\树兰医院&浙大_数据采集\\EEG_Dataset_ALL\\healthy\\A11_EEG.json left_wave_all: 112500 sample length: 225 data aug: 2 step: 112, samples count: 996\n",
      "read file: C:\\Users\\Administrator\\Desktop\\树兰医院&浙大_数据采集\\EEG_Dataset_ALL\\healthy\\A46_1.json left_wave_all: 148050 sample length: 225 data aug: 2 step: 112, samples count: 1313\n",
      "read file: C:\\Users\\Administrator\\Desktop\\树兰医院&浙大_数据采集\\EEG_Dataset_ALL\\healthy\\A46_2.json left_wave_all: 117000 sample length: 225 data aug: 2 step: 112, samples count: 1001\n",
      "read file: C:\\Users\\Administrator\\Desktop\\树兰医院&浙大_数据采集\\EEG_Dataset_ALL\\healthy\\A46_3.json left_wave_all: 176400 sample length: 225 data aug: 2 step: 112, samples count: 1452\n",
      "read file: C:\\Users\\Administrator\\Desktop\\树兰医院&浙大_数据采集\\EEG_Dataset_ALL\\healthy\\A40_1.json left_wave_all: 172800 sample length: 225 data aug: 2 step: 112, samples count: 1534\n",
      "read file: C:\\Users\\Administrator\\Desktop\\树兰医院&浙大_数据采集\\EEG_Dataset_ALL\\healthy\\A40_2_01.json left_wave_all: 104850 sample length: 225 data aug: 2 step: 112, samples count: 927\n",
      "read file: C:\\Users\\Administrator\\Desktop\\树兰医院&浙大_数据采集\\EEG_Dataset_ALL\\healthy\\A40_2_02.json left_wave_all: 175500 sample length: 225 data aug: 2 step: 112, samples count: 1558\n",
      "read file: C:\\Users\\Administrator\\Desktop\\树兰医院&浙大_数据采集\\EEG_Dataset_ALL\\healthy\\A40_3.json left_wave_all: 253800 sample length: 225 data aug: 2 step: 112, samples count: 2242\n",
      "read file: C:\\Users\\Administrator\\Desktop\\树兰医院&浙大_数据采集\\EEG_Dataset_ALL\\healthy\\A40_4.json left_wave_all: 158400 sample length: 225 data aug: 2 step: 112, samples count: 1406\n",
      "read file: C:\\Users\\Administrator\\Desktop\\树兰医院&浙大_数据采集\\EEG_Dataset_ALL\\healthy\\A38_1.json left_wave_all: 231750 sample length: 225 data aug: 2 step: 112, samples count: 1975\n",
      "read file: C:\\Users\\Administrator\\Desktop\\树兰医院&浙大_数据采集\\EEG_Dataset_ALL\\healthy\\A38_2.json left_wave_all: 147600 sample length: 225 data aug: 2 step: 112, samples count: 1306\n",
      "read file: C:\\Users\\Administrator\\Desktop\\树兰医院&浙大_数据采集\\EEG_Dataset_ALL\\healthy\\A38_3.json left_wave_all: 240300 sample length: 225 data aug: 2 step: 112, samples count: 2121\n",
      "read file: C:\\Users\\Administrator\\Desktop\\树兰医院&浙大_数据采集\\EEG_Dataset_ALL\\healthy\\A38_4.json left_wave_all: 229500 sample length: 225 data aug: 2 step: 112, samples count: 2011\n",
      "read file: C:\\Users\\Administrator\\Desktop\\树兰医院&浙大_数据采集\\EEG_Dataset_ALL\\healthy\\A25_EEG_01.json left_wave_all: 54000 sample length: 225 data aug: 2 step: 112, samples count: 474\n",
      "read file: C:\\Users\\Administrator\\Desktop\\树兰医院&浙大_数据采集\\EEG_Dataset_ALL\\healthy\\A25_EEG_02.json left_wave_all: 144450 sample length: 225 data aug: 2 step: 112, samples count: 1280\n",
      "read file: C:\\Users\\Administrator\\Desktop\\树兰医院&浙大_数据采集\\EEG_Dataset_ALL\\healthy\\A52_2.json left_wave_all: 153450 sample length: 225 data aug: 2 step: 112, samples count: 1350\n",
      "read file: C:\\Users\\Administrator\\Desktop\\树兰医院&浙大_数据采集\\EEG_Dataset_ALL\\healthy\\A52_3.json left_wave_all: 138600 sample length: 225 data aug: 2 step: 112, samples count: 1176\n",
      "read file: C:\\Users\\Administrator\\Desktop\\树兰医院&浙大_数据采集\\EEG_Dataset_ALL\\healthy\\A19_EEG.json left_wave_all: 144900 sample length: 225 data aug: 2 step: 112, samples count: 1284\n",
      "read file: C:\\Users\\Administrator\\Desktop\\树兰医院&浙大_数据采集\\EEG_Dataset_ALL\\healthy\\A24_EEG.json left_wave_all: 157050 sample length: 225 data aug: 2 step: 112, samples count: 1391\n",
      "read file: C:\\Users\\Administrator\\Desktop\\树兰医院&浙大_数据采集\\EEG_Dataset_ALL\\healthy\\A14_EEG.json left_wave_all: 136350 sample length: 225 data aug: 2 step: 112, samples count: 1100\n",
      "read file: C:\\Users\\Administrator\\Desktop\\树兰医院&浙大_数据采集\\EEG_Dataset_ALL\\healthy\\A44_1.json left_wave_all: 168750 sample length: 225 data aug: 2 step: 112, samples count: 1496\n",
      "read file: C:\\Users\\Administrator\\Desktop\\树兰医院&浙大_数据采集\\EEG_Dataset_ALL\\healthy\\A44_2.json left_wave_all: 141300 sample length: 225 data aug: 2 step: 112, samples count: 1253\n",
      "read file: C:\\Users\\Administrator\\Desktop\\树兰医院&浙大_数据采集\\EEG_Dataset_ALL\\healthy\\A44_3.json left_wave_all: 142650 sample length: 225 data aug: 2 step: 112, samples count: 1263\n",
      "read file: C:\\Users\\Administrator\\Desktop\\树兰医院&浙大_数据采集\\EEG_Dataset_ALL\\healthy\\A43_1.json left_wave_all: 110250 sample length: 225 data aug: 2 step: 112, samples count: 958\n",
      "read file: C:\\Users\\Administrator\\Desktop\\树兰医院&浙大_数据采集\\EEG_Dataset_ALL\\healthy\\A43_3.json left_wave_all: 530100 sample length: 225 data aug: 2 step: 112, samples count: 4706\n",
      "read file: C:\\Users\\Administrator\\Desktop\\树兰医院&浙大_数据采集\\EEG_Dataset_ALL\\healthy\\A43_3_01.json left_wave_all: 38700 sample length: 225 data aug: 2 step: 112, samples count: 332\n",
      "read file: C:\\Users\\Administrator\\Desktop\\树兰医院&浙大_数据采集\\EEG_Dataset_ALL\\healthy\\A43_4.json left_wave_all: 72450 sample length: 225 data aug: 2 step: 112, samples count: 638\n",
      "read file: C:\\Users\\Administrator\\Desktop\\树兰医院&浙大_数据采集\\EEG_Dataset_ALL\\healthy\\A06_EEG.json left_wave_all: 142650 sample length: 225 data aug: 2 step: 112, samples count: 1223\n",
      "read file: C:\\Users\\Administrator\\Desktop\\树兰医院&浙大_数据采集\\EEG_Dataset_ALL\\healthy\\A09_EEG.json left_wave_all: 143550 sample length: 225 data aug: 2 step: 112, samples count: 1268\n",
      "read file: C:\\Users\\Administrator\\Desktop\\树兰医院&浙大_数据采集\\EEG_Dataset_ALL\\healthy\\A27_EEG_01.json left_wave_all: 72450 sample length: 225 data aug: 2 step: 112, samples count: 499\n",
      "read file: C:\\Users\\Administrator\\Desktop\\树兰医院&浙大_数据采集\\EEG_Dataset_ALL\\healthy\\A27_EEG_02.json left_wave_all: 64800 sample length: 225 data aug: 2 step: 112, samples count: 527\n",
      "read file: C:\\Users\\Administrator\\Desktop\\树兰医院&浙大_数据采集\\EEG_Dataset_ALL\\healthy\\A39_1.json left_wave_all: 125100 sample length: 225 data aug: 2 step: 112, samples count: 1105\n",
      "read file: C:\\Users\\Administrator\\Desktop\\树兰医院&浙大_数据采集\\EEG_Dataset_ALL\\healthy\\A39_2.json left_wave_all: 326250 sample length: 225 data aug: 2 step: 112, samples count: 2857\n",
      "read file: C:\\Users\\Administrator\\Desktop\\树兰医院&浙大_数据采集\\EEG_Dataset_ALL\\healthy\\A39_3.json left_wave_all: 270450 sample length: 225 data aug: 2 step: 112, samples count: 2389\n",
      "read file: C:\\Users\\Administrator\\Desktop\\树兰医院&浙大_数据采集\\EEG_Dataset_ALL\\healthy\\A39_4.json left_wave_all: 152550 sample length: 225 data aug: 2 step: 112, samples count: 1328\n",
      "read file: C:\\Users\\Administrator\\Desktop\\树兰医院&浙大_数据采集\\EEG_Dataset_ALL\\healthy\\A21_EEG.json left_wave_all: 155700 sample length: 225 data aug: 2 step: 112, samples count: 1193\n",
      "read file: C:\\Users\\Administrator\\Desktop\\树兰医院&浙大_数据采集\\EEG_Dataset_ALL\\healthy\\A50_1_1.json left_wave_all: 157950 sample length: 225 data aug: 2 step: 112, samples count: 1402\n",
      "read file: C:\\Users\\Administrator\\Desktop\\树兰医院&浙大_数据采集\\EEG_Dataset_ALL\\healthy\\A50_1_2.json left_wave_all: 62100 sample length: 225 data aug: 2 step: 112, samples count: 545\n",
      "read file: C:\\Users\\Administrator\\Desktop\\树兰医院&浙大_数据采集\\EEG_Dataset_ALL\\healthy\\A50_2.json left_wave_all: 139050 sample length: 225 data aug: 2 step: 112, samples count: 1230\n",
      "read file: C:\\Users\\Administrator\\Desktop\\树兰医院&浙大_数据采集\\EEG_Dataset_ALL\\healthy\\A50_3.json left_wave_all: 162000 sample length: 225 data aug: 2 step: 112, samples count: 1437\n",
      "read file: C:\\Users\\Administrator\\Desktop\\树兰医院&浙大_数据采集\\EEG_Dataset_ALL\\healthy\\A28_EEG.json left_wave_all: 141750 sample length: 225 data aug: 2 step: 112, samples count: 1256\n",
      "read file: C:\\Users\\Administrator\\Desktop\\树兰医院&浙大_数据采集\\EEG_Dataset_ALL\\healthy\\A49_2.json left_wave_all: 147150 sample length: 225 data aug: 2 step: 112, samples count: 1304\n",
      "read file: C:\\Users\\Administrator\\Desktop\\树兰医院&浙大_数据采集\\EEG_Dataset_ALL\\healthy\\A49_3.json left_wave_all: 157950 sample length: 225 data aug: 2 step: 112, samples count: 1400\n",
      "read file: C:\\Users\\Administrator\\Desktop\\树兰医院&浙大_数据采集\\EEG_Dataset_ALL\\healthy\\A10_EEG.json left_wave_all: 139500 sample length: 225 data aug: 2 step: 112, samples count: 1236\n",
      "read file: C:\\Users\\Administrator\\Desktop\\树兰医院&浙大_数据采集\\EEG_Dataset_ALL\\healthy\\A51_1.json left_wave_all: 130500 sample length: 225 data aug: 2 step: 112, samples count: 1108\n",
      "read file: C:\\Users\\Administrator\\Desktop\\树兰医院&浙大_数据采集\\EEG_Dataset_ALL\\healthy\\A51_2.json left_wave_all: 138150 sample length: 225 data aug: 2 step: 112, samples count: 1221\n",
      "read file: C:\\Users\\Administrator\\Desktop\\树兰医院&浙大_数据采集\\EEG_Dataset_ALL\\healthy\\A51_3.json left_wave_all: 118800 sample length: 225 data aug: 2 step: 112, samples count: 1037\n",
      "read file: C:\\Users\\Administrator\\Desktop\\树兰医院&浙大_数据采集\\EEG_Dataset_ALL\\healthy\\A20_EEG.json left_wave_all: 168750 sample length: 225 data aug: 1.0 step: 225, samples count: 726\n",
      "read file: C:\\Users\\Administrator\\Desktop\\树兰医院&浙大_数据采集\\EEG_Dataset_ALL\\healthy\\A23_EEG.json left_wave_all: 148950 sample length: 225 data aug: 1.0 step: 225, samples count: 648\n",
      "read file: C:\\Users\\Administrator\\Desktop\\树兰医院&浙大_数据采集\\EEG_Dataset_ALL\\healthy\\A16_EEG.json left_wave_all: 146250 sample length: 225 data aug: 1.0 step: 225, samples count: 646\n",
      "read file: C:\\Users\\Administrator\\Desktop\\树兰医院&浙大_数据采集\\EEG_Dataset_ALL\\healthy\\A03_EEG.json left_wave_all: 141750 sample length: 225 data aug: 1.0 step: 225, samples count: 623\n",
      "read file: C:\\Users\\Administrator\\Desktop\\树兰医院&浙大_数据采集\\EEG_Dataset_ALL\\healthy\\A03_EEG_scale.json left_wave_all: 107100 sample length: 225 data aug: 1.0 step: 225, samples count: 244\n",
      "read file: C:\\Users\\Administrator\\Desktop\\树兰医院&浙大_数据采集\\EEG_Dataset_ALL\\healthy\\A22_EEG.json left_wave_all: 155700 sample length: 225 data aug: 1.0 step: 225, samples count: 679\n",
      "read file: C:\\Users\\Administrator\\Desktop\\树兰医院&浙大_数据采集\\EEG_Dataset_ALL\\healthy\\A17_EEG.json left_wave_all: 142650 sample length: 225 data aug: 1.0 step: 225, samples count: 624\n",
      "read file: C:\\Users\\Administrator\\Desktop\\树兰医院&浙大_数据采集\\EEG_Dataset_ALL\\healthy\\A18_EEG.json left_wave_all: 143550 sample length: 225 data aug: 1.0 step: 225, samples count: 630\n",
      "read file: C:\\Users\\Administrator\\Desktop\\树兰医院&浙大_数据采集\\EEG_Dataset_ALL\\healthy\\A12_EEG.json left_wave_all: 143100 sample length: 225 data aug: 1.0 step: 225, samples count: 624\n",
      "read file: C:\\Users\\Administrator\\Desktop\\树兰医院&浙大_数据采集\\EEG_Dataset_ALL\\unhealthy\\20240717_2A07.json left_wave_all: 157500 sample length: 225 data aug: 8 step: 28, samples count: 5574\n",
      "read file: C:\\Users\\Administrator\\Desktop\\树兰医院&浙大_数据采集\\EEG_Dataset_ALL\\unhealthy\\20240619_2A03_EEG.json left_wave_all: 144000 sample length: 225 data aug: 8 step: 28, samples count: 4776\n",
      "read file: C:\\Users\\Administrator\\Desktop\\树兰医院&浙大_数据采集\\EEG_Dataset_ALL\\unhealthy\\20240703_2A09_EEG.json left_wave_all: 144000 sample length: 225 data aug: 8 step: 28, samples count: 5105\n",
      "read file: C:\\Users\\Administrator\\Desktop\\树兰医院&浙大_数据采集\\EEG_Dataset_ALL\\unhealthy\\20240619_2A08_EEG.json left_wave_all: 167400 sample length: 225 data aug: 8 step: 28, samples count: 4645\n",
      "read file: C:\\Users\\Administrator\\Desktop\\树兰医院&浙大_数据采集\\EEG_Dataset_ALL\\unhealthy\\20240619_2A26_EEG.json left_wave_all: 172350 sample length: 225 data aug: 8 step: 28, samples count: 6058\n",
      "read file: C:\\Users\\Administrator\\Desktop\\树兰医院&浙大_数据采集\\EEG_Dataset_ALL\\unhealthy\\20240703_2A50_EEG.json left_wave_all: 157050 sample length: 225 data aug: 8 step: 28, samples count: 5567\n",
      "read file: C:\\Users\\Administrator\\Desktop\\树兰医院&浙大_数据采集\\EEG_Dataset_ALL\\unhealthy\\20240703_2A17_EEG.json left_wave_all: 144900 sample length: 225 data aug: 8 step: 28, samples count: 5117\n",
      "read file: C:\\Users\\Administrator\\Desktop\\树兰医院&浙大_数据采集\\EEG_Dataset_ALL\\unhealthy\\20240626_2A26_EEG.json left_wave_all: 128700 sample length: 225 data aug: 8 step: 28, samples count: 4496\n",
      "read file: C:\\Users\\Administrator\\Desktop\\树兰医院&浙大_数据采集\\EEG_Dataset_ALL\\unhealthy\\20240710_2A06_EEG.json left_wave_all: 179550 sample length: 225 data aug: 8 step: 28, samples count: 6379\n",
      "read file: C:\\Users\\Administrator\\Desktop\\树兰医院&浙大_数据采集\\EEG_Dataset_ALL\\unhealthy\\20240717_2A51.json left_wave_all: 173700 sample length: 225 data aug: 8 step: 28, samples count: 6156\n",
      "read file: C:\\Users\\Administrator\\Desktop\\树兰医院&浙大_数据采集\\EEG_Dataset_ALL\\unhealthy\\20240710_2A15.json left_wave_all: 145350 sample length: 225 data aug: 8 step: 28, samples count: 5157\n",
      "read file: C:\\Users\\Administrator\\Desktop\\树兰医院&浙大_数据采集\\EEG_Dataset_ALL\\unhealthy\\20240619_2A31_EEG.json left_wave_all: 156150 sample length: 225 data aug: 8 step: 28, samples count: 5503\n",
      "read file: C:\\Users\\Administrator\\Desktop\\树兰医院&浙大_数据采集\\EEG_Dataset_ALL\\unhealthy\\20240717_2A21.json left_wave_all: 149850 sample length: 225 data aug: 8 step: 28, samples count: 5170\n",
      "read file: C:\\Users\\Administrator\\Desktop\\树兰医院&浙大_数据采集\\EEG_Dataset_ALL\\unhealthy\\20240619_2A17_EEG_01.json left_wave_all: 120600 sample length: 225 data aug: 8 step: 28, samples count: 4266\n",
      "read file: C:\\Users\\Administrator\\Desktop\\树兰医院&浙大_数据采集\\EEG_Dataset_ALL\\unhealthy\\20240619_2A17_EEG_02.json left_wave_all: 72450 sample length: 225 data aug: 8 step: 28, samples count: 1667\n",
      "read file: C:\\Users\\Administrator\\Desktop\\树兰医院&浙大_数据采集\\EEG_Dataset_ALL\\unhealthy\\20240710_2A23_EEG.json left_wave_all: 153000 sample length: 225 data aug: 8 step: 28, samples count: 5415\n",
      "read file: C:\\Users\\Administrator\\Desktop\\树兰医院&浙大_数据采集\\EEG_Dataset_ALL\\unhealthy\\20240717_2A03.json left_wave_all: 143100 sample length: 225 data aug: 8 step: 28, samples count: 5068\n",
      "read file: C:\\Users\\Administrator\\Desktop\\树兰医院&浙大_数据采集\\EEG_Dataset_ALL\\unhealthy\\20240710_2A30_EEG_01.json left_wave_all: 148050 sample length: 225 data aug: 8 step: 28, samples count: 4963\n",
      "read file: C:\\Users\\Administrator\\Desktop\\树兰医院&浙大_数据采集\\EEG_Dataset_ALL\\unhealthy\\20240710_2A30_EEG_02.json left_wave_all: 33750 sample length: 225 data aug: 8 step: 28, samples count: 1090\n",
      "read file: C:\\Users\\Administrator\\Desktop\\树兰医院&浙大_数据采集\\EEG_Dataset_ALL\\unhealthy\\20240703_2A38_EEG.json left_wave_all: 147150 sample length: 225 data aug: 8 step: 28, samples count: 5221\n",
      "read file: C:\\Users\\Administrator\\Desktop\\树兰医院&浙大_数据采集\\EEG_Dataset_ALL\\unhealthy\\20240619_2A05_EEG.json left_wave_all: 142200 sample length: 225 data aug: 1.0 step: 225, samples count: 628\n",
      "read file: C:\\Users\\Administrator\\Desktop\\树兰医院&浙大_数据采集\\EEG_Dataset_ALL\\unhealthy\\20240619_2A06_EEG.json left_wave_all: 124200 sample length: 225 data aug: 1.0 step: 225, samples count: 500\n",
      "read file: C:\\Users\\Administrator\\Desktop\\树兰医院&浙大_数据采集\\EEG_Dataset_ALL\\unhealthy\\20240626_2A51_EEG.json left_wave_all: 123750 sample length: 225 data aug: 1.0 step: 225, samples count: 512\n",
      "read file: C:\\Users\\Administrator\\Desktop\\树兰医院&浙大_数据采集\\EEG_Dataset_ALL\\unhealthy\\20240710_2A02_EEG.json left_wave_all: 148500 sample length: 225 data aug: 1.0 step: 225, samples count: 655\n",
      "read file: C:\\Users\\Administrator\\Desktop\\树兰医院&浙大_数据采集\\EEG_Dataset_ALL\\unhealthy\\20240710_2A13_EEG_01.json left_wave_all: 120600 sample length: 225 data aug: 1.0 step: 225, samples count: 532\n",
      "read file: C:\\Users\\Administrator\\Desktop\\树兰医院&浙大_数据采集\\EEG_Dataset_ALL\\unhealthy\\20240710_2A38_EEG.json left_wave_all: 152550 sample length: 225 data aug: 1.0 step: 225, samples count: 629\n",
      "read file: C:\\Users\\Administrator\\Desktop\\树兰医院&浙大_数据采集\\EEG_Dataset_ALL\\unhealthy\\20240717_2A08.json left_wave_all: 107550 sample length: 225 data aug: 1.0 step: 225, samples count: 474\n",
      "read file: C:\\Users\\Administrator\\Desktop\\树兰医院&浙大_数据采集\\EEG_Dataset_ALL\\unhealthy\\20240717_2A37.json left_wave_all: 144900 sample length: 225 data aug: 1.0 step: 225, samples count: 639\n"
     ]
    }
   ],
   "source": [
    "def read_json_file(file_path):\n",
    "    try:\n",
    "        with open(file_path, 'r', encoding='utf-8') as file:\n",
    "            # print(\"reading json file: \", file_path)\n",
    "            data = json.load(file)\n",
    "        return data\n",
    "    except Exception as e:\n",
    "        print(f\"An error occurred: {e}\")\n",
    "        return None\n",
    "\n",
    "def _get_samples(base_dir: str, target_subjects: list, label: int, data_aug: float=1.0):\n",
    "    samples_ret = []\n",
    "    for subject in target_subjects:\n",
    "        files = os.listdir(base_dir)\n",
    "        for file in files:\n",
    "            if file.startswith(subject) and file.endswith('.json'):\n",
    "                file_path = os.path.join(base_dir, file)\n",
    "                json_data = read_json_file(file_path)\n",
    "                left_wave_all, right_wave_all = [], []\n",
    "                for raw_data in json_data['ProcessedDatas']:\n",
    "                    left_wave = raw_data['LeftWave']\n",
    "                    right_wave = raw_data['RightWave']\n",
    "\n",
    "                    left_wave_all += left_wave\n",
    "                    right_wave_all += right_wave\n",
    "\n",
    "\n",
    "                if(len(left_wave_all) != len(right_wave_all)):\n",
    "                    raise(\"error!!! left wave count not equal right wave count\")\n",
    "                \n",
    "                samples = []\n",
    "                step = int(sample_length / data_aug)\n",
    "\n",
    "                # print(f\"step: {step}\")\n",
    "                for idx in range(0, len(left_wave_all), step):\n",
    "                        # print(\"idx: \", idx)\n",
    "                        sub_left_wave = left_wave_all[idx:idx+sample_length]\n",
    "                        sub_right_wave = right_wave_all[idx:idx+sample_length]\n",
    "                        if len(sub_left_wave) != sample_length or len(sub_right_wave) != sample_length:\n",
    "                            continue\n",
    "\n",
    "                        left_valid = data_filter.is_valid(sub_left_wave)\n",
    "                        right_valid = data_filter.is_valid(sub_right_wave)\n",
    "\n",
    "                        # print(\"left_valid: \", left_valid, \" right_valid: \", right_valid)\n",
    "                        if left_valid and right_valid:\n",
    "                            left_fft = np.abs(np.fft.fft(sub_left_wave))[:64]\n",
    "                            left_fft = left_fft / np.sum(left_fft)\n",
    "\n",
    "                            right_fft = np.abs(np.fft.fft(sub_right_wave))[:64]\n",
    "                            right_fft = right_fft / np.sum(right_fft)\n",
    "\n",
    "                            feat = np.concatenate([left_fft, right_fft], axis=0)\n",
    "                            samples.append((subject, feat, label))\n",
    "                samples_ret += samples\n",
    "                print(f\"read file: {file_path} left_wave_all: {len(left_wave_all)} sample length: {sample_length} data aug: {data_aug} step: {step}, samples count: {len(samples)}\")\n",
    "                \n",
    "    return samples_ret\n",
    "\n",
    "\n",
    "def get_train_negative_samples():\n",
    "    return _get_samples(base_dir=negative_subject_dir, target_subjects=train_negative_subjects, label=0, data_aug=2)\n",
    "    return _get_samples(base_dir=negative_subject_dir, target_subjects=train_negative_subjects, label=0, data_aug=2)\n",
    "\n",
    "def get_test_negative_samples():\n",
    "    return _get_samples(base_dir=negative_subject_dir, target_subjects=test_negative_subjects, label=0)\n",
    "\n",
    "\n",
    "def get_train_positive_samples():\n",
    "    return _get_samples(base_dir=positive_subject_dir, target_subjects=train_positive_subjects, label=1, data_aug =8)\n",
    "\n",
    "def get_test_positive_samples():\n",
    "    return _get_samples(base_dir=positive_subject_dir, target_subjects=test_positive_subjects, label=1)\n",
    "\n",
    "\n",
    "train_negative_samples = get_train_negative_samples()\n",
    "test_negative_samples = get_test_negative_samples()\n",
    "\n",
    "train_positive_samples = get_train_positive_samples()\n",
    "test_positive_samples = get_test_positive_samples()\n"
   ]
  },
  {
   "cell_type": "code",
   "execution_count": 18,
   "metadata": {},
   "outputs": [
    {
     "name": "stdout",
     "output_type": "stream",
     "text": [
      "len(train_negative_samples): 135101\n"
     ]
    }
   ],
   "source": [
    "print(f\"len(train_negative_samples): {len(train_negative_samples)}\")"
   ]
  },
  {
   "cell_type": "code",
   "execution_count": 19,
   "metadata": {},
   "outputs": [
    {
     "name": "stdout",
     "output_type": "stream",
     "text": [
      "train_negative_samples count:  135101\n",
      "train_positive_samples count:  97393\n",
      "test_negative_samples count:  5444\n",
      "test_positive_samples count:  4569\n",
      "\n",
      "After truncate: \n",
      "test_negative_samples count:  5444\n",
      "test_positive_samples count:  4569\n"
     ]
    }
   ],
   "source": [
    "print(\"train_negative_samples count: \", len(train_negative_samples))\n",
    "print(\"train_positive_samples count: \", len(train_positive_samples))\n",
    "\n",
    "print(\"test_negative_samples count: \", len(test_negative_samples))\n",
    "print(\"test_positive_samples count: \", len(test_positive_samples))\n",
    "\n",
    "\n",
    "# MIN = min(len(test_negative_samples), len(test_positive_samples))\n",
    "# test_negative_samples = test_negative_samples[0:MIN]\n",
    "# test_positive_samples = test_positive_samples[0:MIN]\n",
    "\n",
    "print(\"\\nAfter truncate: \")\n",
    "print(\"test_negative_samples count: \", len(test_negative_samples))\n",
    "print(\"test_positive_samples count: \", len(test_positive_samples))\n"
   ]
  },
  {
   "cell_type": "code",
   "execution_count": 20,
   "metadata": {},
   "outputs": [],
   "source": [
    "sample_folder = './samples'\n",
    "if not os.path.exists(sample_folder):\n",
    "    os.makedirs(sample_folder)\n",
    "\n",
    "with open(os.path.join(sample_folder, 'train_negative_samples.pkl'), 'wb') as f:\n",
    "    pickle.dump(train_negative_samples, f)\n",
    "\n",
    "with open(os.path.join(sample_folder, 'train_positive_samples.pkl'), 'wb') as f:\n",
    "    pickle.dump(train_positive_samples, f)\n",
    "\n",
    "with open(os.path.join(sample_folder, 'test_negative_samples.pkl'), 'wb') as f:\n",
    "    pickle.dump(test_negative_samples, f)\n",
    "\n",
    "with open(os.path.join(sample_folder, 'test_positive_samples.pkl'), 'wb') as f:\n",
    "    pickle.dump(test_positive_samples, f)\n"
   ]
  },
  {
   "cell_type": "code",
   "execution_count": 21,
   "metadata": {},
   "outputs": [
    {
     "name": "stdout",
     "output_type": "stream",
     "text": [
      "128\n",
      "128\n",
      "128\n",
      "128\n"
     ]
    }
   ],
   "source": [
    "print(len(train_negative_samples[0][1]))\n",
    "print(len(train_positive_samples[0][1]))\n",
    "print(len(test_negative_samples[0][1]))\n",
    "print(len(test_positive_samples[0][1]))"
   ]
  }
 ],
 "metadata": {
  "kernelspec": {
   "display_name": "Python 3",
   "language": "python",
   "name": "python3"
  },
  "language_info": {
   "codemirror_mode": {
    "name": "ipython",
    "version": 3
   },
   "file_extension": ".py",
   "mimetype": "text/x-python",
   "name": "python",
   "nbconvert_exporter": "python",
   "pygments_lexer": "ipython3",
   "version": "3.10.9"
  }
 },
 "nbformat": 4,
 "nbformat_minor": 2
}
